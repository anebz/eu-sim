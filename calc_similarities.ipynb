{
 "cells": [
  {
   "cell_type": "code",
   "execution_count": 1,
   "metadata": {},
   "outputs": [
    {
     "data": {
      "text/html": [
       "        <script type=\"text/javascript\">\n",
       "        window.PlotlyConfig = {MathJaxConfig: 'local'};\n",
       "        if (window.MathJax) {MathJax.Hub.Config({SVG: {font: \"STIX-Web\"}});}\n",
       "        if (typeof require !== 'undefined') {\n",
       "        require.undef(\"plotly\");\n",
       "        requirejs.config({\n",
       "            paths: {\n",
       "                'plotly': ['https://cdn.plot.ly/plotly-latest.min']\n",
       "            }\n",
       "        });\n",
       "        require(['plotly'], function(Plotly) {\n",
       "            window._Plotly = Plotly;\n",
       "        });\n",
       "        }\n",
       "        </script>\n",
       "        "
      ]
     },
     "metadata": {},
     "output_type": "display_data"
    }
   ],
   "source": [
    "import torch\n",
    "\n",
    "from flair.data import Sentence\n",
    "from flair.embeddings import DocumentPoolEmbeddings, FlairEmbeddings, BertEmbeddings\n",
    "\n",
    "import plotly\n",
    "import plotly.graph_objs as go\n",
    "from plotly.offline import download_plotlyjs, init_notebook_mode, plot, iplot\n",
    "init_notebook_mode(connected=True)"
   ]
  },
  {
   "cell_type": "code",
   "execution_count": 2,
   "metadata": {},
   "outputs": [],
   "source": [
    "language = 'en'\n",
    "gold_filename = \"goldstandard_\"+language+\".tsv\"\n",
    "\n",
    "def get_gold_sentences(filename):\n",
    "    gold_sentences = {}\n",
    "    with open(filename, 'rt') as f_p:\n",
    "        for line in f_p:\n",
    "            if line.startswith('\"origin\"'): # header\n",
    "                continue\n",
    "            \n",
    "            if not line:\n",
    "                continue\n",
    "            \n",
    "            line = line.rstrip()\n",
    "            line = line.replace('\"', '')\n",
    "            splitted = line.split('\\t')\n",
    "            gold = splitted[0]\n",
    "            sim_sentences = splitted[1:11]\n",
    "            \n",
    "            if gold:\n",
    "                gold_sentences[gold] = sim_sentences\n",
    "            \n",
    "    return gold_sentences"
   ]
  },
  {
   "cell_type": "code",
   "execution_count": 3,
   "metadata": {},
   "outputs": [],
   "source": [
    "gold_sentences = get_gold_sentences(gold_filename)"
   ]
  },
  {
   "cell_type": "code",
   "execution_count": 4,
   "metadata": {},
   "outputs": [],
   "source": [
    "def calculate_similarities(gold, sim_sentences, embeddings):\n",
    "    \n",
    "    similarities = []\n",
    "    query = gold\n",
    "\n",
    "    q = Sentence(query)\n",
    "    embeddings.embed(q)\n",
    "    score = 0\n",
    "    i = 0\n",
    "    \n",
    "    for sentence in sim_sentences:\n",
    "        \n",
    "        s = Sentence(sentence)\n",
    "        embeddings.embed(s)\n",
    "\n",
    "        assert q.embedding.shape == s.embedding.shape\n",
    "        \n",
    "        cos = torch.nn.CosineSimilarity(dim=0, eps=1e-6)\n",
    "        prox = cos(q.embedding, s.embedding)\n",
    "    \n",
    "        similarities.append(round(prox.item(), 4))\n",
    "        if i > 0 and similarities[i] <= similarities[i-1]:\n",
    "            score += 1\n",
    "        i += 1\n",
    "        \n",
    "    return similarities, score\n",
    "\n",
    "def print_similarities(gold, sim_sentences, similarities, score):\n",
    "        \n",
    "    print(f\"Example: {gold}\")\n",
    "    for sentence, similarity in zip(sim_sentences, similarities):\n",
    "        print(f\"{sentence} - {similarity}\")\n",
    "    print(f\"Score: {score}\\n\")  \n",
    "    "
   ]
  },
  {
   "cell_type": "code",
   "execution_count": 5,
   "metadata": {},
   "outputs": [],
   "source": [
    "# load flair embeddings\n",
    "if language == 'eu':\n",
    "    flair_embeds = 'eu'\n",
    "elif language == 'en':\n",
    "    flair_embeds = 'mix'\n",
    "flair_embeddings = DocumentPoolEmbeddings([FlairEmbeddings(flair_embeds+'-forward'), FlairEmbeddings(flair_embeds+'-backward')])"
   ]
  },
  {
   "cell_type": "code",
   "execution_count": 6,
   "metadata": {},
   "outputs": [
    {
     "name": "stdout",
     "output_type": "stream",
     "text": [
      "2019-07-01 17:23:43,348 The pre-trained model you are loading is a cased model but you have not set `do_lower_case` to False. We are setting `do_lower_case=False` for you but you may want to check this behavior.\n"
     ]
    }
   ],
   "source": [
    "# load BERT embeddings\n",
    "# See BERT paper, section 5.3 and table 7\n",
    "bert_layers = '-1,-2,-3,-4'\n",
    "\n",
    "if language == 'en':\n",
    "    bert_embed = 'bert-base-'\n",
    "else:\n",
    "    bert_embed = 'bert-base-multilingual-'\n",
    "\n",
    "bert_cased_embeddings = DocumentPoolEmbeddings([BertEmbeddings(bert_embed + 'cased', layers=bert_layers)])\n",
    "bert_uncased_embeddings = DocumentPoolEmbeddings([BertEmbeddings(bert_embed + 'uncased', layers=bert_layers)])\n"
   ]
  },
  {
   "cell_type": "code",
   "execution_count": 7,
   "metadata": {},
   "outputs": [],
   "source": [
    "# load ELMo and ELMo multilingual embeddings"
   ]
  },
  {
   "cell_type": "code",
   "execution_count": 8,
   "metadata": {},
   "outputs": [],
   "source": [
    "def calculate_and_print(embeddings, similarities_all, scores_all):\n",
    "    i = 0\n",
    "    for gold, sim_sentences in gold_sentences.items():\n",
    "        similarities, score = calculate_similarities(gold, sim_sentences, embeddings)\n",
    "        scores_all[i].append(score)\n",
    "        print_similarities(gold, sim_sentences, similarities, score)\n",
    "        similarities_all[i].append(similarities)\n",
    "        i += 1\n",
    "    return similarities_all, scores_all"
   ]
  },
  {
   "cell_type": "code",
   "execution_count": 9,
   "metadata": {},
   "outputs": [],
   "source": [
    "similarities_all = []\n",
    "for i in range(len(gold_sentences)):\n",
    "    similarities_all.append([])"
   ]
  },
  {
   "cell_type": "code",
   "execution_count": 10,
   "metadata": {},
   "outputs": [],
   "source": [
    "scores_all = []\n",
    "for i in range(len(gold_sentences)):\n",
    "    scores_all.append([])"
   ]
  },
  {
   "cell_type": "code",
   "execution_count": 11,
   "metadata": {},
   "outputs": [
    {
     "name": "stdout",
     "output_type": "stream",
     "text": [
      "Example: Jokin offered an invitation to Amaia for lunch\n",
      "Jokin asked Amaia, if she wanted to have lunch with him - 0.7643\n",
      "Amaia received the question from Jokin, if she would like to go for lunch - 0.7999\n",
      "Jokin offered an invitation to Amaia for a meal - 0.9599\n",
      "Amaia received an invitation from Jokin - 0.8567\n",
      "Jokin and Amaia met for lunch - 0.8509\n",
      "Jokin and Amaia went for lunch together - 0.8311\n",
      "Jokin and Amaia enjoyed a meal together - 0.8186\n",
      "Amaia and Jokin decided to go for lunch - 0.8348\n",
      "Amaia invited Jokin for lunch - 0.8974\n",
      "Score: 4\n",
      "\n",
      "Example: If you have an extra apple, I would appreciate it a lot\n",
      "Would you give me an apple you don't need? - 0.7872\n",
      "I would appreciate it if you would give me that extra apple - 0.8989\n",
      "If you don't need that apple, I would appreciate it a lot - 0.9625\n",
      "I would be very happy if you gave me an apple - 0.8584\n",
      "Will you give me an apple? - 0.741\n",
      "I would like that apple - 0.8221\n",
      "I have asked you an apple - 0.7828\n",
      "You have one extra apple - 0.7492\n",
      "You have offered me an apple - 0.7699\n",
      "You have given me an apple as a gift - 0.774\n",
      "Score: 4\n",
      "\n",
      "Example: Ane congratulated Amaia\n",
      "Ane said happy birthday to Amaia - 0.7806\n",
      "Ane told Amaia happy birthday - 0.7706\n",
      "Ane praised Amaia - 0.901\n",
      "Amaia was congratulated by Ane - 0.81\n",
      "Ane told Amaia she wished her happiness - 0.7339\n",
      "Due to Amaia's birthday, she received many good wishes - 0.5579\n",
      "Ane gave a gift to Amaia - 0.7558\n",
      "Amaia and Ane congratulated each other - 0.8146\n",
      "Ane and Amaia were congratulated - 0.8293\n",
      "Amaia told Ane happy birthday - 0.763\n",
      "Score: 5\n",
      "\n",
      "Example: Mikel went to the mountain\n",
      "To the mountain went Mikel - 0.8396\n",
      "Up the mountain went Mikel - 0.7971\n",
      "Mikel was in the mountain - 0.8545\n",
      "Mikel decided to go to the mountain - 0.9064\n",
      "Mikel made the plan to go to the mountain - 0.8723\n",
      "Mikel said he's going to the mountain - 0.8913\n",
      "Mikel made the comment that maybe he'd go to the mountain - 0.8243\n",
      "Mikel likes hiking - 0.6638\n",
      "Mikel said he's not going to the mountain - 0.8436\n",
      "Mikel didn't go to the mountain - 0.9017\n",
      "Score: 4\n",
      "\n",
      "Example: Yesterday you came to our house for dinner\n",
      "You came for dinner to our house yesterday - 0.9202\n",
      "Yesterday you had dinner with us in our house - 0.9099\n",
      "You were in our house having dinner yesterday - 0.8546\n",
      "Yesterday you accepted the invitation to have dinner at our house - 0.899\n",
      "We all had dinner together yesterday - 0.7742\n",
      "We could've had lunch together yesterday - 0.7709\n",
      "Yesterday you came for dinner - 0.9324\n",
      "Tomorrow he'll come for lunch - 0.8183\n",
      "I went to your house for dinner - 0.9047\n",
      "Yesterday they will come to your house for dinner - 0.9537\n",
      "Score: 5\n",
      "\n",
      "Example: Happines isn't doing what you like, but liking what you do\n",
      "Liking what you do makes you happy, not doing what you want - 0.9415\n",
      "Like what you do and you will be happy - 0.8874\n",
      "The source of happines is liking what you do - 0.8695\n",
      "Happines is liking what you do - 0.9242\n",
      "What is done gladly is happiness - 0.749\n",
      "Doing what you enjoy won't make you happy - 0.8722\n",
      "What you do, not what you like, is happiness - 0.9031\n",
      "Do what you like in order to be happy - 0.8616\n",
      "Do the things you like and you will be happy - 0.8549\n",
      "You can't always do what you like - 0.8395\n",
      "Score: 6\n",
      "\n",
      "Example: Give some color to the gray world\n",
      "Give some color to the gray world - 1.0\n",
      "To the gray world give it color - 0.8919\n",
      "The world is gray so let's give it some color - 0.7993\n",
      "Give some color to the dark world - 0.9798\n",
      "Because the world is gray, we will give it some color - 0.7637\n",
      "Give color to the world - 0.9171\n",
      "Give gray to the colorful world - 0.9337\n",
      "Give gray to the world - 0.8976\n",
      "Give the world to the gray color - 0.9245\n",
      "Score: 4\n",
      "\n",
      "Example: Because I love, I create\n",
      "I create because I love - 0.9474\n",
      "Due to love I create - 0.82\n",
      "I love: therefore, I create - 0.947\n",
      "The reason for creating is love - 0.7241\n",
      "The origin of my creating is love - 0.6892\n",
      "Because I loved I created - 0.873\n",
      "After creating I loved - 0.7781\n",
      "Because you love you create - 0.8277\n",
      "I don't love, so I don't create - 0.8516\n",
      "Because I create I love - 0.9544\n",
      "Score: 4\n",
      "\n",
      "Example: If you knew how pretty it is to hear you in basque\n",
      "It is very pretty to hear you in basque - 0.8735\n",
      "Hearing you in basque pleases me - 0.7602\n",
      "It can't be explained how beautiful it is when you speak basque - 0.8815\n",
      "You can't know how pretty it is to hear you - 0.925\n",
      "Knowing how pretty it is that you speak basque is impossible - 0.8833\n",
      "Hearing you is beautiful - 0.7389\n",
      "I would like you to know how pretty it is to hear you in basque - 0.9222\n",
      "If you know how awful it is to hear you in basque - 0.9787\n",
      "If they knew how pretty it is that I speak basque - 0.9285\n",
      "Score: 4\n",
      "\n"
     ]
    }
   ],
   "source": [
    "# calculate similarities based on flair embeddings\n",
    "similarities_all, scores_all = calculate_and_print(flair_embeddings, similarities_all, scores_all)"
   ]
  },
  {
   "cell_type": "code",
   "execution_count": 12,
   "metadata": {},
   "outputs": [
    {
     "name": "stdout",
     "output_type": "stream",
     "text": [
      "Example: Jokin offered an invitation to Amaia for lunch\n",
      "Jokin asked Amaia, if she wanted to have lunch with him - 0.8367\n",
      "Amaia received the question from Jokin, if she would like to go for lunch - 0.8333\n",
      "Jokin offered an invitation to Amaia for a meal - 0.9623\n",
      "Amaia received an invitation from Jokin - 0.816\n",
      "Jokin and Amaia met for lunch - 0.8494\n",
      "Jokin and Amaia went for lunch together - 0.8251\n",
      "Jokin and Amaia enjoyed a meal together - 0.7923\n",
      "Amaia and Jokin decided to go for lunch - 0.8006\n",
      "Amaia invited Jokin for lunch - 0.9116\n",
      "Score: 4\n",
      "\n",
      "Example: If you have an extra apple, I would appreciate it a lot\n",
      "Would you give me an apple you don't need? - 0.7793\n",
      "I would appreciate it if you would give me that extra apple - 0.9013\n",
      "If you don't need that apple, I would appreciate it a lot - 0.948\n",
      "I would be very happy if you gave me an apple - 0.8307\n",
      "Will you give me an apple? - 0.7213\n",
      "I would like that apple - 0.7107\n",
      "I have asked you an apple - 0.6639\n",
      "You have one extra apple - 0.6753\n",
      "You have offered me an apple - 0.6608\n",
      "You have given me an apple as a gift - 0.6919\n",
      "Score: 5\n",
      "\n",
      "Example: Ane congratulated Amaia\n",
      "Ane said happy birthday to Amaia - 0.7187\n",
      "Ane told Amaia happy birthday - 0.716\n",
      "Ane praised Amaia - 0.8844\n",
      "Amaia was congratulated by Ane - 0.8851\n",
      "Ane told Amaia she wished her happiness - 0.6577\n",
      "Due to Amaia's birthday, she received many good wishes - 0.5603\n",
      "Ane gave a gift to Amaia - 0.685\n",
      "Amaia and Ane congratulated each other - 0.7582\n",
      "Ane and Amaia were congratulated - 0.8519\n",
      "Amaia told Ane happy birthday - 0.7164\n",
      "Score: 4\n",
      "\n",
      "Example: Mikel went to the mountain\n",
      "To the mountain went Mikel - 0.8247\n",
      "Up the mountain went Mikel - 0.788\n",
      "Mikel was in the mountain - 0.8283\n",
      "Mikel decided to go to the mountain - 0.8785\n",
      "Mikel made the plan to go to the mountain - 0.8574\n",
      "Mikel said he's going to the mountain - 0.8537\n",
      "Mikel made the comment that maybe he'd go to the mountain - 0.7929\n",
      "Mikel likes hiking - 0.6668\n",
      "Mikel said he's not going to the mountain - 0.8002\n",
      "Mikel didn't go to the mountain - 0.871\n",
      "Score: 5\n",
      "\n",
      "Example: Yesterday you came to our house for dinner\n",
      "You came for dinner to our house yesterday - 0.9591\n",
      "Yesterday you had dinner with us in our house - 0.8969\n",
      "You were in our house having dinner yesterday - 0.9025\n",
      "Yesterday you accepted the invitation to have dinner at our house - 0.8783\n",
      "We all had dinner together yesterday - 0.754\n",
      "We could've had lunch together yesterday - 0.6843\n",
      "Yesterday you came for dinner - 0.9292\n",
      "Tomorrow he'll come for lunch - 0.6916\n",
      "I went to your house for dinner - 0.8957\n",
      "Yesterday they will come to your house for dinner - 0.8492\n",
      "Score: 6\n",
      "\n",
      "Example: Happines isn't doing what you like, but liking what you do\n",
      "Liking what you do makes you happy, not doing what you want - 0.9093\n",
      "Like what you do and you will be happy - 0.7987\n",
      "The source of happines is liking what you do - 0.8583\n",
      "Happines is liking what you do - 0.9193\n",
      "What is done gladly is happiness - 0.7222\n",
      "Doing what you enjoy won't make you happy - 0.8297\n",
      "What you do, not what you like, is happiness - 0.8676\n",
      "Do what you like in order to be happy - 0.7686\n",
      "Do the things you like and you will be happy - 0.7627\n",
      "You can't always do what you like - 0.7823\n",
      "Score: 4\n",
      "\n",
      "Example: Give some color to the gray world\n",
      "Give some color to the gray world - 1.0\n",
      "To the gray world give it color - 0.8587\n",
      "The world is gray so let's give it some color - 0.8035\n",
      "Give some color to the dark world - 0.9753\n",
      "Because the world is gray, we will give it some color - 0.8406\n",
      "Give color to the world - 0.8582\n",
      "Give gray to the colorful world - 0.8239\n",
      "Give gray to the world - 0.7271\n",
      "Give the world to the gray color - 0.9194\n",
      "Score: 5\n",
      "\n",
      "Example: Because I love, I create\n",
      "I create because I love - 0.9107\n",
      "Due to love I create - 0.7754\n",
      "I love: therefore, I create - 0.8557\n",
      "The reason for creating is love - 0.7024\n",
      "The origin of my creating is love - 0.7564\n",
      "Because I loved I created - 0.8513\n",
      "After creating I loved - 0.7378\n",
      "Because you love you create - 0.8177\n",
      "I don't love, so I don't create - 0.8394\n",
      "Because I create I love - 0.9309\n",
      "Score: 3\n",
      "\n",
      "Example: If you knew how pretty it is to hear you in basque\n",
      "It is very pretty to hear you in basque - 0.8296\n",
      "Hearing you in basque pleases me - 0.6711\n",
      "It can't be explained how beautiful it is when you speak basque - 0.7591\n",
      "You can't know how pretty it is to hear you - 0.8766\n",
      "Knowing how pretty it is that you speak basque is impossible - 0.8233\n",
      "Hearing you is beautiful - 0.7253\n",
      "I would like you to know how pretty it is to hear you in basque - 0.8513\n",
      "If you know how awful it is to hear you in basque - 0.9235\n",
      "If they knew how pretty it is that I speak basque - 0.8662\n",
      "Score: 4\n",
      "\n"
     ]
    }
   ],
   "source": [
    "# calculate similarities based on bert uncased embeddings\n",
    "similarities_all, scores_all = calculate_and_print(bert_uncased_embeddings, similarities_all, scores_all)"
   ]
  },
  {
   "cell_type": "code",
   "execution_count": 13,
   "metadata": {},
   "outputs": [
    {
     "name": "stdout",
     "output_type": "stream",
     "text": [
      "Example: Jokin offered an invitation to Amaia for lunch\n",
      "Jokin asked Amaia, if she wanted to have lunch with him - 0.9202\n",
      "Amaia received the question from Jokin, if she would like to go for lunch - 0.9301\n",
      "Jokin offered an invitation to Amaia for a meal - 0.9912\n",
      "Amaia received an invitation from Jokin - 0.9501\n",
      "Jokin and Amaia met for lunch - 0.9466\n",
      "Jokin and Amaia went for lunch together - 0.9298\n",
      "Jokin and Amaia enjoyed a meal together - 0.9192\n",
      "Amaia and Jokin decided to go for lunch - 0.9362\n",
      "Amaia invited Jokin for lunch - 0.9653\n",
      "Score: 4\n",
      "\n",
      "Example: If you have an extra apple, I would appreciate it a lot\n",
      "Would you give me an apple you don't need? - 0.9149\n",
      "I would appreciate it if you would give me that extra apple - 0.9491\n",
      "If you don't need that apple, I would appreciate it a lot - 0.9807\n",
      "I would be very happy if you gave me an apple - 0.9356\n",
      "Will you give me an apple? - 0.9033\n",
      "I would like that apple - 0.9031\n",
      "I have asked you an apple - 0.8816\n",
      "You have one extra apple - 0.9068\n",
      "You have offered me an apple - 0.8808\n",
      "You have given me an apple as a gift - 0.8955\n",
      "Score: 5\n",
      "\n",
      "Example: Ane congratulated Amaia\n",
      "Ane said happy birthday to Amaia - 0.91\n",
      "Ane told Amaia happy birthday - 0.9127\n",
      "Ane praised Amaia - 0.9504\n",
      "Amaia was congratulated by Ane - 0.9608\n",
      "Ane told Amaia she wished her happiness - 0.8983\n",
      "Due to Amaia's birthday, she received many good wishes - 0.8525\n",
      "Ane gave a gift to Amaia - 0.8961\n",
      "Amaia and Ane congratulated each other - 0.9297\n",
      "Ane and Amaia were congratulated - 0.9476\n",
      "Amaia told Ane happy birthday - 0.9152\n",
      "Score: 3\n",
      "\n",
      "Example: Mikel went to the mountain\n",
      "To the mountain went Mikel - 0.9295\n",
      "Up the mountain went Mikel - 0.9144\n",
      "Mikel was in the mountain - 0.9617\n",
      "Mikel decided to go to the mountain - 0.9704\n",
      "Mikel made the plan to go to the mountain - 0.9644\n",
      "Mikel said he's going to the mountain - 0.956\n",
      "Mikel made the comment that maybe he'd go to the mountain - 0.9407\n",
      "Mikel likes hiking - 0.8797\n",
      "Mikel said he's not going to the mountain - 0.9406\n",
      "Mikel didn't go to the mountain - 0.9594\n",
      "Score: 5\n",
      "\n",
      "Example: Yesterday you came to our house for dinner\n",
      "You came for dinner to our house yesterday - 0.9775\n",
      "Yesterday you had dinner with us in our house - 0.9583\n",
      "You were in our house having dinner yesterday - 0.9608\n",
      "Yesterday you accepted the invitation to have dinner at our house - 0.9518\n",
      "We all had dinner together yesterday - 0.908\n",
      "We could've had lunch together yesterday - 0.8868\n",
      "Yesterday you came for dinner - 0.9687\n",
      "Tomorrow he'll come for lunch - 0.9154\n",
      "I went to your house for dinner - 0.9606\n",
      "Yesterday they will come to your house for dinner - 0.9666\n",
      "Score: 5\n",
      "\n",
      "Example: Happines isn't doing what you like, but liking what you do\n",
      "Liking what you do makes you happy, not doing what you want - 0.9608\n",
      "Like what you do and you will be happy - 0.9148\n",
      "The source of happines is liking what you do - 0.9425\n",
      "Happines is liking what you do - 0.961\n",
      "What is done gladly is happiness - 0.8866\n",
      "Doing what you enjoy won't make you happy - 0.9285\n",
      "What you do, not what you like, is happiness - 0.9417\n",
      "Do what you like in order to be happy - 0.8978\n",
      "Do the things you like and you will be happy - 0.887\n",
      "You can't always do what you like - 0.9262\n",
      "Score: 4\n",
      "\n",
      "Example: Give some color to the gray world\n",
      "Give some color to the gray world - 1.0\n",
      "To the gray world give it color - 0.9329\n",
      "The world is gray so let's give it some color - 0.9291\n",
      "Give some color to the dark world - 0.9915\n",
      "Because the world is gray, we will give it some color - 0.9401\n",
      "Give color to the world - 0.9424\n",
      "Give gray to the colorful world - 0.9666\n",
      "Give gray to the world - 0.9551\n",
      "Give the world to the gray color - 0.9583\n",
      "Score: 4\n",
      "\n",
      "Example: Because I love, I create\n",
      "I create because I love - 0.9562\n",
      "Due to love I create - 0.9227\n",
      "I love: therefore, I create - 0.9627\n",
      "The reason for creating is love - 0.8808\n",
      "The origin of my creating is love - 0.9043\n",
      "Because I loved I created - 0.9482\n",
      "After creating I loved - 0.8926\n",
      "Because you love you create - 0.9287\n",
      "I don't love, so I don't create - 0.9234\n",
      "Because I create I love - 0.9699\n",
      "Score: 4\n",
      "\n",
      "Example: If you knew how pretty it is to hear you in basque\n",
      "It is very pretty to hear you in basque - 0.945\n",
      "Hearing you in basque pleases me - 0.9129\n",
      "It can't be explained how beautiful it is when you speak basque - 0.9347\n",
      "You can't know how pretty it is to hear you - 0.9445\n",
      "Knowing how pretty it is that you speak basque is impossible - 0.9467\n",
      "Hearing you is beautiful - 0.8787\n",
      "I would like you to know how pretty it is to hear you in basque - 0.9399\n",
      "If you know how awful it is to hear you in basque - 0.9715\n",
      "If they knew how pretty it is that I speak basque - 0.9559\n",
      "Score: 3\n",
      "\n"
     ]
    }
   ],
   "source": [
    "# calculate similarities based on bert cased embeddings\n",
    "similarities_all, scores_all = calculate_and_print(bert_cased_embeddings, similarities_all, scores_all)"
   ]
  },
  {
   "cell_type": "code",
   "execution_count": 14,
   "metadata": {},
   "outputs": [
    {
     "name": "stdout",
     "output_type": "stream",
     "text": [
      "This is the format of your plot grid:\n",
      "[ (1,1) x1,y1 ]     [ (1,2) x2,y2 ]     [ (1,3) x3,y3 ]     [ (1,4) x4,y4 ]     [ (1,5) x5,y5 ]     [ (1,6) x6,y6 ]     [ (1,7) x7,y7 ]     [ (1,8) x8,y8 ]     [ (1,9) x9,y9 ]     [ (1,10) x10,y10 ]\n",
      "\n",
      "Jokin offered an invitation to Amaia for lunch\n",
      "\n",
      "Jokin asked Amaia, if she wanted to have lunch with him\n",
      "Amaia received the question from Jokin, if she would like to go for lunch\n",
      "Jokin offered an invitation to Amaia for a meal\n",
      "Amaia received an invitation from Jokin\n",
      "Jokin and Amaia met for lunch\n",
      "Jokin and Amaia went for lunch together\n",
      "Jokin and Amaia enjoyed a meal together\n",
      "Amaia and Jokin decided to go for lunch\n",
      "Amaia invited Jokin for lunch\n",
      "Scores: Flair: 4, BERT uncased: 4, BERT cased: 4\n"
     ]
    },
    {
     "data": {
      "application/vnd.plotly.v1+json": {
       "config": {
        "linkText": "Export to plot.ly",
        "plotlyServerURL": "https://plot.ly",
        "showLink": false
       },
       "data": [
        {
         "type": "heatmap",
         "uid": "370bb5a0-74e4-4250-804a-adc9083ec5e9",
         "y": [
          "Flair",
          "BERT uncased",
          "BERT cased"
         ],
         "z": [
          [
           0.7643,
           0.7999,
           0.9599,
           0.8567,
           0.8509,
           0.8311,
           0.8186,
           0.8348,
           0.8974
          ],
          [
           0.8367,
           0.8333,
           0.9623,
           0.816,
           0.8494,
           0.8251,
           0.7923,
           0.8006,
           0.9116
          ],
          [
           0.9202,
           0.9301,
           0.9912,
           0.9501,
           0.9466,
           0.9298,
           0.9192,
           0.9362,
           0.9653
          ]
         ]
        }
       ],
       "layout": {}
      },
      "text/html": [
       "<div>\n",
       "        \n",
       "        \n",
       "            <div id=\"d5793de2-df39-49c0-ac11-57f318b4b77e\" class=\"plotly-graph-div\" style=\"height:525px; width:100%;\"></div>\n",
       "            <script type=\"text/javascript\">\n",
       "                require([\"plotly\"], function(Plotly) {\n",
       "                    window.PLOTLYENV=window.PLOTLYENV || {};\n",
       "                    window.PLOTLYENV.BASE_URL='https://plot.ly';\n",
       "                    \n",
       "                if (document.getElementById(\"d5793de2-df39-49c0-ac11-57f318b4b77e\")) {\n",
       "                    Plotly.newPlot(\n",
       "                        'd5793de2-df39-49c0-ac11-57f318b4b77e',\n",
       "                        [{\"type\": \"heatmap\", \"uid\": \"370bb5a0-74e4-4250-804a-adc9083ec5e9\", \"y\": [\"Flair\", \"BERT uncased\", \"BERT cased\"], \"z\": [[0.7643, 0.7999, 0.9599, 0.8567, 0.8509, 0.8311, 0.8186, 0.8348, 0.8974], [0.8367, 0.8333, 0.9623, 0.816, 0.8494, 0.8251, 0.7923, 0.8006, 0.9116], [0.9202, 0.9301, 0.9912, 0.9501, 0.9466, 0.9298, 0.9192, 0.9362, 0.9653]]}],\n",
       "                        {},\n",
       "                        {\"showLink\": false, \"linkText\": \"Export to plot.ly\", \"plotlyServerURL\": \"https://plot.ly\", \"responsive\": true}\n",
       "                    ).then(function(){\n",
       "                            \n",
       "var gd = document.getElementById('d5793de2-df39-49c0-ac11-57f318b4b77e');\n",
       "var x = new MutationObserver(function (mutations, observer) {{\n",
       "        var display = window.getComputedStyle(gd).display;\n",
       "        if (!display || display === 'none') {{\n",
       "            console.log([gd, 'removed!']);\n",
       "            Plotly.purge(gd);\n",
       "            observer.disconnect();\n",
       "        }}\n",
       "}});\n",
       "\n",
       "// Listen for the removal of the full notebook cells\n",
       "var notebookContainer = gd.closest('#notebook-container');\n",
       "if (notebookContainer) {{\n",
       "    x.observe(notebookContainer, {childList: true});\n",
       "}}\n",
       "\n",
       "// Listen for the clearing of the current output cell\n",
       "var outputEl = gd.closest('.output');\n",
       "if (outputEl) {{\n",
       "    x.observe(outputEl, {childList: true});\n",
       "}}\n",
       "\n",
       "                        })\n",
       "                };\n",
       "                });\n",
       "            </script>\n",
       "        </div>"
      ]
     },
     "metadata": {},
     "output_type": "display_data"
    },
    {
     "name": "stdout",
     "output_type": "stream",
     "text": [
      "If you have an extra apple, I would appreciate it a lot\n",
      "\n",
      "Would you give me an apple you don't need?\n",
      "I would appreciate it if you would give me that extra apple\n",
      "If you don't need that apple, I would appreciate it a lot\n",
      "I would be very happy if you gave me an apple\n",
      "Will you give me an apple?\n",
      "I would like that apple\n",
      "I have asked you an apple\n",
      "You have one extra apple\n",
      "You have offered me an apple\n",
      "You have given me an apple as a gift\n",
      "Scores: Flair: 4, BERT uncased: 5, BERT cased: 5\n"
     ]
    },
    {
     "data": {
      "application/vnd.plotly.v1+json": {
       "config": {
        "linkText": "Export to plot.ly",
        "plotlyServerURL": "https://plot.ly",
        "showLink": false
       },
       "data": [
        {
         "type": "heatmap",
         "uid": "b3b505cb-68b0-4b68-977b-65f18e6d49ea",
         "y": [
          "Flair",
          "BERT uncased",
          "BERT cased"
         ],
         "z": [
          [
           0.7872,
           0.8989,
           0.9625,
           0.8584,
           0.741,
           0.8221,
           0.7828,
           0.7492,
           0.7699,
           0.774
          ],
          [
           0.7793,
           0.9013,
           0.948,
           0.8307,
           0.7213,
           0.7107,
           0.6639,
           0.6753,
           0.6608,
           0.6919
          ],
          [
           0.9149,
           0.9491,
           0.9807,
           0.9356,
           0.9033,
           0.9031,
           0.8816,
           0.9068,
           0.8808,
           0.8955
          ]
         ]
        }
       ],
       "layout": {}
      },
      "text/html": [
       "<div>\n",
       "        \n",
       "        \n",
       "            <div id=\"7b23cf60-22a2-4af7-9afc-2d80a3571a12\" class=\"plotly-graph-div\" style=\"height:525px; width:100%;\"></div>\n",
       "            <script type=\"text/javascript\">\n",
       "                require([\"plotly\"], function(Plotly) {\n",
       "                    window.PLOTLYENV=window.PLOTLYENV || {};\n",
       "                    window.PLOTLYENV.BASE_URL='https://plot.ly';\n",
       "                    \n",
       "                if (document.getElementById(\"7b23cf60-22a2-4af7-9afc-2d80a3571a12\")) {\n",
       "                    Plotly.newPlot(\n",
       "                        '7b23cf60-22a2-4af7-9afc-2d80a3571a12',\n",
       "                        [{\"type\": \"heatmap\", \"uid\": \"b3b505cb-68b0-4b68-977b-65f18e6d49ea\", \"y\": [\"Flair\", \"BERT uncased\", \"BERT cased\"], \"z\": [[0.7872, 0.8989, 0.9625, 0.8584, 0.741, 0.8221, 0.7828, 0.7492, 0.7699, 0.774], [0.7793, 0.9013, 0.948, 0.8307, 0.7213, 0.7107, 0.6639, 0.6753, 0.6608, 0.6919], [0.9149, 0.9491, 0.9807, 0.9356, 0.9033, 0.9031, 0.8816, 0.9068, 0.8808, 0.8955]]}],\n",
       "                        {},\n",
       "                        {\"showLink\": false, \"linkText\": \"Export to plot.ly\", \"plotlyServerURL\": \"https://plot.ly\", \"responsive\": true}\n",
       "                    ).then(function(){\n",
       "                            \n",
       "var gd = document.getElementById('7b23cf60-22a2-4af7-9afc-2d80a3571a12');\n",
       "var x = new MutationObserver(function (mutations, observer) {{\n",
       "        var display = window.getComputedStyle(gd).display;\n",
       "        if (!display || display === 'none') {{\n",
       "            console.log([gd, 'removed!']);\n",
       "            Plotly.purge(gd);\n",
       "            observer.disconnect();\n",
       "        }}\n",
       "}});\n",
       "\n",
       "// Listen for the removal of the full notebook cells\n",
       "var notebookContainer = gd.closest('#notebook-container');\n",
       "if (notebookContainer) {{\n",
       "    x.observe(notebookContainer, {childList: true});\n",
       "}}\n",
       "\n",
       "// Listen for the clearing of the current output cell\n",
       "var outputEl = gd.closest('.output');\n",
       "if (outputEl) {{\n",
       "    x.observe(outputEl, {childList: true});\n",
       "}}\n",
       "\n",
       "                        })\n",
       "                };\n",
       "                });\n",
       "            </script>\n",
       "        </div>"
      ]
     },
     "metadata": {},
     "output_type": "display_data"
    },
    {
     "name": "stdout",
     "output_type": "stream",
     "text": [
      "Ane congratulated Amaia\n",
      "\n",
      "Ane said happy birthday to Amaia\n",
      "Ane told Amaia happy birthday\n",
      "Ane praised Amaia\n",
      "Amaia was congratulated by Ane\n",
      "Ane told Amaia she wished her happiness\n",
      "Due to Amaia's birthday, she received many good wishes\n",
      "Ane gave a gift to Amaia\n",
      "Amaia and Ane congratulated each other\n",
      "Ane and Amaia were congratulated\n",
      "Amaia told Ane happy birthday\n",
      "Scores: Flair: 5, BERT uncased: 4, BERT cased: 3\n"
     ]
    },
    {
     "data": {
      "application/vnd.plotly.v1+json": {
       "config": {
        "linkText": "Export to plot.ly",
        "plotlyServerURL": "https://plot.ly",
        "showLink": false
       },
       "data": [
        {
         "type": "heatmap",
         "uid": "f8be8159-c390-46ae-8159-d5806374d46c",
         "y": [
          "Flair",
          "BERT uncased",
          "BERT cased"
         ],
         "z": [
          [
           0.7806,
           0.7706,
           0.901,
           0.81,
           0.7339,
           0.5579,
           0.7558,
           0.8146,
           0.8293,
           0.763
          ],
          [
           0.7187,
           0.716,
           0.8844,
           0.8851,
           0.6577,
           0.5603,
           0.685,
           0.7582,
           0.8519,
           0.7164
          ],
          [
           0.91,
           0.9127,
           0.9504,
           0.9608,
           0.8983,
           0.8525,
           0.8961,
           0.9297,
           0.9476,
           0.9152
          ]
         ]
        }
       ],
       "layout": {}
      },
      "text/html": [
       "<div>\n",
       "        \n",
       "        \n",
       "            <div id=\"d1f08067-a031-4278-82c2-a7be45c01a2a\" class=\"plotly-graph-div\" style=\"height:525px; width:100%;\"></div>\n",
       "            <script type=\"text/javascript\">\n",
       "                require([\"plotly\"], function(Plotly) {\n",
       "                    window.PLOTLYENV=window.PLOTLYENV || {};\n",
       "                    window.PLOTLYENV.BASE_URL='https://plot.ly';\n",
       "                    \n",
       "                if (document.getElementById(\"d1f08067-a031-4278-82c2-a7be45c01a2a\")) {\n",
       "                    Plotly.newPlot(\n",
       "                        'd1f08067-a031-4278-82c2-a7be45c01a2a',\n",
       "                        [{\"type\": \"heatmap\", \"uid\": \"f8be8159-c390-46ae-8159-d5806374d46c\", \"y\": [\"Flair\", \"BERT uncased\", \"BERT cased\"], \"z\": [[0.7806, 0.7706, 0.901, 0.81, 0.7339, 0.5579, 0.7558, 0.8146, 0.8293, 0.763], [0.7187, 0.716, 0.8844, 0.8851, 0.6577, 0.5603, 0.685, 0.7582, 0.8519, 0.7164], [0.91, 0.9127, 0.9504, 0.9608, 0.8983, 0.8525, 0.8961, 0.9297, 0.9476, 0.9152]]}],\n",
       "                        {},\n",
       "                        {\"showLink\": false, \"linkText\": \"Export to plot.ly\", \"plotlyServerURL\": \"https://plot.ly\", \"responsive\": true}\n",
       "                    ).then(function(){\n",
       "                            \n",
       "var gd = document.getElementById('d1f08067-a031-4278-82c2-a7be45c01a2a');\n",
       "var x = new MutationObserver(function (mutations, observer) {{\n",
       "        var display = window.getComputedStyle(gd).display;\n",
       "        if (!display || display === 'none') {{\n",
       "            console.log([gd, 'removed!']);\n",
       "            Plotly.purge(gd);\n",
       "            observer.disconnect();\n",
       "        }}\n",
       "}});\n",
       "\n",
       "// Listen for the removal of the full notebook cells\n",
       "var notebookContainer = gd.closest('#notebook-container');\n",
       "if (notebookContainer) {{\n",
       "    x.observe(notebookContainer, {childList: true});\n",
       "}}\n",
       "\n",
       "// Listen for the clearing of the current output cell\n",
       "var outputEl = gd.closest('.output');\n",
       "if (outputEl) {{\n",
       "    x.observe(outputEl, {childList: true});\n",
       "}}\n",
       "\n",
       "                        })\n",
       "                };\n",
       "                });\n",
       "            </script>\n",
       "        </div>"
      ]
     },
     "metadata": {},
     "output_type": "display_data"
    },
    {
     "name": "stdout",
     "output_type": "stream",
     "text": [
      "Mikel went to the mountain\n",
      "\n",
      "To the mountain went Mikel\n",
      "Up the mountain went Mikel\n",
      "Mikel was in the mountain\n",
      "Mikel decided to go to the mountain\n",
      "Mikel made the plan to go to the mountain\n",
      "Mikel said he's going to the mountain\n",
      "Mikel made the comment that maybe he'd go to the mountain\n",
      "Mikel likes hiking\n",
      "Mikel said he's not going to the mountain\n",
      "Mikel didn't go to the mountain\n",
      "Scores: Flair: 4, BERT uncased: 5, BERT cased: 5\n"
     ]
    },
    {
     "data": {
      "application/vnd.plotly.v1+json": {
       "config": {
        "linkText": "Export to plot.ly",
        "plotlyServerURL": "https://plot.ly",
        "showLink": false
       },
       "data": [
        {
         "type": "heatmap",
         "uid": "325eed72-cac2-4c0c-9735-53a3416b7474",
         "y": [
          "Flair",
          "BERT uncased",
          "BERT cased"
         ],
         "z": [
          [
           0.8396,
           0.7971,
           0.8545,
           0.9064,
           0.8723,
           0.8913,
           0.8243,
           0.6638,
           0.8436,
           0.9017
          ],
          [
           0.8247,
           0.788,
           0.8283,
           0.8785,
           0.8574,
           0.8537,
           0.7929,
           0.6668,
           0.8002,
           0.871
          ],
          [
           0.9295,
           0.9144,
           0.9617,
           0.9704,
           0.9644,
           0.956,
           0.9407,
           0.8797,
           0.9406,
           0.9594
          ]
         ]
        }
       ],
       "layout": {}
      },
      "text/html": [
       "<div>\n",
       "        \n",
       "        \n",
       "            <div id=\"050d3d22-9842-4983-95b7-f88edd26c472\" class=\"plotly-graph-div\" style=\"height:525px; width:100%;\"></div>\n",
       "            <script type=\"text/javascript\">\n",
       "                require([\"plotly\"], function(Plotly) {\n",
       "                    window.PLOTLYENV=window.PLOTLYENV || {};\n",
       "                    window.PLOTLYENV.BASE_URL='https://plot.ly';\n",
       "                    \n",
       "                if (document.getElementById(\"050d3d22-9842-4983-95b7-f88edd26c472\")) {\n",
       "                    Plotly.newPlot(\n",
       "                        '050d3d22-9842-4983-95b7-f88edd26c472',\n",
       "                        [{\"type\": \"heatmap\", \"uid\": \"325eed72-cac2-4c0c-9735-53a3416b7474\", \"y\": [\"Flair\", \"BERT uncased\", \"BERT cased\"], \"z\": [[0.8396, 0.7971, 0.8545, 0.9064, 0.8723, 0.8913, 0.8243, 0.6638, 0.8436, 0.9017], [0.8247, 0.788, 0.8283, 0.8785, 0.8574, 0.8537, 0.7929, 0.6668, 0.8002, 0.871], [0.9295, 0.9144, 0.9617, 0.9704, 0.9644, 0.956, 0.9407, 0.8797, 0.9406, 0.9594]]}],\n",
       "                        {},\n",
       "                        {\"showLink\": false, \"linkText\": \"Export to plot.ly\", \"plotlyServerURL\": \"https://plot.ly\", \"responsive\": true}\n",
       "                    ).then(function(){\n",
       "                            \n",
       "var gd = document.getElementById('050d3d22-9842-4983-95b7-f88edd26c472');\n",
       "var x = new MutationObserver(function (mutations, observer) {{\n",
       "        var display = window.getComputedStyle(gd).display;\n",
       "        if (!display || display === 'none') {{\n",
       "            console.log([gd, 'removed!']);\n",
       "            Plotly.purge(gd);\n",
       "            observer.disconnect();\n",
       "        }}\n",
       "}});\n",
       "\n",
       "// Listen for the removal of the full notebook cells\n",
       "var notebookContainer = gd.closest('#notebook-container');\n",
       "if (notebookContainer) {{\n",
       "    x.observe(notebookContainer, {childList: true});\n",
       "}}\n",
       "\n",
       "// Listen for the clearing of the current output cell\n",
       "var outputEl = gd.closest('.output');\n",
       "if (outputEl) {{\n",
       "    x.observe(outputEl, {childList: true});\n",
       "}}\n",
       "\n",
       "                        })\n",
       "                };\n",
       "                });\n",
       "            </script>\n",
       "        </div>"
      ]
     },
     "metadata": {},
     "output_type": "display_data"
    },
    {
     "name": "stdout",
     "output_type": "stream",
     "text": [
      "Yesterday you came to our house for dinner\n",
      "\n",
      "You came for dinner to our house yesterday\n",
      "Yesterday you had dinner with us in our house\n",
      "You were in our house having dinner yesterday\n",
      "Yesterday you accepted the invitation to have dinner at our house\n",
      "We all had dinner together yesterday\n",
      "We could've had lunch together yesterday\n",
      "Yesterday you came for dinner\n",
      "Tomorrow he'll come for lunch\n",
      "I went to your house for dinner\n",
      "Yesterday they will come to your house for dinner\n",
      "Scores: Flair: 5, BERT uncased: 6, BERT cased: 5\n"
     ]
    },
    {
     "data": {
      "application/vnd.plotly.v1+json": {
       "config": {
        "linkText": "Export to plot.ly",
        "plotlyServerURL": "https://plot.ly",
        "showLink": false
       },
       "data": [
        {
         "type": "heatmap",
         "uid": "7fa65b9e-51a7-48cd-9a5c-58d59878e7e7",
         "y": [
          "Flair",
          "BERT uncased",
          "BERT cased"
         ],
         "z": [
          [
           0.9202,
           0.9099,
           0.8546,
           0.899,
           0.7742,
           0.7709,
           0.9324,
           0.8183,
           0.9047,
           0.9537
          ],
          [
           0.9591,
           0.8969,
           0.9025,
           0.8783,
           0.754,
           0.6843,
           0.9292,
           0.6916,
           0.8957,
           0.8492
          ],
          [
           0.9775,
           0.9583,
           0.9608,
           0.9518,
           0.908,
           0.8868,
           0.9687,
           0.9154,
           0.9606,
           0.9666
          ]
         ]
        }
       ],
       "layout": {}
      },
      "text/html": [
       "<div>\n",
       "        \n",
       "        \n",
       "            <div id=\"5ed0b2b6-14be-4cb8-804c-99a0a0e4c5b3\" class=\"plotly-graph-div\" style=\"height:525px; width:100%;\"></div>\n",
       "            <script type=\"text/javascript\">\n",
       "                require([\"plotly\"], function(Plotly) {\n",
       "                    window.PLOTLYENV=window.PLOTLYENV || {};\n",
       "                    window.PLOTLYENV.BASE_URL='https://plot.ly';\n",
       "                    \n",
       "                if (document.getElementById(\"5ed0b2b6-14be-4cb8-804c-99a0a0e4c5b3\")) {\n",
       "                    Plotly.newPlot(\n",
       "                        '5ed0b2b6-14be-4cb8-804c-99a0a0e4c5b3',\n",
       "                        [{\"type\": \"heatmap\", \"uid\": \"7fa65b9e-51a7-48cd-9a5c-58d59878e7e7\", \"y\": [\"Flair\", \"BERT uncased\", \"BERT cased\"], \"z\": [[0.9202, 0.9099, 0.8546, 0.899, 0.7742, 0.7709, 0.9324, 0.8183, 0.9047, 0.9537], [0.9591, 0.8969, 0.9025, 0.8783, 0.754, 0.6843, 0.9292, 0.6916, 0.8957, 0.8492], [0.9775, 0.9583, 0.9608, 0.9518, 0.908, 0.8868, 0.9687, 0.9154, 0.9606, 0.9666]]}],\n",
       "                        {},\n",
       "                        {\"showLink\": false, \"linkText\": \"Export to plot.ly\", \"plotlyServerURL\": \"https://plot.ly\", \"responsive\": true}\n",
       "                    ).then(function(){\n",
       "                            \n",
       "var gd = document.getElementById('5ed0b2b6-14be-4cb8-804c-99a0a0e4c5b3');\n",
       "var x = new MutationObserver(function (mutations, observer) {{\n",
       "        var display = window.getComputedStyle(gd).display;\n",
       "        if (!display || display === 'none') {{\n",
       "            console.log([gd, 'removed!']);\n",
       "            Plotly.purge(gd);\n",
       "            observer.disconnect();\n",
       "        }}\n",
       "}});\n",
       "\n",
       "// Listen for the removal of the full notebook cells\n",
       "var notebookContainer = gd.closest('#notebook-container');\n",
       "if (notebookContainer) {{\n",
       "    x.observe(notebookContainer, {childList: true});\n",
       "}}\n",
       "\n",
       "// Listen for the clearing of the current output cell\n",
       "var outputEl = gd.closest('.output');\n",
       "if (outputEl) {{\n",
       "    x.observe(outputEl, {childList: true});\n",
       "}}\n",
       "\n",
       "                        })\n",
       "                };\n",
       "                });\n",
       "            </script>\n",
       "        </div>"
      ]
     },
     "metadata": {},
     "output_type": "display_data"
    },
    {
     "name": "stdout",
     "output_type": "stream",
     "text": [
      "Happines isn't doing what you like, but liking what you do\n",
      "\n",
      "Liking what you do makes you happy, not doing what you want\n",
      "Like what you do and you will be happy\n",
      "The source of happines is liking what you do\n",
      "Happines is liking what you do\n",
      "What is done gladly is happiness\n",
      "Doing what you enjoy won't make you happy\n",
      "What you do, not what you like, is happiness\n",
      "Do what you like in order to be happy\n",
      "Do the things you like and you will be happy\n",
      "You can't always do what you like\n",
      "Scores: Flair: 6, BERT uncased: 4, BERT cased: 4\n"
     ]
    },
    {
     "data": {
      "application/vnd.plotly.v1+json": {
       "config": {
        "linkText": "Export to plot.ly",
        "plotlyServerURL": "https://plot.ly",
        "showLink": false
       },
       "data": [
        {
         "type": "heatmap",
         "uid": "05247fc3-611a-4dd7-83d2-ecee9dcb2431",
         "y": [
          "Flair",
          "BERT uncased",
          "BERT cased"
         ],
         "z": [
          [
           0.9415,
           0.8874,
           0.8695,
           0.9242,
           0.749,
           0.8722,
           0.9031,
           0.8616,
           0.8549,
           0.8395
          ],
          [
           0.9093,
           0.7987,
           0.8583,
           0.9193,
           0.7222,
           0.8297,
           0.8676,
           0.7686,
           0.7627,
           0.7823
          ],
          [
           0.9608,
           0.9148,
           0.9425,
           0.961,
           0.8866,
           0.9285,
           0.9417,
           0.8978,
           0.887,
           0.9262
          ]
         ]
        }
       ],
       "layout": {}
      },
      "text/html": [
       "<div>\n",
       "        \n",
       "        \n",
       "            <div id=\"5579580e-1cd2-41b3-806e-0cd9bfa9e7e0\" class=\"plotly-graph-div\" style=\"height:525px; width:100%;\"></div>\n",
       "            <script type=\"text/javascript\">\n",
       "                require([\"plotly\"], function(Plotly) {\n",
       "                    window.PLOTLYENV=window.PLOTLYENV || {};\n",
       "                    window.PLOTLYENV.BASE_URL='https://plot.ly';\n",
       "                    \n",
       "                if (document.getElementById(\"5579580e-1cd2-41b3-806e-0cd9bfa9e7e0\")) {\n",
       "                    Plotly.newPlot(\n",
       "                        '5579580e-1cd2-41b3-806e-0cd9bfa9e7e0',\n",
       "                        [{\"type\": \"heatmap\", \"uid\": \"05247fc3-611a-4dd7-83d2-ecee9dcb2431\", \"y\": [\"Flair\", \"BERT uncased\", \"BERT cased\"], \"z\": [[0.9415, 0.8874, 0.8695, 0.9242, 0.749, 0.8722, 0.9031, 0.8616, 0.8549, 0.8395], [0.9093, 0.7987, 0.8583, 0.9193, 0.7222, 0.8297, 0.8676, 0.7686, 0.7627, 0.7823], [0.9608, 0.9148, 0.9425, 0.961, 0.8866, 0.9285, 0.9417, 0.8978, 0.887, 0.9262]]}],\n",
       "                        {},\n",
       "                        {\"showLink\": false, \"linkText\": \"Export to plot.ly\", \"plotlyServerURL\": \"https://plot.ly\", \"responsive\": true}\n",
       "                    ).then(function(){\n",
       "                            \n",
       "var gd = document.getElementById('5579580e-1cd2-41b3-806e-0cd9bfa9e7e0');\n",
       "var x = new MutationObserver(function (mutations, observer) {{\n",
       "        var display = window.getComputedStyle(gd).display;\n",
       "        if (!display || display === 'none') {{\n",
       "            console.log([gd, 'removed!']);\n",
       "            Plotly.purge(gd);\n",
       "            observer.disconnect();\n",
       "        }}\n",
       "}});\n",
       "\n",
       "// Listen for the removal of the full notebook cells\n",
       "var notebookContainer = gd.closest('#notebook-container');\n",
       "if (notebookContainer) {{\n",
       "    x.observe(notebookContainer, {childList: true});\n",
       "}}\n",
       "\n",
       "// Listen for the clearing of the current output cell\n",
       "var outputEl = gd.closest('.output');\n",
       "if (outputEl) {{\n",
       "    x.observe(outputEl, {childList: true});\n",
       "}}\n",
       "\n",
       "                        })\n",
       "                };\n",
       "                });\n",
       "            </script>\n",
       "        </div>"
      ]
     },
     "metadata": {},
     "output_type": "display_data"
    },
    {
     "name": "stdout",
     "output_type": "stream",
     "text": [
      "Give some color to the gray world\n",
      "\n",
      "Give some color to the gray world\n",
      "To the gray world give it color\n",
      "The world is gray so let's give it some color\n",
      "Give some color to the dark world\n",
      "Because the world is gray, we will give it some color\n",
      "Give color to the world\n",
      "Give gray to the colorful world\n",
      "Give gray to the world\n",
      "Give the world to the gray color\n",
      "Scores: Flair: 4, BERT uncased: 5, BERT cased: 4\n"
     ]
    },
    {
     "data": {
      "application/vnd.plotly.v1+json": {
       "config": {
        "linkText": "Export to plot.ly",
        "plotlyServerURL": "https://plot.ly",
        "showLink": false
       },
       "data": [
        {
         "type": "heatmap",
         "uid": "7832c00a-d05b-4f26-a3a0-4969f07ef1d6",
         "y": [
          "Flair",
          "BERT uncased",
          "BERT cased"
         ],
         "z": [
          [
           1,
           0.8919,
           0.7993,
           0.9798,
           0.7637,
           0.9171,
           0.9337,
           0.8976,
           0.9245
          ],
          [
           1,
           0.8587,
           0.8035,
           0.9753,
           0.8406,
           0.8582,
           0.8239,
           0.7271,
           0.9194
          ],
          [
           1,
           0.9329,
           0.9291,
           0.9915,
           0.9401,
           0.9424,
           0.9666,
           0.9551,
           0.9583
          ]
         ]
        }
       ],
       "layout": {}
      },
      "text/html": [
       "<div>\n",
       "        \n",
       "        \n",
       "            <div id=\"31789d15-045d-4f21-b80e-ff49863cb884\" class=\"plotly-graph-div\" style=\"height:525px; width:100%;\"></div>\n",
       "            <script type=\"text/javascript\">\n",
       "                require([\"plotly\"], function(Plotly) {\n",
       "                    window.PLOTLYENV=window.PLOTLYENV || {};\n",
       "                    window.PLOTLYENV.BASE_URL='https://plot.ly';\n",
       "                    \n",
       "                if (document.getElementById(\"31789d15-045d-4f21-b80e-ff49863cb884\")) {\n",
       "                    Plotly.newPlot(\n",
       "                        '31789d15-045d-4f21-b80e-ff49863cb884',\n",
       "                        [{\"type\": \"heatmap\", \"uid\": \"7832c00a-d05b-4f26-a3a0-4969f07ef1d6\", \"y\": [\"Flair\", \"BERT uncased\", \"BERT cased\"], \"z\": [[1.0, 0.8919, 0.7993, 0.9798, 0.7637, 0.9171, 0.9337, 0.8976, 0.9245], [1.0, 0.8587, 0.8035, 0.9753, 0.8406, 0.8582, 0.8239, 0.7271, 0.9194], [1.0, 0.9329, 0.9291, 0.9915, 0.9401, 0.9424, 0.9666, 0.9551, 0.9583]]}],\n",
       "                        {},\n",
       "                        {\"showLink\": false, \"linkText\": \"Export to plot.ly\", \"plotlyServerURL\": \"https://plot.ly\", \"responsive\": true}\n",
       "                    ).then(function(){\n",
       "                            \n",
       "var gd = document.getElementById('31789d15-045d-4f21-b80e-ff49863cb884');\n",
       "var x = new MutationObserver(function (mutations, observer) {{\n",
       "        var display = window.getComputedStyle(gd).display;\n",
       "        if (!display || display === 'none') {{\n",
       "            console.log([gd, 'removed!']);\n",
       "            Plotly.purge(gd);\n",
       "            observer.disconnect();\n",
       "        }}\n",
       "}});\n",
       "\n",
       "// Listen for the removal of the full notebook cells\n",
       "var notebookContainer = gd.closest('#notebook-container');\n",
       "if (notebookContainer) {{\n",
       "    x.observe(notebookContainer, {childList: true});\n",
       "}}\n",
       "\n",
       "// Listen for the clearing of the current output cell\n",
       "var outputEl = gd.closest('.output');\n",
       "if (outputEl) {{\n",
       "    x.observe(outputEl, {childList: true});\n",
       "}}\n",
       "\n",
       "                        })\n",
       "                };\n",
       "                });\n",
       "            </script>\n",
       "        </div>"
      ]
     },
     "metadata": {},
     "output_type": "display_data"
    },
    {
     "name": "stdout",
     "output_type": "stream",
     "text": [
      "Because I love, I create\n",
      "\n",
      "I create because I love\n",
      "Due to love I create\n",
      "I love: therefore, I create\n",
      "The reason for creating is love\n",
      "The origin of my creating is love\n",
      "Because I loved I created\n",
      "After creating I loved\n",
      "Because you love you create\n",
      "I don't love, so I don't create\n",
      "Because I create I love\n",
      "Scores: Flair: 4, BERT uncased: 3, BERT cased: 4\n"
     ]
    },
    {
     "data": {
      "application/vnd.plotly.v1+json": {
       "config": {
        "linkText": "Export to plot.ly",
        "plotlyServerURL": "https://plot.ly",
        "showLink": false
       },
       "data": [
        {
         "type": "heatmap",
         "uid": "ccd166fc-d5e0-4a72-ae18-8b8ad191b6fe",
         "y": [
          "Flair",
          "BERT uncased",
          "BERT cased"
         ],
         "z": [
          [
           0.9474,
           0.82,
           0.947,
           0.7241,
           0.6892,
           0.873,
           0.7781,
           0.8277,
           0.8516,
           0.9544
          ],
          [
           0.9107,
           0.7754,
           0.8557,
           0.7024,
           0.7564,
           0.8513,
           0.7378,
           0.8177,
           0.8394,
           0.9309
          ],
          [
           0.9562,
           0.9227,
           0.9627,
           0.8808,
           0.9043,
           0.9482,
           0.8926,
           0.9287,
           0.9234,
           0.9699
          ]
         ]
        }
       ],
       "layout": {}
      },
      "text/html": [
       "<div>\n",
       "        \n",
       "        \n",
       "            <div id=\"9398293d-08a9-470a-bdbf-f6617321d04e\" class=\"plotly-graph-div\" style=\"height:525px; width:100%;\"></div>\n",
       "            <script type=\"text/javascript\">\n",
       "                require([\"plotly\"], function(Plotly) {\n",
       "                    window.PLOTLYENV=window.PLOTLYENV || {};\n",
       "                    window.PLOTLYENV.BASE_URL='https://plot.ly';\n",
       "                    \n",
       "                if (document.getElementById(\"9398293d-08a9-470a-bdbf-f6617321d04e\")) {\n",
       "                    Plotly.newPlot(\n",
       "                        '9398293d-08a9-470a-bdbf-f6617321d04e',\n",
       "                        [{\"type\": \"heatmap\", \"uid\": \"ccd166fc-d5e0-4a72-ae18-8b8ad191b6fe\", \"y\": [\"Flair\", \"BERT uncased\", \"BERT cased\"], \"z\": [[0.9474, 0.82, 0.947, 0.7241, 0.6892, 0.873, 0.7781, 0.8277, 0.8516, 0.9544], [0.9107, 0.7754, 0.8557, 0.7024, 0.7564, 0.8513, 0.7378, 0.8177, 0.8394, 0.9309], [0.9562, 0.9227, 0.9627, 0.8808, 0.9043, 0.9482, 0.8926, 0.9287, 0.9234, 0.9699]]}],\n",
       "                        {},\n",
       "                        {\"showLink\": false, \"linkText\": \"Export to plot.ly\", \"plotlyServerURL\": \"https://plot.ly\", \"responsive\": true}\n",
       "                    ).then(function(){\n",
       "                            \n",
       "var gd = document.getElementById('9398293d-08a9-470a-bdbf-f6617321d04e');\n",
       "var x = new MutationObserver(function (mutations, observer) {{\n",
       "        var display = window.getComputedStyle(gd).display;\n",
       "        if (!display || display === 'none') {{\n",
       "            console.log([gd, 'removed!']);\n",
       "            Plotly.purge(gd);\n",
       "            observer.disconnect();\n",
       "        }}\n",
       "}});\n",
       "\n",
       "// Listen for the removal of the full notebook cells\n",
       "var notebookContainer = gd.closest('#notebook-container');\n",
       "if (notebookContainer) {{\n",
       "    x.observe(notebookContainer, {childList: true});\n",
       "}}\n",
       "\n",
       "// Listen for the clearing of the current output cell\n",
       "var outputEl = gd.closest('.output');\n",
       "if (outputEl) {{\n",
       "    x.observe(outputEl, {childList: true});\n",
       "}}\n",
       "\n",
       "                        })\n",
       "                };\n",
       "                });\n",
       "            </script>\n",
       "        </div>"
      ]
     },
     "metadata": {},
     "output_type": "display_data"
    },
    {
     "name": "stdout",
     "output_type": "stream",
     "text": [
      "If you knew how pretty it is to hear you in basque\n",
      "\n",
      "It is very pretty to hear you in basque\n",
      "Hearing you in basque pleases me\n",
      "It can't be explained how beautiful it is when you speak basque\n",
      "You can't know how pretty it is to hear you\n",
      "Knowing how pretty it is that you speak basque is impossible\n",
      "Hearing you is beautiful\n",
      "I would like you to know how pretty it is to hear you in basque\n",
      "If you know how awful it is to hear you in basque\n",
      "If they knew how pretty it is that I speak basque\n",
      "Scores: Flair: 4, BERT uncased: 4, BERT cased: 3\n"
     ]
    },
    {
     "data": {
      "application/vnd.plotly.v1+json": {
       "config": {
        "linkText": "Export to plot.ly",
        "plotlyServerURL": "https://plot.ly",
        "showLink": false
       },
       "data": [
        {
         "type": "heatmap",
         "uid": "e51f1d54-bab5-4760-b5b0-5c724bddd297",
         "y": [
          "Flair",
          "BERT uncased",
          "BERT cased"
         ],
         "z": [
          [
           0.8735,
           0.7602,
           0.8815,
           0.925,
           0.8833,
           0.7389,
           0.9222,
           0.9787,
           0.9285
          ],
          [
           0.8296,
           0.6711,
           0.7591,
           0.8766,
           0.8233,
           0.7253,
           0.8513,
           0.9235,
           0.8662
          ],
          [
           0.945,
           0.9129,
           0.9347,
           0.9445,
           0.9467,
           0.8787,
           0.9399,
           0.9715,
           0.9559
          ]
         ]
        }
       ],
       "layout": {}
      },
      "text/html": [
       "<div>\n",
       "        \n",
       "        \n",
       "            <div id=\"7cfed3b3-2fd6-4824-a482-20d78ef8b64e\" class=\"plotly-graph-div\" style=\"height:525px; width:100%;\"></div>\n",
       "            <script type=\"text/javascript\">\n",
       "                require([\"plotly\"], function(Plotly) {\n",
       "                    window.PLOTLYENV=window.PLOTLYENV || {};\n",
       "                    window.PLOTLYENV.BASE_URL='https://plot.ly';\n",
       "                    \n",
       "                if (document.getElementById(\"7cfed3b3-2fd6-4824-a482-20d78ef8b64e\")) {\n",
       "                    Plotly.newPlot(\n",
       "                        '7cfed3b3-2fd6-4824-a482-20d78ef8b64e',\n",
       "                        [{\"type\": \"heatmap\", \"uid\": \"e51f1d54-bab5-4760-b5b0-5c724bddd297\", \"y\": [\"Flair\", \"BERT uncased\", \"BERT cased\"], \"z\": [[0.8735, 0.7602, 0.8815, 0.925, 0.8833, 0.7389, 0.9222, 0.9787, 0.9285], [0.8296, 0.6711, 0.7591, 0.8766, 0.8233, 0.7253, 0.8513, 0.9235, 0.8662], [0.945, 0.9129, 0.9347, 0.9445, 0.9467, 0.8787, 0.9399, 0.9715, 0.9559]]}],\n",
       "                        {},\n",
       "                        {\"showLink\": false, \"linkText\": \"Export to plot.ly\", \"plotlyServerURL\": \"https://plot.ly\", \"responsive\": true}\n",
       "                    ).then(function(){\n",
       "                            \n",
       "var gd = document.getElementById('7cfed3b3-2fd6-4824-a482-20d78ef8b64e');\n",
       "var x = new MutationObserver(function (mutations, observer) {{\n",
       "        var display = window.getComputedStyle(gd).display;\n",
       "        if (!display || display === 'none') {{\n",
       "            console.log([gd, 'removed!']);\n",
       "            Plotly.purge(gd);\n",
       "            observer.disconnect();\n",
       "        }}\n",
       "}});\n",
       "\n",
       "// Listen for the removal of the full notebook cells\n",
       "var notebookContainer = gd.closest('#notebook-container');\n",
       "if (notebookContainer) {{\n",
       "    x.observe(notebookContainer, {childList: true});\n",
       "}}\n",
       "\n",
       "// Listen for the clearing of the current output cell\n",
       "var outputEl = gd.closest('.output');\n",
       "if (outputEl) {{\n",
       "    x.observe(outputEl, {childList: true});\n",
       "}}\n",
       "\n",
       "                        })\n",
       "                };\n",
       "                });\n",
       "            </script>\n",
       "        </div>"
      ]
     },
     "metadata": {},
     "output_type": "display_data"
    }
   ],
   "source": [
    "fig = plotly.tools.make_subplots(rows=1, cols=10)\n",
    "\n",
    "for i in range(len(gold_sentences)):\n",
    "    print(list(gold_sentences.keys())[i] + '\\n')\n",
    "    print(\"\\n\".join(gold_sentences[list(gold_sentences.keys())[i]]))\n",
    "    print(\"Scores: Flair: \" + str(scores_all[i][0]) + \", BERT uncased: \" + str(scores_all[i][1]) + \", BERT cased: \" + str(scores_all[i][2]))\n",
    "    \n",
    "    trace = go.Heatmap(z=similarities_all[i], y=['Flair', 'BERT uncased', 'BERT cased'])\n",
    "    data=[trace]\n",
    "    fig.append_trace(trace, 1, i+1)\n",
    "    iplot(data, filename='basic-heatmap' + str(i))"
   ]
  },
  {
   "cell_type": "code",
   "execution_count": 15,
   "metadata": {},
   "outputs": [
    {
     "name": "stdout",
     "output_type": "stream",
     "text": [
      "Total scores: Flair: 40, BERT uncased: 40, BERT cased: 37\n"
     ]
    }
   ],
   "source": [
    "total_scores = [0] * len(scores_all)\n",
    "for i in range(len(scores_all)):\n",
    "    total_scores[0] += scores_all[i][0]\n",
    "    total_scores[1] += scores_all[i][1]\n",
    "    total_scores[2] += scores_all[i][2]\n",
    "print(\"Total scores: Flair: \" + str(total_scores[0]) + \", BERT uncased: \" + str(total_scores[1]) + \", BERT cased: \" + str(total_scores[2]))\n"
   ]
  },
  {
   "cell_type": "code",
   "execution_count": null,
   "metadata": {},
   "outputs": [],
   "source": []
  }
 ],
 "metadata": {
  "kernelspec": {
   "display_name": "Python 3",
   "language": "python",
   "name": "python3"
  },
  "language_info": {
   "codemirror_mode": {
    "name": "ipython",
    "version": 3
   },
   "file_extension": ".py",
   "mimetype": "text/x-python",
   "name": "python",
   "nbconvert_exporter": "python",
   "pygments_lexer": "ipython3",
   "version": "3.7.3"
  }
 },
 "nbformat": 4,
 "nbformat_minor": 2
}
