{
 "cells": [
  {
   "cell_type": "code",
   "execution_count": 27,
   "metadata": {},
   "outputs": [],
   "source": [
    "import torch\n",
    "\n",
    "from flair.data import Sentence\n",
    "from flair.embeddings import DocumentPoolEmbeddings, FlairEmbeddings, BertEmbeddings\n",
    "\n",
    "import plotly\n",
    "import plotly.graph_objs as go\n",
    "from plotly.offline import download_plotlyjs, init_notebook_mode, plot, iplot"
   ]
  },
  {
   "cell_type": "code",
   "execution_count": 10,
   "metadata": {},
   "outputs": [],
   "source": [
    "language = 'en'\n",
    "gold_filename = \"goldstandard_\"+language+\".tsv\"\n",
    "\n",
    "def get_gold_sentences(filename):\n",
    "    gold_sentences = {}\n",
    "    with open(filename, 'rt') as f_p:\n",
    "        for line in f_p:\n",
    "            if line.startswith('\"origin\"'): # header\n",
    "                continue\n",
    "            \n",
    "            if not line:\n",
    "                continue\n",
    "            \n",
    "            line = line.rstrip()\n",
    "            line = line.replace('\"', '')\n",
    "            splitted = line.split('\\t')\n",
    "            gold = splitted[0]\n",
    "            sim_sentences = splitted[1:11]\n",
    "            \n",
    "            if gold:\n",
    "                gold_sentences[gold] = sim_sentences\n",
    "            \n",
    "    return gold_sentences"
   ]
  },
  {
   "cell_type": "code",
   "execution_count": 11,
   "metadata": {},
   "outputs": [],
   "source": [
    "gold_sentences = get_gold_sentences(gold_filename)"
   ]
  },
  {
   "cell_type": "code",
   "execution_count": 12,
   "metadata": {},
   "outputs": [],
   "source": [
    "def calculate_similarities(gold, sim_sentences, embeddings):\n",
    "    \n",
    "    similarities = []\n",
    "    query = gold\n",
    "\n",
    "    q = Sentence(query)\n",
    "    embeddings.embed(q)\n",
    "    \n",
    "    for sentence in sim_sentences:\n",
    "        \n",
    "        s = Sentence(sentence)\n",
    "        embeddings.embed(s)\n",
    "\n",
    "        assert q.embedding.shape == s.embedding.shape\n",
    "        \n",
    "        cos = torch.nn.CosineSimilarity(dim=0, eps=1e-6)\n",
    "        prox = cos(q.embedding, s.embedding)\n",
    "    \n",
    "        similarities.append(round(prox.item(), 4))\n",
    "        \n",
    "    return similarities\n",
    "\n",
    "def print_similarities(gold, sim_sentences, similarities):\n",
    "        \n",
    "    print(f\"Example: {gold}\")\n",
    "    for sentence, similarity in zip(sim_sentences, similarities) :\n",
    "        print(f\"{sentence} - {similarity}\")\n",
    "    \n",
    "    print(\"\")"
   ]
  },
  {
   "cell_type": "code",
   "execution_count": 15,
   "metadata": {},
   "outputs": [
    {
     "name": "stdout",
     "output_type": "stream",
     "text": [
      "2019-07-01 14:27:59,785 https://s3.eu-central-1.amazonaws.com/alan-nlp/resources/embeddings-v0.4.1/big-news-forward--h2048-l1-d0.05-lr30-0.25-20/news-forward-0.4.1.pt not found in cache, downloading to C:\\Users\\z0042s7n\\AppData\\Local\\Temp\\tmpy964s6fo\n"
     ]
    },
    {
     "name": "stderr",
     "output_type": "stream",
     "text": [
      "100%|█████████████████████████████████████████████████████████████████| 73034624/73034624 [00:06<00:00, 11438079.84B/s]\n"
     ]
    },
    {
     "name": "stdout",
     "output_type": "stream",
     "text": [
      "2019-07-01 14:28:06,514 copying C:\\Users\\z0042s7n\\AppData\\Local\\Temp\\tmpy964s6fo to cache at C:\\Users\\z0042s7n\\.flair\\embeddings\\news-forward-0.4.1.pt\n",
      "2019-07-01 14:28:06,752 removing temp file C:\\Users\\z0042s7n\\AppData\\Local\\Temp\\tmpy964s6fo\n",
      "2019-07-01 14:28:07,355 https://s3.eu-central-1.amazonaws.com/alan-nlp/resources/embeddings-v0.4.1/big-news-backward--h2048-l1-d0.05-lr30-0.25-20/news-backward-0.4.1.pt not found in cache, downloading to C:\\Users\\z0042s7n\\AppData\\Local\\Temp\\tmp2szztt0e\n"
     ]
    },
    {
     "name": "stderr",
     "output_type": "stream",
     "text": [
      "100%|█████████████████████████████████████████████████████████████████| 73034575/73034575 [00:06<00:00, 11554517.13B/s]\n"
     ]
    },
    {
     "name": "stdout",
     "output_type": "stream",
     "text": [
      "2019-07-01 14:28:13,969 copying C:\\Users\\z0042s7n\\AppData\\Local\\Temp\\tmp2szztt0e to cache at C:\\Users\\z0042s7n\\.flair\\embeddings\\news-backward-0.4.1.pt\n",
      "2019-07-01 14:28:14,076 removing temp file C:\\Users\\z0042s7n\\AppData\\Local\\Temp\\tmp2szztt0e\n"
     ]
    }
   ],
   "source": [
    "# load flair embeddings\n",
    "if language == 'eu':\n",
    "    flair_embeds = 'eu'\n",
    "elif language == 'en':\n",
    "    flair_embeds = 'news'\n",
    "flair_embeddings = DocumentPoolEmbeddings([FlairEmbeddings(flair_embeds+'-forward'), \n",
    "                                         FlairEmbeddings(flair_embeds+'-backward')\n",
    "                                        ])"
   ]
  },
  {
   "cell_type": "code",
   "execution_count": 16,
   "metadata": {},
   "outputs": [
    {
     "name": "stdout",
     "output_type": "stream",
     "text": [
      "2019-07-01 14:28:17,338 The pre-trained model you are loading is a cased model but you have not set `do_lower_case` to False. We are setting `do_lower_case=False` for you but you may want to check this behavior.\n"
     ]
    },
    {
     "name": "stderr",
     "output_type": "stream",
     "text": [
      "100%|███████████████████████████████████████████████████████████████████████| 995526/995526 [00:03<00:00, 292417.67B/s]\n",
      "100%|████████████████████████████████████████████████████████████████| 662804195/662804195 [01:09<00:00, 9575861.23B/s]\n",
      "100%|███████████████████████████████████████████████████████████████████████| 871891/871891 [00:03<00:00, 269096.60B/s]\n",
      "100%|████████████████████████████████████████████████████████████████| 623743758/623743758 [01:08<00:00, 9133265.53B/s]\n"
     ]
    }
   ],
   "source": [
    "# load BERT embeddings\n",
    "# See BERT paper, section 5.3 and table 7\n",
    "bert_layers = '-1,-2,-3,-4'\n",
    "\n",
    "bert_cased_embeddings = DocumentPoolEmbeddings([BertEmbeddings('bert-base-multilingual-cased',\n",
    "                                                               layers=bert_layers)])\n",
    "\n",
    "bert_uncased_embeddings = DocumentPoolEmbeddings([BertEmbeddings('bert-base-multilingual-uncased',\n",
    "                                                                 layers=bert_layers)])\n"
   ]
  },
  {
   "cell_type": "code",
   "execution_count": 17,
   "metadata": {},
   "outputs": [],
   "source": [
    "# load ELMo and ELMo multilingual embeddings"
   ]
  },
  {
   "cell_type": "code",
   "execution_count": 18,
   "metadata": {},
   "outputs": [],
   "source": [
    "def calculate_and_print(embeddings, similarities_all):\n",
    "    i = 0\n",
    "    for gold, sim_sentences in gold_sentences.items():\n",
    "        similarities = calculate_similarities(gold, sim_sentences, embeddings)\n",
    "        print_similarities(gold, sim_sentences, similarities)\n",
    "        similarities_all[i].append(similarities)\n",
    "        i += 1\n",
    "    return similarities_all"
   ]
  },
  {
   "cell_type": "code",
   "execution_count": 19,
   "metadata": {},
   "outputs": [],
   "source": [
    "similarities_all = []\n",
    "for i in range(10):\n",
    "    similarities_all.append([])"
   ]
  },
  {
   "cell_type": "code",
   "execution_count": 20,
   "metadata": {},
   "outputs": [
    {
     "name": "stdout",
     "output_type": "stream",
     "text": [
      "Example: Jokin offered an invitation to Amaia for lunch\n",
      "Jokin asked Amaia, if she wanted to have lunch with him - 0.6723\n",
      "Amaia received the question from Jokin, if she would like to go for lunch - 0.6958\n",
      "Jokin offered an invitation to Amaia for a meal - 0.9333\n",
      "Amaia received an invitation from Jokin - 0.7782\n",
      "Jokin and Amaia met for lunch - 0.7229\n",
      "Jokin and Amaia went for lunch together - 0.6636\n",
      "Jokin and Amaia enjoyed a meal together - 0.6665\n",
      "Amaia and Jokin decided to go for lunch - 0.6988\n",
      "Amaia invited Jokin for lunch - 0.7967\n",
      "\n",
      "Example: If you have an extra apple, I would appreciate it a lot\n",
      "Would you give me an apple you don't need? - 0.737\n",
      "I would appreciate it if you would give me that extra apple - 0.8606\n",
      "If you don't need that apple, I would appreciate it a lot - 0.9444\n",
      "I would be very happy if you gave me an apple - 0.7937\n",
      "Will you give me an apple? - 0.682\n",
      "I would like that apple - 0.7183\n",
      "I have asked you an apple - 0.7371\n",
      "You have one extra apple - 0.7589\n",
      "You have offered me an apple - 0.7748\n",
      "You have given me an apple as a gift - 0.7062\n",
      "\n",
      "Example: Ane congratulated Amaia\n",
      "Ane said happy birthday to Amaia - 0.5974\n",
      "Ane told Amaia happy birthday - 0.616\n",
      "Ane praised Amaia - 0.8837\n",
      "Amaia was congratulated by Ane - 0.7274\n",
      "Ane told Amaia she wished her happiness - 0.5671\n",
      "Due to Amaia's birthday, she received many good wishes - 0.3167\n",
      "Ane gave a gift to Amaia - 0.646\n",
      "Amaia and Ane congratulated each other - 0.7424\n",
      "Ane and Amaia were congratulated - 0.7282\n",
      "Amaia told Ane happy birthday - 0.5638\n",
      "\n",
      "Example: Mikel went to the mountain\n",
      "To the mountain went Mikel - 0.7089\n",
      "Up the mountain went Mikel - 0.6615\n",
      "Mikel was in the mountain - 0.7866\n",
      "Mikel decided to go to the mountain - 0.8495\n",
      "Mikel made the plan to go to the mountain - 0.8158\n",
      "Mikel said he's going to the mountain - 0.821\n",
      "Mikel made the comment that maybe he'd go to the mountain - 0.7248\n",
      "Mikel likes hiking - 0.5024\n",
      "Mikel said he's not going to the mountain - 0.7453\n",
      "Mikel didn't go to the mountain - 0.8515\n",
      "\n",
      "Example: Yesterday you came to our house for dinner\n",
      "You came for dinner to our house yesterday - 0.8989\n",
      "Yesterday you had dinner with us in our house - 0.8432\n",
      "You were in our house having dinner yesterday - 0.7804\n",
      "Yesterday you accepted the invitation to have dinner at our house - 0.8195\n",
      "We all had dinner together yesterday - 0.657\n",
      "We could've had lunch together yesterday - 0.6372\n",
      "Yesterday you came for dinner - 0.8773\n",
      "Tomorrow he'll come for lunch - 0.5902\n",
      "I went to your house for dinner - 0.8441\n",
      "Yesterday they will come to your house for dinner - 0.8747\n",
      "\n",
      "Example: Happines isn't doing what you like, but liking what you do\n",
      "Liking what you do makes you happy, not doing what you want - 0.8843\n",
      "Like what you do and you will be happy - 0.7961\n",
      "The source of happines is liking what you do - 0.7515\n",
      "Happines is liking what you do - 0.8746\n",
      "What is done gladly is happiness - 0.585\n",
      "Doing what you enjoy won't make you happy - 0.8027\n",
      "What you do, not what you like, is happiness - 0.8244\n",
      "Do what you like in order to be happy - 0.762\n",
      "Do the things you like and you will be happy - 0.7552\n",
      "You can't always do what you like - 0.8158\n",
      "\n",
      "Example: Give some color to the gray world\n",
      "Give some color to the gray world - 1.0\n",
      "To the gray world give it color - 0.7725\n",
      "The world is gray so let's give it some color - 0.7139\n",
      "Give some color to the dark world - 0.9567\n",
      "Because the world is gray, we will give it some color - 0.6601\n",
      "Give color to the world - 0.8674\n",
      "Give gray to the colorful world - 0.8846\n",
      "Give gray to the world - 0.833\n",
      "Give the world to the gray color - 0.8781\n",
      "\n",
      "Example: Because I love, I create\n",
      "I create because I love - 0.9111\n",
      "Due to love I create - 0.726\n",
      "I love: therefore, I create - 0.8763\n",
      "The reason for creating is love - 0.5527\n",
      "The origin of my creating is love - 0.5743\n",
      "Because I loved I created - 0.88\n",
      "After creating I loved - 0.722\n",
      "Because you love you create - 0.7819\n",
      "I don't love, so I don't create - 0.8027\n",
      "Because I create I love - 0.9381\n",
      "\n",
      "Example: If you knew how pretty it is to hear you in basque\n",
      "It is very pretty to hear you in basque - 0.761\n",
      "Hearing you in basque pleases me - 0.6849\n",
      "It can't be explained how beautiful it is when you speak basque - 0.8071\n",
      "You can't know how pretty it is to hear you - 0.8676\n",
      "Knowing how pretty it is that you speak basque is impossible - 0.8026\n",
      "Hearing you is beautiful - 0.6276\n",
      "I would like you to know how pretty it is to hear you in basque - 0.8829\n",
      "If you know how awful it is to hear you in basque - 0.9577\n",
      "If they knew how pretty it is that I speak basque - 0.8787\n",
      "\n"
     ]
    }
   ],
   "source": [
    "# calculate similarities based on flair embeddings\n",
    "similarities_all = calculate_and_print(flair_embeddings, similarities_all)"
   ]
  },
  {
   "cell_type": "code",
   "execution_count": 21,
   "metadata": {},
   "outputs": [
    {
     "name": "stdout",
     "output_type": "stream",
     "text": [
      "Example: Jokin offered an invitation to Amaia for lunch\n",
      "Jokin asked Amaia, if she wanted to have lunch with him - 0.9223\n",
      "Amaia received the question from Jokin, if she would like to go for lunch - 0.9401\n",
      "Jokin offered an invitation to Amaia for a meal - 0.977\n",
      "Amaia received an invitation from Jokin - 0.9487\n",
      "Jokin and Amaia met for lunch - 0.9398\n",
      "Jokin and Amaia went for lunch together - 0.9251\n",
      "Jokin and Amaia enjoyed a meal together - 0.9182\n",
      "Amaia and Jokin decided to go for lunch - 0.9321\n",
      "Amaia invited Jokin for lunch - 0.9643\n",
      "\n",
      "Example: If you have an extra apple, I would appreciate it a lot\n",
      "Would you give me an apple you don't need? - 0.933\n",
      "I would appreciate it if you would give me that extra apple - 0.9694\n",
      "If you don't need that apple, I would appreciate it a lot - 0.9871\n",
      "I would be very happy if you gave me an apple - 0.9577\n",
      "Will you give me an apple? - 0.9204\n",
      "I would like that apple - 0.911\n",
      "I have asked you an apple - 0.918\n",
      "You have one extra apple - 0.9113\n",
      "You have offered me an apple - 0.9202\n",
      "You have given me an apple as a gift - 0.9299\n",
      "\n",
      "Example: Ane congratulated Amaia\n",
      "Ane said happy birthday to Amaia - 0.9178\n",
      "Ane told Amaia happy birthday - 0.9295\n",
      "Ane praised Amaia - 0.9293\n",
      "Amaia was congratulated by Ane - 0.9234\n",
      "Ane told Amaia she wished her happiness - 0.8936\n",
      "Due to Amaia's birthday, she received many good wishes - 0.8679\n",
      "Ane gave a gift to Amaia - 0.8918\n",
      "Amaia and Ane congratulated each other - 0.8763\n",
      "Ane and Amaia were congratulated - 0.9193\n",
      "Amaia told Ane happy birthday - 0.9207\n",
      "\n",
      "Example: Mikel went to the mountain\n",
      "To the mountain went Mikel - 0.9555\n",
      "Up the mountain went Mikel - 0.942\n",
      "Mikel was in the mountain - 0.9633\n",
      "Mikel decided to go to the mountain - 0.9542\n",
      "Mikel made the plan to go to the mountain - 0.9489\n",
      "Mikel said he's going to the mountain - 0.9595\n",
      "Mikel made the comment that maybe he'd go to the mountain - 0.9302\n",
      "Mikel likes hiking - 0.8853\n",
      "Mikel said he's not going to the mountain - 0.945\n",
      "Mikel didn't go to the mountain - 0.9679\n",
      "\n",
      "Example: Yesterday you came to our house for dinner\n",
      "You came for dinner to our house yesterday - 0.9862\n",
      "Yesterday you had dinner with us in our house - 0.9662\n",
      "You were in our house having dinner yesterday - 0.9526\n",
      "Yesterday you accepted the invitation to have dinner at our house - 0.9532\n",
      "We all had dinner together yesterday - 0.9056\n",
      "We could've had lunch together yesterday - 0.8884\n",
      "Yesterday you came for dinner - 0.9698\n",
      "Tomorrow he'll come for lunch - 0.9338\n",
      "I went to your house for dinner - 0.9663\n",
      "Yesterday they will come to your house for dinner - 0.9794\n",
      "\n",
      "Example: Happines isn't doing what you like, but liking what you do\n",
      "Liking what you do makes you happy, not doing what you want - 0.9537\n",
      "Like what you do and you will be happy - 0.9135\n",
      "The source of happines is liking what you do - 0.9368\n",
      "Happines is liking what you do - 0.9627\n",
      "What is done gladly is happiness - 0.8891\n",
      "Doing what you enjoy won't make you happy - 0.9319\n",
      "What you do, not what you like, is happiness - 0.9485\n",
      "Do what you like in order to be happy - 0.9034\n",
      "Do the things you like and you will be happy - 0.9076\n",
      "You can't always do what you like - 0.9371\n",
      "\n",
      "Example: Give some color to the gray world\n",
      "Give some color to the gray world - 1.0\n",
      "To the gray world give it color - 0.9628\n",
      "The world is gray so let's give it some color - 0.9385\n",
      "Give some color to the dark world - 0.9782\n",
      "Because the world is gray, we will give it some color - 0.9301\n",
      "Give color to the world - 0.9676\n",
      "Give gray to the colorful world - 0.9743\n",
      "Give gray to the world - 0.9683\n",
      "Give the world to the gray color - 0.9673\n",
      "\n",
      "Example: Because I love, I create\n",
      "I create because I love - 0.9743\n",
      "Due to love I create - 0.9367\n",
      "I love: therefore, I create - 0.9584\n",
      "The reason for creating is love - 0.8642\n",
      "The origin of my creating is love - 0.8822\n",
      "Because I loved I created - 0.9579\n",
      "After creating I loved - 0.9136\n",
      "Because you love you create - 0.9417\n",
      "I don't love, so I don't create - 0.9294\n",
      "Because I create I love - 0.9701\n",
      "\n",
      "Example: If you knew how pretty it is to hear you in basque\n",
      "It is very pretty to hear you in basque - 0.9511\n",
      "Hearing you in basque pleases me - 0.922\n",
      "It can't be explained how beautiful it is when you speak basque - 0.9469\n",
      "You can't know how pretty it is to hear you - 0.9543\n",
      "Knowing how pretty it is that you speak basque is impossible - 0.9529\n",
      "Hearing you is beautiful - 0.9016\n",
      "I would like you to know how pretty it is to hear you in basque - 0.9684\n",
      "If you know how awful it is to hear you in basque - 0.9813\n",
      "If they knew how pretty it is that I speak basque - 0.9684\n",
      "\n"
     ]
    }
   ],
   "source": [
    "# calculate similarities based on bert uncased embeddings\n",
    "similarities_all = calculate_and_print(bert_uncased_embeddings, similarities_all)"
   ]
  },
  {
   "cell_type": "code",
   "execution_count": 22,
   "metadata": {},
   "outputs": [
    {
     "name": "stdout",
     "output_type": "stream",
     "text": [
      "Example: Jokin offered an invitation to Amaia for lunch\n",
      "Jokin asked Amaia, if she wanted to have lunch with him - 0.9249\n",
      "Amaia received the question from Jokin, if she would like to go for lunch - 0.9367\n",
      "Jokin offered an invitation to Amaia for a meal - 0.9827\n",
      "Amaia received an invitation from Jokin - 0.9487\n",
      "Jokin and Amaia met for lunch - 0.9303\n",
      "Jokin and Amaia went for lunch together - 0.9168\n",
      "Jokin and Amaia enjoyed a meal together - 0.9039\n",
      "Amaia and Jokin decided to go for lunch - 0.9325\n",
      "Amaia invited Jokin for lunch - 0.9552\n",
      "\n",
      "Example: If you have an extra apple, I would appreciate it a lot\n",
      "Would you give me an apple you don't need? - 0.8529\n",
      "I would appreciate it if you would give me that extra apple - 0.9519\n",
      "If you don't need that apple, I would appreciate it a lot - 0.9736\n",
      "I would be very happy if you gave me an apple - 0.9299\n",
      "Will you give me an apple? - 0.8661\n",
      "I would like that apple - 0.8947\n",
      "I have asked you an apple - 0.9057\n",
      "You have one extra apple - 0.907\n",
      "You have offered me an apple - 0.8883\n",
      "You have given me an apple as a gift - 0.8919\n",
      "\n",
      "Example: Ane congratulated Amaia\n",
      "Ane said happy birthday to Amaia - 0.8523\n",
      "Ane told Amaia happy birthday - 0.8673\n",
      "Ane praised Amaia - 0.8933\n",
      "Amaia was congratulated by Ane - 0.8671\n",
      "Ane told Amaia she wished her happiness - 0.8415\n",
      "Due to Amaia's birthday, she received many good wishes - 0.7868\n",
      "Ane gave a gift to Amaia - 0.8372\n",
      "Amaia and Ane congratulated each other - 0.8657\n",
      "Ane and Amaia were congratulated - 0.8913\n",
      "Amaia told Ane happy birthday - 0.8656\n",
      "\n",
      "Example: Mikel went to the mountain\n",
      "To the mountain went Mikel - 0.9375\n",
      "Up the mountain went Mikel - 0.9122\n",
      "Mikel was in the mountain - 0.9609\n",
      "Mikel decided to go to the mountain - 0.9543\n",
      "Mikel made the plan to go to the mountain - 0.9421\n",
      "Mikel said he's going to the mountain - 0.9496\n",
      "Mikel made the comment that maybe he'd go to the mountain - 0.9361\n",
      "Mikel likes hiking - 0.8772\n",
      "Mikel said he's not going to the mountain - 0.9386\n",
      "Mikel didn't go to the mountain - 0.9521\n",
      "\n",
      "Example: Yesterday you came to our house for dinner\n",
      "You came for dinner to our house yesterday - 0.9536\n",
      "Yesterday you had dinner with us in our house - 0.9613\n",
      "You were in our house having dinner yesterday - 0.9246\n",
      "Yesterday you accepted the invitation to have dinner at our house - 0.9298\n",
      "We all had dinner together yesterday - 0.8589\n",
      "We could've had lunch together yesterday - 0.8342\n",
      "Yesterday you came for dinner - 0.9338\n",
      "Tomorrow he'll come for lunch - 0.8956\n",
      "I went to your house for dinner - 0.9362\n",
      "Yesterday they will come to your house for dinner - 0.9687\n",
      "\n",
      "Example: Happines isn't doing what you like, but liking what you do\n",
      "Liking what you do makes you happy, not doing what you want - 0.9025\n",
      "Like what you do and you will be happy - 0.8461\n",
      "The source of happines is liking what you do - 0.9328\n",
      "Happines is liking what you do - 0.9537\n",
      "What is done gladly is happiness - 0.8633\n",
      "Doing what you enjoy won't make you happy - 0.8803\n",
      "What you do, not what you like, is happiness - 0.9101\n",
      "Do what you like in order to be happy - 0.8515\n",
      "Do the things you like and you will be happy - 0.8727\n",
      "You can't always do what you like - 0.8953\n",
      "\n",
      "Example: Give some color to the gray world\n",
      "Give some color to the gray world - 1.0\n",
      "To the gray world give it color - 0.9209\n",
      "The world is gray so let's give it some color - 0.9015\n",
      "Give some color to the dark world - 0.974\n",
      "Because the world is gray, we will give it some color - 0.921\n",
      "Give color to the world - 0.9621\n",
      "Give gray to the colorful world - 0.9632\n",
      "Give gray to the world - 0.9611\n",
      "Give the world to the gray color - 0.9705\n",
      "\n",
      "Example: Because I love, I create\n",
      "I create because I love - 0.9263\n",
      "Due to love I create - 0.8955\n",
      "I love: therefore, I create - 0.8729\n",
      "The reason for creating is love - 0.8192\n",
      "The origin of my creating is love - 0.8346\n",
      "Because I loved I created - 0.9224\n",
      "After creating I loved - 0.8764\n",
      "Because you love you create - 0.9221\n",
      "I don't love, so I don't create - 0.8778\n",
      "Because I create I love - 0.9196\n",
      "\n",
      "Example: If you knew how pretty it is to hear you in basque\n",
      "It is very pretty to hear you in basque - 0.9195\n",
      "Hearing you in basque pleases me - 0.8575\n",
      "It can't be explained how beautiful it is when you speak basque - 0.8984\n",
      "You can't know how pretty it is to hear you - 0.9231\n",
      "Knowing how pretty it is that you speak basque is impossible - 0.8851\n",
      "Hearing you is beautiful - 0.8203\n",
      "I would like you to know how pretty it is to hear you in basque - 0.9514\n",
      "If you know how awful it is to hear you in basque - 0.9725\n",
      "If they knew how pretty it is that I speak basque - 0.9322\n",
      "\n"
     ]
    }
   ],
   "source": [
    "# calculate similarities based on bert cased embeddings\n",
    "similarities_all = calculate_and_print(bert_cased_embeddings, similarities_all)"
   ]
  },
  {
   "cell_type": "code",
   "execution_count": 23,
   "metadata": {},
   "outputs": [
    {
     "data": {
      "text/html": [
       "        <script type=\"text/javascript\">\n",
       "        window.PlotlyConfig = {MathJaxConfig: 'local'};\n",
       "        if (window.MathJax) {MathJax.Hub.Config({SVG: {font: \"STIX-Web\"}});}\n",
       "        if (typeof require !== 'undefined') {\n",
       "        require.undef(\"plotly\");\n",
       "        requirejs.config({\n",
       "            paths: {\n",
       "                'plotly': ['https://cdn.plot.ly/plotly-latest.min']\n",
       "            }\n",
       "        });\n",
       "        require(['plotly'], function(Plotly) {\n",
       "            window._Plotly = Plotly;\n",
       "        });\n",
       "        }\n",
       "        </script>\n",
       "        "
      ]
     },
     "metadata": {},
     "output_type": "display_data"
    }
   ],
   "source": [
    "init_notebook_mode(connected=True)"
   ]
  },
  {
   "cell_type": "code",
   "execution_count": 29,
   "metadata": {},
   "outputs": [
    {
     "name": "stdout",
     "output_type": "stream",
     "text": [
      "This is the format of your plot grid:\n",
      "[ (1,1) x1,y1 ]     [ (1,2) x2,y2 ]     [ (1,3) x3,y3 ]     [ (1,4) x4,y4 ]     [ (1,5) x5,y5 ]     [ (1,6) x6,y6 ]     [ (1,7) x7,y7 ]     [ (1,8) x8,y8 ]     [ (1,9) x9,y9 ]     [ (1,10) x10,y10 ]\n",
      "\n",
      "Jokin offered an invitation to Amaia for lunch\n",
      "\n",
      "Jokin asked Amaia, if she wanted to have lunch with him\n",
      "Amaia received the question from Jokin, if she would like to go for lunch\n",
      "Jokin offered an invitation to Amaia for a meal\n",
      "Amaia received an invitation from Jokin\n",
      "Jokin and Amaia met for lunch\n",
      "Jokin and Amaia went for lunch together\n",
      "Jokin and Amaia enjoyed a meal together\n",
      "Amaia and Jokin decided to go for lunch\n",
      "Amaia invited Jokin for lunch\n"
     ]
    },
    {
     "data": {
      "application/vnd.plotly.v1+json": {
       "config": {
        "linkText": "Export to plot.ly",
        "plotlyServerURL": "https://plot.ly",
        "showLink": false
       },
       "data": [
        {
         "type": "heatmap",
         "uid": "f459d034-6922-4f46-a6b5-1e82c1f7bd15",
         "y": [
          "Flair",
          "BERT uncased",
          "BERT cased"
         ],
         "z": [
          [
           0.6723,
           0.6958,
           0.9333,
           0.7782,
           0.7229,
           0.6636,
           0.6665,
           0.6988,
           0.7967
          ],
          [
           0.9223,
           0.9401,
           0.977,
           0.9487,
           0.9398,
           0.9251,
           0.9182,
           0.9321,
           0.9643
          ],
          [
           0.9249,
           0.9367,
           0.9827,
           0.9487,
           0.9303,
           0.9168,
           0.9039,
           0.9325,
           0.9552
          ]
         ]
        }
       ],
       "layout": {}
      },
      "text/html": [
       "<div>\n",
       "        \n",
       "        \n",
       "            <div id=\"60428a77-1d50-4c06-8638-e00c2cfc3117\" class=\"plotly-graph-div\" style=\"height:525px; width:100%;\"></div>\n",
       "            <script type=\"text/javascript\">\n",
       "                require([\"plotly\"], function(Plotly) {\n",
       "                    window.PLOTLYENV=window.PLOTLYENV || {};\n",
       "                    window.PLOTLYENV.BASE_URL='https://plot.ly';\n",
       "                    \n",
       "                if (document.getElementById(\"60428a77-1d50-4c06-8638-e00c2cfc3117\")) {\n",
       "                    Plotly.newPlot(\n",
       "                        '60428a77-1d50-4c06-8638-e00c2cfc3117',\n",
       "                        [{\"type\": \"heatmap\", \"uid\": \"f459d034-6922-4f46-a6b5-1e82c1f7bd15\", \"y\": [\"Flair\", \"BERT uncased\", \"BERT cased\"], \"z\": [[0.6723, 0.6958, 0.9333, 0.7782, 0.7229, 0.6636, 0.6665, 0.6988, 0.7967], [0.9223, 0.9401, 0.977, 0.9487, 0.9398, 0.9251, 0.9182, 0.9321, 0.9643], [0.9249, 0.9367, 0.9827, 0.9487, 0.9303, 0.9168, 0.9039, 0.9325, 0.9552]]}],\n",
       "                        {},\n",
       "                        {\"showLink\": false, \"linkText\": \"Export to plot.ly\", \"plotlyServerURL\": \"https://plot.ly\", \"responsive\": true}\n",
       "                    ).then(function(){\n",
       "                            \n",
       "var gd = document.getElementById('60428a77-1d50-4c06-8638-e00c2cfc3117');\n",
       "var x = new MutationObserver(function (mutations, observer) {{\n",
       "        var display = window.getComputedStyle(gd).display;\n",
       "        if (!display || display === 'none') {{\n",
       "            console.log([gd, 'removed!']);\n",
       "            Plotly.purge(gd);\n",
       "            observer.disconnect();\n",
       "        }}\n",
       "}});\n",
       "\n",
       "// Listen for the removal of the full notebook cells\n",
       "var notebookContainer = gd.closest('#notebook-container');\n",
       "if (notebookContainer) {{\n",
       "    x.observe(notebookContainer, {childList: true});\n",
       "}}\n",
       "\n",
       "// Listen for the clearing of the current output cell\n",
       "var outputEl = gd.closest('.output');\n",
       "if (outputEl) {{\n",
       "    x.observe(outputEl, {childList: true});\n",
       "}}\n",
       "\n",
       "                        })\n",
       "                };\n",
       "                });\n",
       "            </script>\n",
       "        </div>"
      ]
     },
     "metadata": {},
     "output_type": "display_data"
    },
    {
     "name": "stdout",
     "output_type": "stream",
     "text": [
      "If you have an extra apple, I would appreciate it a lot\n",
      "\n",
      "Would you give me an apple you don't need?\n",
      "I would appreciate it if you would give me that extra apple\n",
      "If you don't need that apple, I would appreciate it a lot\n",
      "I would be very happy if you gave me an apple\n",
      "Will you give me an apple?\n",
      "I would like that apple\n",
      "I have asked you an apple\n",
      "You have one extra apple\n",
      "You have offered me an apple\n",
      "You have given me an apple as a gift\n"
     ]
    },
    {
     "data": {
      "application/vnd.plotly.v1+json": {
       "config": {
        "linkText": "Export to plot.ly",
        "plotlyServerURL": "https://plot.ly",
        "showLink": false
       },
       "data": [
        {
         "type": "heatmap",
         "uid": "14d0bcce-a72b-4ca9-8d5d-60eb43cc1781",
         "y": [
          "Flair",
          "BERT uncased",
          "BERT cased"
         ],
         "z": [
          [
           0.737,
           0.8606,
           0.9444,
           0.7937,
           0.682,
           0.7183,
           0.7371,
           0.7589,
           0.7748,
           0.7062
          ],
          [
           0.933,
           0.9694,
           0.9871,
           0.9577,
           0.9204,
           0.911,
           0.918,
           0.9113,
           0.9202,
           0.9299
          ],
          [
           0.8529,
           0.9519,
           0.9736,
           0.9299,
           0.8661,
           0.8947,
           0.9057,
           0.907,
           0.8883,
           0.8919
          ]
         ]
        }
       ],
       "layout": {}
      },
      "text/html": [
       "<div>\n",
       "        \n",
       "        \n",
       "            <div id=\"15aafc8b-5aec-420b-9c3a-37d0ff88913b\" class=\"plotly-graph-div\" style=\"height:525px; width:100%;\"></div>\n",
       "            <script type=\"text/javascript\">\n",
       "                require([\"plotly\"], function(Plotly) {\n",
       "                    window.PLOTLYENV=window.PLOTLYENV || {};\n",
       "                    window.PLOTLYENV.BASE_URL='https://plot.ly';\n",
       "                    \n",
       "                if (document.getElementById(\"15aafc8b-5aec-420b-9c3a-37d0ff88913b\")) {\n",
       "                    Plotly.newPlot(\n",
       "                        '15aafc8b-5aec-420b-9c3a-37d0ff88913b',\n",
       "                        [{\"type\": \"heatmap\", \"uid\": \"14d0bcce-a72b-4ca9-8d5d-60eb43cc1781\", \"y\": [\"Flair\", \"BERT uncased\", \"BERT cased\"], \"z\": [[0.737, 0.8606, 0.9444, 0.7937, 0.682, 0.7183, 0.7371, 0.7589, 0.7748, 0.7062], [0.933, 0.9694, 0.9871, 0.9577, 0.9204, 0.911, 0.918, 0.9113, 0.9202, 0.9299], [0.8529, 0.9519, 0.9736, 0.9299, 0.8661, 0.8947, 0.9057, 0.907, 0.8883, 0.8919]]}],\n",
       "                        {},\n",
       "                        {\"showLink\": false, \"linkText\": \"Export to plot.ly\", \"plotlyServerURL\": \"https://plot.ly\", \"responsive\": true}\n",
       "                    ).then(function(){\n",
       "                            \n",
       "var gd = document.getElementById('15aafc8b-5aec-420b-9c3a-37d0ff88913b');\n",
       "var x = new MutationObserver(function (mutations, observer) {{\n",
       "        var display = window.getComputedStyle(gd).display;\n",
       "        if (!display || display === 'none') {{\n",
       "            console.log([gd, 'removed!']);\n",
       "            Plotly.purge(gd);\n",
       "            observer.disconnect();\n",
       "        }}\n",
       "}});\n",
       "\n",
       "// Listen for the removal of the full notebook cells\n",
       "var notebookContainer = gd.closest('#notebook-container');\n",
       "if (notebookContainer) {{\n",
       "    x.observe(notebookContainer, {childList: true});\n",
       "}}\n",
       "\n",
       "// Listen for the clearing of the current output cell\n",
       "var outputEl = gd.closest('.output');\n",
       "if (outputEl) {{\n",
       "    x.observe(outputEl, {childList: true});\n",
       "}}\n",
       "\n",
       "                        })\n",
       "                };\n",
       "                });\n",
       "            </script>\n",
       "        </div>"
      ]
     },
     "metadata": {},
     "output_type": "display_data"
    },
    {
     "name": "stdout",
     "output_type": "stream",
     "text": [
      "Ane congratulated Amaia\n",
      "\n",
      "Ane said happy birthday to Amaia\n",
      "Ane told Amaia happy birthday\n",
      "Ane praised Amaia\n",
      "Amaia was congratulated by Ane\n",
      "Ane told Amaia she wished her happiness\n",
      "Due to Amaia's birthday, she received many good wishes\n",
      "Ane gave a gift to Amaia\n",
      "Amaia and Ane congratulated each other\n",
      "Ane and Amaia were congratulated\n",
      "Amaia told Ane happy birthday\n"
     ]
    },
    {
     "data": {
      "application/vnd.plotly.v1+json": {
       "config": {
        "linkText": "Export to plot.ly",
        "plotlyServerURL": "https://plot.ly",
        "showLink": false
       },
       "data": [
        {
         "type": "heatmap",
         "uid": "0039bd9a-11bf-4f8b-9eb5-035170a3e42e",
         "y": [
          "Flair",
          "BERT uncased",
          "BERT cased"
         ],
         "z": [
          [
           0.5974,
           0.616,
           0.8837,
           0.7274,
           0.5671,
           0.3167,
           0.646,
           0.7424,
           0.7282,
           0.5638
          ],
          [
           0.9178,
           0.9295,
           0.9293,
           0.9234,
           0.8936,
           0.8679,
           0.8918,
           0.8763,
           0.9193,
           0.9207
          ],
          [
           0.8523,
           0.8673,
           0.8933,
           0.8671,
           0.8415,
           0.7868,
           0.8372,
           0.8657,
           0.8913,
           0.8656
          ]
         ]
        }
       ],
       "layout": {}
      },
      "text/html": [
       "<div>\n",
       "        \n",
       "        \n",
       "            <div id=\"e09668d2-5e49-4df1-9ed2-2da917376a21\" class=\"plotly-graph-div\" style=\"height:525px; width:100%;\"></div>\n",
       "            <script type=\"text/javascript\">\n",
       "                require([\"plotly\"], function(Plotly) {\n",
       "                    window.PLOTLYENV=window.PLOTLYENV || {};\n",
       "                    window.PLOTLYENV.BASE_URL='https://plot.ly';\n",
       "                    \n",
       "                if (document.getElementById(\"e09668d2-5e49-4df1-9ed2-2da917376a21\")) {\n",
       "                    Plotly.newPlot(\n",
       "                        'e09668d2-5e49-4df1-9ed2-2da917376a21',\n",
       "                        [{\"type\": \"heatmap\", \"uid\": \"0039bd9a-11bf-4f8b-9eb5-035170a3e42e\", \"y\": [\"Flair\", \"BERT uncased\", \"BERT cased\"], \"z\": [[0.5974, 0.616, 0.8837, 0.7274, 0.5671, 0.3167, 0.646, 0.7424, 0.7282, 0.5638], [0.9178, 0.9295, 0.9293, 0.9234, 0.8936, 0.8679, 0.8918, 0.8763, 0.9193, 0.9207], [0.8523, 0.8673, 0.8933, 0.8671, 0.8415, 0.7868, 0.8372, 0.8657, 0.8913, 0.8656]]}],\n",
       "                        {},\n",
       "                        {\"showLink\": false, \"linkText\": \"Export to plot.ly\", \"plotlyServerURL\": \"https://plot.ly\", \"responsive\": true}\n",
       "                    ).then(function(){\n",
       "                            \n",
       "var gd = document.getElementById('e09668d2-5e49-4df1-9ed2-2da917376a21');\n",
       "var x = new MutationObserver(function (mutations, observer) {{\n",
       "        var display = window.getComputedStyle(gd).display;\n",
       "        if (!display || display === 'none') {{\n",
       "            console.log([gd, 'removed!']);\n",
       "            Plotly.purge(gd);\n",
       "            observer.disconnect();\n",
       "        }}\n",
       "}});\n",
       "\n",
       "// Listen for the removal of the full notebook cells\n",
       "var notebookContainer = gd.closest('#notebook-container');\n",
       "if (notebookContainer) {{\n",
       "    x.observe(notebookContainer, {childList: true});\n",
       "}}\n",
       "\n",
       "// Listen for the clearing of the current output cell\n",
       "var outputEl = gd.closest('.output');\n",
       "if (outputEl) {{\n",
       "    x.observe(outputEl, {childList: true});\n",
       "}}\n",
       "\n",
       "                        })\n",
       "                };\n",
       "                });\n",
       "            </script>\n",
       "        </div>"
      ]
     },
     "metadata": {},
     "output_type": "display_data"
    },
    {
     "name": "stdout",
     "output_type": "stream",
     "text": [
      "Mikel went to the mountain\n",
      "\n",
      "To the mountain went Mikel\n",
      "Up the mountain went Mikel\n",
      "Mikel was in the mountain\n",
      "Mikel decided to go to the mountain\n",
      "Mikel made the plan to go to the mountain\n",
      "Mikel said he's going to the mountain\n",
      "Mikel made the comment that maybe he'd go to the mountain\n",
      "Mikel likes hiking\n",
      "Mikel said he's not going to the mountain\n",
      "Mikel didn't go to the mountain\n"
     ]
    },
    {
     "data": {
      "application/vnd.plotly.v1+json": {
       "config": {
        "linkText": "Export to plot.ly",
        "plotlyServerURL": "https://plot.ly",
        "showLink": false
       },
       "data": [
        {
         "type": "heatmap",
         "uid": "0b3e843e-c266-45d4-8f8a-fc46a6c03aec",
         "y": [
          "Flair",
          "BERT uncased",
          "BERT cased"
         ],
         "z": [
          [
           0.7089,
           0.6615,
           0.7866,
           0.8495,
           0.8158,
           0.821,
           0.7248,
           0.5024,
           0.7453,
           0.8515
          ],
          [
           0.9555,
           0.942,
           0.9633,
           0.9542,
           0.9489,
           0.9595,
           0.9302,
           0.8853,
           0.945,
           0.9679
          ],
          [
           0.9375,
           0.9122,
           0.9609,
           0.9543,
           0.9421,
           0.9496,
           0.9361,
           0.8772,
           0.9386,
           0.9521
          ]
         ]
        }
       ],
       "layout": {}
      },
      "text/html": [
       "<div>\n",
       "        \n",
       "        \n",
       "            <div id=\"42ef1681-6542-4424-af2f-a2241a714aac\" class=\"plotly-graph-div\" style=\"height:525px; width:100%;\"></div>\n",
       "            <script type=\"text/javascript\">\n",
       "                require([\"plotly\"], function(Plotly) {\n",
       "                    window.PLOTLYENV=window.PLOTLYENV || {};\n",
       "                    window.PLOTLYENV.BASE_URL='https://plot.ly';\n",
       "                    \n",
       "                if (document.getElementById(\"42ef1681-6542-4424-af2f-a2241a714aac\")) {\n",
       "                    Plotly.newPlot(\n",
       "                        '42ef1681-6542-4424-af2f-a2241a714aac',\n",
       "                        [{\"type\": \"heatmap\", \"uid\": \"0b3e843e-c266-45d4-8f8a-fc46a6c03aec\", \"y\": [\"Flair\", \"BERT uncased\", \"BERT cased\"], \"z\": [[0.7089, 0.6615, 0.7866, 0.8495, 0.8158, 0.821, 0.7248, 0.5024, 0.7453, 0.8515], [0.9555, 0.942, 0.9633, 0.9542, 0.9489, 0.9595, 0.9302, 0.8853, 0.945, 0.9679], [0.9375, 0.9122, 0.9609, 0.9543, 0.9421, 0.9496, 0.9361, 0.8772, 0.9386, 0.9521]]}],\n",
       "                        {},\n",
       "                        {\"showLink\": false, \"linkText\": \"Export to plot.ly\", \"plotlyServerURL\": \"https://plot.ly\", \"responsive\": true}\n",
       "                    ).then(function(){\n",
       "                            \n",
       "var gd = document.getElementById('42ef1681-6542-4424-af2f-a2241a714aac');\n",
       "var x = new MutationObserver(function (mutations, observer) {{\n",
       "        var display = window.getComputedStyle(gd).display;\n",
       "        if (!display || display === 'none') {{\n",
       "            console.log([gd, 'removed!']);\n",
       "            Plotly.purge(gd);\n",
       "            observer.disconnect();\n",
       "        }}\n",
       "}});\n",
       "\n",
       "// Listen for the removal of the full notebook cells\n",
       "var notebookContainer = gd.closest('#notebook-container');\n",
       "if (notebookContainer) {{\n",
       "    x.observe(notebookContainer, {childList: true});\n",
       "}}\n",
       "\n",
       "// Listen for the clearing of the current output cell\n",
       "var outputEl = gd.closest('.output');\n",
       "if (outputEl) {{\n",
       "    x.observe(outputEl, {childList: true});\n",
       "}}\n",
       "\n",
       "                        })\n",
       "                };\n",
       "                });\n",
       "            </script>\n",
       "        </div>"
      ]
     },
     "metadata": {},
     "output_type": "display_data"
    },
    {
     "name": "stdout",
     "output_type": "stream",
     "text": [
      "Yesterday you came to our house for dinner\n",
      "\n",
      "You came for dinner to our house yesterday\n",
      "Yesterday you had dinner with us in our house\n",
      "You were in our house having dinner yesterday\n",
      "Yesterday you accepted the invitation to have dinner at our house\n",
      "We all had dinner together yesterday\n",
      "We could've had lunch together yesterday\n",
      "Yesterday you came for dinner\n",
      "Tomorrow he'll come for lunch\n",
      "I went to your house for dinner\n",
      "Yesterday they will come to your house for dinner\n"
     ]
    },
    {
     "data": {
      "application/vnd.plotly.v1+json": {
       "config": {
        "linkText": "Export to plot.ly",
        "plotlyServerURL": "https://plot.ly",
        "showLink": false
       },
       "data": [
        {
         "type": "heatmap",
         "uid": "6a816639-c863-4574-adb2-bb04f7ad3b0a",
         "y": [
          "Flair",
          "BERT uncased",
          "BERT cased"
         ],
         "z": [
          [
           0.8989,
           0.8432,
           0.7804,
           0.8195,
           0.657,
           0.6372,
           0.8773,
           0.5902,
           0.8441,
           0.8747
          ],
          [
           0.9862,
           0.9662,
           0.9526,
           0.9532,
           0.9056,
           0.8884,
           0.9698,
           0.9338,
           0.9663,
           0.9794
          ],
          [
           0.9536,
           0.9613,
           0.9246,
           0.9298,
           0.8589,
           0.8342,
           0.9338,
           0.8956,
           0.9362,
           0.9687
          ]
         ]
        }
       ],
       "layout": {}
      },
      "text/html": [
       "<div>\n",
       "        \n",
       "        \n",
       "            <div id=\"ac182573-f618-4236-858d-7c584be59853\" class=\"plotly-graph-div\" style=\"height:525px; width:100%;\"></div>\n",
       "            <script type=\"text/javascript\">\n",
       "                require([\"plotly\"], function(Plotly) {\n",
       "                    window.PLOTLYENV=window.PLOTLYENV || {};\n",
       "                    window.PLOTLYENV.BASE_URL='https://plot.ly';\n",
       "                    \n",
       "                if (document.getElementById(\"ac182573-f618-4236-858d-7c584be59853\")) {\n",
       "                    Plotly.newPlot(\n",
       "                        'ac182573-f618-4236-858d-7c584be59853',\n",
       "                        [{\"type\": \"heatmap\", \"uid\": \"6a816639-c863-4574-adb2-bb04f7ad3b0a\", \"y\": [\"Flair\", \"BERT uncased\", \"BERT cased\"], \"z\": [[0.8989, 0.8432, 0.7804, 0.8195, 0.657, 0.6372, 0.8773, 0.5902, 0.8441, 0.8747], [0.9862, 0.9662, 0.9526, 0.9532, 0.9056, 0.8884, 0.9698, 0.9338, 0.9663, 0.9794], [0.9536, 0.9613, 0.9246, 0.9298, 0.8589, 0.8342, 0.9338, 0.8956, 0.9362, 0.9687]]}],\n",
       "                        {},\n",
       "                        {\"showLink\": false, \"linkText\": \"Export to plot.ly\", \"plotlyServerURL\": \"https://plot.ly\", \"responsive\": true}\n",
       "                    ).then(function(){\n",
       "                            \n",
       "var gd = document.getElementById('ac182573-f618-4236-858d-7c584be59853');\n",
       "var x = new MutationObserver(function (mutations, observer) {{\n",
       "        var display = window.getComputedStyle(gd).display;\n",
       "        if (!display || display === 'none') {{\n",
       "            console.log([gd, 'removed!']);\n",
       "            Plotly.purge(gd);\n",
       "            observer.disconnect();\n",
       "        }}\n",
       "}});\n",
       "\n",
       "// Listen for the removal of the full notebook cells\n",
       "var notebookContainer = gd.closest('#notebook-container');\n",
       "if (notebookContainer) {{\n",
       "    x.observe(notebookContainer, {childList: true});\n",
       "}}\n",
       "\n",
       "// Listen for the clearing of the current output cell\n",
       "var outputEl = gd.closest('.output');\n",
       "if (outputEl) {{\n",
       "    x.observe(outputEl, {childList: true});\n",
       "}}\n",
       "\n",
       "                        })\n",
       "                };\n",
       "                });\n",
       "            </script>\n",
       "        </div>"
      ]
     },
     "metadata": {},
     "output_type": "display_data"
    },
    {
     "name": "stdout",
     "output_type": "stream",
     "text": [
      "Happines isn't doing what you like, but liking what you do\n",
      "\n",
      "Liking what you do makes you happy, not doing what you want\n",
      "Like what you do and you will be happy\n",
      "The source of happines is liking what you do\n",
      "Happines is liking what you do\n",
      "What is done gladly is happiness\n",
      "Doing what you enjoy won't make you happy\n",
      "What you do, not what you like, is happiness\n",
      "Do what you like in order to be happy\n",
      "Do the things you like and you will be happy\n",
      "You can't always do what you like\n"
     ]
    },
    {
     "data": {
      "application/vnd.plotly.v1+json": {
       "config": {
        "linkText": "Export to plot.ly",
        "plotlyServerURL": "https://plot.ly",
        "showLink": false
       },
       "data": [
        {
         "type": "heatmap",
         "uid": "18001b61-146c-401f-92ce-088110a34888",
         "y": [
          "Flair",
          "BERT uncased",
          "BERT cased"
         ],
         "z": [
          [
           0.8843,
           0.7961,
           0.7515,
           0.8746,
           0.585,
           0.8027,
           0.8244,
           0.762,
           0.7552,
           0.8158
          ],
          [
           0.9537,
           0.9135,
           0.9368,
           0.9627,
           0.8891,
           0.9319,
           0.9485,
           0.9034,
           0.9076,
           0.9371
          ],
          [
           0.9025,
           0.8461,
           0.9328,
           0.9537,
           0.8633,
           0.8803,
           0.9101,
           0.8515,
           0.8727,
           0.8953
          ]
         ]
        }
       ],
       "layout": {}
      },
      "text/html": [
       "<div>\n",
       "        \n",
       "        \n",
       "            <div id=\"5845c006-9539-47a0-99b0-f87a38cdfae7\" class=\"plotly-graph-div\" style=\"height:525px; width:100%;\"></div>\n",
       "            <script type=\"text/javascript\">\n",
       "                require([\"plotly\"], function(Plotly) {\n",
       "                    window.PLOTLYENV=window.PLOTLYENV || {};\n",
       "                    window.PLOTLYENV.BASE_URL='https://plot.ly';\n",
       "                    \n",
       "                if (document.getElementById(\"5845c006-9539-47a0-99b0-f87a38cdfae7\")) {\n",
       "                    Plotly.newPlot(\n",
       "                        '5845c006-9539-47a0-99b0-f87a38cdfae7',\n",
       "                        [{\"type\": \"heatmap\", \"uid\": \"18001b61-146c-401f-92ce-088110a34888\", \"y\": [\"Flair\", \"BERT uncased\", \"BERT cased\"], \"z\": [[0.8843, 0.7961, 0.7515, 0.8746, 0.585, 0.8027, 0.8244, 0.762, 0.7552, 0.8158], [0.9537, 0.9135, 0.9368, 0.9627, 0.8891, 0.9319, 0.9485, 0.9034, 0.9076, 0.9371], [0.9025, 0.8461, 0.9328, 0.9537, 0.8633, 0.8803, 0.9101, 0.8515, 0.8727, 0.8953]]}],\n",
       "                        {},\n",
       "                        {\"showLink\": false, \"linkText\": \"Export to plot.ly\", \"plotlyServerURL\": \"https://plot.ly\", \"responsive\": true}\n",
       "                    ).then(function(){\n",
       "                            \n",
       "var gd = document.getElementById('5845c006-9539-47a0-99b0-f87a38cdfae7');\n",
       "var x = new MutationObserver(function (mutations, observer) {{\n",
       "        var display = window.getComputedStyle(gd).display;\n",
       "        if (!display || display === 'none') {{\n",
       "            console.log([gd, 'removed!']);\n",
       "            Plotly.purge(gd);\n",
       "            observer.disconnect();\n",
       "        }}\n",
       "}});\n",
       "\n",
       "// Listen for the removal of the full notebook cells\n",
       "var notebookContainer = gd.closest('#notebook-container');\n",
       "if (notebookContainer) {{\n",
       "    x.observe(notebookContainer, {childList: true});\n",
       "}}\n",
       "\n",
       "// Listen for the clearing of the current output cell\n",
       "var outputEl = gd.closest('.output');\n",
       "if (outputEl) {{\n",
       "    x.observe(outputEl, {childList: true});\n",
       "}}\n",
       "\n",
       "                        })\n",
       "                };\n",
       "                });\n",
       "            </script>\n",
       "        </div>"
      ]
     },
     "metadata": {},
     "output_type": "display_data"
    },
    {
     "name": "stdout",
     "output_type": "stream",
     "text": [
      "Give some color to the gray world\n",
      "\n",
      "Give some color to the gray world\n",
      "To the gray world give it color\n",
      "The world is gray so let's give it some color\n",
      "Give some color to the dark world\n",
      "Because the world is gray, we will give it some color\n",
      "Give color to the world\n",
      "Give gray to the colorful world\n",
      "Give gray to the world\n",
      "Give the world to the gray color\n"
     ]
    },
    {
     "data": {
      "application/vnd.plotly.v1+json": {
       "config": {
        "linkText": "Export to plot.ly",
        "plotlyServerURL": "https://plot.ly",
        "showLink": false
       },
       "data": [
        {
         "type": "heatmap",
         "uid": "80960451-46ef-4c9a-b1ef-0f750a09a5b2",
         "y": [
          "Flair",
          "BERT uncased",
          "BERT cased"
         ],
         "z": [
          [
           1,
           0.7725,
           0.7139,
           0.9567,
           0.6601,
           0.8674,
           0.8846,
           0.833,
           0.8781
          ],
          [
           1,
           0.9628,
           0.9385,
           0.9782,
           0.9301,
           0.9676,
           0.9743,
           0.9683,
           0.9673
          ],
          [
           1,
           0.9209,
           0.9015,
           0.974,
           0.921,
           0.9621,
           0.9632,
           0.9611,
           0.9705
          ]
         ]
        }
       ],
       "layout": {}
      },
      "text/html": [
       "<div>\n",
       "        \n",
       "        \n",
       "            <div id=\"b126e469-0f46-4861-b9c7-3d3431c8dffd\" class=\"plotly-graph-div\" style=\"height:525px; width:100%;\"></div>\n",
       "            <script type=\"text/javascript\">\n",
       "                require([\"plotly\"], function(Plotly) {\n",
       "                    window.PLOTLYENV=window.PLOTLYENV || {};\n",
       "                    window.PLOTLYENV.BASE_URL='https://plot.ly';\n",
       "                    \n",
       "                if (document.getElementById(\"b126e469-0f46-4861-b9c7-3d3431c8dffd\")) {\n",
       "                    Plotly.newPlot(\n",
       "                        'b126e469-0f46-4861-b9c7-3d3431c8dffd',\n",
       "                        [{\"type\": \"heatmap\", \"uid\": \"80960451-46ef-4c9a-b1ef-0f750a09a5b2\", \"y\": [\"Flair\", \"BERT uncased\", \"BERT cased\"], \"z\": [[1.0, 0.7725, 0.7139, 0.9567, 0.6601, 0.8674, 0.8846, 0.833, 0.8781], [1.0, 0.9628, 0.9385, 0.9782, 0.9301, 0.9676, 0.9743, 0.9683, 0.9673], [1.0, 0.9209, 0.9015, 0.974, 0.921, 0.9621, 0.9632, 0.9611, 0.9705]]}],\n",
       "                        {},\n",
       "                        {\"showLink\": false, \"linkText\": \"Export to plot.ly\", \"plotlyServerURL\": \"https://plot.ly\", \"responsive\": true}\n",
       "                    ).then(function(){\n",
       "                            \n",
       "var gd = document.getElementById('b126e469-0f46-4861-b9c7-3d3431c8dffd');\n",
       "var x = new MutationObserver(function (mutations, observer) {{\n",
       "        var display = window.getComputedStyle(gd).display;\n",
       "        if (!display || display === 'none') {{\n",
       "            console.log([gd, 'removed!']);\n",
       "            Plotly.purge(gd);\n",
       "            observer.disconnect();\n",
       "        }}\n",
       "}});\n",
       "\n",
       "// Listen for the removal of the full notebook cells\n",
       "var notebookContainer = gd.closest('#notebook-container');\n",
       "if (notebookContainer) {{\n",
       "    x.observe(notebookContainer, {childList: true});\n",
       "}}\n",
       "\n",
       "// Listen for the clearing of the current output cell\n",
       "var outputEl = gd.closest('.output');\n",
       "if (outputEl) {{\n",
       "    x.observe(outputEl, {childList: true});\n",
       "}}\n",
       "\n",
       "                        })\n",
       "                };\n",
       "                });\n",
       "            </script>\n",
       "        </div>"
      ]
     },
     "metadata": {},
     "output_type": "display_data"
    },
    {
     "name": "stdout",
     "output_type": "stream",
     "text": [
      "Because I love, I create\n",
      "\n",
      "I create because I love\n",
      "Due to love I create\n",
      "I love: therefore, I create\n",
      "The reason for creating is love\n",
      "The origin of my creating is love\n",
      "Because I loved I created\n",
      "After creating I loved\n",
      "Because you love you create\n",
      "I don't love, so I don't create\n",
      "Because I create I love\n"
     ]
    },
    {
     "data": {
      "application/vnd.plotly.v1+json": {
       "config": {
        "linkText": "Export to plot.ly",
        "plotlyServerURL": "https://plot.ly",
        "showLink": false
       },
       "data": [
        {
         "type": "heatmap",
         "uid": "00aaa2c4-7d83-46d1-90ef-6445c94bbd72",
         "y": [
          "Flair",
          "BERT uncased",
          "BERT cased"
         ],
         "z": [
          [
           0.9111,
           0.726,
           0.8763,
           0.5527,
           0.5743,
           0.88,
           0.722,
           0.7819,
           0.8027,
           0.9381
          ],
          [
           0.9743,
           0.9367,
           0.9584,
           0.8642,
           0.8822,
           0.9579,
           0.9136,
           0.9417,
           0.9294,
           0.9701
          ],
          [
           0.9263,
           0.8955,
           0.8729,
           0.8192,
           0.8346,
           0.9224,
           0.8764,
           0.9221,
           0.8778,
           0.9196
          ]
         ]
        }
       ],
       "layout": {}
      },
      "text/html": [
       "<div>\n",
       "        \n",
       "        \n",
       "            <div id=\"f429f082-31ac-42aa-bc75-b4b4c3de0aca\" class=\"plotly-graph-div\" style=\"height:525px; width:100%;\"></div>\n",
       "            <script type=\"text/javascript\">\n",
       "                require([\"plotly\"], function(Plotly) {\n",
       "                    window.PLOTLYENV=window.PLOTLYENV || {};\n",
       "                    window.PLOTLYENV.BASE_URL='https://plot.ly';\n",
       "                    \n",
       "                if (document.getElementById(\"f429f082-31ac-42aa-bc75-b4b4c3de0aca\")) {\n",
       "                    Plotly.newPlot(\n",
       "                        'f429f082-31ac-42aa-bc75-b4b4c3de0aca',\n",
       "                        [{\"type\": \"heatmap\", \"uid\": \"00aaa2c4-7d83-46d1-90ef-6445c94bbd72\", \"y\": [\"Flair\", \"BERT uncased\", \"BERT cased\"], \"z\": [[0.9111, 0.726, 0.8763, 0.5527, 0.5743, 0.88, 0.722, 0.7819, 0.8027, 0.9381], [0.9743, 0.9367, 0.9584, 0.8642, 0.8822, 0.9579, 0.9136, 0.9417, 0.9294, 0.9701], [0.9263, 0.8955, 0.8729, 0.8192, 0.8346, 0.9224, 0.8764, 0.9221, 0.8778, 0.9196]]}],\n",
       "                        {},\n",
       "                        {\"showLink\": false, \"linkText\": \"Export to plot.ly\", \"plotlyServerURL\": \"https://plot.ly\", \"responsive\": true}\n",
       "                    ).then(function(){\n",
       "                            \n",
       "var gd = document.getElementById('f429f082-31ac-42aa-bc75-b4b4c3de0aca');\n",
       "var x = new MutationObserver(function (mutations, observer) {{\n",
       "        var display = window.getComputedStyle(gd).display;\n",
       "        if (!display || display === 'none') {{\n",
       "            console.log([gd, 'removed!']);\n",
       "            Plotly.purge(gd);\n",
       "            observer.disconnect();\n",
       "        }}\n",
       "}});\n",
       "\n",
       "// Listen for the removal of the full notebook cells\n",
       "var notebookContainer = gd.closest('#notebook-container');\n",
       "if (notebookContainer) {{\n",
       "    x.observe(notebookContainer, {childList: true});\n",
       "}}\n",
       "\n",
       "// Listen for the clearing of the current output cell\n",
       "var outputEl = gd.closest('.output');\n",
       "if (outputEl) {{\n",
       "    x.observe(outputEl, {childList: true});\n",
       "}}\n",
       "\n",
       "                        })\n",
       "                };\n",
       "                });\n",
       "            </script>\n",
       "        </div>"
      ]
     },
     "metadata": {},
     "output_type": "display_data"
    },
    {
     "name": "stdout",
     "output_type": "stream",
     "text": [
      "If you knew how pretty it is to hear you in basque\n",
      "\n",
      "It is very pretty to hear you in basque\n",
      "Hearing you in basque pleases me\n",
      "It can't be explained how beautiful it is when you speak basque\n",
      "You can't know how pretty it is to hear you\n",
      "Knowing how pretty it is that you speak basque is impossible\n",
      "Hearing you is beautiful\n",
      "I would like you to know how pretty it is to hear you in basque\n",
      "If you know how awful it is to hear you in basque\n",
      "If they knew how pretty it is that I speak basque\n"
     ]
    },
    {
     "data": {
      "application/vnd.plotly.v1+json": {
       "config": {
        "linkText": "Export to plot.ly",
        "plotlyServerURL": "https://plot.ly",
        "showLink": false
       },
       "data": [
        {
         "type": "heatmap",
         "uid": "2da99f8e-c193-42d5-b76b-dd8b2f6102f9",
         "y": [
          "Flair",
          "BERT uncased",
          "BERT cased"
         ],
         "z": [
          [
           0.761,
           0.6849,
           0.8071,
           0.8676,
           0.8026,
           0.6276,
           0.8829,
           0.9577,
           0.8787
          ],
          [
           0.9511,
           0.922,
           0.9469,
           0.9543,
           0.9529,
           0.9016,
           0.9684,
           0.9813,
           0.9684
          ],
          [
           0.9195,
           0.8575,
           0.8984,
           0.9231,
           0.8851,
           0.8203,
           0.9514,
           0.9725,
           0.9322
          ]
         ]
        }
       ],
       "layout": {}
      },
      "text/html": [
       "<div>\n",
       "        \n",
       "        \n",
       "            <div id=\"7198eded-ea90-4a63-8539-29421963585a\" class=\"plotly-graph-div\" style=\"height:525px; width:100%;\"></div>\n",
       "            <script type=\"text/javascript\">\n",
       "                require([\"plotly\"], function(Plotly) {\n",
       "                    window.PLOTLYENV=window.PLOTLYENV || {};\n",
       "                    window.PLOTLYENV.BASE_URL='https://plot.ly';\n",
       "                    \n",
       "                if (document.getElementById(\"7198eded-ea90-4a63-8539-29421963585a\")) {\n",
       "                    Plotly.newPlot(\n",
       "                        '7198eded-ea90-4a63-8539-29421963585a',\n",
       "                        [{\"type\": \"heatmap\", \"uid\": \"2da99f8e-c193-42d5-b76b-dd8b2f6102f9\", \"y\": [\"Flair\", \"BERT uncased\", \"BERT cased\"], \"z\": [[0.761, 0.6849, 0.8071, 0.8676, 0.8026, 0.6276, 0.8829, 0.9577, 0.8787], [0.9511, 0.922, 0.9469, 0.9543, 0.9529, 0.9016, 0.9684, 0.9813, 0.9684], [0.9195, 0.8575, 0.8984, 0.9231, 0.8851, 0.8203, 0.9514, 0.9725, 0.9322]]}],\n",
       "                        {},\n",
       "                        {\"showLink\": false, \"linkText\": \"Export to plot.ly\", \"plotlyServerURL\": \"https://plot.ly\", \"responsive\": true}\n",
       "                    ).then(function(){\n",
       "                            \n",
       "var gd = document.getElementById('7198eded-ea90-4a63-8539-29421963585a');\n",
       "var x = new MutationObserver(function (mutations, observer) {{\n",
       "        var display = window.getComputedStyle(gd).display;\n",
       "        if (!display || display === 'none') {{\n",
       "            console.log([gd, 'removed!']);\n",
       "            Plotly.purge(gd);\n",
       "            observer.disconnect();\n",
       "        }}\n",
       "}});\n",
       "\n",
       "// Listen for the removal of the full notebook cells\n",
       "var notebookContainer = gd.closest('#notebook-container');\n",
       "if (notebookContainer) {{\n",
       "    x.observe(notebookContainer, {childList: true});\n",
       "}}\n",
       "\n",
       "// Listen for the clearing of the current output cell\n",
       "var outputEl = gd.closest('.output');\n",
       "if (outputEl) {{\n",
       "    x.observe(outputEl, {childList: true});\n",
       "}}\n",
       "\n",
       "                        })\n",
       "                };\n",
       "                });\n",
       "            </script>\n",
       "        </div>"
      ]
     },
     "metadata": {},
     "output_type": "display_data"
    }
   ],
   "source": [
    "fig = plotly.tools.make_subplots(rows=1, cols=10)\n",
    "\n",
    "for i in range(len(list(gold_sentences.keys()))):\n",
    "    print(list(gold_sentences.keys())[i] + '\\n')\n",
    "    print(\"\\n\".join(gold_sentences[list(gold_sentences.keys())[i]]))\n",
    "    trace = go.Heatmap(z=similarities_all[i], y=['Flair', 'BERT uncased', 'BERT cased'])\n",
    "    data=[trace]\n",
    "    fig.append_trace(trace, 1, i+1)\n",
    "    iplot(data, filename='basic-heatmap' + str(i))"
   ]
  },
  {
   "cell_type": "code",
   "execution_count": null,
   "metadata": {},
   "outputs": [],
   "source": []
  },
  {
   "cell_type": "code",
   "execution_count": null,
   "metadata": {},
   "outputs": [],
   "source": []
  }
 ],
 "metadata": {
  "kernelspec": {
   "display_name": "Python 3",
   "language": "python",
   "name": "python3"
  },
  "language_info": {
   "codemirror_mode": {
    "name": "ipython",
    "version": 3
   },
   "file_extension": ".py",
   "mimetype": "text/x-python",
   "name": "python",
   "nbconvert_exporter": "python",
   "pygments_lexer": "ipython3",
   "version": "3.7.3"
  }
 },
 "nbformat": 4,
 "nbformat_minor": 2
}
