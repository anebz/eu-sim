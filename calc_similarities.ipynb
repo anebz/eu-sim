{
 "cells": [
  {
   "cell_type": "code",
   "execution_count": 1,
   "metadata": {
    "scrolled": true
   },
   "outputs": [
    {
     "data": {
      "text/html": [
       "        <script type=\"text/javascript\">\n",
       "        window.PlotlyConfig = {MathJaxConfig: 'local'};\n",
       "        if (window.MathJax) {MathJax.Hub.Config({SVG: {font: \"STIX-Web\"}});}\n",
       "        if (typeof require !== 'undefined') {\n",
       "        require.undef(\"plotly\");\n",
       "        requirejs.config({\n",
       "            paths: {\n",
       "                'plotly': ['https://cdn.plot.ly/plotly-latest.min']\n",
       "            }\n",
       "        });\n",
       "        require(['plotly'], function(Plotly) {\n",
       "            window._Plotly = Plotly;\n",
       "        });\n",
       "        }\n",
       "        </script>\n",
       "        "
      ]
     },
     "metadata": {},
     "output_type": "display_data"
    }
   ],
   "source": [
    "import torch\n",
    "\n",
    "from flair.data import Sentence\n",
    "from flair.embeddings import DocumentPoolEmbeddings, FlairEmbeddings, BertEmbeddings, ELMoEmbeddings\n",
    "\n",
    "import plotly\n",
    "import plotly.graph_objs as go\n",
    "from plotly.offline import download_plotlyjs, init_notebook_mode, plot, iplot\n",
    "init_notebook_mode(connected=True)"
   ]
  },
  {
   "cell_type": "markdown",
   "metadata": {},
   "source": [
    "## 1. Load embeddings"
   ]
  },
  {
   "cell_type": "code",
   "execution_count": 2,
   "metadata": {
    "scrolled": false
   },
   "outputs": [],
   "source": [
    "# [[flair_eu, bert_cased_eu, bert_uncased eu, elmo_eu], [flair_en, bert_cased_en, bert_uncased en, elmo_en]]\n",
    "embeddings_all = [[], []]\n",
    "embedding_names = [\"flair\", \"bert_cased\", \"bert_uncased\", \"elmo\"]\n",
    "#embedding_names = [\"bert4c\", \"bert4u\", \"bert3c\", \"bert3u\", \"bert2c\",\"bert2u\", \"bert1c\", \"bert1u\"]"
   ]
  },
  {
   "cell_type": "code",
   "execution_count": 3,
   "metadata": {
    "scrolled": true
   },
   "outputs": [],
   "source": [
    "# load flair embeddings\n",
    "embeddings_all[0].append(DocumentPoolEmbeddings([FlairEmbeddings('eu-forward'), FlairEmbeddings('eu-backward')]))\n",
    "embeddings_all[1].append(DocumentPoolEmbeddings([FlairEmbeddings('mix-forward'), FlairEmbeddings('mix-backward')]))"
   ]
  },
  {
   "cell_type": "code",
   "execution_count": 4,
   "metadata": {},
   "outputs": [
    {
     "name": "stdout",
     "output_type": "stream",
     "text": [
      "2019-07-18 09:41:55,747 The pre-trained model you are loading is a cased model but you have not set `do_lower_case` to False. We are setting `do_lower_case=False` for you but you may want to check this behavior.\n",
      "2019-07-18 09:42:17,759 The pre-trained model you are loading is a cased model but you have not set `do_lower_case` to False. We are setting `do_lower_case=False` for you but you may want to check this behavior.\n"
     ]
    },
    {
     "data": {
      "text/plain": [
       "\"\\n\\nfor layer in bert_layers:\\n\\n    # BERT cased\\n    embeddings_all[0].append(DocumentPoolEmbeddings([BertEmbeddings('bert-base-multilingual-cased', layers=str(layer))]))\\n    embeddings_all[1].append(DocumentPoolEmbeddings([BertEmbeddings('bert-'+bert_type+'-cased', layers=str(layer))]))\\n\\n    # BERT uncased\\n    embeddings_all[0].append(DocumentPoolEmbeddings([BertEmbeddings('bert-base-multilingual-uncased', layers=str(layer))]))\\n    embeddings_all[1].append(DocumentPoolEmbeddings([BertEmbeddings('bert-'+bert_type+'-uncased', layers=str(layer))]))\\n    \\n\""
      ]
     },
     "execution_count": 4,
     "metadata": {},
     "output_type": "execute_result"
    }
   ],
   "source": [
    "# load BERT embeddings\n",
    "\n",
    "# See BERT paper, section 5.3 and table 7\n",
    "#bert_layers = list(range(-9, -13, -1))\n",
    "bert_layers = '-1,-2,-3,-4'\n",
    "bert_type = 'base' # 'large'\n",
    "\n",
    "# BERT cased\n",
    "embeddings_all[0].append(DocumentPoolEmbeddings([BertEmbeddings('bert-base-multilingual-cased', layers=bert_layers)]))\n",
    "embeddings_all[1].append(DocumentPoolEmbeddings([BertEmbeddings('bert-'+bert_type+'-cased', layers=bert_layers)]))\n",
    "\n",
    "# BERT uncased\n",
    "embeddings_all[0].append(DocumentPoolEmbeddings([BertEmbeddings('bert-base-multilingual-uncased', layers=bert_layers)]))\n",
    "embeddings_all[1].append(DocumentPoolEmbeddings([BertEmbeddings('bert-'+bert_type+'-uncased', layers=bert_layers)]))\n",
    "\n",
    "# bert_layer case\n",
    "'''\n",
    "\n",
    "for layer in bert_layers:\n",
    "\n",
    "    # BERT cased\n",
    "    embeddings_all[0].append(DocumentPoolEmbeddings([BertEmbeddings('bert-base-multilingual-cased', layers=str(layer))]))\n",
    "    embeddings_all[1].append(DocumentPoolEmbeddings([BertEmbeddings('bert-'+bert_type+'-cased', layers=str(layer))]))\n",
    "\n",
    "    # BERT uncased\n",
    "    embeddings_all[0].append(DocumentPoolEmbeddings([BertEmbeddings('bert-base-multilingual-uncased', layers=str(layer))]))\n",
    "    embeddings_all[1].append(DocumentPoolEmbeddings([BertEmbeddings('bert-'+bert_type+'-uncased', layers=str(layer))]))\n",
    "    \n",
    "'''"
   ]
  },
  {
   "cell_type": "code",
   "execution_count": 5,
   "metadata": {},
   "outputs": [],
   "source": [
    "# load ELMo embeddings\n",
    "embeddings_all[0].append(DocumentPoolEmbeddings([ELMoEmbeddings(options_file=\"https://schweter.eu/cloud/eu-elmo/options.json\", \n",
    "                                                                weight_file=\"https://schweter.eu/cloud/eu-elmo/weights.hdf5\")]))\n",
    "embeddings_all[1].append(DocumentPoolEmbeddings([ELMoEmbeddings()]))"
   ]
  },
  {
   "cell_type": "markdown",
   "metadata": {},
   "source": [
    "## 2. Read file and extract sentences"
   ]
  },
  {
   "cell_type": "code",
   "execution_count": 6,
   "metadata": {
    "scrolled": true
   },
   "outputs": [],
   "source": [
    "def get_gold_sentences(filename):\n",
    "    gold_sentences = []\n",
    "    with open(filename, 'rt') as f_p:\n",
    "        for line in f_p:\n",
    "            if line.startswith('\"origin\"'): # header\n",
    "                continue\n",
    "            \n",
    "            if not line:\n",
    "                continue\n",
    "            \n",
    "            line = line.rstrip()\n",
    "            line = line.replace('\"', '')\n",
    "            splitted = line.split('\\t')\n",
    "            gold = splitted[0]\n",
    "            sim_sentences = splitted[1:11]\n",
    "            \n",
    "            if gold:\n",
    "                gold_sentences_simple = {}\n",
    "                gold_sentences_simple[gold] = sim_sentences\n",
    "                gold_sentences.append(gold_sentences_simple)\n",
    "            \n",
    "    return gold_sentences\n",
    "\n",
    "def initialize_vectors(sent):\n",
    "    similarities_all = []\n",
    "    for i in range(len(sent)):\n",
    "        similarities_all.append([])\n",
    "\n",
    "    scores_all = []\n",
    "    for i in range(len(sent)):\n",
    "        scores_all.append([])\n",
    "        \n",
    "    return similarities_all, scores_all"
   ]
  },
  {
   "cell_type": "code",
   "execution_count": 7,
   "metadata": {
    "scrolled": true
   },
   "outputs": [],
   "source": [
    "test_eu = \"goldstandard_eu_lexicover.tsv\"\n",
    "test_en = \"goldstandard_en_lexicover.tsv\"\n",
    "\n",
    "sent_eu = get_gold_sentences(test_eu)\n",
    "sent_en = get_gold_sentences(test_en)\n",
    "\n",
    "similarities_all_eu, scores_all_eu = initialize_vectors(sent_eu)\n",
    "similarities_all_en, scores_all_en = initialize_vectors(sent_en)"
   ]
  },
  {
   "cell_type": "markdown",
   "metadata": {},
   "source": [
    "## 3. Calculate similarities"
   ]
  },
  {
   "cell_type": "code",
   "execution_count": 8,
   "metadata": {
    "scrolled": true
   },
   "outputs": [],
   "source": [
    "def calculate_similarities(gold, sim_sentences, embeddings):\n",
    "    \n",
    "    similarities = []\n",
    "    query = gold\n",
    "\n",
    "    q = Sentence(query)\n",
    "    embeddings.embed(q)\n",
    "    score = 0\n",
    "    \n",
    "    for i in range(len(sim_sentences)):\n",
    "        \n",
    "        s = Sentence(sim_sentences[i])\n",
    "        embeddings.embed(s)\n",
    "\n",
    "        assert q.embedding.shape == s.embedding.shape\n",
    "        \n",
    "        cos = torch.nn.CosineSimilarity(dim=0, eps=1e-6)\n",
    "        prox = cos(q.embedding, s.embedding)\n",
    "        similarities.append(round(prox.item(), 4))\n",
    "        \n",
    "        if i > 0 and similarities[i] <= similarities[i-1]:\n",
    "            score += 1\n",
    "        \n",
    "    return similarities, int(score/float(len(sim_sentences))*100)\n",
    "\n",
    "def calculate(gold_sentences, embeddings, similarities_all, scores_all):\n",
    "    \n",
    "    for i in range(len(gold_sentences)):\n",
    "        \n",
    "        # obtain gold sentence and similar sentences from global list\n",
    "        gold = list(gold_sentences[i].keys())[0]\n",
    "        sim_sentences = gold_sentences[i][gold]\n",
    "        \n",
    "        # Calculate similarities for each 'gold' sentence and accumulated score\n",
    "        similarities, score = calculate_similarities(gold, sim_sentences, embeddings)\n",
    "\n",
    "        # append current similarity values and score to the global data structures\n",
    "        scores_all[i].append(score)\n",
    "        similarities_all[i].append(similarities)\n",
    "\n",
    "        \n",
    "    return similarities_all, scores_all"
   ]
  },
  {
   "cell_type": "code",
   "execution_count": 9,
   "metadata": {
    "scrolled": false
   },
   "outputs": [
    {
     "name": "stdout",
     "output_type": "stream",
     "text": [
      "Calculating flair embeddings for basque\n",
      "Calculating flair embeddings for english\n",
      "Calculating bert_cased embeddings for basque\n",
      "Calculating bert_cased embeddings for english\n",
      "Calculating bert_uncased embeddings for basque\n",
      "Calculating bert_uncased embeddings for english\n",
      "Calculating elmo embeddings for basque\n",
      "Calculating elmo embeddings for english\n"
     ]
    }
   ],
   "source": [
    "for i in range(len(embeddings_all[0])):\n",
    "    print(f\"Calculating {embedding_names[i]} embeddings for basque\")\n",
    "    similarities_all_eu, scores_all_eu = calculate(sent_eu, embeddings_all[0][i], similarities_all_eu, scores_all_eu)\n",
    "    print(f\"Calculating {embedding_names[i]} embeddings for english\")\n",
    "    similarities_all_en, scores_all_en = calculate(sent_en, embeddings_all[1][i], similarities_all_en, scores_all_en)"
   ]
  },
  {
   "cell_type": "markdown",
   "metadata": {},
   "source": [
    "## 4. Plot similarities"
   ]
  },
  {
   "cell_type": "code",
   "execution_count": 10,
   "metadata": {},
   "outputs": [
    {
     "name": "stdout",
     "output_type": "stream",
     "text": [
      "This is the format of your plot grid:\n",
      "[ (1,1) x1,y1 ]     [ (1,2) x2,y2 ]     [ (1,3) x3,y3 ]     [ (1,4) x4,y4 ]     [ (1,5) x5,y5 ]     [ (1,6) x6,y6 ]     [ (1,7) x7,y7 ]     [ (1,8) x8,y8 ]     [ (1,9) x9,y9 ]     [ (1,10) x10,y10 ]\n",
      "\n"
     ]
    }
   ],
   "source": [
    "fig = plotly.tools.make_subplots(rows=1, cols=10)\n",
    "\n",
    "def plot_similarities(sent, similarities_all, scores_all):\n",
    "    origin = list(sent[i].keys())[0]\n",
    "    # print origin sentence\n",
    "    print(origin + '\\n')\n",
    "    for j in range(len(sent[i][origin])):\n",
    "        # print each similar sentence\n",
    "        print(f\"{j}. {sent[i][origin][j]}\")\n",
    "        for k in range(len(embedding_names)):\n",
    "            # print each similarity value for each variant\n",
    "            print(f\"\\t {embedding_names[k]} similarity: {similarities_all[i][k][j]}\")\n",
    "    # print scores for all variants\n",
    "    print(f\"Scores: \" + \", \".join(f\"{embed}: {scor}%\" for embed, scor in zip(embedding_names, scores_all[i])))\n",
    "    \n",
    "    # plot similarity heatmap\n",
    "    trace = go.Heatmap(z=similarities_all[i], y=embedding_names, colorscale='Blues')\n",
    "    data=[trace]\n",
    "    fig.append_trace(trace, 1, i+1)\n",
    "\n",
    "    iplot(data, filename='basic-heatmap' + str(i))"
   ]
  },
  {
   "cell_type": "code",
   "execution_count": 11,
   "metadata": {
    "scrolled": false
   },
   "outputs": [
    {
     "name": "stdout",
     "output_type": "stream",
     "text": [
      "\n",
      "Sentence #0\n",
      "Basque\n",
      "medikuak gaixoa bazkaltzera gonbidatu zuen\n",
      "\n",
      "0. gaixoak medikua bazkaltzera gonbidatu zuen\n",
      "\t flair similarity: 0.9796\n",
      "\t bert_cased similarity: 0.9869\n",
      "\t bert_uncased similarity: 0.987\n",
      "\t elmo similarity: 0.9863\n",
      "1. bazkariak medikua gaixo batera gonbidatu zuen\n",
      "\t flair similarity: 0.8786\n",
      "\t bert_cased similarity: 0.9737\n",
      "\t bert_uncased similarity: 0.9681\n",
      "\t elmo similarity: 0.8772\n",
      "2. batera zuen gaixoak medikua gonbidatu bazkari\n",
      "\t flair similarity: 0.7096\n",
      "\t bert_cased similarity: 0.9458\n",
      "\t bert_uncased similarity: 0.9579\n",
      "\t elmo similarity: 0.7741\n",
      "Scores: flair: 66%, bert_cased: 66%, bert_uncased: 66%, elmo: 66%\n"
     ]
    },
    {
     "data": {
      "application/vnd.plotly.v1+json": {
       "config": {
        "linkText": "Export to plot.ly",
        "plotlyServerURL": "https://plot.ly",
        "showLink": false
       },
       "data": [
        {
         "colorscale": "Blues",
         "type": "heatmap",
         "uid": "6ba7d5e1-431d-4f7e-bc51-aefb9c78c3d6",
         "y": [
          "flair",
          "bert_cased",
          "bert_uncased",
          "elmo"
         ],
         "z": [
          [
           0.9796,
           0.8786,
           0.7096
          ],
          [
           0.9869,
           0.9737,
           0.9458
          ],
          [
           0.987,
           0.9681,
           0.9579
          ],
          [
           0.9863,
           0.8772,
           0.7741
          ]
         ]
        }
       ],
       "layout": {}
      },
      "text/html": [
       "<div>\n",
       "        \n",
       "        \n",
       "            <div id=\"2919af7f-78fa-4e26-8cd7-1aecc842faea\" class=\"plotly-graph-div\" style=\"height:525px; width:100%;\"></div>\n",
       "            <script type=\"text/javascript\">\n",
       "                require([\"plotly\"], function(Plotly) {\n",
       "                    window.PLOTLYENV=window.PLOTLYENV || {};\n",
       "                    window.PLOTLYENV.BASE_URL='https://plot.ly';\n",
       "                    \n",
       "                if (document.getElementById(\"2919af7f-78fa-4e26-8cd7-1aecc842faea\")) {\n",
       "                    Plotly.newPlot(\n",
       "                        '2919af7f-78fa-4e26-8cd7-1aecc842faea',\n",
       "                        [{\"colorscale\": \"Blues\", \"type\": \"heatmap\", \"uid\": \"6ba7d5e1-431d-4f7e-bc51-aefb9c78c3d6\", \"y\": [\"flair\", \"bert_cased\", \"bert_uncased\", \"elmo\"], \"z\": [[0.9796, 0.8786, 0.7096], [0.9869, 0.9737, 0.9458], [0.987, 0.9681, 0.9579], [0.9863, 0.8772, 0.7741]]}],\n",
       "                        {},\n",
       "                        {\"showLink\": false, \"linkText\": \"Export to plot.ly\", \"plotlyServerURL\": \"https://plot.ly\", \"responsive\": true}\n",
       "                    ).then(function(){\n",
       "                            \n",
       "var gd = document.getElementById('2919af7f-78fa-4e26-8cd7-1aecc842faea');\n",
       "var x = new MutationObserver(function (mutations, observer) {{\n",
       "        var display = window.getComputedStyle(gd).display;\n",
       "        if (!display || display === 'none') {{\n",
       "            console.log([gd, 'removed!']);\n",
       "            Plotly.purge(gd);\n",
       "            observer.disconnect();\n",
       "        }}\n",
       "}});\n",
       "\n",
       "// Listen for the removal of the full notebook cells\n",
       "var notebookContainer = gd.closest('#notebook-container');\n",
       "if (notebookContainer) {{\n",
       "    x.observe(notebookContainer, {childList: true});\n",
       "}}\n",
       "\n",
       "// Listen for the clearing of the current output cell\n",
       "var outputEl = gd.closest('.output');\n",
       "if (outputEl) {{\n",
       "    x.observe(outputEl, {childList: true});\n",
       "}}\n",
       "\n",
       "                        })\n",
       "                };\n",
       "                });\n",
       "            </script>\n",
       "        </div>"
      ]
     },
     "metadata": {},
     "output_type": "display_data"
    },
    {
     "name": "stdout",
     "output_type": "stream",
     "text": [
      "English\n",
      "the doctor invited the patient for lunch\n",
      "\n",
      "0. the patient invited the doctor for lunch\n",
      "\t flair similarity: 0.9852\n",
      "\t bert_cased similarity: 0.9965\n",
      "\t bert_uncased similarity: 0.984\n",
      "\t elmo similarity: 0.9624\n",
      "1. the lunch invited the doctor for the patient\n",
      "\t flair similarity: 0.9427\n",
      "\t bert_cased similarity: 0.9698\n",
      "\t bert_uncased similarity: 0.8576\n",
      "\t elmo similarity: 0.877\n",
      "2. for invited patient the doctor the lunch\n",
      "\t flair similarity: 0.8903\n",
      "\t bert_cased similarity: 0.9317\n",
      "\t bert_uncased similarity: 0.7869\n",
      "\t elmo similarity: 0.8204\n",
      "Scores: flair: 66%, bert_cased: 66%, bert_uncased: 66%, elmo: 66%\n"
     ]
    },
    {
     "data": {
      "application/vnd.plotly.v1+json": {
       "config": {
        "linkText": "Export to plot.ly",
        "plotlyServerURL": "https://plot.ly",
        "showLink": false
       },
       "data": [
        {
         "colorscale": "Blues",
         "type": "heatmap",
         "uid": "f95e6f84-6b22-42f7-b358-448831ca6718",
         "y": [
          "flair",
          "bert_cased",
          "bert_uncased",
          "elmo"
         ],
         "z": [
          [
           0.9852,
           0.9427,
           0.8903
          ],
          [
           0.9965,
           0.9698,
           0.9317
          ],
          [
           0.984,
           0.8576,
           0.7869
          ],
          [
           0.9624,
           0.877,
           0.8204
          ]
         ]
        }
       ],
       "layout": {}
      },
      "text/html": [
       "<div>\n",
       "        \n",
       "        \n",
       "            <div id=\"0764cc3f-c5ad-4451-8edd-5422eb323aa7\" class=\"plotly-graph-div\" style=\"height:525px; width:100%;\"></div>\n",
       "            <script type=\"text/javascript\">\n",
       "                require([\"plotly\"], function(Plotly) {\n",
       "                    window.PLOTLYENV=window.PLOTLYENV || {};\n",
       "                    window.PLOTLYENV.BASE_URL='https://plot.ly';\n",
       "                    \n",
       "                if (document.getElementById(\"0764cc3f-c5ad-4451-8edd-5422eb323aa7\")) {\n",
       "                    Plotly.newPlot(\n",
       "                        '0764cc3f-c5ad-4451-8edd-5422eb323aa7',\n",
       "                        [{\"colorscale\": \"Blues\", \"type\": \"heatmap\", \"uid\": \"f95e6f84-6b22-42f7-b358-448831ca6718\", \"y\": [\"flair\", \"bert_cased\", \"bert_uncased\", \"elmo\"], \"z\": [[0.9852, 0.9427, 0.8903], [0.9965, 0.9698, 0.9317], [0.984, 0.8576, 0.7869], [0.9624, 0.877, 0.8204]]}],\n",
       "                        {},\n",
       "                        {\"showLink\": false, \"linkText\": \"Export to plot.ly\", \"plotlyServerURL\": \"https://plot.ly\", \"responsive\": true}\n",
       "                    ).then(function(){\n",
       "                            \n",
       "var gd = document.getElementById('0764cc3f-c5ad-4451-8edd-5422eb323aa7');\n",
       "var x = new MutationObserver(function (mutations, observer) {{\n",
       "        var display = window.getComputedStyle(gd).display;\n",
       "        if (!display || display === 'none') {{\n",
       "            console.log([gd, 'removed!']);\n",
       "            Plotly.purge(gd);\n",
       "            observer.disconnect();\n",
       "        }}\n",
       "}});\n",
       "\n",
       "// Listen for the removal of the full notebook cells\n",
       "var notebookContainer = gd.closest('#notebook-container');\n",
       "if (notebookContainer) {{\n",
       "    x.observe(notebookContainer, {childList: true});\n",
       "}}\n",
       "\n",
       "// Listen for the clearing of the current output cell\n",
       "var outputEl = gd.closest('.output');\n",
       "if (outputEl) {{\n",
       "    x.observe(outputEl, {childList: true});\n",
       "}}\n",
       "\n",
       "                        })\n",
       "                };\n",
       "                });\n",
       "            </script>\n",
       "        </div>"
      ]
     },
     "metadata": {},
     "output_type": "display_data"
    },
    {
     "name": "stdout",
     "output_type": "stream",
     "text": [
      "\n",
      "Sentence #1\n",
      "Basque\n",
      "medikuak gaixoa bazkaltzera gonbidatu zuen\n",
      "\n",
      "0. gaixoak medikua bazkaltzera gonbidatu zuen\n",
      "\t flair similarity: 0.9796\n",
      "\t bert_cased similarity: 0.9869\n",
      "\t bert_uncased similarity: 0.987\n",
      "\t elmo similarity: 0.9864\n",
      "1. medikuak ez zuen gaixoa bazkaltzera gonbidatu\n",
      "\t flair similarity: 0.7504\n",
      "\t bert_cased similarity: 0.9613\n",
      "\t bert_uncased similarity: 0.9657\n",
      "\t elmo similarity: 0.8514\n",
      "2. umeak aitona gonbidatu zuen bazkaltzera\n",
      "\t flair similarity: 0.843\n",
      "\t bert_cased similarity: 0.9269\n",
      "\t bert_uncased similarity: 0.902\n",
      "\t elmo similarity: 0.7864\n",
      "3. medikuak gaixoa hil zuen\n",
      "\t flair similarity: 0.7973\n",
      "\t bert_cased similarity: 0.9383\n",
      "\t bert_uncased similarity: 0.9464\n",
      "\t elmo similarity: 0.8315\n",
      "4. gai hori medikuaren eta gaixoaren artekoa da\n",
      "\t flair similarity: 0.426\n",
      "\t bert_cased similarity: 0.8215\n",
      "\t bert_uncased similarity: 0.8578\n",
      "\t elmo similarity: 0.5234\n",
      "5. asko gustatuko litzaidake bazkaltzera gonbidatua izatea\n",
      "\t flair similarity: 0.6617\n",
      "\t bert_cased similarity: 0.9131\n",
      "\t bert_uncased similarity: 0.8922\n",
      "\t elmo similarity: 0.5581\n",
      "Scores: flair: 50%, bert_cased: 50%, bert_uncased: 50%, elmo: 50%\n"
     ]
    },
    {
     "data": {
      "application/vnd.plotly.v1+json": {
       "config": {
        "linkText": "Export to plot.ly",
        "plotlyServerURL": "https://plot.ly",
        "showLink": false
       },
       "data": [
        {
         "colorscale": "Blues",
         "type": "heatmap",
         "uid": "f6fbf240-0926-49b3-83b4-a29781fd1b52",
         "y": [
          "flair",
          "bert_cased",
          "bert_uncased",
          "elmo"
         ],
         "z": [
          [
           0.9796,
           0.7504,
           0.843,
           0.7973,
           0.426,
           0.6617
          ],
          [
           0.9869,
           0.9613,
           0.9269,
           0.9383,
           0.8215,
           0.9131
          ],
          [
           0.987,
           0.9657,
           0.902,
           0.9464,
           0.8578,
           0.8922
          ],
          [
           0.9864,
           0.8514,
           0.7864,
           0.8315,
           0.5234,
           0.5581
          ]
         ]
        }
       ],
       "layout": {}
      },
      "text/html": [
       "<div>\n",
       "        \n",
       "        \n",
       "            <div id=\"592c967d-8962-4fcc-958c-75ca9694db2a\" class=\"plotly-graph-div\" style=\"height:525px; width:100%;\"></div>\n",
       "            <script type=\"text/javascript\">\n",
       "                require([\"plotly\"], function(Plotly) {\n",
       "                    window.PLOTLYENV=window.PLOTLYENV || {};\n",
       "                    window.PLOTLYENV.BASE_URL='https://plot.ly';\n",
       "                    \n",
       "                if (document.getElementById(\"592c967d-8962-4fcc-958c-75ca9694db2a\")) {\n",
       "                    Plotly.newPlot(\n",
       "                        '592c967d-8962-4fcc-958c-75ca9694db2a',\n",
       "                        [{\"colorscale\": \"Blues\", \"type\": \"heatmap\", \"uid\": \"f6fbf240-0926-49b3-83b4-a29781fd1b52\", \"y\": [\"flair\", \"bert_cased\", \"bert_uncased\", \"elmo\"], \"z\": [[0.9796, 0.7504, 0.843, 0.7973, 0.426, 0.6617], [0.9869, 0.9613, 0.9269, 0.9383, 0.8215, 0.9131], [0.987, 0.9657, 0.902, 0.9464, 0.8578, 0.8922], [0.9864, 0.8514, 0.7864, 0.8315, 0.5234, 0.5581]]}],\n",
       "                        {},\n",
       "                        {\"showLink\": false, \"linkText\": \"Export to plot.ly\", \"plotlyServerURL\": \"https://plot.ly\", \"responsive\": true}\n",
       "                    ).then(function(){\n",
       "                            \n",
       "var gd = document.getElementById('592c967d-8962-4fcc-958c-75ca9694db2a');\n",
       "var x = new MutationObserver(function (mutations, observer) {{\n",
       "        var display = window.getComputedStyle(gd).display;\n",
       "        if (!display || display === 'none') {{\n",
       "            console.log([gd, 'removed!']);\n",
       "            Plotly.purge(gd);\n",
       "            observer.disconnect();\n",
       "        }}\n",
       "}});\n",
       "\n",
       "// Listen for the removal of the full notebook cells\n",
       "var notebookContainer = gd.closest('#notebook-container');\n",
       "if (notebookContainer) {{\n",
       "    x.observe(notebookContainer, {childList: true});\n",
       "}}\n",
       "\n",
       "// Listen for the clearing of the current output cell\n",
       "var outputEl = gd.closest('.output');\n",
       "if (outputEl) {{\n",
       "    x.observe(outputEl, {childList: true});\n",
       "}}\n",
       "\n",
       "                        })\n",
       "                };\n",
       "                });\n",
       "            </script>\n",
       "        </div>"
      ]
     },
     "metadata": {},
     "output_type": "display_data"
    },
    {
     "name": "stdout",
     "output_type": "stream",
     "text": [
      "English\n",
      "the doctor invited the patient for lunch\n",
      "\n",
      "0. the patient invited the doctor for lunch\n",
      "\t flair similarity: 0.9852\n",
      "\t bert_cased similarity: 0.9965\n",
      "\t bert_uncased similarity: 0.984\n",
      "\t elmo similarity: 0.9634\n",
      "1. the doctor did not invite the patient for lunch\n",
      "\t flair similarity: 0.9295\n",
      "\t bert_cased similarity: 0.9707\n",
      "\t bert_uncased similarity: 0.9105\n",
      "\t elmo similarity: 0.8994\n",
      "2. the child invited the grandfather for lunch\n",
      "\t flair similarity: 0.9297\n",
      "\t bert_cased similarity: 0.9736\n",
      "\t bert_uncased similarity: 0.8806\n",
      "\t elmo similarity: 0.8481\n",
      "3. the doctor killed the patient after lunch\n",
      "\t flair similarity: 0.9317\n",
      "\t bert_cased similarity: 0.9433\n",
      "\t bert_uncased similarity: 0.8406\n",
      "\t elmo similarity: 0.8121\n",
      "4. that is a matter between the doctor and the patient\n",
      "\t flair similarity: 0.7775\n",
      "\t bert_cased similarity: 0.8978\n",
      "\t bert_uncased similarity: 0.6924\n",
      "\t elmo similarity: 0.6282\n",
      "5. I wish I got invited for lunch\n",
      "\t flair similarity: 0.738\n",
      "\t bert_cased similarity: 0.8808\n",
      "\t bert_uncased similarity: 0.6339\n",
      "\t elmo similarity: 0.6481\n",
      "Scores: flair: 50%, bert_cased: 66%, bert_uncased: 83%, elmo: 66%\n"
     ]
    },
    {
     "data": {
      "application/vnd.plotly.v1+json": {
       "config": {
        "linkText": "Export to plot.ly",
        "plotlyServerURL": "https://plot.ly",
        "showLink": false
       },
       "data": [
        {
         "colorscale": "Blues",
         "type": "heatmap",
         "uid": "c9084517-e748-4295-8e14-eeaec75bedb9",
         "y": [
          "flair",
          "bert_cased",
          "bert_uncased",
          "elmo"
         ],
         "z": [
          [
           0.9852,
           0.9295,
           0.9297,
           0.9317,
           0.7775,
           0.738
          ],
          [
           0.9965,
           0.9707,
           0.9736,
           0.9433,
           0.8978,
           0.8808
          ],
          [
           0.984,
           0.9105,
           0.8806,
           0.8406,
           0.6924,
           0.6339
          ],
          [
           0.9634,
           0.8994,
           0.8481,
           0.8121,
           0.6282,
           0.6481
          ]
         ]
        }
       ],
       "layout": {}
      },
      "text/html": [
       "<div>\n",
       "        \n",
       "        \n",
       "            <div id=\"37183c95-7089-4939-863f-b8432609af49\" class=\"plotly-graph-div\" style=\"height:525px; width:100%;\"></div>\n",
       "            <script type=\"text/javascript\">\n",
       "                require([\"plotly\"], function(Plotly) {\n",
       "                    window.PLOTLYENV=window.PLOTLYENV || {};\n",
       "                    window.PLOTLYENV.BASE_URL='https://plot.ly';\n",
       "                    \n",
       "                if (document.getElementById(\"37183c95-7089-4939-863f-b8432609af49\")) {\n",
       "                    Plotly.newPlot(\n",
       "                        '37183c95-7089-4939-863f-b8432609af49',\n",
       "                        [{\"colorscale\": \"Blues\", \"type\": \"heatmap\", \"uid\": \"c9084517-e748-4295-8e14-eeaec75bedb9\", \"y\": [\"flair\", \"bert_cased\", \"bert_uncased\", \"elmo\"], \"z\": [[0.9852, 0.9295, 0.9297, 0.9317, 0.7775, 0.738], [0.9965, 0.9707, 0.9736, 0.9433, 0.8978, 0.8808], [0.984, 0.9105, 0.8806, 0.8406, 0.6924, 0.6339], [0.9634, 0.8994, 0.8481, 0.8121, 0.6282, 0.6481]]}],\n",
       "                        {},\n",
       "                        {\"showLink\": false, \"linkText\": \"Export to plot.ly\", \"plotlyServerURL\": \"https://plot.ly\", \"responsive\": true}\n",
       "                    ).then(function(){\n",
       "                            \n",
       "var gd = document.getElementById('37183c95-7089-4939-863f-b8432609af49');\n",
       "var x = new MutationObserver(function (mutations, observer) {{\n",
       "        var display = window.getComputedStyle(gd).display;\n",
       "        if (!display || display === 'none') {{\n",
       "            console.log([gd, 'removed!']);\n",
       "            Plotly.purge(gd);\n",
       "            observer.disconnect();\n",
       "        }}\n",
       "}});\n",
       "\n",
       "// Listen for the removal of the full notebook cells\n",
       "var notebookContainer = gd.closest('#notebook-container');\n",
       "if (notebookContainer) {{\n",
       "    x.observe(notebookContainer, {childList: true});\n",
       "}}\n",
       "\n",
       "// Listen for the clearing of the current output cell\n",
       "var outputEl = gd.closest('.output');\n",
       "if (outputEl) {{\n",
       "    x.observe(outputEl, {childList: true});\n",
       "}}\n",
       "\n",
       "                        })\n",
       "                };\n",
       "                });\n",
       "            </script>\n",
       "        </div>"
      ]
     },
     "metadata": {},
     "output_type": "display_data"
    },
    {
     "name": "stdout",
     "output_type": "stream",
     "text": [
      "\n",
      "Sentence #2\n",
      "Basque\n",
      "medikuak pazientea bazkaltzera gonbidatu zuen\n",
      "\n",
      "0. kirurgialariak pazientea bazkaltzera gonbidatu zuen\n",
      "\t flair similarity: 0.9623\n",
      "\t bert_cased similarity: 0.9823\n",
      "\t bert_uncased similarity: 0.9812\n",
      "\t elmo similarity: 0.9659\n",
      "1. medikuak gaixoa bazkaltzera gonbidatu zuen\n",
      "\t flair similarity: 0.9538\n",
      "\t bert_cased similarity: 0.9737\n",
      "\t bert_uncased similarity: 0.9813\n",
      "\t elmo similarity: 0.9604\n",
      "2. katedradunak pazientea bazkaltzera gonbidatu zuen\n",
      "\t flair similarity: 0.9348\n",
      "\t bert_cased similarity: 0.9667\n",
      "\t bert_uncased similarity: 0.9598\n",
      "\t elmo similarity: 0.9293\n",
      "3. medikuak gaixoa otordu batera gonbidatu zuen\n",
      "\t flair similarity: 0.8536\n",
      "\t bert_cased similarity: 0.9579\n",
      "\t bert_uncased similarity: 0.9593\n",
      "\t elmo similarity: 0.8885\n",
      "4. medikuak gaixoa eraman zuen tea hartzera\n",
      "\t flair similarity: 0.7391\n",
      "\t bert_cased similarity: 0.9255\n",
      "\t bert_uncased similarity: 0.9407\n",
      "\t elmo similarity: 0.792\n",
      "5. medikuak pazientearen bazkaria ordaindu zuen\n",
      "\t flair similarity: 0.8423\n",
      "\t bert_cased similarity: 0.9723\n",
      "\t bert_uncased similarity: 0.9754\n",
      "\t elmo similarity: 0.8252\n",
      "Scores: flair: 66%, bert_cased: 66%, bert_uncased: 50%, elmo: 66%\n"
     ]
    },
    {
     "data": {
      "application/vnd.plotly.v1+json": {
       "config": {
        "linkText": "Export to plot.ly",
        "plotlyServerURL": "https://plot.ly",
        "showLink": false
       },
       "data": [
        {
         "colorscale": "Blues",
         "type": "heatmap",
         "uid": "36d905a4-be67-45ef-a0da-5d8008c9f5a5",
         "y": [
          "flair",
          "bert_cased",
          "bert_uncased",
          "elmo"
         ],
         "z": [
          [
           0.9623,
           0.9538,
           0.9348,
           0.8536,
           0.7391,
           0.8423
          ],
          [
           0.9823,
           0.9737,
           0.9667,
           0.9579,
           0.9255,
           0.9723
          ],
          [
           0.9812,
           0.9813,
           0.9598,
           0.9593,
           0.9407,
           0.9754
          ],
          [
           0.9659,
           0.9604,
           0.9293,
           0.8885,
           0.792,
           0.8252
          ]
         ]
        }
       ],
       "layout": {}
      },
      "text/html": [
       "<div>\n",
       "        \n",
       "        \n",
       "            <div id=\"0aec0c75-69c9-47b7-ba4a-b4bbbbf52d09\" class=\"plotly-graph-div\" style=\"height:525px; width:100%;\"></div>\n",
       "            <script type=\"text/javascript\">\n",
       "                require([\"plotly\"], function(Plotly) {\n",
       "                    window.PLOTLYENV=window.PLOTLYENV || {};\n",
       "                    window.PLOTLYENV.BASE_URL='https://plot.ly';\n",
       "                    \n",
       "                if (document.getElementById(\"0aec0c75-69c9-47b7-ba4a-b4bbbbf52d09\")) {\n",
       "                    Plotly.newPlot(\n",
       "                        '0aec0c75-69c9-47b7-ba4a-b4bbbbf52d09',\n",
       "                        [{\"colorscale\": \"Blues\", \"type\": \"heatmap\", \"uid\": \"36d905a4-be67-45ef-a0da-5d8008c9f5a5\", \"y\": [\"flair\", \"bert_cased\", \"bert_uncased\", \"elmo\"], \"z\": [[0.9623, 0.9538, 0.9348, 0.8536, 0.7391, 0.8423], [0.9823, 0.9737, 0.9667, 0.9579, 0.9255, 0.9723], [0.9812, 0.9813, 0.9598, 0.9593, 0.9407, 0.9754], [0.9659, 0.9604, 0.9293, 0.8885, 0.792, 0.8252]]}],\n",
       "                        {},\n",
       "                        {\"showLink\": false, \"linkText\": \"Export to plot.ly\", \"plotlyServerURL\": \"https://plot.ly\", \"responsive\": true}\n",
       "                    ).then(function(){\n",
       "                            \n",
       "var gd = document.getElementById('0aec0c75-69c9-47b7-ba4a-b4bbbbf52d09');\n",
       "var x = new MutationObserver(function (mutations, observer) {{\n",
       "        var display = window.getComputedStyle(gd).display;\n",
       "        if (!display || display === 'none') {{\n",
       "            console.log([gd, 'removed!']);\n",
       "            Plotly.purge(gd);\n",
       "            observer.disconnect();\n",
       "        }}\n",
       "}});\n",
       "\n",
       "// Listen for the removal of the full notebook cells\n",
       "var notebookContainer = gd.closest('#notebook-container');\n",
       "if (notebookContainer) {{\n",
       "    x.observe(notebookContainer, {childList: true});\n",
       "}}\n",
       "\n",
       "// Listen for the clearing of the current output cell\n",
       "var outputEl = gd.closest('.output');\n",
       "if (outputEl) {{\n",
       "    x.observe(outputEl, {childList: true});\n",
       "}}\n",
       "\n",
       "                        })\n",
       "                };\n",
       "                });\n",
       "            </script>\n",
       "        </div>"
      ]
     },
     "metadata": {},
     "output_type": "display_data"
    },
    {
     "name": "stdout",
     "output_type": "stream",
     "text": [
      "English\n",
      "the doctor invited the patient for lunch\n",
      "\n",
      "0. the surgeon invited the patient for lunch\n",
      "\t flair similarity: 0.9853\n",
      "\t bert_cased similarity: 0.995\n",
      "\t bert_uncased similarity: 0.9792\n",
      "\t elmo similarity: 0.9665\n",
      "1. the doctor invited the doctor for lunch\n",
      "\t flair similarity: 0.9801\n",
      "\t bert_cased similarity: 0.9901\n",
      "\t bert_uncased similarity: 0.9546\n",
      "\t elmo similarity: 0.9535\n",
      "2. the professor invited the patient for lunch\n",
      "\t flair similarity: 0.9783\n",
      "\t bert_cased similarity: 0.9917\n",
      "\t bert_uncased similarity: 0.9724\n",
      "\t elmo similarity: 0.9373\n",
      "3. the doctor invited the patient for a meal\n",
      "\t flair similarity: 0.9546\n",
      "\t bert_cased similarity: 0.9886\n",
      "\t bert_uncased similarity: 0.9621\n",
      "\t elmo similarity: 0.9545\n",
      "4. the doctor took the patient out for tea\n",
      "\t flair similarity: 0.8749\n",
      "\t bert_cased similarity: 0.9721\n",
      "\t bert_uncased similarity: 0.8992\n",
      "\t elmo similarity: 0.8061\n",
      "5. the doctor paid for the patient's lunch\n",
      "\t flair similarity: 0.8895\n",
      "\t bert_cased similarity: 0.966\n",
      "\t bert_uncased similarity: 0.8858\n",
      "\t elmo similarity: 0.8215\n",
      "Scores: flair: 66%, bert_cased: 66%, bert_uncased: 66%, elmo: 50%\n"
     ]
    },
    {
     "data": {
      "application/vnd.plotly.v1+json": {
       "config": {
        "linkText": "Export to plot.ly",
        "plotlyServerURL": "https://plot.ly",
        "showLink": false
       },
       "data": [
        {
         "colorscale": "Blues",
         "type": "heatmap",
         "uid": "b95ffee6-c219-4191-aa9a-9b7c3155ee12",
         "y": [
          "flair",
          "bert_cased",
          "bert_uncased",
          "elmo"
         ],
         "z": [
          [
           0.9853,
           0.9801,
           0.9783,
           0.9546,
           0.8749,
           0.8895
          ],
          [
           0.995,
           0.9901,
           0.9917,
           0.9886,
           0.9721,
           0.966
          ],
          [
           0.9792,
           0.9546,
           0.9724,
           0.9621,
           0.8992,
           0.8858
          ],
          [
           0.9665,
           0.9535,
           0.9373,
           0.9545,
           0.8061,
           0.8215
          ]
         ]
        }
       ],
       "layout": {}
      },
      "text/html": [
       "<div>\n",
       "        \n",
       "        \n",
       "            <div id=\"18ca1f46-e2d8-4476-bb66-49875153f6eb\" class=\"plotly-graph-div\" style=\"height:525px; width:100%;\"></div>\n",
       "            <script type=\"text/javascript\">\n",
       "                require([\"plotly\"], function(Plotly) {\n",
       "                    window.PLOTLYENV=window.PLOTLYENV || {};\n",
       "                    window.PLOTLYENV.BASE_URL='https://plot.ly';\n",
       "                    \n",
       "                if (document.getElementById(\"18ca1f46-e2d8-4476-bb66-49875153f6eb\")) {\n",
       "                    Plotly.newPlot(\n",
       "                        '18ca1f46-e2d8-4476-bb66-49875153f6eb',\n",
       "                        [{\"colorscale\": \"Blues\", \"type\": \"heatmap\", \"uid\": \"b95ffee6-c219-4191-aa9a-9b7c3155ee12\", \"y\": [\"flair\", \"bert_cased\", \"bert_uncased\", \"elmo\"], \"z\": [[0.9853, 0.9801, 0.9783, 0.9546, 0.8749, 0.8895], [0.995, 0.9901, 0.9917, 0.9886, 0.9721, 0.966], [0.9792, 0.9546, 0.9724, 0.9621, 0.8992, 0.8858], [0.9665, 0.9535, 0.9373, 0.9545, 0.8061, 0.8215]]}],\n",
       "                        {},\n",
       "                        {\"showLink\": false, \"linkText\": \"Export to plot.ly\", \"plotlyServerURL\": \"https://plot.ly\", \"responsive\": true}\n",
       "                    ).then(function(){\n",
       "                            \n",
       "var gd = document.getElementById('18ca1f46-e2d8-4476-bb66-49875153f6eb');\n",
       "var x = new MutationObserver(function (mutations, observer) {{\n",
       "        var display = window.getComputedStyle(gd).display;\n",
       "        if (!display || display === 'none') {{\n",
       "            console.log([gd, 'removed!']);\n",
       "            Plotly.purge(gd);\n",
       "            observer.disconnect();\n",
       "        }}\n",
       "}});\n",
       "\n",
       "// Listen for the removal of the full notebook cells\n",
       "var notebookContainer = gd.closest('#notebook-container');\n",
       "if (notebookContainer) {{\n",
       "    x.observe(notebookContainer, {childList: true});\n",
       "}}\n",
       "\n",
       "// Listen for the clearing of the current output cell\n",
       "var outputEl = gd.closest('.output');\n",
       "if (outputEl) {{\n",
       "    x.observe(outputEl, {childList: true});\n",
       "}}\n",
       "\n",
       "                        })\n",
       "                };\n",
       "                });\n",
       "            </script>\n",
       "        </div>"
      ]
     },
     "metadata": {},
     "output_type": "display_data"
    },
    {
     "name": "stdout",
     "output_type": "stream",
     "text": [
      "\n",
      "Sentence #3\n",
      "Basque\n",
      "medikuak pazientea bazkaltzera gonbidatu zuen\n",
      "\n",
      "0. medikuak pazientea bazkaltzera gonbiddatu zuen\n",
      "\t flair similarity: 0.9763\n",
      "\t bert_cased similarity: 0.9915\n",
      "\t bert_uncased similarity: 0.9934\n",
      "\t elmo similarity: 0.9743\n",
      "1. medikuak pazientea bazkaltzera patatatu zuen\n",
      "\t flair similarity: 0.9144\n",
      "\t bert_cased similarity: 0.9773\n",
      "\t bert_uncased similarity: 0.9829\n",
      "\t elmo similarity: 0.9276\n",
      "2. Stefanek pazientea bazkaltzera gonbidatu zuen\n",
      "\t flair similarity: 0.9215\n",
      "\t bert_cased similarity: 0.9535\n",
      "\t bert_uncased similarity: 0.9582\n",
      "\t elmo similarity: 0.9174\n",
      "3. medikuak gaixoa sushira gonbidatu zuen\n",
      "\t flair similarity: 0.8469\n",
      "\t bert_cased similarity: 0.9528\n",
      "\t bert_uncased similarity: 0.9621\n",
      "\t elmo similarity: 0.8915\n",
      "4. medikuak patentea bazkaltzera gonbidatu zuen medikuak pazientea jotzera gonbidatu zuen\n",
      "\t flair similarity: 0.9465\n",
      "\t bert_cased similarity: 0.9569\n",
      "\t bert_uncased similarity: 0.9436\n",
      "\t elmo similarity: 0.9506\n",
      "Scores: flair: 40%, bert_cased: 60%, bert_uncased: 60%, elmo: 60%\n"
     ]
    },
    {
     "data": {
      "application/vnd.plotly.v1+json": {
       "config": {
        "linkText": "Export to plot.ly",
        "plotlyServerURL": "https://plot.ly",
        "showLink": false
       },
       "data": [
        {
         "colorscale": "Blues",
         "type": "heatmap",
         "uid": "122236df-1d88-42b1-80ef-99f2c3174046",
         "y": [
          "flair",
          "bert_cased",
          "bert_uncased",
          "elmo"
         ],
         "z": [
          [
           0.9763,
           0.9144,
           0.9215,
           0.8469,
           0.9465
          ],
          [
           0.9915,
           0.9773,
           0.9535,
           0.9528,
           0.9569
          ],
          [
           0.9934,
           0.9829,
           0.9582,
           0.9621,
           0.9436
          ],
          [
           0.9743,
           0.9276,
           0.9174,
           0.8915,
           0.9506
          ]
         ]
        }
       ],
       "layout": {}
      },
      "text/html": [
       "<div>\n",
       "        \n",
       "        \n",
       "            <div id=\"7457aeb4-5a13-431b-a179-48ecefd30d69\" class=\"plotly-graph-div\" style=\"height:525px; width:100%;\"></div>\n",
       "            <script type=\"text/javascript\">\n",
       "                require([\"plotly\"], function(Plotly) {\n",
       "                    window.PLOTLYENV=window.PLOTLYENV || {};\n",
       "                    window.PLOTLYENV.BASE_URL='https://plot.ly';\n",
       "                    \n",
       "                if (document.getElementById(\"7457aeb4-5a13-431b-a179-48ecefd30d69\")) {\n",
       "                    Plotly.newPlot(\n",
       "                        '7457aeb4-5a13-431b-a179-48ecefd30d69',\n",
       "                        [{\"colorscale\": \"Blues\", \"type\": \"heatmap\", \"uid\": \"122236df-1d88-42b1-80ef-99f2c3174046\", \"y\": [\"flair\", \"bert_cased\", \"bert_uncased\", \"elmo\"], \"z\": [[0.9763, 0.9144, 0.9215, 0.8469, 0.9465], [0.9915, 0.9773, 0.9535, 0.9528, 0.9569], [0.9934, 0.9829, 0.9582, 0.9621, 0.9436], [0.9743, 0.9276, 0.9174, 0.8915, 0.9506]]}],\n",
       "                        {},\n",
       "                        {\"showLink\": false, \"linkText\": \"Export to plot.ly\", \"plotlyServerURL\": \"https://plot.ly\", \"responsive\": true}\n",
       "                    ).then(function(){\n",
       "                            \n",
       "var gd = document.getElementById('7457aeb4-5a13-431b-a179-48ecefd30d69');\n",
       "var x = new MutationObserver(function (mutations, observer) {{\n",
       "        var display = window.getComputedStyle(gd).display;\n",
       "        if (!display || display === 'none') {{\n",
       "            console.log([gd, 'removed!']);\n",
       "            Plotly.purge(gd);\n",
       "            observer.disconnect();\n",
       "        }}\n",
       "}});\n",
       "\n",
       "// Listen for the removal of the full notebook cells\n",
       "var notebookContainer = gd.closest('#notebook-container');\n",
       "if (notebookContainer) {{\n",
       "    x.observe(notebookContainer, {childList: true});\n",
       "}}\n",
       "\n",
       "// Listen for the clearing of the current output cell\n",
       "var outputEl = gd.closest('.output');\n",
       "if (outputEl) {{\n",
       "    x.observe(outputEl, {childList: true});\n",
       "}}\n",
       "\n",
       "                        })\n",
       "                };\n",
       "                });\n",
       "            </script>\n",
       "        </div>"
      ]
     },
     "metadata": {},
     "output_type": "display_data"
    },
    {
     "name": "stdout",
     "output_type": "stream",
     "text": [
      "English\n",
      "the doctor invited the patient for lunch\n",
      "\n",
      "0. the doctor invitted the patient for lunch\n",
      "\t flair similarity: 0.9851\n",
      "\t bert_cased similarity: 0.9749\n",
      "\t bert_uncased similarity: 0.9186\n",
      "\t elmo similarity: 0.9704\n",
      "1. the doctor kartoffeled the patient for lunch\n",
      "\t flair similarity: 0.9346\n",
      "\t bert_cased similarity: 0.9712\n",
      "\t bert_uncased similarity: 0.918\n",
      "\t elmo similarity: 0.8896\n",
      "2. Stefan invited the patient for lunch\n",
      "\t flair similarity: 0.9444\n",
      "\t bert_cased similarity: 0.976\n",
      "\t bert_uncased similarity: 0.936\n",
      "\t elmo similarity: 0.8437\n",
      "3. the doctor invited the patient for sushi\n",
      "\t flair similarity: 0.9544\n",
      "\t bert_cased similarity: 0.9745\n",
      "\t bert_uncased similarity: 0.8963\n",
      "\t elmo similarity: 0.9178\n",
      "4. the doctor invited the patent for lunch\n",
      "\t flair similarity: 0.9415\n",
      "\t bert_cased similarity: 0.9808\n",
      "\t bert_uncased similarity: 0.9114\n",
      "\t elmo similarity: 0.8626\n",
      "5. the doctor invited the patent for linch\n",
      "\t flair similarity: 0.8963\n",
      "\t bert_cased similarity: 0.9265\n",
      "\t bert_uncased similarity: 0.7207\n",
      "\t elmo similarity: 0.781\n",
      "Scores: flair: 50%, bert_cased: 50%, bert_uncased: 50%, elmo: 66%\n"
     ]
    },
    {
     "data": {
      "application/vnd.plotly.v1+json": {
       "config": {
        "linkText": "Export to plot.ly",
        "plotlyServerURL": "https://plot.ly",
        "showLink": false
       },
       "data": [
        {
         "colorscale": "Blues",
         "type": "heatmap",
         "uid": "f9bc322b-5a03-4053-a240-82828bd09071",
         "y": [
          "flair",
          "bert_cased",
          "bert_uncased",
          "elmo"
         ],
         "z": [
          [
           0.9851,
           0.9346,
           0.9444,
           0.9544,
           0.9415,
           0.8963
          ],
          [
           0.9749,
           0.9712,
           0.976,
           0.9745,
           0.9808,
           0.9265
          ],
          [
           0.9186,
           0.918,
           0.936,
           0.8963,
           0.9114,
           0.7207
          ],
          [
           0.9704,
           0.8896,
           0.8437,
           0.9178,
           0.8626,
           0.781
          ]
         ]
        }
       ],
       "layout": {}
      },
      "text/html": [
       "<div>\n",
       "        \n",
       "        \n",
       "            <div id=\"52614485-a66e-405f-888f-ab7cbb3cb839\" class=\"plotly-graph-div\" style=\"height:525px; width:100%;\"></div>\n",
       "            <script type=\"text/javascript\">\n",
       "                require([\"plotly\"], function(Plotly) {\n",
       "                    window.PLOTLYENV=window.PLOTLYENV || {};\n",
       "                    window.PLOTLYENV.BASE_URL='https://plot.ly';\n",
       "                    \n",
       "                if (document.getElementById(\"52614485-a66e-405f-888f-ab7cbb3cb839\")) {\n",
       "                    Plotly.newPlot(\n",
       "                        '52614485-a66e-405f-888f-ab7cbb3cb839',\n",
       "                        [{\"colorscale\": \"Blues\", \"type\": \"heatmap\", \"uid\": \"f9bc322b-5a03-4053-a240-82828bd09071\", \"y\": [\"flair\", \"bert_cased\", \"bert_uncased\", \"elmo\"], \"z\": [[0.9851, 0.9346, 0.9444, 0.9544, 0.9415, 0.8963], [0.9749, 0.9712, 0.976, 0.9745, 0.9808, 0.9265], [0.9186, 0.918, 0.936, 0.8963, 0.9114, 0.7207], [0.9704, 0.8896, 0.8437, 0.9178, 0.8626, 0.781]]}],\n",
       "                        {},\n",
       "                        {\"showLink\": false, \"linkText\": \"Export to plot.ly\", \"plotlyServerURL\": \"https://plot.ly\", \"responsive\": true}\n",
       "                    ).then(function(){\n",
       "                            \n",
       "var gd = document.getElementById('52614485-a66e-405f-888f-ab7cbb3cb839');\n",
       "var x = new MutationObserver(function (mutations, observer) {{\n",
       "        var display = window.getComputedStyle(gd).display;\n",
       "        if (!display || display === 'none') {{\n",
       "            console.log([gd, 'removed!']);\n",
       "            Plotly.purge(gd);\n",
       "            observer.disconnect();\n",
       "        }}\n",
       "}});\n",
       "\n",
       "// Listen for the removal of the full notebook cells\n",
       "var notebookContainer = gd.closest('#notebook-container');\n",
       "if (notebookContainer) {{\n",
       "    x.observe(notebookContainer, {childList: true});\n",
       "}}\n",
       "\n",
       "// Listen for the clearing of the current output cell\n",
       "var outputEl = gd.closest('.output');\n",
       "if (outputEl) {{\n",
       "    x.observe(outputEl, {childList: true});\n",
       "}}\n",
       "\n",
       "                        })\n",
       "                };\n",
       "                });\n",
       "            </script>\n",
       "        </div>"
      ]
     },
     "metadata": {},
     "output_type": "display_data"
    }
   ],
   "source": [
    "#for i in range(min(len(sent_eu), len(sent_en))):\n",
    "for i in range(len(sent_en)):\n",
    "    \n",
    "    print(f\"\\nSentence #{i}\")\n",
    "    print(\"Basque\")\n",
    "    plot_similarities(sent_eu, similarities_all_eu, scores_all_eu)\n",
    "    print(\"English\")\n",
    "    plot_similarities(sent_en, similarities_all_en, scores_all_en)"
   ]
  },
  {
   "cell_type": "markdown",
   "metadata": {},
   "source": [
    "## 5. Calculate total scores"
   ]
  },
  {
   "cell_type": "code",
   "execution_count": 12,
   "metadata": {
    "scrolled": false
   },
   "outputs": [],
   "source": [
    "def calculate_total_score(scores_all):\n",
    "    total_scores = [0] * len(scores_all[0])\n",
    "    for i in range(len(scores_all)):\n",
    "        total_scores[0] += scores_all[i][0]\n",
    "        total_scores[1] += scores_all[i][1]\n",
    "        total_scores[2] += scores_all[i][2]\n",
    "        total_scores[3] += scores_all[i][3]\n",
    "    print(f\"Total scores: \" + \", \".join(f\"{embed}: {scor}\" for embed, scor in zip(embedding_names, total_scores)))"
   ]
  },
  {
   "cell_type": "code",
   "execution_count": 13,
   "metadata": {
    "scrolled": true
   },
   "outputs": [
    {
     "name": "stdout",
     "output_type": "stream",
     "text": [
      "Total scores: flair: 232, bert_cased: 248, bert_uncased: 265, elmo: 248\n"
     ]
    }
   ],
   "source": [
    "#calculate_total_score(scores_all_eu)\n",
    "calculate_total_score(scores_all_en)"
   ]
  },
  {
   "cell_type": "code",
   "execution_count": null,
   "metadata": {},
   "outputs": [],
   "source": []
  }
 ],
 "metadata": {
  "kernelspec": {
   "display_name": "Python 3",
   "language": "python",
   "name": "python3"
  },
  "language_info": {
   "codemirror_mode": {
    "name": "ipython",
    "version": 3
   },
   "file_extension": ".py",
   "mimetype": "text/x-python",
   "name": "python",
   "nbconvert_exporter": "python",
   "pygments_lexer": "ipython3",
   "version": "3.7.3"
  }
 },
 "nbformat": 4,
 "nbformat_minor": 2
}
