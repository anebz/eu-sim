{
 "cells": [
  {
   "cell_type": "code",
   "execution_count": 1,
   "metadata": {
    "scrolled": true
   },
   "outputs": [
    {
     "data": {
      "text/html": [
       "        <script type=\"text/javascript\">\n",
       "        window.PlotlyConfig = {MathJaxConfig: 'local'};\n",
       "        if (window.MathJax) {MathJax.Hub.Config({SVG: {font: \"STIX-Web\"}});}\n",
       "        if (typeof require !== 'undefined') {\n",
       "        require.undef(\"plotly\");\n",
       "        requirejs.config({\n",
       "            paths: {\n",
       "                'plotly': ['https://cdn.plot.ly/plotly-latest.min']\n",
       "            }\n",
       "        });\n",
       "        require(['plotly'], function(Plotly) {\n",
       "            window._Plotly = Plotly;\n",
       "        });\n",
       "        }\n",
       "        </script>\n",
       "        "
      ]
     },
     "metadata": {},
     "output_type": "display_data"
    }
   ],
   "source": [
    "import torch\n",
    "\n",
    "from flair.data import Sentence\n",
    "from flair.embeddings import DocumentPoolEmbeddings, FlairEmbeddings, BertEmbeddings, ELMoEmbeddings\n",
    "\n",
    "import plotly\n",
    "import plotly.graph_objs as go\n",
    "from plotly.offline import download_plotlyjs, init_notebook_mode, plot, iplot\n",
    "init_notebook_mode(connected=True)"
   ]
  },
  {
   "cell_type": "markdown",
   "metadata": {},
   "source": [
    "## 1. Load embeddings"
   ]
  },
  {
   "cell_type": "code",
   "execution_count": 2,
   "metadata": {
    "scrolled": false
   },
   "outputs": [],
   "source": [
    "# [[flair_eu, bert_cased_eu, bert_uncased eu, elmo_eu], [flair_en, bert_cased_en, bert_uncased en, elmo_en]]\n",
    "embeddings_all = [[], []]\n",
    "embedding_names = [\"flair\", \"bert_cased\", \"bert_uncased\", \"elmo\"]"
   ]
  },
  {
   "cell_type": "code",
   "execution_count": 3,
   "metadata": {
    "scrolled": true
   },
   "outputs": [],
   "source": [
    "# load flair embeddings\n",
    "embeddings_all[0].append(DocumentPoolEmbeddings([FlairEmbeddings('eu-forward'), FlairEmbeddings('eu-backward')]))\n",
    "embeddings_all[1].append(DocumentPoolEmbeddings([FlairEmbeddings('mix-forward'), FlairEmbeddings('mix-backward')]))"
   ]
  },
  {
   "cell_type": "code",
   "execution_count": 4,
   "metadata": {
    "scrolled": false
   },
   "outputs": [
    {
     "name": "stdout",
     "output_type": "stream",
     "text": [
      "2019-07-10 12:20:39,926 The pre-trained model you are loading is a cased model but you have not set `do_lower_case` to False. We are setting `do_lower_case=False` for you but you may want to check this behavior.\n",
      "2019-07-10 12:20:55,764 The pre-trained model you are loading is a cased model but you have not set `do_lower_case` to False. We are setting `do_lower_case=False` for you but you may want to check this behavior.\n"
     ]
    }
   ],
   "source": [
    "# load BERT embeddings\n",
    "\n",
    "# See BERT paper, section 5.3 and table 7\n",
    "bert_layers = '-1,-2,-3,-4'\n",
    "bert_type = 'base' # 'large'\n",
    "\n",
    "# BERT cased\n",
    "embeddings_all[0].append(DocumentPoolEmbeddings([BertEmbeddings('bert-base-multilingual-cased', layers=bert_layers)]))\n",
    "embeddings_all[1].append(DocumentPoolEmbeddings([BertEmbeddings('bert-'+bert_type+'-cased', layers=bert_layers)]))\n",
    "\n",
    "# BERT uncased\n",
    "embeddings_all[0].append(DocumentPoolEmbeddings([BertEmbeddings('bert-base-multilingual-uncased', layers=bert_layers)]))\n",
    "embeddings_all[1].append(DocumentPoolEmbeddings([BertEmbeddings('bert-'+bert_type+'-uncased', layers=bert_layers)]))"
   ]
  },
  {
   "cell_type": "code",
   "execution_count": 5,
   "metadata": {},
   "outputs": [],
   "source": [
    "# load ELMo embeddings\n",
    "embeddings_all[0].append(DocumentPoolEmbeddings([ELMoEmbeddings(options_file=\"https://schweter.eu/cloud/eu-elmo/options.json\", \n",
    "                                                                weight_file=\"https://schweter.eu/cloud/eu-elmo/weights.hdf5\")]))\n",
    "embeddings_all[1].append(DocumentPoolEmbeddings([ELMoEmbeddings()]))"
   ]
  },
  {
   "cell_type": "markdown",
   "metadata": {},
   "source": [
    "## 2. Read file and extract sentences"
   ]
  },
  {
   "cell_type": "code",
   "execution_count": 6,
   "metadata": {
    "scrolled": true
   },
   "outputs": [],
   "source": [
    "test_eu = \"goldstandard_eu_lexicover.tsv\"\n",
    "test_en = \"goldstandard_en_lexicover.tsv\"\n",
    "\n",
    "def get_gold_sentences(filename):\n",
    "    gold_sentences = []\n",
    "    with open(filename, 'rt') as f_p:\n",
    "        for line in f_p:\n",
    "            if line.startswith('\"origin\"'): # header\n",
    "                continue\n",
    "            \n",
    "            if not line:\n",
    "                continue\n",
    "            \n",
    "            line = line.rstrip()\n",
    "            line = line.replace('\"', '')\n",
    "            splitted = line.split('\\t')\n",
    "            gold = splitted[0]\n",
    "            sim_sentences = splitted[1:11]\n",
    "            \n",
    "            if gold:\n",
    "                gold_sentences_simple = {}\n",
    "                gold_sentences_simple[gold] = sim_sentences\n",
    "                gold_sentences.append(gold_sentences_simple)\n",
    "            \n",
    "    return gold_sentences"
   ]
  },
  {
   "cell_type": "code",
   "execution_count": 13,
   "metadata": {
    "scrolled": true
   },
   "outputs": [],
   "source": [
    "sent_eu = get_gold_sentences(test_eu)\n",
    "sent_en = get_gold_sentences(test_en)"
   ]
  },
  {
   "cell_type": "code",
   "execution_count": 8,
   "metadata": {
    "scrolled": true
   },
   "outputs": [],
   "source": [
    "def initialize_vectors(sent):\n",
    "    similarities_all = []\n",
    "    for i in range(len(sent)):\n",
    "        similarities_all.append([])\n",
    "\n",
    "    scores_all = []\n",
    "    for i in range(len(sent)):\n",
    "        scores_all.append([])\n",
    "        \n",
    "    return similarities_all, scores_all"
   ]
  },
  {
   "cell_type": "code",
   "execution_count": 14,
   "metadata": {
    "scrolled": true
   },
   "outputs": [],
   "source": [
    "similarities_all_eu, scores_all_eu = initialize_vectors(sent_eu)\n",
    "similarities_all_en, scores_all_en = initialize_vectors(sent_en)"
   ]
  },
  {
   "cell_type": "markdown",
   "metadata": {},
   "source": [
    "## 3. Calculate similarities"
   ]
  },
  {
   "cell_type": "code",
   "execution_count": 10,
   "metadata": {
    "scrolled": true
   },
   "outputs": [],
   "source": [
    "def calculate_similarities(gold, sim_sentences, embeddings):\n",
    "    \n",
    "    similarities = []\n",
    "    query = gold\n",
    "\n",
    "    q = Sentence(query)\n",
    "    embeddings.embed(q)\n",
    "    score = 0\n",
    "    \n",
    "    for i in range(len(sim_sentences)):\n",
    "        \n",
    "        s = Sentence(sim_sentences[i])\n",
    "        embeddings.embed(s)\n",
    "\n",
    "        assert q.embedding.shape == s.embedding.shape\n",
    "        \n",
    "        cos = torch.nn.CosineSimilarity(dim=0, eps=1e-6)\n",
    "        prox = cos(q.embedding, s.embedding)\n",
    "        similarities.append(round(prox.item(), 4))\n",
    "        \n",
    "        if i > 0 and similarities[i] <= similarities[i-1]:\n",
    "            score += 1\n",
    "        \n",
    "    return similarities, score\n",
    "\n",
    "def calculate(gold_sentences, embeddings, similarities_all, scores_all):\n",
    "    for i in range(len(gold_sentences)):\n",
    "        \n",
    "        # obtain gold sentence and similar sentences from global list\n",
    "        gold = list(gold_sentences[i].keys())[0]\n",
    "        sim_sentences = gold_sentences[i][gold]\n",
    "        \n",
    "        # Calculate similarities for each 'gold' sentence and accumulated score\n",
    "        similarities, score = calculate_similarities(gold, sim_sentences, embeddings)\n",
    "\n",
    "        # append current similarity values and score to the global data structures\n",
    "        scores_all[i].append(score)\n",
    "        similarities_all[i].append(similarities)\n",
    "        \n",
    "    return similarities_all, scores_all"
   ]
  },
  {
   "cell_type": "code",
   "execution_count": 15,
   "metadata": {
    "scrolled": false
   },
   "outputs": [
    {
     "name": "stdout",
     "output_type": "stream",
     "text": [
      "Calculating flair embeddings for basque\n",
      "Calculating flair embeddings for english\n",
      "Calculating bert_cased embeddings for basque\n",
      "Calculating bert_cased embeddings for english\n",
      "Calculating bert_uncased embeddings for basque\n",
      "Calculating bert_uncased embeddings for english\n",
      "Calculating elmo embeddings for basque\n",
      "Calculating elmo embeddings for english\n"
     ]
    }
   ],
   "source": [
    "for i in range(len(embeddings_all[0])):\n",
    "    print(f\"Calculating {embedding_names[i]} embeddings for basque\")\n",
    "    similarities_all_eu, scores_all_eu = calculate(sent_eu, embeddings_all[0][i], similarities_all_eu, scores_all_eu)\n",
    "    print(f\"Calculating {embedding_names[i]} embeddings for english\")\n",
    "    similarities_all_en, scores_all_en = calculate(sent_en, embeddings_all[1][i], similarities_all_en, scores_all_en)"
   ]
  },
  {
   "cell_type": "markdown",
   "metadata": {},
   "source": [
    "## 4. Plot similarities"
   ]
  },
  {
   "cell_type": "code",
   "execution_count": 16,
   "metadata": {
    "scrolled": false
   },
   "outputs": [
    {
     "name": "stdout",
     "output_type": "stream",
     "text": [
      "This is the format of your plot grid:\n",
      "[ (1,1) x1,y1 ]     [ (1,2) x2,y2 ]     [ (1,3) x3,y3 ]     [ (1,4) x4,y4 ]     [ (1,5) x5,y5 ]     [ (1,6) x6,y6 ]     [ (1,7) x7,y7 ]     [ (1,8) x8,y8 ]     [ (1,9) x9,y9 ]     [ (1,10) x10,y10 ]\n",
      "\n",
      "Sentence #0\n",
      "Basque\n",
      "medikuak gaixoa bazkaltzera gonbidatu zuen\n",
      "\n",
      "0. gaixoak medikua bazkaltzera gonbidatu zuen\n",
      "\t flair similarity: 0.9796\n",
      "\t bert_cased similarity: 0.9869\n",
      "\t bert_uncased similarity: 0.987\n",
      "\t elmo similarity: 0.9864\n",
      "1. bazkariak medikua gaixo batera gonbidatu zuen\n",
      "\t flair similarity: 0.8786\n",
      "\t bert_cased similarity: 0.9737\n",
      "\t bert_uncased similarity: 0.9681\n",
      "\t elmo similarity: 0.8772\n",
      "2. batera zuen gaixoak medikua gonbidatu bazkari\n",
      "\t flair similarity: 0.7096\n",
      "\t bert_cased similarity: 0.9458\n",
      "\t bert_uncased similarity: 0.9579\n",
      "\t elmo similarity: 0.7741\n",
      "Scores: flair: 2, bert_cased: 2, bert_uncased: 2, elmo: 2\n"
     ]
    },
    {
     "data": {
      "application/vnd.plotly.v1+json": {
       "config": {
        "linkText": "Export to plot.ly",
        "plotlyServerURL": "https://plot.ly",
        "showLink": false
       },
       "data": [
        {
         "colorscale": "Blues",
         "type": "heatmap",
         "uid": "e0e684d1-9edf-4763-b79b-5713f4835c98",
         "y": [
          "flair",
          "bert_cased",
          "bert_uncased",
          "elmo"
         ],
         "z": [
          [
           0.9796,
           0.8786,
           0.7096
          ],
          [
           0.9869,
           0.9737,
           0.9458
          ],
          [
           0.987,
           0.9681,
           0.9579
          ],
          [
           0.9864,
           0.8772,
           0.7741
          ]
         ]
        }
       ],
       "layout": {}
      },
      "text/html": [
       "<div>\n",
       "        \n",
       "        \n",
       "            <div id=\"6c325356-a5a6-4e4f-8892-9414f9ba6a14\" class=\"plotly-graph-div\" style=\"height:525px; width:100%;\"></div>\n",
       "            <script type=\"text/javascript\">\n",
       "                require([\"plotly\"], function(Plotly) {\n",
       "                    window.PLOTLYENV=window.PLOTLYENV || {};\n",
       "                    window.PLOTLYENV.BASE_URL='https://plot.ly';\n",
       "                    \n",
       "                if (document.getElementById(\"6c325356-a5a6-4e4f-8892-9414f9ba6a14\")) {\n",
       "                    Plotly.newPlot(\n",
       "                        '6c325356-a5a6-4e4f-8892-9414f9ba6a14',\n",
       "                        [{\"colorscale\": \"Blues\", \"type\": \"heatmap\", \"uid\": \"e0e684d1-9edf-4763-b79b-5713f4835c98\", \"y\": [\"flair\", \"bert_cased\", \"bert_uncased\", \"elmo\"], \"z\": [[0.9796, 0.8786, 0.7096], [0.9869, 0.9737, 0.9458], [0.987, 0.9681, 0.9579], [0.9864, 0.8772, 0.7741]]}],\n",
       "                        {},\n",
       "                        {\"showLink\": false, \"linkText\": \"Export to plot.ly\", \"plotlyServerURL\": \"https://plot.ly\", \"responsive\": true}\n",
       "                    ).then(function(){\n",
       "                            \n",
       "var gd = document.getElementById('6c325356-a5a6-4e4f-8892-9414f9ba6a14');\n",
       "var x = new MutationObserver(function (mutations, observer) {{\n",
       "        var display = window.getComputedStyle(gd).display;\n",
       "        if (!display || display === 'none') {{\n",
       "            console.log([gd, 'removed!']);\n",
       "            Plotly.purge(gd);\n",
       "            observer.disconnect();\n",
       "        }}\n",
       "}});\n",
       "\n",
       "// Listen for the removal of the full notebook cells\n",
       "var notebookContainer = gd.closest('#notebook-container');\n",
       "if (notebookContainer) {{\n",
       "    x.observe(notebookContainer, {childList: true});\n",
       "}}\n",
       "\n",
       "// Listen for the clearing of the current output cell\n",
       "var outputEl = gd.closest('.output');\n",
       "if (outputEl) {{\n",
       "    x.observe(outputEl, {childList: true});\n",
       "}}\n",
       "\n",
       "                        })\n",
       "                };\n",
       "                });\n",
       "            </script>\n",
       "        </div>"
      ]
     },
     "metadata": {},
     "output_type": "display_data"
    },
    {
     "name": "stdout",
     "output_type": "stream",
     "text": [
      "English\n",
      "the doctor invited the patient for lunch\n",
      "\n",
      "0. the patient invited the doctor for lunch\n",
      "\t flair similarity: 0.9852\n",
      "\t bert_cased similarity: 0.9965\n",
      "\t bert_uncased similarity: 0.984\n",
      "\t elmo similarity: 0.962\n",
      "1. the lunch invited the doctor for the patient\n",
      "\t flair similarity: 0.9427\n",
      "\t bert_cased similarity: 0.9698\n",
      "\t bert_uncased similarity: 0.8576\n",
      "\t elmo similarity: 0.8774\n",
      "2. for invited patient the doctor the lunch\n",
      "\t flair similarity: 0.8903\n",
      "\t bert_cased similarity: 0.9317\n",
      "\t bert_uncased similarity: 0.7869\n",
      "\t elmo similarity: 0.8197\n",
      "Scores: flair: 2, bert_cased: 2, bert_uncased: 2, elmo: 2\n"
     ]
    },
    {
     "data": {
      "application/vnd.plotly.v1+json": {
       "config": {
        "linkText": "Export to plot.ly",
        "plotlyServerURL": "https://plot.ly",
        "showLink": false
       },
       "data": [
        {
         "colorscale": "Blues",
         "type": "heatmap",
         "uid": "2f396eec-0ccd-401c-926c-3c33d2d926ca",
         "y": [
          "flair",
          "bert_cased",
          "bert_uncased",
          "elmo"
         ],
         "z": [
          [
           0.9852,
           0.9427,
           0.8903
          ],
          [
           0.9965,
           0.9698,
           0.9317
          ],
          [
           0.984,
           0.8576,
           0.7869
          ],
          [
           0.962,
           0.8774,
           0.8197
          ]
         ]
        }
       ],
       "layout": {}
      },
      "text/html": [
       "<div>\n",
       "        \n",
       "        \n",
       "            <div id=\"fdd8fd48-dfbb-4d37-922d-d97c29243892\" class=\"plotly-graph-div\" style=\"height:525px; width:100%;\"></div>\n",
       "            <script type=\"text/javascript\">\n",
       "                require([\"plotly\"], function(Plotly) {\n",
       "                    window.PLOTLYENV=window.PLOTLYENV || {};\n",
       "                    window.PLOTLYENV.BASE_URL='https://plot.ly';\n",
       "                    \n",
       "                if (document.getElementById(\"fdd8fd48-dfbb-4d37-922d-d97c29243892\")) {\n",
       "                    Plotly.newPlot(\n",
       "                        'fdd8fd48-dfbb-4d37-922d-d97c29243892',\n",
       "                        [{\"colorscale\": \"Blues\", \"type\": \"heatmap\", \"uid\": \"2f396eec-0ccd-401c-926c-3c33d2d926ca\", \"y\": [\"flair\", \"bert_cased\", \"bert_uncased\", \"elmo\"], \"z\": [[0.9852, 0.9427, 0.8903], [0.9965, 0.9698, 0.9317], [0.984, 0.8576, 0.7869], [0.962, 0.8774, 0.8197]]}],\n",
       "                        {},\n",
       "                        {\"showLink\": false, \"linkText\": \"Export to plot.ly\", \"plotlyServerURL\": \"https://plot.ly\", \"responsive\": true}\n",
       "                    ).then(function(){\n",
       "                            \n",
       "var gd = document.getElementById('fdd8fd48-dfbb-4d37-922d-d97c29243892');\n",
       "var x = new MutationObserver(function (mutations, observer) {{\n",
       "        var display = window.getComputedStyle(gd).display;\n",
       "        if (!display || display === 'none') {{\n",
       "            console.log([gd, 'removed!']);\n",
       "            Plotly.purge(gd);\n",
       "            observer.disconnect();\n",
       "        }}\n",
       "}});\n",
       "\n",
       "// Listen for the removal of the full notebook cells\n",
       "var notebookContainer = gd.closest('#notebook-container');\n",
       "if (notebookContainer) {{\n",
       "    x.observe(notebookContainer, {childList: true});\n",
       "}}\n",
       "\n",
       "// Listen for the clearing of the current output cell\n",
       "var outputEl = gd.closest('.output');\n",
       "if (outputEl) {{\n",
       "    x.observe(outputEl, {childList: true});\n",
       "}}\n",
       "\n",
       "                        })\n",
       "                };\n",
       "                });\n",
       "            </script>\n",
       "        </div>"
      ]
     },
     "metadata": {},
     "output_type": "display_data"
    },
    {
     "name": "stdout",
     "output_type": "stream",
     "text": [
      "Sentence #1\n",
      "Basque\n",
      "medikuak gaixoa bazkaltzera gonbidatu zuen\n",
      "\n",
      "0. gaixoak medikua bazkaltzera gonbidatu zuen\n",
      "\t flair similarity: 0.9796\n",
      "\t bert_cased similarity: 0.9869\n",
      "\t bert_uncased similarity: 0.987\n",
      "\t elmo similarity: 0.9864\n",
      "1. medikuak ez zuen gaixoa bazkaltzera gonbidatu\n",
      "\t flair similarity: 0.7504\n",
      "\t bert_cased similarity: 0.9613\n",
      "\t bert_uncased similarity: 0.9657\n",
      "\t elmo similarity: 0.8515\n",
      "2. umeak aitona gonbidatu zuen bazkaltzera\n",
      "\t flair similarity: 0.843\n",
      "\t bert_cased similarity: 0.9269\n",
      "\t bert_uncased similarity: 0.902\n",
      "\t elmo similarity: 0.7864\n",
      "3. medikuak gaixoari esan zion, fraude bat zela\n",
      "\t flair similarity: 0.6556\n",
      "\t bert_cased similarity: 0.9148\n",
      "\t bert_uncased similarity: 0.9284\n",
      "\t elmo similarity: 0.7262\n",
      "4. gai hori medikuaren eta gaixoaren artekoa da\n",
      "\t flair similarity: 0.426\n",
      "\t bert_cased similarity: 0.8215\n",
      "\t bert_uncased similarity: 0.8578\n",
      "\t elmo similarity: 0.5235\n",
      "5. umeak eta aitona bazkaltzera gonbidatuak izan ziren\n",
      "\t flair similarity: 0.7815\n",
      "\t bert_cased similarity: 0.9179\n",
      "\t bert_uncased similarity: 0.8958\n",
      "\t elmo similarity: 0.6864\n",
      "Scores: flair: 3, bert_cased: 4, bert_uncased: 3, elmo: 4\n"
     ]
    },
    {
     "data": {
      "application/vnd.plotly.v1+json": {
       "config": {
        "linkText": "Export to plot.ly",
        "plotlyServerURL": "https://plot.ly",
        "showLink": false
       },
       "data": [
        {
         "colorscale": "Blues",
         "type": "heatmap",
         "uid": "81e7db1f-6129-4fac-aba7-c7f7f1256288",
         "y": [
          "flair",
          "bert_cased",
          "bert_uncased",
          "elmo"
         ],
         "z": [
          [
           0.9796,
           0.7504,
           0.843,
           0.6556,
           0.426,
           0.7815
          ],
          [
           0.9869,
           0.9613,
           0.9269,
           0.9148,
           0.8215,
           0.9179
          ],
          [
           0.987,
           0.9657,
           0.902,
           0.9284,
           0.8578,
           0.8958
          ],
          [
           0.9864,
           0.8515,
           0.7864,
           0.7262,
           0.5235,
           0.6864
          ]
         ]
        }
       ],
       "layout": {}
      },
      "text/html": [
       "<div>\n",
       "        \n",
       "        \n",
       "            <div id=\"77bc8cfe-bfb9-4a5e-9157-25803af70924\" class=\"plotly-graph-div\" style=\"height:525px; width:100%;\"></div>\n",
       "            <script type=\"text/javascript\">\n",
       "                require([\"plotly\"], function(Plotly) {\n",
       "                    window.PLOTLYENV=window.PLOTLYENV || {};\n",
       "                    window.PLOTLYENV.BASE_URL='https://plot.ly';\n",
       "                    \n",
       "                if (document.getElementById(\"77bc8cfe-bfb9-4a5e-9157-25803af70924\")) {\n",
       "                    Plotly.newPlot(\n",
       "                        '77bc8cfe-bfb9-4a5e-9157-25803af70924',\n",
       "                        [{\"colorscale\": \"Blues\", \"type\": \"heatmap\", \"uid\": \"81e7db1f-6129-4fac-aba7-c7f7f1256288\", \"y\": [\"flair\", \"bert_cased\", \"bert_uncased\", \"elmo\"], \"z\": [[0.9796, 0.7504, 0.843, 0.6556, 0.426, 0.7815], [0.9869, 0.9613, 0.9269, 0.9148, 0.8215, 0.9179], [0.987, 0.9657, 0.902, 0.9284, 0.8578, 0.8958], [0.9864, 0.8515, 0.7864, 0.7262, 0.5235, 0.6864]]}],\n",
       "                        {},\n",
       "                        {\"showLink\": false, \"linkText\": \"Export to plot.ly\", \"plotlyServerURL\": \"https://plot.ly\", \"responsive\": true}\n",
       "                    ).then(function(){\n",
       "                            \n",
       "var gd = document.getElementById('77bc8cfe-bfb9-4a5e-9157-25803af70924');\n",
       "var x = new MutationObserver(function (mutations, observer) {{\n",
       "        var display = window.getComputedStyle(gd).display;\n",
       "        if (!display || display === 'none') {{\n",
       "            console.log([gd, 'removed!']);\n",
       "            Plotly.purge(gd);\n",
       "            observer.disconnect();\n",
       "        }}\n",
       "}});\n",
       "\n",
       "// Listen for the removal of the full notebook cells\n",
       "var notebookContainer = gd.closest('#notebook-container');\n",
       "if (notebookContainer) {{\n",
       "    x.observe(notebookContainer, {childList: true});\n",
       "}}\n",
       "\n",
       "// Listen for the clearing of the current output cell\n",
       "var outputEl = gd.closest('.output');\n",
       "if (outputEl) {{\n",
       "    x.observe(outputEl, {childList: true});\n",
       "}}\n",
       "\n",
       "                        })\n",
       "                };\n",
       "                });\n",
       "            </script>\n",
       "        </div>"
      ]
     },
     "metadata": {},
     "output_type": "display_data"
    },
    {
     "name": "stdout",
     "output_type": "stream",
     "text": [
      "English\n",
      "the doctor invited the patient for lunch\n",
      "\n",
      "0. the patient invited the doctor for lunch\n",
      "\t flair similarity: 0.9852\n",
      "\t bert_cased similarity: 0.9965\n",
      "\t bert_uncased similarity: 0.984\n",
      "\t elmo similarity: 0.9634\n",
      "1. the doctor did not invite the patient for lunch\n",
      "\t flair similarity: 0.9295\n",
      "\t bert_cased similarity: 0.9707\n",
      "\t bert_uncased similarity: 0.9105\n",
      "\t elmo similarity: 0.8994\n",
      "2. the child invited the grandfather for lunch\n",
      "\t flair similarity: 0.9297\n",
      "\t bert_cased similarity: 0.9736\n",
      "\t bert_uncased similarity: 0.8806\n",
      "\t elmo similarity: 0.8481\n",
      "3. the doctor told the patient he was a fraud\n",
      "\t flair similarity: 0.8371\n",
      "\t bert_cased similarity: 0.9349\n",
      "\t bert_uncased similarity: 0.8181\n",
      "\t elmo similarity: 0.7105\n",
      "4. that is a matter between the doctor and the patient\n",
      "\t flair similarity: 0.7775\n",
      "\t bert_cased similarity: 0.8978\n",
      "\t bert_uncased similarity: 0.6924\n",
      "\t elmo similarity: 0.6286\n",
      "5. the child and the grandfather got invited for lunch\n",
      "\t flair similarity: 0.8854\n",
      "\t bert_cased similarity: 0.9584\n",
      "\t bert_uncased similarity: 0.8484\n",
      "\t elmo similarity: 0.7697\n",
      "Scores: flair: 3, bert_cased: 3, bert_uncased: 4, elmo: 4\n"
     ]
    },
    {
     "data": {
      "application/vnd.plotly.v1+json": {
       "config": {
        "linkText": "Export to plot.ly",
        "plotlyServerURL": "https://plot.ly",
        "showLink": false
       },
       "data": [
        {
         "colorscale": "Blues",
         "type": "heatmap",
         "uid": "2d366ad4-a2c5-4b21-911d-c3690b75a32c",
         "y": [
          "flair",
          "bert_cased",
          "bert_uncased",
          "elmo"
         ],
         "z": [
          [
           0.9852,
           0.9295,
           0.9297,
           0.8371,
           0.7775,
           0.8854
          ],
          [
           0.9965,
           0.9707,
           0.9736,
           0.9349,
           0.8978,
           0.9584
          ],
          [
           0.984,
           0.9105,
           0.8806,
           0.8181,
           0.6924,
           0.8484
          ],
          [
           0.9634,
           0.8994,
           0.8481,
           0.7105,
           0.6286,
           0.7697
          ]
         ]
        }
       ],
       "layout": {}
      },
      "text/html": [
       "<div>\n",
       "        \n",
       "        \n",
       "            <div id=\"cf3e6918-6749-46a3-946d-7f10126247fd\" class=\"plotly-graph-div\" style=\"height:525px; width:100%;\"></div>\n",
       "            <script type=\"text/javascript\">\n",
       "                require([\"plotly\"], function(Plotly) {\n",
       "                    window.PLOTLYENV=window.PLOTLYENV || {};\n",
       "                    window.PLOTLYENV.BASE_URL='https://plot.ly';\n",
       "                    \n",
       "                if (document.getElementById(\"cf3e6918-6749-46a3-946d-7f10126247fd\")) {\n",
       "                    Plotly.newPlot(\n",
       "                        'cf3e6918-6749-46a3-946d-7f10126247fd',\n",
       "                        [{\"colorscale\": \"Blues\", \"type\": \"heatmap\", \"uid\": \"2d366ad4-a2c5-4b21-911d-c3690b75a32c\", \"y\": [\"flair\", \"bert_cased\", \"bert_uncased\", \"elmo\"], \"z\": [[0.9852, 0.9295, 0.9297, 0.8371, 0.7775, 0.8854], [0.9965, 0.9707, 0.9736, 0.9349, 0.8978, 0.9584], [0.984, 0.9105, 0.8806, 0.8181, 0.6924, 0.8484], [0.9634, 0.8994, 0.8481, 0.7105, 0.6286, 0.7697]]}],\n",
       "                        {},\n",
       "                        {\"showLink\": false, \"linkText\": \"Export to plot.ly\", \"plotlyServerURL\": \"https://plot.ly\", \"responsive\": true}\n",
       "                    ).then(function(){\n",
       "                            \n",
       "var gd = document.getElementById('cf3e6918-6749-46a3-946d-7f10126247fd');\n",
       "var x = new MutationObserver(function (mutations, observer) {{\n",
       "        var display = window.getComputedStyle(gd).display;\n",
       "        if (!display || display === 'none') {{\n",
       "            console.log([gd, 'removed!']);\n",
       "            Plotly.purge(gd);\n",
       "            observer.disconnect();\n",
       "        }}\n",
       "}});\n",
       "\n",
       "// Listen for the removal of the full notebook cells\n",
       "var notebookContainer = gd.closest('#notebook-container');\n",
       "if (notebookContainer) {{\n",
       "    x.observe(notebookContainer, {childList: true});\n",
       "}}\n",
       "\n",
       "// Listen for the clearing of the current output cell\n",
       "var outputEl = gd.closest('.output');\n",
       "if (outputEl) {{\n",
       "    x.observe(outputEl, {childList: true});\n",
       "}}\n",
       "\n",
       "                        })\n",
       "                };\n",
       "                });\n",
       "            </script>\n",
       "        </div>"
      ]
     },
     "metadata": {},
     "output_type": "display_data"
    },
    {
     "name": "stdout",
     "output_type": "stream",
     "text": [
      "Sentence #2\n",
      "Basque\n",
      "Medikuak gaixoa bazkaltzera gonbidatu zuen\n",
      "\n",
      "0. Medikuak gaixoa afari batera gonbidatu zuen\n",
      "\t flair similarity: 0.888\n",
      "\t bert_cased similarity: 0.9626\n",
      "\t bert_uncased similarity: 0.9691\n",
      "\t elmo similarity: 0.9184\n",
      "1. Medikuak gaixoa bazkaltzera gonbidatu du\n",
      "\t flair similarity: 0.9254\n",
      "\t bert_cased similarity: 0.969\n",
      "\t bert_uncased similarity: 0.9498\n",
      "\t elmo similarity: 0.9669\n",
      "2. Medikuak gaixoari esan zion, sendatuko zela\n",
      "\t flair similarity: 0.6711\n",
      "\t bert_cased similarity: 0.9261\n",
      "\t bert_uncased similarity: 0.9367\n",
      "\t elmo similarity: 0.7402\n",
      "3. Irakasleak ikaslea bazkaltzera gonbidatu zuen\n",
      "\t flair similarity: 0.8798\n",
      "\t bert_cased similarity: 0.9415\n",
      "\t bert_uncased similarity: 0.9275\n",
      "\t elmo similarity: 0.8622\n",
      "4. Suhiltzaileak zientzialaria bazkaltzera gonbidatu zuen\n",
      "\t flair similarity: 0.8834\n",
      "\t bert_cased similarity: 0.8932\n",
      "\t bert_uncased similarity: 0.944\n",
      "\t elmo similarity: 0.8883\n",
      "5. Medikuak ez zuen gaixoa bazkaltzera gonbidatu\n",
      "\t flair similarity: 0.7508\n",
      "\t bert_cased similarity: 0.9594\n",
      "\t bert_uncased similarity: 0.9657\n",
      "\t elmo similarity: 0.8525\n",
      "6. Gaixoak medikua bazkaltzera gonbidatu zuen\n",
      "\t flair similarity: 0.9683\n",
      "\t bert_cased similarity: 0.9421\n",
      "\t bert_uncased similarity: 0.987\n",
      "\t elmo similarity: 0.9814\n",
      "7. Zuen gaixoa batera bazkari medikuak gonbidatu\n",
      "\t flair similarity: 0.6745\n",
      "\t bert_cased similarity: 0.9225\n",
      "\t bert_uncased similarity: 0.9577\n",
      "\t elmo similarity: 0.7395\n",
      "8. Midekauk goaxia bakrazi betraa gibondtau zeun\n",
      "\t flair similarity: 0.5344\n",
      "\t bert_cased similarity: 0.8263\n",
      "\t bert_uncased similarity: 0.7693\n",
      "\t elmo similarity: 0.4331\n",
      "9. Utzi iezadazu laguntzen maletarekin\n",
      "\t flair similarity: 0.5057\n",
      "\t bert_cased similarity: 0.8277\n",
      "\t bert_uncased similarity: 0.8549\n",
      "\t elmo similarity: 0.4278\n",
      "Scores: flair: 5, bert_cased: 5, bert_uncased: 5, elmo: 5\n"
     ]
    },
    {
     "data": {
      "application/vnd.plotly.v1+json": {
       "config": {
        "linkText": "Export to plot.ly",
        "plotlyServerURL": "https://plot.ly",
        "showLink": false
       },
       "data": [
        {
         "colorscale": "Blues",
         "type": "heatmap",
         "uid": "a69a320c-11ae-498b-a3ac-ac0286b23ae6",
         "y": [
          "flair",
          "bert_cased",
          "bert_uncased",
          "elmo"
         ],
         "z": [
          [
           0.888,
           0.9254,
           0.6711,
           0.8798,
           0.8834,
           0.7508,
           0.9683,
           0.6745,
           0.5344,
           0.5057
          ],
          [
           0.9626,
           0.969,
           0.9261,
           0.9415,
           0.8932,
           0.9594,
           0.9421,
           0.9225,
           0.8263,
           0.8277
          ],
          [
           0.9691,
           0.9498,
           0.9367,
           0.9275,
           0.944,
           0.9657,
           0.987,
           0.9577,
           0.7693,
           0.8549
          ],
          [
           0.9184,
           0.9669,
           0.7402,
           0.8622,
           0.8883,
           0.8525,
           0.9814,
           0.7395,
           0.4331,
           0.4278
          ]
         ]
        }
       ],
       "layout": {}
      },
      "text/html": [
       "<div>\n",
       "        \n",
       "        \n",
       "            <div id=\"36d8e3a4-cc90-4cd9-bc32-a9c7df678f52\" class=\"plotly-graph-div\" style=\"height:525px; width:100%;\"></div>\n",
       "            <script type=\"text/javascript\">\n",
       "                require([\"plotly\"], function(Plotly) {\n",
       "                    window.PLOTLYENV=window.PLOTLYENV || {};\n",
       "                    window.PLOTLYENV.BASE_URL='https://plot.ly';\n",
       "                    \n",
       "                if (document.getElementById(\"36d8e3a4-cc90-4cd9-bc32-a9c7df678f52\")) {\n",
       "                    Plotly.newPlot(\n",
       "                        '36d8e3a4-cc90-4cd9-bc32-a9c7df678f52',\n",
       "                        [{\"colorscale\": \"Blues\", \"type\": \"heatmap\", \"uid\": \"a69a320c-11ae-498b-a3ac-ac0286b23ae6\", \"y\": [\"flair\", \"bert_cased\", \"bert_uncased\", \"elmo\"], \"z\": [[0.888, 0.9254, 0.6711, 0.8798, 0.8834, 0.7508, 0.9683, 0.6745, 0.5344, 0.5057], [0.9626, 0.969, 0.9261, 0.9415, 0.8932, 0.9594, 0.9421, 0.9225, 0.8263, 0.8277], [0.9691, 0.9498, 0.9367, 0.9275, 0.944, 0.9657, 0.987, 0.9577, 0.7693, 0.8549], [0.9184, 0.9669, 0.7402, 0.8622, 0.8883, 0.8525, 0.9814, 0.7395, 0.4331, 0.4278]]}],\n",
       "                        {},\n",
       "                        {\"showLink\": false, \"linkText\": \"Export to plot.ly\", \"plotlyServerURL\": \"https://plot.ly\", \"responsive\": true}\n",
       "                    ).then(function(){\n",
       "                            \n",
       "var gd = document.getElementById('36d8e3a4-cc90-4cd9-bc32-a9c7df678f52');\n",
       "var x = new MutationObserver(function (mutations, observer) {{\n",
       "        var display = window.getComputedStyle(gd).display;\n",
       "        if (!display || display === 'none') {{\n",
       "            console.log([gd, 'removed!']);\n",
       "            Plotly.purge(gd);\n",
       "            observer.disconnect();\n",
       "        }}\n",
       "}});\n",
       "\n",
       "// Listen for the removal of the full notebook cells\n",
       "var notebookContainer = gd.closest('#notebook-container');\n",
       "if (notebookContainer) {{\n",
       "    x.observe(notebookContainer, {childList: true});\n",
       "}}\n",
       "\n",
       "// Listen for the clearing of the current output cell\n",
       "var outputEl = gd.closest('.output');\n",
       "if (outputEl) {{\n",
       "    x.observe(outputEl, {childList: true});\n",
       "}}\n",
       "\n",
       "                        })\n",
       "                };\n",
       "                });\n",
       "            </script>\n",
       "        </div>"
      ]
     },
     "metadata": {},
     "output_type": "display_data"
    },
    {
     "name": "stdout",
     "output_type": "stream",
     "text": [
      "English\n",
      "the doctor invited the patient for lunch\n",
      "\n",
      "0. the patient invited the doctor for lunch\n",
      "\t flair similarity: 0.9852\n",
      "\t bert_cased similarity: 0.9965\n",
      "\t bert_uncased similarity: 0.984\n",
      "\t elmo similarity: 0.9621\n",
      "1. the doctor invited the patient for dinner\n",
      "\t flair similarity: 0.979\n",
      "\t bert_cased similarity: 0.9943\n",
      "\t bert_uncased similarity: 0.9781\n",
      "\t elmo similarity: 0.983\n",
      "2. the doctor has invited the patient for lunch\n",
      "\t flair similarity: 0.9799\n",
      "\t bert_cased similarity: 0.9846\n",
      "\t bert_uncased similarity: 0.9366\n",
      "\t elmo similarity: 0.9655\n",
      "3. the patient did not invite the doctor for lunch\n",
      "\t flair similarity: 0.9127\n",
      "\t bert_cased similarity: 0.9667\n",
      "\t bert_uncased similarity: 0.8959\n",
      "\t elmo similarity: 0.8667\n",
      "4. the doctor examined the patient before lunch\n",
      "\t flair similarity: 0.9134\n",
      "\t bert_cased similarity: 0.9579\n",
      "\t bert_uncased similarity: 0.8866\n",
      "\t elmo similarity: 0.8298\n",
      "5. the doctor thought of inviting the patient for lunch\n",
      "\t flair similarity: 0.9302\n",
      "\t bert_cased similarity: 0.9763\n",
      "\t bert_uncased similarity: 0.8961\n",
      "\t elmo similarity: 0.8968\n",
      "6. having lunch was not important for the patient and the doctor\n",
      "\t flair similarity: 0.8328\n",
      "\t bert_cased similarity: 0.9275\n",
      "\t bert_uncased similarity: 0.7899\n",
      "\t elmo similarity: 0.705\n",
      "7. despite having lunch together, the patient did not like the doctor\n",
      "\t flair similarity: 0.8063\n",
      "\t bert_cased similarity: 0.9369\n",
      "\t bert_uncased similarity: 0.8018\n",
      "\t elmo similarity: 0.6885\n",
      "8. the surgeon proposed a snack to the sick person\n",
      "\t flair similarity: 0.8322\n",
      "\t bert_cased similarity: 0.951\n",
      "\t bert_uncased similarity: 0.8397\n",
      "\t elmo similarity: 0.737\n",
      "9. let me help you with that suitcase\n",
      "\t flair similarity: 0.6245\n",
      "\t bert_cased similarity: 0.8512\n",
      "\t bert_uncased similarity: 0.4863\n",
      "\t elmo similarity: 0.5123\n",
      "Scores: flair: 5, bert_cased: 6, bert_uncased: 6, elmo: 6\n"
     ]
    },
    {
     "data": {
      "application/vnd.plotly.v1+json": {
       "config": {
        "linkText": "Export to plot.ly",
        "plotlyServerURL": "https://plot.ly",
        "showLink": false
       },
       "data": [
        {
         "colorscale": "Blues",
         "type": "heatmap",
         "uid": "c9e2df78-82cf-4c7a-ab06-25c334d3e3d5",
         "y": [
          "flair",
          "bert_cased",
          "bert_uncased",
          "elmo"
         ],
         "z": [
          [
           0.9852,
           0.979,
           0.9799,
           0.9127,
           0.9134,
           0.9302,
           0.8328,
           0.8063,
           0.8322,
           0.6245
          ],
          [
           0.9965,
           0.9943,
           0.9846,
           0.9667,
           0.9579,
           0.9763,
           0.9275,
           0.9369,
           0.951,
           0.8512
          ],
          [
           0.984,
           0.9781,
           0.9366,
           0.8959,
           0.8866,
           0.8961,
           0.7899,
           0.8018,
           0.8397,
           0.4863
          ],
          [
           0.9621,
           0.983,
           0.9655,
           0.8667,
           0.8298,
           0.8968,
           0.705,
           0.6885,
           0.737,
           0.5123
          ]
         ]
        }
       ],
       "layout": {}
      },
      "text/html": [
       "<div>\n",
       "        \n",
       "        \n",
       "            <div id=\"dc1b2314-c3b3-4cc1-8c3b-f6ac181d680c\" class=\"plotly-graph-div\" style=\"height:525px; width:100%;\"></div>\n",
       "            <script type=\"text/javascript\">\n",
       "                require([\"plotly\"], function(Plotly) {\n",
       "                    window.PLOTLYENV=window.PLOTLYENV || {};\n",
       "                    window.PLOTLYENV.BASE_URL='https://plot.ly';\n",
       "                    \n",
       "                if (document.getElementById(\"dc1b2314-c3b3-4cc1-8c3b-f6ac181d680c\")) {\n",
       "                    Plotly.newPlot(\n",
       "                        'dc1b2314-c3b3-4cc1-8c3b-f6ac181d680c',\n",
       "                        [{\"colorscale\": \"Blues\", \"type\": \"heatmap\", \"uid\": \"c9e2df78-82cf-4c7a-ab06-25c334d3e3d5\", \"y\": [\"flair\", \"bert_cased\", \"bert_uncased\", \"elmo\"], \"z\": [[0.9852, 0.979, 0.9799, 0.9127, 0.9134, 0.9302, 0.8328, 0.8063, 0.8322, 0.6245], [0.9965, 0.9943, 0.9846, 0.9667, 0.9579, 0.9763, 0.9275, 0.9369, 0.951, 0.8512], [0.984, 0.9781, 0.9366, 0.8959, 0.8866, 0.8961, 0.7899, 0.8018, 0.8397, 0.4863], [0.9621, 0.983, 0.9655, 0.8667, 0.8298, 0.8968, 0.705, 0.6885, 0.737, 0.5123]]}],\n",
       "                        {},\n",
       "                        {\"showLink\": false, \"linkText\": \"Export to plot.ly\", \"plotlyServerURL\": \"https://plot.ly\", \"responsive\": true}\n",
       "                    ).then(function(){\n",
       "                            \n",
       "var gd = document.getElementById('dc1b2314-c3b3-4cc1-8c3b-f6ac181d680c');\n",
       "var x = new MutationObserver(function (mutations, observer) {{\n",
       "        var display = window.getComputedStyle(gd).display;\n",
       "        if (!display || display === 'none') {{\n",
       "            console.log([gd, 'removed!']);\n",
       "            Plotly.purge(gd);\n",
       "            observer.disconnect();\n",
       "        }}\n",
       "}});\n",
       "\n",
       "// Listen for the removal of the full notebook cells\n",
       "var notebookContainer = gd.closest('#notebook-container');\n",
       "if (notebookContainer) {{\n",
       "    x.observe(notebookContainer, {childList: true});\n",
       "}}\n",
       "\n",
       "// Listen for the clearing of the current output cell\n",
       "var outputEl = gd.closest('.output');\n",
       "if (outputEl) {{\n",
       "    x.observe(outputEl, {childList: true});\n",
       "}}\n",
       "\n",
       "                        })\n",
       "                };\n",
       "                });\n",
       "            </script>\n",
       "        </div>"
      ]
     },
     "metadata": {},
     "output_type": "display_data"
    }
   ],
   "source": [
    "fig = plotly.tools.make_subplots(rows=1, cols=10)\n",
    "\n",
    "def plot_similarities(sent, similarities_all, scores_all):\n",
    "    origin = list(sent[i].keys())[0]\n",
    "    # print origin sentence\n",
    "    print(origin + '\\n')\n",
    "    for j in range(len(sent[i][origin])):\n",
    "        # print each similar sentence\n",
    "        print(f\"{j}. {sent[i][origin][j]}\")\n",
    "        for k in range(len(embedding_names)):\n",
    "            # print each similarity value for each variant\n",
    "            print(f\"\\t {embedding_names[k]} similarity: {similarities_all[i][k][j]}\")\n",
    "    # print scores for all variants\n",
    "    print(f\"Scores: \" + \", \".join(f\"{embed}: {scor}\" for embed, scor in zip(embedding_names, scores_all[i])))\n",
    "    \n",
    "    # plot similarity heatmap\n",
    "    trace = go.Heatmap(z=similarities_all[i], y=embedding_names, colorscale='Blues')\n",
    "    data=[trace]\n",
    "    fig.append_trace(trace, 1, i+1)\n",
    "    iplot(data, filename='basic-heatmap' + str(i))\n",
    "\n",
    "for i in range(len(sent_eu)):\n",
    "    \n",
    "    print(f\"Sentence #{i}\")\n",
    "    print(\"Basque\")\n",
    "    plot_similarities(sent_eu, similarities_all_eu, scores_all_eu)\n",
    "    print(\"English\")\n",
    "    plot_similarities(sent_en, similarities_all_en, scores_all_en)"
   ]
  },
  {
   "cell_type": "markdown",
   "metadata": {},
   "source": [
    "## 5. Calculate total scores"
   ]
  },
  {
   "cell_type": "code",
   "execution_count": 13,
   "metadata": {
    "scrolled": false
   },
   "outputs": [],
   "source": [
    "def calculate_total_score(scores_all):\n",
    "    total_scores = [0] * len(scores_all[0])\n",
    "    for i in range(len(scores_all)):\n",
    "        total_scores[0] += scores_all[i][0]\n",
    "        total_scores[1] += scores_all[i][1]\n",
    "        total_scores[2] += scores_all[i][2]\n",
    "        total_scores[3] += scores_all[i][3]\n",
    "    print(f\"Total scores: \" + \", \".join(f\"{embed}: {scor}\" for embed, scor in zip(embedding_names, total_scores)))"
   ]
  },
  {
   "cell_type": "code",
   "execution_count": 14,
   "metadata": {
    "scrolled": true
   },
   "outputs": [
    {
     "name": "stdout",
     "output_type": "stream",
     "text": [
      "Total scores: flair: 6, bert_cased: 5, bert_uncased: 4, elmo: 6\n",
      "Total scores: flair: 5, bert_cased: 6, bert_uncased: 6, elmo: 6\n"
     ]
    }
   ],
   "source": [
    "calculate_total_score(scores_all_eu)\n",
    "calculate_total_score(scores_all_en)"
   ]
  }
 ],
 "metadata": {
  "kernelspec": {
   "display_name": "Python 3",
   "language": "python",
   "name": "python3"
  },
  "language_info": {
   "codemirror_mode": {
    "name": "ipython",
    "version": 3
   },
   "file_extension": ".py",
   "mimetype": "text/x-python",
   "name": "python",
   "nbconvert_exporter": "python",
   "pygments_lexer": "ipython3",
   "version": "3.7.3"
  }
 },
 "nbformat": 4,
 "nbformat_minor": 2
}
