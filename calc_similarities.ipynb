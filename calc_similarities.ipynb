{
 "cells": [
  {
   "cell_type": "code",
   "execution_count": 1,
   "metadata": {
    "scrolled": true
   },
   "outputs": [
    {
     "data": {
      "text/html": [
       "        <script type=\"text/javascript\">\n",
       "        window.PlotlyConfig = {MathJaxConfig: 'local'};\n",
       "        if (window.MathJax) {MathJax.Hub.Config({SVG: {font: \"STIX-Web\"}});}\n",
       "        if (typeof require !== 'undefined') {\n",
       "        require.undef(\"plotly\");\n",
       "        requirejs.config({\n",
       "            paths: {\n",
       "                'plotly': ['https://cdn.plot.ly/plotly-latest.min']\n",
       "            }\n",
       "        });\n",
       "        require(['plotly'], function(Plotly) {\n",
       "            window._Plotly = Plotly;\n",
       "        });\n",
       "        }\n",
       "        </script>\n",
       "        "
      ]
     },
     "metadata": {},
     "output_type": "display_data"
    }
   ],
   "source": [
    "import torch\n",
    "\n",
    "from flair.data import Sentence\n",
    "from flair.embeddings import DocumentPoolEmbeddings, FlairEmbeddings, BertEmbeddings, ELMoEmbeddings\n",
    "\n",
    "import plotly\n",
    "import plotly.graph_objs as go\n",
    "from plotly.offline import download_plotlyjs, init_notebook_mode, plot, iplot\n",
    "init_notebook_mode(connected=True)"
   ]
  },
  {
   "cell_type": "markdown",
   "metadata": {},
   "source": [
    "## 1. Load embeddings"
   ]
  },
  {
   "cell_type": "code",
   "execution_count": 2,
   "metadata": {
    "scrolled": false
   },
   "outputs": [],
   "source": [
    "# [[flair_eu, bert_cased_eu, bert_uncased eu, elmo_eu], [flair_en, bert_cased_en, bert_uncased en, elmo_en]]\n",
    "embeddings_all = [[], []]\n",
    "embedding_names = [\"flair\", \"bert_cased\", \"bert_uncased\", \"elmo\"]"
   ]
  },
  {
   "cell_type": "code",
   "execution_count": 3,
   "metadata": {
    "scrolled": true
   },
   "outputs": [],
   "source": [
    "# load flair embeddings\n",
    "embeddings_all[0].append(DocumentPoolEmbeddings([FlairEmbeddings('eu-forward'), FlairEmbeddings('eu-backward')]))\n",
    "embeddings_all[1].append(DocumentPoolEmbeddings([FlairEmbeddings('mix-forward'), FlairEmbeddings('mix-backward')]))"
   ]
  },
  {
   "cell_type": "code",
   "execution_count": 4,
   "metadata": {
    "scrolled": false
   },
   "outputs": [
    {
     "name": "stdout",
     "output_type": "stream",
     "text": [
      "2019-07-12 16:54:22,251 The pre-trained model you are loading is a cased model but you have not set `do_lower_case` to False. We are setting `do_lower_case=False` for you but you may want to check this behavior.\n",
      "2019-07-12 16:54:42,716 The pre-trained model you are loading is a cased model but you have not set `do_lower_case` to False. We are setting `do_lower_case=False` for you but you may want to check this behavior.\n"
     ]
    }
   ],
   "source": [
    "# load BERT embeddings\n",
    "\n",
    "# See BERT paper, section 5.3 and table 7\n",
    "bert_layers = '-1,-2,-3,-4'\n",
    "bert_type = 'base' # 'large'\n",
    "\n",
    "# BERT cased\n",
    "embeddings_all[0].append(DocumentPoolEmbeddings([BertEmbeddings('bert-base-multilingual-cased', layers=bert_layers)]))\n",
    "embeddings_all[1].append(DocumentPoolEmbeddings([BertEmbeddings('bert-'+bert_type+'-cased', layers=bert_layers)]))\n",
    "\n",
    "# BERT uncased\n",
    "embeddings_all[0].append(DocumentPoolEmbeddings([BertEmbeddings('bert-base-multilingual-uncased', layers=bert_layers)]))\n",
    "embeddings_all[1].append(DocumentPoolEmbeddings([BertEmbeddings('bert-'+bert_type+'-uncased', layers=bert_layers)]))"
   ]
  },
  {
   "cell_type": "code",
   "execution_count": 7,
   "metadata": {},
   "outputs": [
    {
     "name": "stderr",
     "output_type": "stream",
     "text": [
      "543B [00:00, 272951.47B/s]\n",
      "100%|███████████████████████████████████████████████████████████████| 374434776/374434776 [00:32<00:00, 11521242.96B/s]\n",
      "100%|██████████████████████████████████████████████████████████████████████████████| 336/336 [00:00<00:00, 67204.87B/s]\n",
      "100%|████████████████████████████████████████████████████████████████| 374434792/374434792 [01:44<00:00, 3597999.66B/s]\n"
     ]
    }
   ],
   "source": [
    "# load ELMo embeddings\n",
    "embeddings_all[0].append(DocumentPoolEmbeddings([ELMoEmbeddings(options_file=\"https://schweter.eu/cloud/eu-elmo/options.json\", \n",
    "                                                                weight_file=\"https://schweter.eu/cloud/eu-elmo/weights.hdf5\")]))\n",
    "embeddings_all[1].append(DocumentPoolEmbeddings([ELMoEmbeddings()]))"
   ]
  },
  {
   "cell_type": "markdown",
   "metadata": {},
   "source": [
    "## 2. Read file and extract sentences"
   ]
  },
  {
   "cell_type": "code",
   "execution_count": 8,
   "metadata": {
    "scrolled": true
   },
   "outputs": [],
   "source": [
    "test_eu = \"goldstandard_eu_lexicover.tsv\"\n",
    "test_en = \"goldstandard_en_lexicover.tsv\"\n",
    "\n",
    "def get_gold_sentences(filename):\n",
    "    gold_sentences = []\n",
    "    with open(filename, 'rt') as f_p:\n",
    "        for line in f_p:\n",
    "            if line.startswith('\"origin\"'): # header\n",
    "                continue\n",
    "            \n",
    "            if not line:\n",
    "                continue\n",
    "            \n",
    "            line = line.rstrip()\n",
    "            line = line.replace('\"', '')\n",
    "            splitted = line.split('\\t')\n",
    "            gold = splitted[0]\n",
    "            sim_sentences = splitted[1:11]\n",
    "            \n",
    "            if gold:\n",
    "                gold_sentences_simple = {}\n",
    "                gold_sentences_simple[gold] = sim_sentences\n",
    "                gold_sentences.append(gold_sentences_simple)\n",
    "            \n",
    "    return gold_sentences\n",
    "\n",
    "def initialize_vectors(sent):\n",
    "    similarities_all = []\n",
    "    for i in range(len(sent)):\n",
    "        similarities_all.append([])\n",
    "\n",
    "    scores_all = []\n",
    "    for i in range(len(sent)):\n",
    "        scores_all.append([])\n",
    "        \n",
    "    return similarities_all, scores_all"
   ]
  },
  {
   "cell_type": "code",
   "execution_count": 14,
   "metadata": {
    "scrolled": true
   },
   "outputs": [],
   "source": [
    "sent_eu = get_gold_sentences(test_eu)\n",
    "sent_en = get_gold_sentences(test_en)\n",
    "\n",
    "similarities_all_eu, scores_all_eu = initialize_vectors(sent_eu)\n",
    "similarities_all_en, scores_all_en = initialize_vectors(sent_en)"
   ]
  },
  {
   "cell_type": "markdown",
   "metadata": {},
   "source": [
    "## 3. Calculate similarities"
   ]
  },
  {
   "cell_type": "code",
   "execution_count": 10,
   "metadata": {
    "scrolled": true
   },
   "outputs": [],
   "source": [
    "def calculate_similarities(gold, sim_sentences, embeddings):\n",
    "    \n",
    "    similarities = []\n",
    "    query = gold\n",
    "\n",
    "    q = Sentence(query)\n",
    "    embeddings.embed(q)\n",
    "    score = 0\n",
    "    \n",
    "    for i in range(len(sim_sentences)):\n",
    "        \n",
    "        s = Sentence(sim_sentences[i])\n",
    "        embeddings.embed(s)\n",
    "\n",
    "        assert q.embedding.shape == s.embedding.shape\n",
    "        \n",
    "        cos = torch.nn.CosineSimilarity(dim=0, eps=1e-6)\n",
    "        prox = cos(q.embedding, s.embedding)\n",
    "        similarities.append(round(prox.item(), 4))\n",
    "        \n",
    "        if i > 0 and similarities[i] <= similarities[i-1]:\n",
    "            score += 1\n",
    "        \n",
    "    return similarities, int(score/float(len(sim_sentences))*100)\n",
    "\n",
    "def calculate(gold_sentences, embeddings, similarities_all, scores_all):\n",
    "    \n",
    "    for i in range(len(gold_sentences)):\n",
    "        \n",
    "        # obtain gold sentence and similar sentences from global list\n",
    "        gold = list(gold_sentences[i].keys())[0]\n",
    "        sim_sentences = gold_sentences[i][gold]\n",
    "        \n",
    "        # Calculate similarities for each 'gold' sentence and accumulated score\n",
    "        similarities, score = calculate_similarities(gold, sim_sentences, embeddings)\n",
    "\n",
    "        # append current similarity values and score to the global data structures\n",
    "        scores_all[i].append(score)\n",
    "        similarities_all[i].append(similarities)\n",
    "\n",
    "        \n",
    "    return similarities_all, scores_all"
   ]
  },
  {
   "cell_type": "code",
   "execution_count": 15,
   "metadata": {
    "scrolled": false
   },
   "outputs": [
    {
     "name": "stdout",
     "output_type": "stream",
     "text": [
      "Calculating flair embeddings for basque\n",
      "Calculating flair embeddings for english\n",
      "Calculating bert_cased embeddings for basque\n",
      "Calculating bert_cased embeddings for english\n",
      "Calculating bert_uncased embeddings for basque\n",
      "Calculating bert_uncased embeddings for english\n",
      "Calculating elmo embeddings for basque\n",
      "Calculating elmo embeddings for english\n"
     ]
    }
   ],
   "source": [
    "for i in range(len(embeddings_all[0])):\n",
    "    print(f\"Calculating {embedding_names[i]} embeddings for basque\")\n",
    "    similarities_all_eu, scores_all_eu = calculate(sent_eu, embeddings_all[0][i], similarities_all_eu, scores_all_eu)\n",
    "    print(f\"Calculating {embedding_names[i]} embeddings for english\")\n",
    "    similarities_all_en, scores_all_en = calculate(sent_en, embeddings_all[1][i], similarities_all_en, scores_all_en)"
   ]
  },
  {
   "cell_type": "markdown",
   "metadata": {},
   "source": [
    "## 4. Plot similarities"
   ]
  },
  {
   "cell_type": "code",
   "execution_count": 12,
   "metadata": {},
   "outputs": [
    {
     "name": "stdout",
     "output_type": "stream",
     "text": [
      "This is the format of your plot grid:\n",
      "[ (1,1) x1,y1 ]     [ (1,2) x2,y2 ]     [ (1,3) x3,y3 ]     [ (1,4) x4,y4 ]     [ (1,5) x5,y5 ]     [ (1,6) x6,y6 ]     [ (1,7) x7,y7 ]     [ (1,8) x8,y8 ]     [ (1,9) x9,y9 ]     [ (1,10) x10,y10 ]\n",
      "\n"
     ]
    }
   ],
   "source": [
    "fig = plotly.tools.make_subplots(rows=1, cols=10)\n",
    "\n",
    "def plot_similarities(sent, similarities_all, scores_all):\n",
    "    origin = list(sent[i].keys())[0]\n",
    "    # print origin sentence\n",
    "    print(origin + '\\n')\n",
    "    for j in range(len(sent[i][origin])):\n",
    "        # print each similar sentence\n",
    "        print(f\"{j}. {sent[i][origin][j]}\")\n",
    "        for k in range(len(embedding_names)):\n",
    "            # print each similarity value for each variant\n",
    "            print(f\"\\t {embedding_names[k]} similarity: {similarities_all[i][k][j]}\")\n",
    "    # print scores for all variants\n",
    "    print(f\"Scores: \" + \", \".join(f\"{embed}: {scor}%\" for embed, scor in zip(embedding_names, scores_all[i])))\n",
    "    \n",
    "    # plot similarity heatmap\n",
    "    trace = go.Heatmap(z=similarities_all[i], y=embedding_names, colorscale='Blues')\n",
    "    data=[trace]\n",
    "    fig.append_trace(trace, 1, i+1)\n",
    "    iplot(data, filename='basic-heatmap' + str(i))"
   ]
  },
  {
   "cell_type": "code",
   "execution_count": 16,
   "metadata": {
    "scrolled": false
   },
   "outputs": [
    {
     "name": "stdout",
     "output_type": "stream",
     "text": [
      "\n",
      "Sentence #0\n",
      "Basque\n",
      "medikuak gaixoa bazkaltzera gonbidatu zuen\n",
      "\n",
      "0. gaixoak medikua bazkaltzera gonbidatu zuen\n",
      "\t flair similarity: 0.9796\n",
      "\t bert_cased similarity: 0.9869\n",
      "\t bert_uncased similarity: 0.987\n",
      "\t elmo similarity: 0.9864\n",
      "1. bazkariak medikua gaixo batera gonbidatu zuen\n",
      "\t flair similarity: 0.8785\n",
      "\t bert_cased similarity: 0.9737\n",
      "\t bert_uncased similarity: 0.9681\n",
      "\t elmo similarity: 0.8773\n",
      "2. batera zuen gaixoak medikua gonbidatu bazkari\n",
      "\t flair similarity: 0.7096\n",
      "\t bert_cased similarity: 0.9458\n",
      "\t bert_uncased similarity: 0.9579\n",
      "\t elmo similarity: 0.7737\n",
      "Scores: flair: 66%, bert_cased: 66%, bert_uncased: 66%, elmo: 66%\n"
     ]
    },
    {
     "data": {
      "application/vnd.plotly.v1+json": {
       "config": {
        "linkText": "Export to plot.ly",
        "plotlyServerURL": "https://plot.ly",
        "showLink": false
       },
       "data": [
        {
         "colorscale": "Blues",
         "type": "heatmap",
         "uid": "c1cb7e9e-d242-4a86-b1b2-01a71383e3f8",
         "y": [
          "flair",
          "bert_cased",
          "bert_uncased",
          "elmo"
         ],
         "z": [
          [
           0.9796,
           0.8785,
           0.7096
          ],
          [
           0.9869,
           0.9737,
           0.9458
          ],
          [
           0.987,
           0.9681,
           0.9579
          ],
          [
           0.9864,
           0.8773,
           0.7737
          ]
         ]
        }
       ],
       "layout": {}
      },
      "text/html": [
       "<div>\n",
       "        \n",
       "        \n",
       "            <div id=\"a1abd987-2812-4ec9-8869-b1768e5f6d80\" class=\"plotly-graph-div\" style=\"height:525px; width:100%;\"></div>\n",
       "            <script type=\"text/javascript\">\n",
       "                require([\"plotly\"], function(Plotly) {\n",
       "                    window.PLOTLYENV=window.PLOTLYENV || {};\n",
       "                    window.PLOTLYENV.BASE_URL='https://plot.ly';\n",
       "                    \n",
       "                if (document.getElementById(\"a1abd987-2812-4ec9-8869-b1768e5f6d80\")) {\n",
       "                    Plotly.newPlot(\n",
       "                        'a1abd987-2812-4ec9-8869-b1768e5f6d80',\n",
       "                        [{\"colorscale\": \"Blues\", \"type\": \"heatmap\", \"uid\": \"c1cb7e9e-d242-4a86-b1b2-01a71383e3f8\", \"y\": [\"flair\", \"bert_cased\", \"bert_uncased\", \"elmo\"], \"z\": [[0.9796, 0.8785, 0.7096], [0.9869, 0.9737, 0.9458], [0.987, 0.9681, 0.9579], [0.9864, 0.8773, 0.7737]]}],\n",
       "                        {},\n",
       "                        {\"showLink\": false, \"linkText\": \"Export to plot.ly\", \"plotlyServerURL\": \"https://plot.ly\", \"responsive\": true}\n",
       "                    ).then(function(){\n",
       "                            \n",
       "var gd = document.getElementById('a1abd987-2812-4ec9-8869-b1768e5f6d80');\n",
       "var x = new MutationObserver(function (mutations, observer) {{\n",
       "        var display = window.getComputedStyle(gd).display;\n",
       "        if (!display || display === 'none') {{\n",
       "            console.log([gd, 'removed!']);\n",
       "            Plotly.purge(gd);\n",
       "            observer.disconnect();\n",
       "        }}\n",
       "}});\n",
       "\n",
       "// Listen for the removal of the full notebook cells\n",
       "var notebookContainer = gd.closest('#notebook-container');\n",
       "if (notebookContainer) {{\n",
       "    x.observe(notebookContainer, {childList: true});\n",
       "}}\n",
       "\n",
       "// Listen for the clearing of the current output cell\n",
       "var outputEl = gd.closest('.output');\n",
       "if (outputEl) {{\n",
       "    x.observe(outputEl, {childList: true});\n",
       "}}\n",
       "\n",
       "                        })\n",
       "                };\n",
       "                });\n",
       "            </script>\n",
       "        </div>"
      ]
     },
     "metadata": {},
     "output_type": "display_data"
    },
    {
     "name": "stdout",
     "output_type": "stream",
     "text": [
      "English\n",
      "the doctor invited the patient for lunch\n",
      "\n",
      "0. the patient invited the doctor for lunch\n",
      "\t flair similarity: 0.9852\n",
      "\t bert_cased similarity: 0.9965\n",
      "\t bert_uncased similarity: 0.984\n",
      "\t elmo similarity: 0.9627\n",
      "1. the lunch invited the doctor for the patient\n",
      "\t flair similarity: 0.9427\n",
      "\t bert_cased similarity: 0.9698\n",
      "\t bert_uncased similarity: 0.8576\n",
      "\t elmo similarity: 0.8784\n",
      "2. for invited patient the doctor the lunch\n",
      "\t flair similarity: 0.8903\n",
      "\t bert_cased similarity: 0.9317\n",
      "\t bert_uncased similarity: 0.7869\n",
      "\t elmo similarity: 0.8206\n",
      "Scores: flair: 66%, bert_cased: 66%, bert_uncased: 66%, elmo: 66%\n"
     ]
    },
    {
     "data": {
      "application/vnd.plotly.v1+json": {
       "config": {
        "linkText": "Export to plot.ly",
        "plotlyServerURL": "https://plot.ly",
        "showLink": false
       },
       "data": [
        {
         "colorscale": "Blues",
         "type": "heatmap",
         "uid": "71a62725-42c9-4ea1-8f8b-6ef924a0479a",
         "y": [
          "flair",
          "bert_cased",
          "bert_uncased",
          "elmo"
         ],
         "z": [
          [
           0.9852,
           0.9427,
           0.8903
          ],
          [
           0.9965,
           0.9698,
           0.9317
          ],
          [
           0.984,
           0.8576,
           0.7869
          ],
          [
           0.9627,
           0.8784,
           0.8206
          ]
         ]
        }
       ],
       "layout": {}
      },
      "text/html": [
       "<div>\n",
       "        \n",
       "        \n",
       "            <div id=\"f69f8d4c-9d58-4f66-b31c-4c5421d2677c\" class=\"plotly-graph-div\" style=\"height:525px; width:100%;\"></div>\n",
       "            <script type=\"text/javascript\">\n",
       "                require([\"plotly\"], function(Plotly) {\n",
       "                    window.PLOTLYENV=window.PLOTLYENV || {};\n",
       "                    window.PLOTLYENV.BASE_URL='https://plot.ly';\n",
       "                    \n",
       "                if (document.getElementById(\"f69f8d4c-9d58-4f66-b31c-4c5421d2677c\")) {\n",
       "                    Plotly.newPlot(\n",
       "                        'f69f8d4c-9d58-4f66-b31c-4c5421d2677c',\n",
       "                        [{\"colorscale\": \"Blues\", \"type\": \"heatmap\", \"uid\": \"71a62725-42c9-4ea1-8f8b-6ef924a0479a\", \"y\": [\"flair\", \"bert_cased\", \"bert_uncased\", \"elmo\"], \"z\": [[0.9852, 0.9427, 0.8903], [0.9965, 0.9698, 0.9317], [0.984, 0.8576, 0.7869], [0.9627, 0.8784, 0.8206]]}],\n",
       "                        {},\n",
       "                        {\"showLink\": false, \"linkText\": \"Export to plot.ly\", \"plotlyServerURL\": \"https://plot.ly\", \"responsive\": true}\n",
       "                    ).then(function(){\n",
       "                            \n",
       "var gd = document.getElementById('f69f8d4c-9d58-4f66-b31c-4c5421d2677c');\n",
       "var x = new MutationObserver(function (mutations, observer) {{\n",
       "        var display = window.getComputedStyle(gd).display;\n",
       "        if (!display || display === 'none') {{\n",
       "            console.log([gd, 'removed!']);\n",
       "            Plotly.purge(gd);\n",
       "            observer.disconnect();\n",
       "        }}\n",
       "}});\n",
       "\n",
       "// Listen for the removal of the full notebook cells\n",
       "var notebookContainer = gd.closest('#notebook-container');\n",
       "if (notebookContainer) {{\n",
       "    x.observe(notebookContainer, {childList: true});\n",
       "}}\n",
       "\n",
       "// Listen for the clearing of the current output cell\n",
       "var outputEl = gd.closest('.output');\n",
       "if (outputEl) {{\n",
       "    x.observe(outputEl, {childList: true});\n",
       "}}\n",
       "\n",
       "                        })\n",
       "                };\n",
       "                });\n",
       "            </script>\n",
       "        </div>"
      ]
     },
     "metadata": {},
     "output_type": "display_data"
    },
    {
     "name": "stdout",
     "output_type": "stream",
     "text": [
      "\n",
      "Sentence #1\n",
      "Basque\n",
      "medikuak gaixoa bazkaltzera gonbidatu zuen\n",
      "\n",
      "0. gaixoak medikua bazkaltzera gonbidatu zuen\n",
      "\t flair similarity: 0.9796\n",
      "\t bert_cased similarity: 0.9869\n",
      "\t bert_uncased similarity: 0.987\n",
      "\t elmo similarity: 0.9864\n",
      "1. medikuak ez zuen gaixoa bazkaltzera gonbidatu\n",
      "\t flair similarity: 0.7504\n",
      "\t bert_cased similarity: 0.9613\n",
      "\t bert_uncased similarity: 0.9657\n",
      "\t elmo similarity: 0.8515\n",
      "2. umeak aitona gonbidatu zuen bazkaltzera\n",
      "\t flair similarity: 0.843\n",
      "\t bert_cased similarity: 0.9269\n",
      "\t bert_uncased similarity: 0.902\n",
      "\t elmo similarity: 0.7864\n",
      "3. medikuak gaixoari esan zion, fraude bat zela\n",
      "\t flair similarity: 0.6556\n",
      "\t bert_cased similarity: 0.9148\n",
      "\t bert_uncased similarity: 0.9284\n",
      "\t elmo similarity: 0.7262\n",
      "4. gai hori medikuaren eta gaixoaren artekoa da\n",
      "\t flair similarity: 0.426\n",
      "\t bert_cased similarity: 0.8215\n",
      "\t bert_uncased similarity: 0.8578\n",
      "\t elmo similarity: 0.5235\n",
      "5. umeak eta aitona bazkaltzera gonbidatuak izan ziren\n",
      "\t flair similarity: 0.7815\n",
      "\t bert_cased similarity: 0.9179\n",
      "\t bert_uncased similarity: 0.8958\n",
      "\t elmo similarity: 0.6865\n",
      "Scores: flair: 50%, bert_cased: 66%, bert_uncased: 50%, elmo: 66%\n"
     ]
    },
    {
     "data": {
      "application/vnd.plotly.v1+json": {
       "config": {
        "linkText": "Export to plot.ly",
        "plotlyServerURL": "https://plot.ly",
        "showLink": false
       },
       "data": [
        {
         "colorscale": "Blues",
         "type": "heatmap",
         "uid": "2a3c27ad-5ba4-4509-b9ca-978fa265eb20",
         "y": [
          "flair",
          "bert_cased",
          "bert_uncased",
          "elmo"
         ],
         "z": [
          [
           0.9796,
           0.7504,
           0.843,
           0.6556,
           0.426,
           0.7815
          ],
          [
           0.9869,
           0.9613,
           0.9269,
           0.9148,
           0.8215,
           0.9179
          ],
          [
           0.987,
           0.9657,
           0.902,
           0.9284,
           0.8578,
           0.8958
          ],
          [
           0.9864,
           0.8515,
           0.7864,
           0.7262,
           0.5235,
           0.6865
          ]
         ]
        }
       ],
       "layout": {}
      },
      "text/html": [
       "<div>\n",
       "        \n",
       "        \n",
       "            <div id=\"1ba5dbc7-d0ce-4884-93f5-a9a5aa5ad719\" class=\"plotly-graph-div\" style=\"height:525px; width:100%;\"></div>\n",
       "            <script type=\"text/javascript\">\n",
       "                require([\"plotly\"], function(Plotly) {\n",
       "                    window.PLOTLYENV=window.PLOTLYENV || {};\n",
       "                    window.PLOTLYENV.BASE_URL='https://plot.ly';\n",
       "                    \n",
       "                if (document.getElementById(\"1ba5dbc7-d0ce-4884-93f5-a9a5aa5ad719\")) {\n",
       "                    Plotly.newPlot(\n",
       "                        '1ba5dbc7-d0ce-4884-93f5-a9a5aa5ad719',\n",
       "                        [{\"colorscale\": \"Blues\", \"type\": \"heatmap\", \"uid\": \"2a3c27ad-5ba4-4509-b9ca-978fa265eb20\", \"y\": [\"flair\", \"bert_cased\", \"bert_uncased\", \"elmo\"], \"z\": [[0.9796, 0.7504, 0.843, 0.6556, 0.426, 0.7815], [0.9869, 0.9613, 0.9269, 0.9148, 0.8215, 0.9179], [0.987, 0.9657, 0.902, 0.9284, 0.8578, 0.8958], [0.9864, 0.8515, 0.7864, 0.7262, 0.5235, 0.6865]]}],\n",
       "                        {},\n",
       "                        {\"showLink\": false, \"linkText\": \"Export to plot.ly\", \"plotlyServerURL\": \"https://plot.ly\", \"responsive\": true}\n",
       "                    ).then(function(){\n",
       "                            \n",
       "var gd = document.getElementById('1ba5dbc7-d0ce-4884-93f5-a9a5aa5ad719');\n",
       "var x = new MutationObserver(function (mutations, observer) {{\n",
       "        var display = window.getComputedStyle(gd).display;\n",
       "        if (!display || display === 'none') {{\n",
       "            console.log([gd, 'removed!']);\n",
       "            Plotly.purge(gd);\n",
       "            observer.disconnect();\n",
       "        }}\n",
       "}});\n",
       "\n",
       "// Listen for the removal of the full notebook cells\n",
       "var notebookContainer = gd.closest('#notebook-container');\n",
       "if (notebookContainer) {{\n",
       "    x.observe(notebookContainer, {childList: true});\n",
       "}}\n",
       "\n",
       "// Listen for the clearing of the current output cell\n",
       "var outputEl = gd.closest('.output');\n",
       "if (outputEl) {{\n",
       "    x.observe(outputEl, {childList: true});\n",
       "}}\n",
       "\n",
       "                        })\n",
       "                };\n",
       "                });\n",
       "            </script>\n",
       "        </div>"
      ]
     },
     "metadata": {},
     "output_type": "display_data"
    },
    {
     "name": "stdout",
     "output_type": "stream",
     "text": [
      "English\n",
      "the doctor invited the patient for lunch\n",
      "\n",
      "0. the patient invited the doctor for lunch\n",
      "\t flair similarity: 0.9852\n",
      "\t bert_cased similarity: 0.9965\n",
      "\t bert_uncased similarity: 0.984\n",
      "\t elmo similarity: 0.9634\n",
      "1. the doctor did not invite the patient for lunch\n",
      "\t flair similarity: 0.9295\n",
      "\t bert_cased similarity: 0.9707\n",
      "\t bert_uncased similarity: 0.9105\n",
      "\t elmo similarity: 0.8994\n",
      "2. the child invited the grandfather for lunch\n",
      "\t flair similarity: 0.9297\n",
      "\t bert_cased similarity: 0.9736\n",
      "\t bert_uncased similarity: 0.8806\n",
      "\t elmo similarity: 0.8481\n",
      "3. the doctor told the patient he was a fraud\n",
      "\t flair similarity: 0.8371\n",
      "\t bert_cased similarity: 0.9349\n",
      "\t bert_uncased similarity: 0.8181\n",
      "\t elmo similarity: 0.7105\n",
      "4. that is a matter between the doctor and the patient\n",
      "\t flair similarity: 0.7775\n",
      "\t bert_cased similarity: 0.8978\n",
      "\t bert_uncased similarity: 0.6924\n",
      "\t elmo similarity: 0.6286\n",
      "5. the child and the grandfather got invited for lunch\n",
      "\t flair similarity: 0.8854\n",
      "\t bert_cased similarity: 0.9584\n",
      "\t bert_uncased similarity: 0.8484\n",
      "\t elmo similarity: 0.7697\n",
      "Scores: flair: 50%, bert_cased: 50%, bert_uncased: 66%, elmo: 66%\n"
     ]
    },
    {
     "data": {
      "application/vnd.plotly.v1+json": {
       "config": {
        "linkText": "Export to plot.ly",
        "plotlyServerURL": "https://plot.ly",
        "showLink": false
       },
       "data": [
        {
         "colorscale": "Blues",
         "type": "heatmap",
         "uid": "e25971e6-7e53-4448-95c0-7ad09076ca0a",
         "y": [
          "flair",
          "bert_cased",
          "bert_uncased",
          "elmo"
         ],
         "z": [
          [
           0.9852,
           0.9295,
           0.9297,
           0.8371,
           0.7775,
           0.8854
          ],
          [
           0.9965,
           0.9707,
           0.9736,
           0.9349,
           0.8978,
           0.9584
          ],
          [
           0.984,
           0.9105,
           0.8806,
           0.8181,
           0.6924,
           0.8484
          ],
          [
           0.9634,
           0.8994,
           0.8481,
           0.7105,
           0.6286,
           0.7697
          ]
         ]
        }
       ],
       "layout": {}
      },
      "text/html": [
       "<div>\n",
       "        \n",
       "        \n",
       "            <div id=\"869accb5-8724-4119-b968-0753ffd705f8\" class=\"plotly-graph-div\" style=\"height:525px; width:100%;\"></div>\n",
       "            <script type=\"text/javascript\">\n",
       "                require([\"plotly\"], function(Plotly) {\n",
       "                    window.PLOTLYENV=window.PLOTLYENV || {};\n",
       "                    window.PLOTLYENV.BASE_URL='https://plot.ly';\n",
       "                    \n",
       "                if (document.getElementById(\"869accb5-8724-4119-b968-0753ffd705f8\")) {\n",
       "                    Plotly.newPlot(\n",
       "                        '869accb5-8724-4119-b968-0753ffd705f8',\n",
       "                        [{\"colorscale\": \"Blues\", \"type\": \"heatmap\", \"uid\": \"e25971e6-7e53-4448-95c0-7ad09076ca0a\", \"y\": [\"flair\", \"bert_cased\", \"bert_uncased\", \"elmo\"], \"z\": [[0.9852, 0.9295, 0.9297, 0.8371, 0.7775, 0.8854], [0.9965, 0.9707, 0.9736, 0.9349, 0.8978, 0.9584], [0.984, 0.9105, 0.8806, 0.8181, 0.6924, 0.8484], [0.9634, 0.8994, 0.8481, 0.7105, 0.6286, 0.7697]]}],\n",
       "                        {},\n",
       "                        {\"showLink\": false, \"linkText\": \"Export to plot.ly\", \"plotlyServerURL\": \"https://plot.ly\", \"responsive\": true}\n",
       "                    ).then(function(){\n",
       "                            \n",
       "var gd = document.getElementById('869accb5-8724-4119-b968-0753ffd705f8');\n",
       "var x = new MutationObserver(function (mutations, observer) {{\n",
       "        var display = window.getComputedStyle(gd).display;\n",
       "        if (!display || display === 'none') {{\n",
       "            console.log([gd, 'removed!']);\n",
       "            Plotly.purge(gd);\n",
       "            observer.disconnect();\n",
       "        }}\n",
       "}});\n",
       "\n",
       "// Listen for the removal of the full notebook cells\n",
       "var notebookContainer = gd.closest('#notebook-container');\n",
       "if (notebookContainer) {{\n",
       "    x.observe(notebookContainer, {childList: true});\n",
       "}}\n",
       "\n",
       "// Listen for the clearing of the current output cell\n",
       "var outputEl = gd.closest('.output');\n",
       "if (outputEl) {{\n",
       "    x.observe(outputEl, {childList: true});\n",
       "}}\n",
       "\n",
       "                        })\n",
       "                };\n",
       "                });\n",
       "            </script>\n",
       "        </div>"
      ]
     },
     "metadata": {},
     "output_type": "display_data"
    },
    {
     "name": "stdout",
     "output_type": "stream",
     "text": [
      "\n",
      "Sentence #2\n",
      "Basque\n",
      "medikuak pazientea bazkaltzera gonbidatu zuen\n",
      "\n",
      "0. kirurgialariak pazientea bazkaltzera gonbidatu zuen\n",
      "\t flair similarity: 0.9623\n",
      "\t bert_cased similarity: 0.9823\n",
      "\t bert_uncased similarity: 0.9812\n",
      "\t elmo similarity: 0.966\n",
      "1. medikuak gaixoa bazkaltzera gonbidatu zuen\n",
      "\t flair similarity: 0.9538\n",
      "\t bert_cased similarity: 0.9737\n",
      "\t bert_uncased similarity: 0.9813\n",
      "\t elmo similarity: 0.9604\n",
      "2. katedradunak pazientea bazkaltzera gonbidatu zuen\n",
      "\t flair similarity: 0.9348\n",
      "\t bert_cased similarity: 0.9667\n",
      "\t bert_uncased similarity: 0.9598\n",
      "\t elmo similarity: 0.9292\n",
      "3. medikuak gaixoa otordu batera gonbidatu zuen\n",
      "\t flair similarity: 0.8536\n",
      "\t bert_cased similarity: 0.9579\n",
      "\t bert_uncased similarity: 0.9593\n",
      "\t elmo similarity: 0.8886\n",
      "4. medikuak gaixoa eraman zuen tea hartzera\n",
      "\t flair similarity: 0.7391\n",
      "\t bert_cased similarity: 0.9255\n",
      "\t bert_uncased similarity: 0.9407\n",
      "\t elmo similarity: 0.7923\n",
      "5. medikuak pazientearen bazkaria ordaindu zuen\n",
      "\t flair similarity: 0.8423\n",
      "\t bert_cased similarity: 0.9723\n",
      "\t bert_uncased similarity: 0.9754\n",
      "\t elmo similarity: 0.8256\n",
      "Scores: flair: 66%, bert_cased: 66%, bert_uncased: 50%, elmo: 66%\n"
     ]
    },
    {
     "data": {
      "application/vnd.plotly.v1+json": {
       "config": {
        "linkText": "Export to plot.ly",
        "plotlyServerURL": "https://plot.ly",
        "showLink": false
       },
       "data": [
        {
         "colorscale": "Blues",
         "type": "heatmap",
         "uid": "df7b636e-8df1-40a0-b3c1-828bd40ea978",
         "y": [
          "flair",
          "bert_cased",
          "bert_uncased",
          "elmo"
         ],
         "z": [
          [
           0.9623,
           0.9538,
           0.9348,
           0.8536,
           0.7391,
           0.8423
          ],
          [
           0.9823,
           0.9737,
           0.9667,
           0.9579,
           0.9255,
           0.9723
          ],
          [
           0.9812,
           0.9813,
           0.9598,
           0.9593,
           0.9407,
           0.9754
          ],
          [
           0.966,
           0.9604,
           0.9292,
           0.8886,
           0.7923,
           0.8256
          ]
         ]
        }
       ],
       "layout": {}
      },
      "text/html": [
       "<div>\n",
       "        \n",
       "        \n",
       "            <div id=\"4a6cf923-991e-4358-a163-b5a998fea388\" class=\"plotly-graph-div\" style=\"height:525px; width:100%;\"></div>\n",
       "            <script type=\"text/javascript\">\n",
       "                require([\"plotly\"], function(Plotly) {\n",
       "                    window.PLOTLYENV=window.PLOTLYENV || {};\n",
       "                    window.PLOTLYENV.BASE_URL='https://plot.ly';\n",
       "                    \n",
       "                if (document.getElementById(\"4a6cf923-991e-4358-a163-b5a998fea388\")) {\n",
       "                    Plotly.newPlot(\n",
       "                        '4a6cf923-991e-4358-a163-b5a998fea388',\n",
       "                        [{\"colorscale\": \"Blues\", \"type\": \"heatmap\", \"uid\": \"df7b636e-8df1-40a0-b3c1-828bd40ea978\", \"y\": [\"flair\", \"bert_cased\", \"bert_uncased\", \"elmo\"], \"z\": [[0.9623, 0.9538, 0.9348, 0.8536, 0.7391, 0.8423], [0.9823, 0.9737, 0.9667, 0.9579, 0.9255, 0.9723], [0.9812, 0.9813, 0.9598, 0.9593, 0.9407, 0.9754], [0.966, 0.9604, 0.9292, 0.8886, 0.7923, 0.8256]]}],\n",
       "                        {},\n",
       "                        {\"showLink\": false, \"linkText\": \"Export to plot.ly\", \"plotlyServerURL\": \"https://plot.ly\", \"responsive\": true}\n",
       "                    ).then(function(){\n",
       "                            \n",
       "var gd = document.getElementById('4a6cf923-991e-4358-a163-b5a998fea388');\n",
       "var x = new MutationObserver(function (mutations, observer) {{\n",
       "        var display = window.getComputedStyle(gd).display;\n",
       "        if (!display || display === 'none') {{\n",
       "            console.log([gd, 'removed!']);\n",
       "            Plotly.purge(gd);\n",
       "            observer.disconnect();\n",
       "        }}\n",
       "}});\n",
       "\n",
       "// Listen for the removal of the full notebook cells\n",
       "var notebookContainer = gd.closest('#notebook-container');\n",
       "if (notebookContainer) {{\n",
       "    x.observe(notebookContainer, {childList: true});\n",
       "}}\n",
       "\n",
       "// Listen for the clearing of the current output cell\n",
       "var outputEl = gd.closest('.output');\n",
       "if (outputEl) {{\n",
       "    x.observe(outputEl, {childList: true});\n",
       "}}\n",
       "\n",
       "                        })\n",
       "                };\n",
       "                });\n",
       "            </script>\n",
       "        </div>"
      ]
     },
     "metadata": {},
     "output_type": "display_data"
    },
    {
     "name": "stdout",
     "output_type": "stream",
     "text": [
      "English\n",
      "the doctor invited the patient for lunch\n",
      "\n",
      "0. the surgeon invited the patient for lunch\n",
      "\t flair similarity: 0.9853\n",
      "\t bert_cased similarity: 0.995\n",
      "\t bert_uncased similarity: 0.9792\n",
      "\t elmo similarity: 0.9664\n",
      "1. the doctor invited the doctor for lunch\n",
      "\t flair similarity: 0.9801\n",
      "\t bert_cased similarity: 0.9901\n",
      "\t bert_uncased similarity: 0.9546\n",
      "\t elmo similarity: 0.9532\n",
      "2. the professor invited the patient for lunch\n",
      "\t flair similarity: 0.9783\n",
      "\t bert_cased similarity: 0.9917\n",
      "\t bert_uncased similarity: 0.9724\n",
      "\t elmo similarity: 0.937\n",
      "3. the doctor invited the patient for a meal\n",
      "\t flair similarity: 0.9546\n",
      "\t bert_cased similarity: 0.9886\n",
      "\t bert_uncased similarity: 0.9621\n",
      "\t elmo similarity: 0.9542\n",
      "4. the doctor took the patient out for tea\n",
      "\t flair similarity: 0.8749\n",
      "\t bert_cased similarity: 0.9721\n",
      "\t bert_uncased similarity: 0.8992\n",
      "\t elmo similarity: 0.8051\n",
      "5. the doctor paid for the patient's lunch\n",
      "\t flair similarity: 0.8895\n",
      "\t bert_cased similarity: 0.966\n",
      "\t bert_uncased similarity: 0.8858\n",
      "\t elmo similarity: 0.8208\n",
      "Scores: flair: 66%, bert_cased: 66%, bert_uncased: 66%, elmo: 50%\n"
     ]
    },
    {
     "data": {
      "application/vnd.plotly.v1+json": {
       "config": {
        "linkText": "Export to plot.ly",
        "plotlyServerURL": "https://plot.ly",
        "showLink": false
       },
       "data": [
        {
         "colorscale": "Blues",
         "type": "heatmap",
         "uid": "f586997d-7fb1-457d-83f1-99393dc00291",
         "y": [
          "flair",
          "bert_cased",
          "bert_uncased",
          "elmo"
         ],
         "z": [
          [
           0.9853,
           0.9801,
           0.9783,
           0.9546,
           0.8749,
           0.8895
          ],
          [
           0.995,
           0.9901,
           0.9917,
           0.9886,
           0.9721,
           0.966
          ],
          [
           0.9792,
           0.9546,
           0.9724,
           0.9621,
           0.8992,
           0.8858
          ],
          [
           0.9664,
           0.9532,
           0.937,
           0.9542,
           0.8051,
           0.8208
          ]
         ]
        }
       ],
       "layout": {}
      },
      "text/html": [
       "<div>\n",
       "        \n",
       "        \n",
       "            <div id=\"577538ad-8341-4a92-aba8-0072fa1eb300\" class=\"plotly-graph-div\" style=\"height:525px; width:100%;\"></div>\n",
       "            <script type=\"text/javascript\">\n",
       "                require([\"plotly\"], function(Plotly) {\n",
       "                    window.PLOTLYENV=window.PLOTLYENV || {};\n",
       "                    window.PLOTLYENV.BASE_URL='https://plot.ly';\n",
       "                    \n",
       "                if (document.getElementById(\"577538ad-8341-4a92-aba8-0072fa1eb300\")) {\n",
       "                    Plotly.newPlot(\n",
       "                        '577538ad-8341-4a92-aba8-0072fa1eb300',\n",
       "                        [{\"colorscale\": \"Blues\", \"type\": \"heatmap\", \"uid\": \"f586997d-7fb1-457d-83f1-99393dc00291\", \"y\": [\"flair\", \"bert_cased\", \"bert_uncased\", \"elmo\"], \"z\": [[0.9853, 0.9801, 0.9783, 0.9546, 0.8749, 0.8895], [0.995, 0.9901, 0.9917, 0.9886, 0.9721, 0.966], [0.9792, 0.9546, 0.9724, 0.9621, 0.8992, 0.8858], [0.9664, 0.9532, 0.937, 0.9542, 0.8051, 0.8208]]}],\n",
       "                        {},\n",
       "                        {\"showLink\": false, \"linkText\": \"Export to plot.ly\", \"plotlyServerURL\": \"https://plot.ly\", \"responsive\": true}\n",
       "                    ).then(function(){\n",
       "                            \n",
       "var gd = document.getElementById('577538ad-8341-4a92-aba8-0072fa1eb300');\n",
       "var x = new MutationObserver(function (mutations, observer) {{\n",
       "        var display = window.getComputedStyle(gd).display;\n",
       "        if (!display || display === 'none') {{\n",
       "            console.log([gd, 'removed!']);\n",
       "            Plotly.purge(gd);\n",
       "            observer.disconnect();\n",
       "        }}\n",
       "}});\n",
       "\n",
       "// Listen for the removal of the full notebook cells\n",
       "var notebookContainer = gd.closest('#notebook-container');\n",
       "if (notebookContainer) {{\n",
       "    x.observe(notebookContainer, {childList: true});\n",
       "}}\n",
       "\n",
       "// Listen for the clearing of the current output cell\n",
       "var outputEl = gd.closest('.output');\n",
       "if (outputEl) {{\n",
       "    x.observe(outputEl, {childList: true});\n",
       "}}\n",
       "\n",
       "                        })\n",
       "                };\n",
       "                });\n",
       "            </script>\n",
       "        </div>"
      ]
     },
     "metadata": {},
     "output_type": "display_data"
    },
    {
     "name": "stdout",
     "output_type": "stream",
     "text": [
      "\n",
      "Sentence #3\n",
      "Basque\n",
      "medikuak pazientea bazkaltzera gonbidatu zuen\n",
      "\n",
      "0. medikuak pazientea bazkaltzera gonbiddatu zuen\n",
      "\t flair similarity: 0.9763\n",
      "\t bert_cased similarity: 0.9915\n",
      "\t bert_uncased similarity: 0.9934\n",
      "\t elmo similarity: 0.9743\n",
      "1. Stefanek pazientea bazkaltzera gonbidatu zuen\n",
      "\t flair similarity: 0.9215\n",
      "\t bert_cased similarity: 0.9535\n",
      "\t bert_uncased similarity: 0.9582\n",
      "\t elmo similarity: 0.9174\n",
      "2. medikuak gaixoa Tikka Masalara gonbidatu zuen\n",
      "\t flair similarity: 0.7772\n",
      "\t bert_cased similarity: 0.919\n",
      "\t bert_uncased similarity: 0.9639\n",
      "\t elmo similarity: 0.8662\n",
      "3. medikuak patentea bazkaltzera gonbidatu zuen\n",
      "\t flair similarity: 0.9676\n",
      "\t bert_cased similarity: 0.9638\n",
      "\t bert_uncased similarity: 0.9529\n",
      "\t elmo similarity: 0.9613\n",
      "Scores: flair: 50%, bert_cased: 50%, bert_uncased: 50%, elmo: 50%\n"
     ]
    },
    {
     "data": {
      "application/vnd.plotly.v1+json": {
       "config": {
        "linkText": "Export to plot.ly",
        "plotlyServerURL": "https://plot.ly",
        "showLink": false
       },
       "data": [
        {
         "colorscale": "Blues",
         "type": "heatmap",
         "uid": "814d4d50-3d66-4735-8ae2-e5002f85dfda",
         "y": [
          "flair",
          "bert_cased",
          "bert_uncased",
          "elmo"
         ],
         "z": [
          [
           0.9763,
           0.9215,
           0.7772,
           0.9676
          ],
          [
           0.9915,
           0.9535,
           0.919,
           0.9638
          ],
          [
           0.9934,
           0.9582,
           0.9639,
           0.9529
          ],
          [
           0.9743,
           0.9174,
           0.8662,
           0.9613
          ]
         ]
        }
       ],
       "layout": {}
      },
      "text/html": [
       "<div>\n",
       "        \n",
       "        \n",
       "            <div id=\"1188c00d-0069-4666-a217-769c00eb0d64\" class=\"plotly-graph-div\" style=\"height:525px; width:100%;\"></div>\n",
       "            <script type=\"text/javascript\">\n",
       "                require([\"plotly\"], function(Plotly) {\n",
       "                    window.PLOTLYENV=window.PLOTLYENV || {};\n",
       "                    window.PLOTLYENV.BASE_URL='https://plot.ly';\n",
       "                    \n",
       "                if (document.getElementById(\"1188c00d-0069-4666-a217-769c00eb0d64\")) {\n",
       "                    Plotly.newPlot(\n",
       "                        '1188c00d-0069-4666-a217-769c00eb0d64',\n",
       "                        [{\"colorscale\": \"Blues\", \"type\": \"heatmap\", \"uid\": \"814d4d50-3d66-4735-8ae2-e5002f85dfda\", \"y\": [\"flair\", \"bert_cased\", \"bert_uncased\", \"elmo\"], \"z\": [[0.9763, 0.9215, 0.7772, 0.9676], [0.9915, 0.9535, 0.919, 0.9638], [0.9934, 0.9582, 0.9639, 0.9529], [0.9743, 0.9174, 0.8662, 0.9613]]}],\n",
       "                        {},\n",
       "                        {\"showLink\": false, \"linkText\": \"Export to plot.ly\", \"plotlyServerURL\": \"https://plot.ly\", \"responsive\": true}\n",
       "                    ).then(function(){\n",
       "                            \n",
       "var gd = document.getElementById('1188c00d-0069-4666-a217-769c00eb0d64');\n",
       "var x = new MutationObserver(function (mutations, observer) {{\n",
       "        var display = window.getComputedStyle(gd).display;\n",
       "        if (!display || display === 'none') {{\n",
       "            console.log([gd, 'removed!']);\n",
       "            Plotly.purge(gd);\n",
       "            observer.disconnect();\n",
       "        }}\n",
       "}});\n",
       "\n",
       "// Listen for the removal of the full notebook cells\n",
       "var notebookContainer = gd.closest('#notebook-container');\n",
       "if (notebookContainer) {{\n",
       "    x.observe(notebookContainer, {childList: true});\n",
       "}}\n",
       "\n",
       "// Listen for the clearing of the current output cell\n",
       "var outputEl = gd.closest('.output');\n",
       "if (outputEl) {{\n",
       "    x.observe(outputEl, {childList: true});\n",
       "}}\n",
       "\n",
       "                        })\n",
       "                };\n",
       "                });\n",
       "            </script>\n",
       "        </div>"
      ]
     },
     "metadata": {},
     "output_type": "display_data"
    },
    {
     "name": "stdout",
     "output_type": "stream",
     "text": [
      "English\n",
      "the doctor invited the patient for lunch\n",
      "\n",
      "0. the doctor invitted the patient for lunch\n",
      "\t flair similarity: 0.9851\n",
      "\t bert_cased similarity: 0.9749\n",
      "\t bert_uncased similarity: 0.9186\n",
      "\t elmo similarity: 0.9704\n",
      "1. Stefan invited the patient for lunch\n",
      "\t flair similarity: 0.9444\n",
      "\t bert_cased similarity: 0.976\n",
      "\t bert_uncased similarity: 0.936\n",
      "\t elmo similarity: 0.8424\n",
      "2. the doctor invited the patient for Tikka Masala\n",
      "\t flair similarity: 0.917\n",
      "\t bert_cased similarity: 0.9489\n",
      "\t bert_uncased similarity: 0.8503\n",
      "\t elmo similarity: 0.7998\n",
      "3. the doctor invited the patent for lunch\n",
      "\t flair similarity: 0.9415\n",
      "\t bert_cased similarity: 0.9808\n",
      "\t bert_uncased similarity: 0.9114\n",
      "\t elmo similarity: 0.8594\n",
      "Scores: flair: 50%, bert_cased: 25%, bert_uncased: 25%, elmo: 50%\n"
     ]
    },
    {
     "data": {
      "application/vnd.plotly.v1+json": {
       "config": {
        "linkText": "Export to plot.ly",
        "plotlyServerURL": "https://plot.ly",
        "showLink": false
       },
       "data": [
        {
         "colorscale": "Blues",
         "type": "heatmap",
         "uid": "4bc14f71-3115-4cf5-9f6b-2df28568d5a6",
         "y": [
          "flair",
          "bert_cased",
          "bert_uncased",
          "elmo"
         ],
         "z": [
          [
           0.9851,
           0.9444,
           0.917,
           0.9415
          ],
          [
           0.9749,
           0.976,
           0.9489,
           0.9808
          ],
          [
           0.9186,
           0.936,
           0.8503,
           0.9114
          ],
          [
           0.9704,
           0.8424,
           0.7998,
           0.8594
          ]
         ]
        }
       ],
       "layout": {}
      },
      "text/html": [
       "<div>\n",
       "        \n",
       "        \n",
       "            <div id=\"376878f4-39f3-461e-acc8-b5baa183e41c\" class=\"plotly-graph-div\" style=\"height:525px; width:100%;\"></div>\n",
       "            <script type=\"text/javascript\">\n",
       "                require([\"plotly\"], function(Plotly) {\n",
       "                    window.PLOTLYENV=window.PLOTLYENV || {};\n",
       "                    window.PLOTLYENV.BASE_URL='https://plot.ly';\n",
       "                    \n",
       "                if (document.getElementById(\"376878f4-39f3-461e-acc8-b5baa183e41c\")) {\n",
       "                    Plotly.newPlot(\n",
       "                        '376878f4-39f3-461e-acc8-b5baa183e41c',\n",
       "                        [{\"colorscale\": \"Blues\", \"type\": \"heatmap\", \"uid\": \"4bc14f71-3115-4cf5-9f6b-2df28568d5a6\", \"y\": [\"flair\", \"bert_cased\", \"bert_uncased\", \"elmo\"], \"z\": [[0.9851, 0.9444, 0.917, 0.9415], [0.9749, 0.976, 0.9489, 0.9808], [0.9186, 0.936, 0.8503, 0.9114], [0.9704, 0.8424, 0.7998, 0.8594]]}],\n",
       "                        {},\n",
       "                        {\"showLink\": false, \"linkText\": \"Export to plot.ly\", \"plotlyServerURL\": \"https://plot.ly\", \"responsive\": true}\n",
       "                    ).then(function(){\n",
       "                            \n",
       "var gd = document.getElementById('376878f4-39f3-461e-acc8-b5baa183e41c');\n",
       "var x = new MutationObserver(function (mutations, observer) {{\n",
       "        var display = window.getComputedStyle(gd).display;\n",
       "        if (!display || display === 'none') {{\n",
       "            console.log([gd, 'removed!']);\n",
       "            Plotly.purge(gd);\n",
       "            observer.disconnect();\n",
       "        }}\n",
       "}});\n",
       "\n",
       "// Listen for the removal of the full notebook cells\n",
       "var notebookContainer = gd.closest('#notebook-container');\n",
       "if (notebookContainer) {{\n",
       "    x.observe(notebookContainer, {childList: true});\n",
       "}}\n",
       "\n",
       "// Listen for the clearing of the current output cell\n",
       "var outputEl = gd.closest('.output');\n",
       "if (outputEl) {{\n",
       "    x.observe(outputEl, {childList: true});\n",
       "}}\n",
       "\n",
       "                        })\n",
       "                };\n",
       "                });\n",
       "            </script>\n",
       "        </div>"
      ]
     },
     "metadata": {},
     "output_type": "display_data"
    }
   ],
   "source": [
    "for i in range(min(len(sent_eu), len(sent_en))):\n",
    "    \n",
    "    print(f\"\\nSentence #{i}\")\n",
    "    print(\"Basque\")\n",
    "    plot_similarities(sent_eu, similarities_all_eu, scores_all_eu)\n",
    "    print(\"English\")\n",
    "    plot_similarities(sent_en, similarities_all_en, scores_all_en)"
   ]
  },
  {
   "cell_type": "markdown",
   "metadata": {},
   "source": [
    "## 5. Calculate total scores"
   ]
  },
  {
   "cell_type": "code",
   "execution_count": 13,
   "metadata": {
    "scrolled": false
   },
   "outputs": [],
   "source": [
    "def calculate_total_score(scores_all):\n",
    "    total_scores = [0] * len(scores_all[0])\n",
    "    for i in range(len(scores_all)):\n",
    "        total_scores[0] += scores_all[i][0]\n",
    "        total_scores[1] += scores_all[i][1]\n",
    "        total_scores[2] += scores_all[i][2]\n",
    "        total_scores[3] += scores_all[i][3]\n",
    "    print(f\"Total scores: \" + \", \".join(f\"{embed}: {scor}\" for embed, scor in zip(embedding_names, total_scores)))"
   ]
  },
  {
   "cell_type": "code",
   "execution_count": 14,
   "metadata": {
    "scrolled": true
   },
   "outputs": [
    {
     "name": "stdout",
     "output_type": "stream",
     "text": [
      "Total scores: flair: 6, bert_cased: 5, bert_uncased: 4, elmo: 6\n",
      "Total scores: flair: 5, bert_cased: 6, bert_uncased: 6, elmo: 6\n"
     ]
    }
   ],
   "source": [
    "calculate_total_score(scores_all_eu)\n",
    "calculate_total_score(scores_all_en)"
   ]
  }
 ],
 "metadata": {
  "kernelspec": {
   "display_name": "Python 3",
   "language": "python",
   "name": "python3"
  },
  "language_info": {
   "codemirror_mode": {
    "name": "ipython",
    "version": 3
   },
   "file_extension": ".py",
   "mimetype": "text/x-python",
   "name": "python",
   "nbconvert_exporter": "python",
   "pygments_lexer": "ipython3",
   "version": "3.7.3"
  }
 },
 "nbformat": 4,
 "nbformat_minor": 2
}
