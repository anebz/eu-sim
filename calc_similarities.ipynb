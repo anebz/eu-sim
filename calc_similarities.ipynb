{
 "cells": [
  {
   "cell_type": "code",
   "execution_count": 5,
   "metadata": {},
   "outputs": [],
   "source": [
    "import torch\n",
    "\n",
    "from flair.data import Sentence\n",
    "from flair.embeddings import DocumentPoolEmbeddings, FlairEmbeddings, BertEmbeddings\n",
    "\n",
    "import plotly.graph_objs as go\n",
    "from plotly.offline import download_plotlyjs, init_notebook_mode, plot, iplot"
   ]
  },
  {
   "cell_type": "code",
   "execution_count": 8,
   "metadata": {},
   "outputs": [],
   "source": [
    "gold_filename = \"goldstandard_eu.tsv\"\n",
    "\n",
    "def get_gold_sentences(filename):\n",
    "    gold_sentences = {}\n",
    "    with open(filename, 'rt') as f_p:\n",
    "        for line in f_p:\n",
    "            if line.startswith('\"origin\"'): # header\n",
    "                continue\n",
    "            \n",
    "            if not line:\n",
    "                continue\n",
    "            \n",
    "            line = line.rstrip()\n",
    "            line = line.replace('\"', '')\n",
    "            splitted = line.split('\\t')\n",
    "            gold = splitted[0]\n",
    "            sim_sentences = splitted[1:11]\n",
    "            \n",
    "            if gold:\n",
    "                gold_sentences[gold] = sim_sentences\n",
    "            \n",
    "    return gold_sentences"
   ]
  },
  {
   "cell_type": "code",
   "execution_count": 9,
   "metadata": {},
   "outputs": [],
   "source": [
    "gold_sentences = get_gold_sentences(gold_filename)"
   ]
  },
  {
   "cell_type": "code",
   "execution_count": 10,
   "metadata": {},
   "outputs": [],
   "source": [
    "def calculate_similarities(gold, sim_sentences, embeddings):\n",
    "    \n",
    "    similarities = []\n",
    "    query = gold\n",
    "\n",
    "    q = Sentence(query)\n",
    "    embeddings.embed(q)\n",
    "    \n",
    "    for sentence in sim_sentences:\n",
    "        \n",
    "        s = Sentence(sentence)\n",
    "        embeddings.embed(s)\n",
    "\n",
    "        assert q.embedding.shape == s.embedding.shape\n",
    "        \n",
    "        cos = torch.nn.CosineSimilarity(dim=0, eps=1e-6)\n",
    "        prox = cos(q.embedding, s.embedding)\n",
    "    \n",
    "        similarities.append(round(prox.item(), 4))\n",
    "        \n",
    "    return similarities\n",
    "\n",
    "def print_similarities(gold, sim_sentences, similarities):\n",
    "        \n",
    "    print(f\"Example: {gold}\")\n",
    "    for sentence, similarity in zip(sim_sentences, similarities) :\n",
    "        print(f\"{sentence} - {similarity}\")\n",
    "    \n",
    "    print(\"\")"
   ]
  },
  {
   "cell_type": "code",
   "execution_count": 11,
   "metadata": {},
   "outputs": [],
   "source": [
    "# load flair embeddings\n",
    "flair_embeddings = DocumentPoolEmbeddings([FlairEmbeddings('eu-forward'), \n",
    "                                         FlairEmbeddings('eu-backward')\n",
    "                                        ])"
   ]
  },
  {
   "cell_type": "code",
   "execution_count": 12,
   "metadata": {},
   "outputs": [
    {
     "name": "stdout",
     "output_type": "stream",
     "text": [
      "2019-06-27 19:15:38,021 The pre-trained model you are loading is a cased model but you have not set `do_lower_case` to False. We are setting `do_lower_case=False` for you but you may want to check this behavior.\n"
     ]
    }
   ],
   "source": [
    "# load BERT embeddings\n",
    "# See BERT paper, section 5.3 and table 7\n",
    "bert_layers = '-1,-2,-3,-4'\n",
    "\n",
    "bert_cased_embeddings = DocumentPoolEmbeddings([BertEmbeddings('bert-base-multilingual-cased',\n",
    "                                                               layers=bert_layers)])\n",
    "\n",
    "bert_uncased_embeddings = DocumentPoolEmbeddings([BertEmbeddings('bert-base-multilingual-uncased',\n",
    "                                                                 layers=bert_layers)])\n"
   ]
  },
  {
   "cell_type": "code",
   "execution_count": 13,
   "metadata": {},
   "outputs": [],
   "source": [
    "# load ELMo and ELMo multilingual embeddings"
   ]
  },
  {
   "cell_type": "code",
   "execution_count": 14,
   "metadata": {},
   "outputs": [],
   "source": [
    "def calculate_and_print(embeddings, similarities_all):\n",
    "    i = 0\n",
    "    for gold, sim_sentences in gold_sentences.items():\n",
    "        similarities = calculate_similarities(gold, sim_sentences, embeddings)\n",
    "        print_similarities(gold, sim_sentences, similarities)\n",
    "        similarities_all[i].append(similarities)\n",
    "        i += 1\n",
    "    return similarities_all"
   ]
  },
  {
   "cell_type": "code",
   "execution_count": 15,
   "metadata": {},
   "outputs": [],
   "source": [
    "similarities_all = []\n",
    "for i in range(10):\n",
    "    similarities_all.append([])"
   ]
  },
  {
   "cell_type": "code",
   "execution_count": 16,
   "metadata": {},
   "outputs": [
    {
     "name": "stdout",
     "output_type": "stream",
     "text": [
      "Example: Jokinek Amaia bazkari batera gonbidatu zuen\n",
      "Jokinek gonbidapen bat eskeini zion Amaiari bazkari baterako - 0.7616\n",
      "Jokinek Amaiari galdetu zion, ea berarekin bazkaldu nahi zuen - 0.708\n",
      "Jokinek Amaiari galdetu zion: Nahiko zenuke nirekin bazkaltzera joan? - 0.5921\n",
      "Amaiak galdera jaso zuen Jokinengandik, ea bazkaltzea joan nahiko lukeen - 0.5961\n",
      "Jokinek Amaiari gonbidapen bat eskeini zion otordu baterako - 0.7694\n",
      "Amaiak gonbidapen bat jaso zuen Jokinengandik - 0.7276\n",
      "Bazkaltzeko elkartu ziren Jokin eta Amaia - 0.5851\n",
      "Jokinek eta Amaiak otordu bat gozatu zuten elkarrekin - 0.8053\n",
      "Amaiak eta Jokinek erabaki zuten, elkarrekin bazkaltzera joatea - 0.6851\n",
      "Amaiak Jokin gonbidatu zuen bazkari batera - 0.8692\n",
      "\n",
      "Example: Sagar bat soberan baduzu, asko eskertuko nuke\n",
      "Emango al zeniezadake soberan duzun sagar bat? - 0.7304\n",
      "Eskertuko nuke soberan duzun sagar hori emango bazeniezadake - 0.8085\n",
      "Sagar hori ez baduzu behar, asko eskertuko nuke - 0.8962\n",
      "Oso pozik negoke sagar bat emango bazeniezadake - 0.8045\n",
      "Emango didazu sagar bat? - 0.6958\n",
      "Sagar hori nahi nuke - 0.7327\n",
      "Sagar bat eskatu dizut - 0.7815\n",
      "Behar baino sagar bat gehiago duzu - 0.7649\n",
      "Sagar bat eskeini didazu - 0.7636\n",
      "Sagar bat oparitu didazu - 0.7773\n",
      "\n",
      "Example: Anek Amaia zoriondu du\n",
      "Anek Amaiari zorionak esan dio - 0.7441\n",
      "Anek Amaia goraipatu du - 0.9124\n",
      "Zoriondua izan da Amaia Anerengandik - 0.7222\n",
      "Zoriona opa diola esan dio Anek Amaiari - 0.7029\n",
      "Anek Amaiari urte askotarako esan dio - 0.6586\n",
      "Amaiaren urtebetetzea dela eta, zorion asko jaso ditu - 0.5149\n",
      "Opari bat eman dio Anek Amaiari - 0.6947\n",
      "Amaia eta Ane elkar zoriondu dira - 0.784\n",
      "Zorionduak izan dira Ane eta Amaia - 0.677\n",
      "Amaiak Aneri zorionak esan dio - 0.7235\n",
      "\n",
      "Example: Mikel mendira joan da\n",
      "Mendira joan da Mikel - 0.8956\n",
      "Mendian gora abiatu da Mikel - 0.7297\n",
      "Mendian egon da Mikel - 0.7151\n",
      "Mikelek erabaki du mendira joatea - 0.6373\n",
      "Mendira joateko plana egin du Mikelek - 0.6749\n",
      "Mikelek esan du, mendira doala - 0.6307\n",
      "Mikelek aipamena egin du, agian mendira joango zela - 0.6072\n",
      "Mikelek mendia gustoko du - 0.5504\n",
      "Mikelek esan du, ez doala mendira - 0.5366\n",
      "Mikel ez da mendira joan - 0.8161\n",
      "\n",
      "Example: Atzo gure etxera etorri zinen afaltzera\n",
      "Afaltzera etorri zinen gure etxera atzo - 0.9467\n",
      "Atzo gurekin afaldu zenuen gure etxean - 0.8128\n",
      "Gure etxean izan zinen atzo afaltzen - 0.8305\n",
      "Atzo gure etxean afaltzeko gonbidapena onartu zenuen - 0.8148\n",
      "Atzo elkarrekin afaldu genuen denok - 0.7401\n",
      "Elkarrekin bazkaldu genezakeen atzo - 0.6664\n",
      "Atzo etorri zen afaltzera - 0.8544\n",
      "Bihar etorriko da bazkaltzera - 0.7716\n",
      "Zure etxera joan nitzen afaltzera - 0.867\n",
      "Atzo zuen etxera etorriko dira afaltzera - 0.9114\n",
      "\n",
      "Example: Zoriontasuna ez da norberak gustoko duena egitea, egiten duzuna gustokoa izatea baizik\n",
      "Egiten duzuna gustokoa izateak egiten zaitu zoriontsu, ez zuk nahi duzuna egiteak - 0.8814\n",
      "Izan ditzazu gustoko egindako gauzak eta izango zara zoriontsu - 0.715\n",
      "Zoriontasunaren iturria da egiten duzuna maitatzea - 0.8354\n",
      "Zoriontasuna da, egindakoa gustoko izatea - 0.8133\n",
      "Gustuz egiten dena da zoriontasuna - 0.7251\n",
      "Gustoko duzuna egiteak ez zaitu zoriontsu egingo - 0.79\n",
      "Egiten duzuna, ez gustoko duzuna, da zoriontasuna - 0.8318\n",
      "Egin nahi duzuna zoriontsu izateko - 0.7327\n",
      "Egin ditzazu gustoko dituzun gauzak eta izango zara zoriontsu - 0.707\n",
      "Beti ezin da norberak gustoko duena egin - 0.8214\n",
      "\n",
      "Example: Kolorea eman mundu grisari\n",
      "Eman kolorea mundu grisari - 0.9065\n",
      "Mundu grisari emaiozu kolorea - 0.8054\n",
      "Mundua grisa dela eta eman diezaiogun kolorea - 0.6631\n",
      "Kolorea eman mundu ilunari - 0.9484\n",
      "Planetaren gristasuna ezabatzeko kolorea behar du - 0.5591\n",
      "Mundua grisa denez, kolorea emango diogu - 0.6347\n",
      "Eman kolorea munduari - 0.7939\n",
      "Grisa eman mundu koloretsuari - 0.8853\n",
      "Eman grisa munduari - 0.7781\n",
      "Mundua eman kolore grisari - 0.9074\n",
      "\n",
      "Example: Maite dudalako sortzen dut\n",
      "Sortzen dut maite dudalako - 0.9097\n",
      "Maitasunaren ondorioz sortzen dut - 0.7084\n",
      "Maite dut: ondorioz, sortzen dut - 0.8645\n",
      "Sortzearen arrazoia maitasuna da - 0.456\n",
      "Nire sorkuntzaren iturria maitasuna da - 0.475\n",
      "Maite nuelako sortu nuen - 0.8459\n",
      "Sortu ondoren maitatu nuen - 0.6666\n",
      "Maite duzulako sortzen duzu - 0.9465\n",
      "Ez dut maite, beraz ez dut sortzen - 0.6214\n",
      "Sortzen dudalako maite dut - 0.9437\n",
      "\n",
      "Example: Jakingo bazenu zein polita den zu euskaraz entzutea\n",
      "Oso polita da zu euskaraz entzutea - 0.8348\n",
      "Zu euskaraz entzuteak asko pozten nau - 0.7458\n",
      "Ez dakizu zein polita den zure euskara entzutea - 0.8984\n",
      "Ezin azalgarria da nolako zoragarria den zuk euskaraz hitz egiten duzunean - 0.7947\n",
      "Ezin duzu jakin nolako polita den zu entzutea - 0.8759\n",
      "Zu euskaraz hitz egitea zein polita den jakitea ezinezkoa da - 0.7776\n",
      "Zu entzutea zoragarria da - 0.7597\n",
      "Zu euskaraz entzutea zein polita den jakitea nahiko nuke - 0.8561\n",
      "Jakingo bazenu zein itsusia den zu euskaraz entzutea - 0.9744\n",
      "Jakingo balute zein polita den nik euskeraz hitz egitea - 0.8918\n",
      "\n"
     ]
    }
   ],
   "source": [
    "# calculate similarities based on flair embeddings\n",
    "similarities_all = calculate_and_print(flair_embeddings, similarities_all)"
   ]
  },
  {
   "cell_type": "code",
   "execution_count": 17,
   "metadata": {},
   "outputs": [
    {
     "name": "stdout",
     "output_type": "stream",
     "text": [
      "Example: Jokinek Amaia bazkari batera gonbidatu zuen\n",
      "Jokinek gonbidapen bat eskeini zion Amaiari bazkari baterako - 0.9573\n",
      "Jokinek Amaiari galdetu zion, ea berarekin bazkaldu nahi zuen - 0.9379\n",
      "Jokinek Amaiari galdetu zion: Nahiko zenuke nirekin bazkaltzera joan? - 0.9066\n",
      "Amaiak galdera jaso zuen Jokinengandik, ea bazkaltzea joan nahiko lukeen - 0.9212\n",
      "Jokinek Amaiari gonbidapen bat eskeini zion otordu baterako - 0.948\n",
      "Amaiak gonbidapen bat jaso zuen Jokinengandik - 0.9407\n",
      "Bazkaltzeko elkartu ziren Jokin eta Amaia - 0.9377\n",
      "Jokinek eta Amaiak otordu bat gozatu zuten elkarrekin - 0.9364\n",
      "Amaiak eta Jokinek erabaki zuten, elkarrekin bazkaltzera joatea - 0.9138\n",
      "Amaiak Jokin gonbidatu zuen bazkari batera - 0.9745\n",
      "\n",
      "Example: Sagar bat soberan baduzu, asko eskertuko nuke\n",
      "Emango al zeniezadake soberan duzun sagar bat? - 0.9373\n",
      "Eskertuko nuke soberan duzun sagar hori emango bazeniezadake - 0.9371\n",
      "Sagar hori ez baduzu behar, asko eskertuko nuke - 0.9496\n",
      "Oso pozik negoke sagar bat emango bazeniezadake - 0.9256\n",
      "Emango didazu sagar bat? - 0.9092\n",
      "Sagar hori nahi nuke - 0.9156\n",
      "Sagar bat eskatu dizut - 0.9276\n",
      "Behar baino sagar bat gehiago duzu - 0.9025\n",
      "Sagar bat eskeini didazu - 0.9184\n",
      "Sagar bat oparitu didazu - 0.9239\n",
      "\n",
      "Example: Anek Amaia zoriondu du\n",
      "Anek Amaiari zorionak esan dio - 0.9056\n",
      "Anek Amaia goraipatu du - 0.9324\n",
      "Zoriondua izan da Amaia Anerengandik - 0.8805\n",
      "Zoriona opa diola esan dio Anek Amaiari - 0.887\n",
      "Anek Amaiari urte askotarako esan dio - 0.8571\n",
      "Amaiaren urtebetetzea dela eta, zorion asko jaso ditu - 0.8221\n",
      "Opari bat eman dio Anek Amaiari - 0.8684\n",
      "Amaia eta Ane elkar zoriondu dira - 0.8822\n",
      "Zorionduak izan dira Ane eta Amaia - 0.882\n",
      "Amaiak Aneri zorionak esan dio - 0.8968\n",
      "\n",
      "Example: Mikel mendira joan da\n",
      "Mendira joan da Mikel - 0.9624\n",
      "Mendian gora abiatu da Mikel - 0.8708\n",
      "Mendian egon da Mikel - 0.8897\n",
      "Mikelek erabaki du mendira joatea - 0.8748\n",
      "Mendira joateko plana egin du Mikelek - 0.8618\n",
      "Mikelek esan du, mendira doala - 0.8746\n",
      "Mikelek aipamena egin du, agian mendira joango zela - 0.8426\n",
      "Mikelek mendia gustoko du - 0.8248\n",
      "Mikelek esan du, ez doala mendira - 0.8589\n",
      "Mikel ez da mendira joan - 0.9341\n",
      "\n",
      "Example: Atzo gure etxera etorri zinen afaltzera\n",
      "Afaltzera etorri zinen gure etxera atzo - 0.9844\n",
      "Atzo gurekin afaldu zenuen gure etxean - 0.94\n",
      "Gure etxean izan zinen atzo afaltzen - 0.9473\n",
      "Atzo gure etxean afaltzeko gonbidapena onartu zenuen - 0.9104\n",
      "Atzo elkarrekin afaldu genuen denok - 0.9121\n",
      "Elkarrekin bazkaldu genezakeen atzo - 0.8877\n",
      "Atzo etorri zen afaltzera - 0.9191\n",
      "Bihar etorriko da bazkaltzera - 0.8679\n",
      "Zure etxera joan nitzen afaltzera - 0.9145\n",
      "Atzo zuen etxera etorriko dira afaltzera - 0.9082\n",
      "\n",
      "Example: Zoriontasuna ez da norberak gustoko duena egitea, egiten duzuna gustokoa izatea baizik\n",
      "Egiten duzuna gustokoa izateak egiten zaitu zoriontsu, ez zuk nahi duzuna egiteak - 0.9344\n",
      "Izan ditzazu gustoko egindako gauzak eta izango zara zoriontsu - 0.8987\n",
      "Zoriontasunaren iturria da egiten duzuna maitatzea - 0.9382\n",
      "Zoriontasuna da, egindakoa gustoko izatea - 0.9385\n",
      "Gustuz egiten dena da zoriontasuna - 0.9118\n",
      "Gustoko duzuna egiteak ez zaitu zoriontsu egingo - 0.9245\n",
      "Egiten duzuna, ez gustoko duzuna, da zoriontasuna - 0.917\n",
      "Egin nahi duzuna zoriontsu izateko - 0.905\n",
      "Egin ditzazu gustoko dituzun gauzak eta izango zara zoriontsu - 0.8973\n",
      "Beti ezin da norberak gustoko duena egin - 0.9305\n",
      "\n",
      "Example: Kolorea eman mundu grisari\n",
      "Eman kolorea mundu grisari - 0.9836\n",
      "Mundu grisari emaiozu kolorea - 0.9379\n",
      "Mundua grisa dela eta eman diezaiogun kolorea - 0.905\n",
      "Kolorea eman mundu ilunari - 0.9551\n",
      "Planetaren gristasuna ezabatzeko kolorea behar du - 0.8928\n",
      "Mundua grisa denez, kolorea emango diogu - 0.9358\n",
      "Eman kolorea munduari - 0.9502\n",
      "Grisa eman mundu koloretsuari - 0.9706\n",
      "Eman grisa munduari - 0.9484\n",
      "Mundua eman kolore grisari - 0.9718\n",
      "\n",
      "Example: Maite dudalako sortzen dut\n",
      "Sortzen dut maite dudalako - 0.9557\n",
      "Maitasunaren ondorioz sortzen dut - 0.9115\n",
      "Maite dut: ondorioz, sortzen dut - 0.9032\n",
      "Sortzearen arrazoia maitasuna da - 0.8541\n",
      "Nire sorkuntzaren iturria maitasuna da - 0.8694\n",
      "Maite nuelako sortu nuen - 0.8563\n",
      "Sortu ondoren maitatu nuen - 0.8906\n",
      "Maite duzulako sortzen duzu - 0.882\n",
      "Ez dut maite, beraz ez dut sortzen - 0.835\n",
      "Sortzen dudalako maite dut - 0.9745\n",
      "\n",
      "Example: Jakingo bazenu zein polita den zu euskaraz entzutea\n",
      "Oso polita da zu euskaraz entzutea - 0.9505\n",
      "Zu euskaraz entzuteak asko pozten nau - 0.9293\n",
      "Ez dakizu zein polita den zure euskara entzutea - 0.9476\n",
      "Ezin azalgarria da nolako zoragarria den zuk euskaraz hitz egiten duzunean - 0.9265\n",
      "Ezin duzu jakin nolako polita den zu entzutea - 0.9451\n",
      "Zu euskaraz hitz egitea zein polita den jakitea ezinezkoa da - 0.9349\n",
      "Zu entzutea zoragarria da - 0.8975\n",
      "Zu euskaraz entzutea zein polita den jakitea nahiko nuke - 0.9729\n",
      "Jakingo bazenu zein itsusia den zu euskaraz entzutea - 0.9819\n",
      "Jakingo balute zein polita den nik euskeraz hitz egitea - 0.9543\n",
      "\n"
     ]
    }
   ],
   "source": [
    "# calculate similarities based on bert uncased embeddings\n",
    "similarities_all = calculate_and_print(bert_uncased_embeddings, similarities_all)"
   ]
  },
  {
   "cell_type": "code",
   "execution_count": 18,
   "metadata": {},
   "outputs": [
    {
     "name": "stdout",
     "output_type": "stream",
     "text": [
      "Example: Jokinek Amaia bazkari batera gonbidatu zuen\n",
      "Jokinek gonbidapen bat eskeini zion Amaiari bazkari baterako - 0.9656\n",
      "Jokinek Amaiari galdetu zion, ea berarekin bazkaldu nahi zuen - 0.918\n",
      "Jokinek Amaiari galdetu zion: Nahiko zenuke nirekin bazkaltzera joan? - 0.8871\n",
      "Amaiak galdera jaso zuen Jokinengandik, ea bazkaltzea joan nahiko lukeen - 0.9011\n",
      "Jokinek Amaiari gonbidapen bat eskeini zion otordu baterako - 0.9612\n",
      "Amaiak gonbidapen bat jaso zuen Jokinengandik - 0.927\n",
      "Bazkaltzeko elkartu ziren Jokin eta Amaia - 0.9237\n",
      "Jokinek eta Amaiak otordu bat gozatu zuten elkarrekin - 0.9315\n",
      "Amaiak eta Jokinek erabaki zuten, elkarrekin bazkaltzera joatea - 0.9056\n",
      "Amaiak Jokin gonbidatu zuen bazkari batera - 0.9716\n",
      "\n",
      "Example: Sagar bat soberan baduzu, asko eskertuko nuke\n",
      "Emango al zeniezadake soberan duzun sagar bat? - 0.9193\n",
      "Eskertuko nuke soberan duzun sagar hori emango bazeniezadake - 0.9343\n",
      "Sagar hori ez baduzu behar, asko eskertuko nuke - 0.9557\n",
      "Oso pozik negoke sagar bat emango bazeniezadake - 0.9286\n",
      "Emango didazu sagar bat? - 0.8855\n",
      "Sagar hori nahi nuke - 0.8772\n",
      "Sagar bat eskatu dizut - 0.9393\n",
      "Behar baino sagar bat gehiago duzu - 0.9124\n",
      "Sagar bat eskeini didazu - 0.9223\n",
      "Sagar bat oparitu didazu - 0.9291\n",
      "\n",
      "Example: Anek Amaia zoriondu du\n",
      "Anek Amaiari zorionak esan dio - 0.9085\n",
      "Anek Amaia goraipatu du - 0.9323\n",
      "Zoriondua izan da Amaia Anerengandik - 0.8398\n",
      "Zoriona opa diola esan dio Anek Amaiari - 0.9008\n",
      "Anek Amaiari urte askotarako esan dio - 0.8402\n",
      "Amaiaren urtebetetzea dela eta, zorion asko jaso ditu - 0.796\n",
      "Opari bat eman dio Anek Amaiari - 0.8671\n",
      "Amaia eta Ane elkar zoriondu dira - 0.8603\n",
      "Zorionduak izan dira Ane eta Amaia - 0.8502\n",
      "Amaiak Aneri zorionak esan dio - 0.8711\n",
      "\n",
      "Example: Mikel mendira joan da\n",
      "Mendira joan da Mikel - 0.9612\n",
      "Mendian gora abiatu da Mikel - 0.9305\n",
      "Mendian egon da Mikel - 0.9394\n",
      "Mikelek erabaki du mendira joatea - 0.9337\n",
      "Mendira joateko plana egin du Mikelek - 0.9201\n",
      "Mikelek esan du, mendira doala - 0.9207\n",
      "Mikelek aipamena egin du, agian mendira joango zela - 0.9173\n",
      "Mikelek mendia gustoko du - 0.9132\n",
      "Mikelek esan du, ez doala mendira - 0.9196\n",
      "Mikel ez da mendira joan - 0.9408\n",
      "\n",
      "Example: Atzo gure etxera etorri zinen afaltzera\n",
      "Afaltzera etorri zinen gure etxera atzo - 0.9802\n",
      "Atzo gurekin afaldu zenuen gure etxean - 0.9103\n",
      "Gure etxean izan zinen atzo afaltzen - 0.9325\n",
      "Atzo gure etxean afaltzeko gonbidapena onartu zenuen - 0.9068\n",
      "Atzo elkarrekin afaldu genuen denok - 0.8709\n",
      "Elkarrekin bazkaldu genezakeen atzo - 0.9016\n",
      "Atzo etorri zen afaltzera - 0.812\n",
      "Bihar etorriko da bazkaltzera - 0.8535\n",
      "Zure etxera joan nitzen afaltzera - 0.932\n",
      "Atzo zuen etxera etorriko dira afaltzera - 0.9242\n",
      "\n",
      "Example: Zoriontasuna ez da norberak gustoko duena egitea, egiten duzuna gustokoa izatea baizik\n",
      "Egiten duzuna gustokoa izateak egiten zaitu zoriontsu, ez zuk nahi duzuna egiteak - 0.9365\n",
      "Izan ditzazu gustoko egindako gauzak eta izango zara zoriontsu - 0.9047\n",
      "Zoriontasunaren iturria da egiten duzuna maitatzea - 0.9092\n",
      "Zoriontasuna da, egindakoa gustoko izatea - 0.9232\n",
      "Gustuz egiten dena da zoriontasuna - 0.8934\n",
      "Gustoko duzuna egiteak ez zaitu zoriontsu egingo - 0.9071\n",
      "Egiten duzuna, ez gustoko duzuna, da zoriontasuna - 0.9097\n",
      "Egin nahi duzuna zoriontsu izateko - 0.8792\n",
      "Egin ditzazu gustoko dituzun gauzak eta izango zara zoriontsu - 0.8972\n",
      "Beti ezin da norberak gustoko duena egin - 0.8866\n",
      "\n",
      "Example: Kolorea eman mundu grisari\n",
      "Eman kolorea mundu grisari - 0.9064\n",
      "Mundu grisari emaiozu kolorea - 0.8941\n",
      "Mundua grisa dela eta eman diezaiogun kolorea - 0.8847\n",
      "Kolorea eman mundu ilunari - 0.9601\n",
      "Planetaren gristasuna ezabatzeko kolorea behar du - 0.831\n",
      "Mundua grisa denez, kolorea emango diogu - 0.8586\n",
      "Eman kolorea munduari - 0.8891\n",
      "Grisa eman mundu koloretsuari - 0.9437\n",
      "Eman grisa munduari - 0.9003\n",
      "Mundua eman kolore grisari - 0.9292\n",
      "\n",
      "Example: Maite dudalako sortzen dut\n",
      "Sortzen dut maite dudalako - 0.9155\n",
      "Maitasunaren ondorioz sortzen dut - 0.9378\n",
      "Maite dut: ondorioz, sortzen dut - 0.9194\n",
      "Sortzearen arrazoia maitasuna da - 0.8521\n",
      "Nire sorkuntzaren iturria maitasuna da - 0.8726\n",
      "Maite nuelako sortu nuen - 0.8679\n",
      "Sortu ondoren maitatu nuen - 0.8761\n",
      "Maite duzulako sortzen duzu - 0.9271\n",
      "Ez dut maite, beraz ez dut sortzen - 0.9003\n",
      "Sortzen dudalako maite dut - 0.9301\n",
      "\n",
      "Example: Jakingo bazenu zein polita den zu euskaraz entzutea\n",
      "Oso polita da zu euskaraz entzutea - 0.9186\n",
      "Zu euskaraz entzuteak asko pozten nau - 0.9104\n",
      "Ez dakizu zein polita den zure euskara entzutea - 0.9685\n",
      "Ezin azalgarria da nolako zoragarria den zuk euskaraz hitz egiten duzunean - 0.9121\n",
      "Ezin duzu jakin nolako polita den zu entzutea - 0.9442\n",
      "Zu euskaraz hitz egitea zein polita den jakitea ezinezkoa da - 0.942\n",
      "Zu entzutea zoragarria da - 0.8879\n",
      "Zu euskaraz entzutea zein polita den jakitea nahiko nuke - 0.9594\n",
      "Jakingo bazenu zein itsusia den zu euskaraz entzutea - 0.9835\n",
      "Jakingo balute zein polita den nik euskeraz hitz egitea - 0.9661\n",
      "\n"
     ]
    }
   ],
   "source": [
    "# calculate similarities based on bert cased embeddings\n",
    "similarities_all = calculate_and_print(bert_cased_embeddings, similarities_all)"
   ]
  },
  {
   "cell_type": "code",
   "execution_count": 19,
   "metadata": {},
   "outputs": [
    {
     "data": {
      "text/html": [
       "        <script type=\"text/javascript\">\n",
       "        window.PlotlyConfig = {MathJaxConfig: 'local'};\n",
       "        if (window.MathJax) {MathJax.Hub.Config({SVG: {font: \"STIX-Web\"}});}\n",
       "        if (typeof require !== 'undefined') {\n",
       "        require.undef(\"plotly\");\n",
       "        requirejs.config({\n",
       "            paths: {\n",
       "                'plotly': ['https://cdn.plot.ly/plotly-latest.min']\n",
       "            }\n",
       "        });\n",
       "        require(['plotly'], function(Plotly) {\n",
       "            window._Plotly = Plotly;\n",
       "        });\n",
       "        }\n",
       "        </script>\n",
       "        "
      ]
     },
     "metadata": {},
     "output_type": "display_data"
    }
   ],
   "source": [
    "init_notebook_mode(connected=True)"
   ]
  },
  {
   "cell_type": "code",
   "execution_count": 26,
   "metadata": {},
   "outputs": [
    {
     "name": "stdout",
     "output_type": "stream",
     "text": [
      "This is the format of your plot grid:\n",
      "[ (1,1) x1,y1 ]     [ (1,2) x2,y2 ]     [ (1,3) x3,y3 ]     [ (1,4) x4,y4 ]     [ (1,5) x5,y5 ]     [ (1,6) x6,y6 ]     [ (1,7) x7,y7 ]     [ (1,8) x8,y8 ]     [ (1,9) x9,y9 ]     [ (1,10) x10,y10 ]\n",
      "\n",
      "Jokinek Amaia bazkari batera gonbidatu zuen\n",
      "\n",
      "Jokinek gonbidapen bat eskeini zion Amaiari bazkari baterako\n",
      "Jokinek Amaiari galdetu zion, ea berarekin bazkaldu nahi zuen\n",
      "Jokinek Amaiari galdetu zion: Nahiko zenuke nirekin bazkaltzera joan?\n",
      "Amaiak galdera jaso zuen Jokinengandik, ea bazkaltzea joan nahiko lukeen\n",
      "Jokinek Amaiari gonbidapen bat eskeini zion otordu baterako\n",
      "Amaiak gonbidapen bat jaso zuen Jokinengandik\n",
      "Bazkaltzeko elkartu ziren Jokin eta Amaia\n",
      "Jokinek eta Amaiak otordu bat gozatu zuten elkarrekin\n",
      "Amaiak eta Jokinek erabaki zuten, elkarrekin bazkaltzera joatea\n",
      "Amaiak Jokin gonbidatu zuen bazkari batera\n"
     ]
    },
    {
     "data": {
      "application/vnd.plotly.v1+json": {
       "config": {
        "linkText": "Export to plot.ly",
        "plotlyServerURL": "https://plot.ly",
        "showLink": false
       },
       "data": [
        {
         "type": "heatmap",
         "uid": "6dda5d74-61a7-4c0e-9ebc-a8e4e0722f37",
         "y": [
          "Flair",
          "BERT uncased",
          "BERT cased"
         ],
         "z": [
          [
           0.7616,
           0.708,
           0.5921,
           0.5961,
           0.7694,
           0.7276,
           0.5851,
           0.8053,
           0.6851,
           0.8692
          ],
          [
           0.9573,
           0.9379,
           0.9066,
           0.9212,
           0.948,
           0.9407,
           0.9377,
           0.9364,
           0.9138,
           0.9745
          ],
          [
           0.9656,
           0.918,
           0.8871,
           0.9011,
           0.9612,
           0.927,
           0.9237,
           0.9315,
           0.9056,
           0.9716
          ]
         ]
        }
       ],
       "layout": {}
      },
      "text/html": [
       "<div>\n",
       "        \n",
       "        \n",
       "            <div id=\"c0abbc3f-c73f-42ea-9081-ed9de30e81bb\" class=\"plotly-graph-div\" style=\"height:525px; width:100%;\"></div>\n",
       "            <script type=\"text/javascript\">\n",
       "                require([\"plotly\"], function(Plotly) {\n",
       "                    window.PLOTLYENV=window.PLOTLYENV || {};\n",
       "                    window.PLOTLYENV.BASE_URL='https://plot.ly';\n",
       "                    \n",
       "                if (document.getElementById(\"c0abbc3f-c73f-42ea-9081-ed9de30e81bb\")) {\n",
       "                    Plotly.newPlot(\n",
       "                        'c0abbc3f-c73f-42ea-9081-ed9de30e81bb',\n",
       "                        [{\"type\": \"heatmap\", \"uid\": \"6dda5d74-61a7-4c0e-9ebc-a8e4e0722f37\", \"y\": [\"Flair\", \"BERT uncased\", \"BERT cased\"], \"z\": [[0.7616, 0.708, 0.5921, 0.5961, 0.7694, 0.7276, 0.5851, 0.8053, 0.6851, 0.8692], [0.9573, 0.9379, 0.9066, 0.9212, 0.948, 0.9407, 0.9377, 0.9364, 0.9138, 0.9745], [0.9656, 0.918, 0.8871, 0.9011, 0.9612, 0.927, 0.9237, 0.9315, 0.9056, 0.9716]]}],\n",
       "                        {},\n",
       "                        {\"showLink\": false, \"linkText\": \"Export to plot.ly\", \"plotlyServerURL\": \"https://plot.ly\", \"responsive\": true}\n",
       "                    ).then(function(){\n",
       "                            \n",
       "var gd = document.getElementById('c0abbc3f-c73f-42ea-9081-ed9de30e81bb');\n",
       "var x = new MutationObserver(function (mutations, observer) {{\n",
       "        var display = window.getComputedStyle(gd).display;\n",
       "        if (!display || display === 'none') {{\n",
       "            console.log([gd, 'removed!']);\n",
       "            Plotly.purge(gd);\n",
       "            observer.disconnect();\n",
       "        }}\n",
       "}});\n",
       "\n",
       "// Listen for the removal of the full notebook cells\n",
       "var notebookContainer = gd.closest('#notebook-container');\n",
       "if (notebookContainer) {{\n",
       "    x.observe(notebookContainer, {childList: true});\n",
       "}}\n",
       "\n",
       "// Listen for the clearing of the current output cell\n",
       "var outputEl = gd.closest('.output');\n",
       "if (outputEl) {{\n",
       "    x.observe(outputEl, {childList: true});\n",
       "}}\n",
       "\n",
       "                        })\n",
       "                };\n",
       "                });\n",
       "            </script>\n",
       "        </div>"
      ]
     },
     "metadata": {},
     "output_type": "display_data"
    },
    {
     "name": "stdout",
     "output_type": "stream",
     "text": [
      "Sagar bat soberan baduzu, asko eskertuko nuke\n",
      "\n",
      "Emango al zeniezadake soberan duzun sagar bat?\n",
      "Eskertuko nuke soberan duzun sagar hori emango bazeniezadake\n",
      "Sagar hori ez baduzu behar, asko eskertuko nuke\n",
      "Oso pozik negoke sagar bat emango bazeniezadake\n",
      "Emango didazu sagar bat?\n",
      "Sagar hori nahi nuke\n",
      "Sagar bat eskatu dizut\n",
      "Behar baino sagar bat gehiago duzu\n",
      "Sagar bat eskeini didazu\n",
      "Sagar bat oparitu didazu\n"
     ]
    },
    {
     "data": {
      "application/vnd.plotly.v1+json": {
       "config": {
        "linkText": "Export to plot.ly",
        "plotlyServerURL": "https://plot.ly",
        "showLink": false
       },
       "data": [
        {
         "type": "heatmap",
         "uid": "417458d2-6193-4bdd-acd7-0e061e3521bc",
         "y": [
          "Flair",
          "BERT uncased",
          "BERT cased"
         ],
         "z": [
          [
           0.7304,
           0.8085,
           0.8962,
           0.8045,
           0.6958,
           0.7327,
           0.7815,
           0.7649,
           0.7636,
           0.7773
          ],
          [
           0.9373,
           0.9371,
           0.9496,
           0.9256,
           0.9092,
           0.9156,
           0.9276,
           0.9025,
           0.9184,
           0.9239
          ],
          [
           0.9193,
           0.9343,
           0.9557,
           0.9286,
           0.8855,
           0.8772,
           0.9393,
           0.9124,
           0.9223,
           0.9291
          ]
         ]
        }
       ],
       "layout": {}
      },
      "text/html": [
       "<div>\n",
       "        \n",
       "        \n",
       "            <div id=\"0b5fe690-bbab-4943-86c3-adcbb196c215\" class=\"plotly-graph-div\" style=\"height:525px; width:100%;\"></div>\n",
       "            <script type=\"text/javascript\">\n",
       "                require([\"plotly\"], function(Plotly) {\n",
       "                    window.PLOTLYENV=window.PLOTLYENV || {};\n",
       "                    window.PLOTLYENV.BASE_URL='https://plot.ly';\n",
       "                    \n",
       "                if (document.getElementById(\"0b5fe690-bbab-4943-86c3-adcbb196c215\")) {\n",
       "                    Plotly.newPlot(\n",
       "                        '0b5fe690-bbab-4943-86c3-adcbb196c215',\n",
       "                        [{\"type\": \"heatmap\", \"uid\": \"417458d2-6193-4bdd-acd7-0e061e3521bc\", \"y\": [\"Flair\", \"BERT uncased\", \"BERT cased\"], \"z\": [[0.7304, 0.8085, 0.8962, 0.8045, 0.6958, 0.7327, 0.7815, 0.7649, 0.7636, 0.7773], [0.9373, 0.9371, 0.9496, 0.9256, 0.9092, 0.9156, 0.9276, 0.9025, 0.9184, 0.9239], [0.9193, 0.9343, 0.9557, 0.9286, 0.8855, 0.8772, 0.9393, 0.9124, 0.9223, 0.9291]]}],\n",
       "                        {},\n",
       "                        {\"showLink\": false, \"linkText\": \"Export to plot.ly\", \"plotlyServerURL\": \"https://plot.ly\", \"responsive\": true}\n",
       "                    ).then(function(){\n",
       "                            \n",
       "var gd = document.getElementById('0b5fe690-bbab-4943-86c3-adcbb196c215');\n",
       "var x = new MutationObserver(function (mutations, observer) {{\n",
       "        var display = window.getComputedStyle(gd).display;\n",
       "        if (!display || display === 'none') {{\n",
       "            console.log([gd, 'removed!']);\n",
       "            Plotly.purge(gd);\n",
       "            observer.disconnect();\n",
       "        }}\n",
       "}});\n",
       "\n",
       "// Listen for the removal of the full notebook cells\n",
       "var notebookContainer = gd.closest('#notebook-container');\n",
       "if (notebookContainer) {{\n",
       "    x.observe(notebookContainer, {childList: true});\n",
       "}}\n",
       "\n",
       "// Listen for the clearing of the current output cell\n",
       "var outputEl = gd.closest('.output');\n",
       "if (outputEl) {{\n",
       "    x.observe(outputEl, {childList: true});\n",
       "}}\n",
       "\n",
       "                        })\n",
       "                };\n",
       "                });\n",
       "            </script>\n",
       "        </div>"
      ]
     },
     "metadata": {},
     "output_type": "display_data"
    },
    {
     "name": "stdout",
     "output_type": "stream",
     "text": [
      "Anek Amaia zoriondu du\n",
      "\n",
      "Anek Amaiari zorionak esan dio\n",
      "Anek Amaia goraipatu du\n",
      "Zoriondua izan da Amaia Anerengandik\n",
      "Zoriona opa diola esan dio Anek Amaiari\n",
      "Anek Amaiari urte askotarako esan dio\n",
      "Amaiaren urtebetetzea dela eta, zorion asko jaso ditu\n",
      "Opari bat eman dio Anek Amaiari\n",
      "Amaia eta Ane elkar zoriondu dira\n",
      "Zorionduak izan dira Ane eta Amaia\n",
      "Amaiak Aneri zorionak esan dio\n"
     ]
    },
    {
     "data": {
      "application/vnd.plotly.v1+json": {
       "config": {
        "linkText": "Export to plot.ly",
        "plotlyServerURL": "https://plot.ly",
        "showLink": false
       },
       "data": [
        {
         "type": "heatmap",
         "uid": "a8855150-cf3d-43be-bbac-867cb31ef58d",
         "y": [
          "Flair",
          "BERT uncased",
          "BERT cased"
         ],
         "z": [
          [
           0.7441,
           0.9124,
           0.7222,
           0.7029,
           0.6586,
           0.5149,
           0.6947,
           0.784,
           0.677,
           0.7235
          ],
          [
           0.9056,
           0.9324,
           0.8805,
           0.887,
           0.8571,
           0.8221,
           0.8684,
           0.8822,
           0.882,
           0.8968
          ],
          [
           0.9085,
           0.9323,
           0.8398,
           0.9008,
           0.8402,
           0.796,
           0.8671,
           0.8603,
           0.8502,
           0.8711
          ]
         ]
        }
       ],
       "layout": {}
      },
      "text/html": [
       "<div>\n",
       "        \n",
       "        \n",
       "            <div id=\"442722d6-c9db-45db-b00b-90de40900d94\" class=\"plotly-graph-div\" style=\"height:525px; width:100%;\"></div>\n",
       "            <script type=\"text/javascript\">\n",
       "                require([\"plotly\"], function(Plotly) {\n",
       "                    window.PLOTLYENV=window.PLOTLYENV || {};\n",
       "                    window.PLOTLYENV.BASE_URL='https://plot.ly';\n",
       "                    \n",
       "                if (document.getElementById(\"442722d6-c9db-45db-b00b-90de40900d94\")) {\n",
       "                    Plotly.newPlot(\n",
       "                        '442722d6-c9db-45db-b00b-90de40900d94',\n",
       "                        [{\"type\": \"heatmap\", \"uid\": \"a8855150-cf3d-43be-bbac-867cb31ef58d\", \"y\": [\"Flair\", \"BERT uncased\", \"BERT cased\"], \"z\": [[0.7441, 0.9124, 0.7222, 0.7029, 0.6586, 0.5149, 0.6947, 0.784, 0.677, 0.7235], [0.9056, 0.9324, 0.8805, 0.887, 0.8571, 0.8221, 0.8684, 0.8822, 0.882, 0.8968], [0.9085, 0.9323, 0.8398, 0.9008, 0.8402, 0.796, 0.8671, 0.8603, 0.8502, 0.8711]]}],\n",
       "                        {},\n",
       "                        {\"showLink\": false, \"linkText\": \"Export to plot.ly\", \"plotlyServerURL\": \"https://plot.ly\", \"responsive\": true}\n",
       "                    ).then(function(){\n",
       "                            \n",
       "var gd = document.getElementById('442722d6-c9db-45db-b00b-90de40900d94');\n",
       "var x = new MutationObserver(function (mutations, observer) {{\n",
       "        var display = window.getComputedStyle(gd).display;\n",
       "        if (!display || display === 'none') {{\n",
       "            console.log([gd, 'removed!']);\n",
       "            Plotly.purge(gd);\n",
       "            observer.disconnect();\n",
       "        }}\n",
       "}});\n",
       "\n",
       "// Listen for the removal of the full notebook cells\n",
       "var notebookContainer = gd.closest('#notebook-container');\n",
       "if (notebookContainer) {{\n",
       "    x.observe(notebookContainer, {childList: true});\n",
       "}}\n",
       "\n",
       "// Listen for the clearing of the current output cell\n",
       "var outputEl = gd.closest('.output');\n",
       "if (outputEl) {{\n",
       "    x.observe(outputEl, {childList: true});\n",
       "}}\n",
       "\n",
       "                        })\n",
       "                };\n",
       "                });\n",
       "            </script>\n",
       "        </div>"
      ]
     },
     "metadata": {},
     "output_type": "display_data"
    },
    {
     "name": "stdout",
     "output_type": "stream",
     "text": [
      "Mikel mendira joan da\n",
      "\n",
      "Mendira joan da Mikel\n",
      "Mendian gora abiatu da Mikel\n",
      "Mendian egon da Mikel\n",
      "Mikelek erabaki du mendira joatea\n",
      "Mendira joateko plana egin du Mikelek\n",
      "Mikelek esan du, mendira doala\n",
      "Mikelek aipamena egin du, agian mendira joango zela\n",
      "Mikelek mendia gustoko du\n",
      "Mikelek esan du, ez doala mendira\n",
      "Mikel ez da mendira joan\n"
     ]
    },
    {
     "data": {
      "application/vnd.plotly.v1+json": {
       "config": {
        "linkText": "Export to plot.ly",
        "plotlyServerURL": "https://plot.ly",
        "showLink": false
       },
       "data": [
        {
         "type": "heatmap",
         "uid": "1049d13c-5f5e-4cfd-8ac3-912669c158a9",
         "y": [
          "Flair",
          "BERT uncased",
          "BERT cased"
         ],
         "z": [
          [
           0.8956,
           0.7297,
           0.7151,
           0.6373,
           0.6749,
           0.6307,
           0.6072,
           0.5504,
           0.5366,
           0.8161
          ],
          [
           0.9624,
           0.8708,
           0.8897,
           0.8748,
           0.8618,
           0.8746,
           0.8426,
           0.8248,
           0.8589,
           0.9341
          ],
          [
           0.9612,
           0.9305,
           0.9394,
           0.9337,
           0.9201,
           0.9207,
           0.9173,
           0.9132,
           0.9196,
           0.9408
          ]
         ]
        }
       ],
       "layout": {}
      },
      "text/html": [
       "<div>\n",
       "        \n",
       "        \n",
       "            <div id=\"164b5eab-4f08-47d2-aae0-8332c6f4cfeb\" class=\"plotly-graph-div\" style=\"height:525px; width:100%;\"></div>\n",
       "            <script type=\"text/javascript\">\n",
       "                require([\"plotly\"], function(Plotly) {\n",
       "                    window.PLOTLYENV=window.PLOTLYENV || {};\n",
       "                    window.PLOTLYENV.BASE_URL='https://plot.ly';\n",
       "                    \n",
       "                if (document.getElementById(\"164b5eab-4f08-47d2-aae0-8332c6f4cfeb\")) {\n",
       "                    Plotly.newPlot(\n",
       "                        '164b5eab-4f08-47d2-aae0-8332c6f4cfeb',\n",
       "                        [{\"type\": \"heatmap\", \"uid\": \"1049d13c-5f5e-4cfd-8ac3-912669c158a9\", \"y\": [\"Flair\", \"BERT uncased\", \"BERT cased\"], \"z\": [[0.8956, 0.7297, 0.7151, 0.6373, 0.6749, 0.6307, 0.6072, 0.5504, 0.5366, 0.8161], [0.9624, 0.8708, 0.8897, 0.8748, 0.8618, 0.8746, 0.8426, 0.8248, 0.8589, 0.9341], [0.9612, 0.9305, 0.9394, 0.9337, 0.9201, 0.9207, 0.9173, 0.9132, 0.9196, 0.9408]]}],\n",
       "                        {},\n",
       "                        {\"showLink\": false, \"linkText\": \"Export to plot.ly\", \"plotlyServerURL\": \"https://plot.ly\", \"responsive\": true}\n",
       "                    ).then(function(){\n",
       "                            \n",
       "var gd = document.getElementById('164b5eab-4f08-47d2-aae0-8332c6f4cfeb');\n",
       "var x = new MutationObserver(function (mutations, observer) {{\n",
       "        var display = window.getComputedStyle(gd).display;\n",
       "        if (!display || display === 'none') {{\n",
       "            console.log([gd, 'removed!']);\n",
       "            Plotly.purge(gd);\n",
       "            observer.disconnect();\n",
       "        }}\n",
       "}});\n",
       "\n",
       "// Listen for the removal of the full notebook cells\n",
       "var notebookContainer = gd.closest('#notebook-container');\n",
       "if (notebookContainer) {{\n",
       "    x.observe(notebookContainer, {childList: true});\n",
       "}}\n",
       "\n",
       "// Listen for the clearing of the current output cell\n",
       "var outputEl = gd.closest('.output');\n",
       "if (outputEl) {{\n",
       "    x.observe(outputEl, {childList: true});\n",
       "}}\n",
       "\n",
       "                        })\n",
       "                };\n",
       "                });\n",
       "            </script>\n",
       "        </div>"
      ]
     },
     "metadata": {},
     "output_type": "display_data"
    },
    {
     "name": "stdout",
     "output_type": "stream",
     "text": [
      "Atzo gure etxera etorri zinen afaltzera\n",
      "\n",
      "Afaltzera etorri zinen gure etxera atzo\n",
      "Atzo gurekin afaldu zenuen gure etxean\n",
      "Gure etxean izan zinen atzo afaltzen\n",
      "Atzo gure etxean afaltzeko gonbidapena onartu zenuen\n",
      "Atzo elkarrekin afaldu genuen denok\n",
      "Elkarrekin bazkaldu genezakeen atzo\n",
      "Atzo etorri zen afaltzera\n",
      "Bihar etorriko da bazkaltzera\n",
      "Zure etxera joan nitzen afaltzera\n",
      "Atzo zuen etxera etorriko dira afaltzera\n"
     ]
    },
    {
     "data": {
      "application/vnd.plotly.v1+json": {
       "config": {
        "linkText": "Export to plot.ly",
        "plotlyServerURL": "https://plot.ly",
        "showLink": false
       },
       "data": [
        {
         "type": "heatmap",
         "uid": "2c5a6dd1-5d3b-48d0-bf76-66f67629f4f9",
         "y": [
          "Flair",
          "BERT uncased",
          "BERT cased"
         ],
         "z": [
          [
           0.9467,
           0.8128,
           0.8305,
           0.8148,
           0.7401,
           0.6664,
           0.8544,
           0.7716,
           0.867,
           0.9114
          ],
          [
           0.9844,
           0.94,
           0.9473,
           0.9104,
           0.9121,
           0.8877,
           0.9191,
           0.8679,
           0.9145,
           0.9082
          ],
          [
           0.9802,
           0.9103,
           0.9325,
           0.9068,
           0.8709,
           0.9016,
           0.812,
           0.8535,
           0.932,
           0.9242
          ]
         ]
        }
       ],
       "layout": {}
      },
      "text/html": [
       "<div>\n",
       "        \n",
       "        \n",
       "            <div id=\"9f044eca-da1e-44f8-9d90-81d676dd8a2c\" class=\"plotly-graph-div\" style=\"height:525px; width:100%;\"></div>\n",
       "            <script type=\"text/javascript\">\n",
       "                require([\"plotly\"], function(Plotly) {\n",
       "                    window.PLOTLYENV=window.PLOTLYENV || {};\n",
       "                    window.PLOTLYENV.BASE_URL='https://plot.ly';\n",
       "                    \n",
       "                if (document.getElementById(\"9f044eca-da1e-44f8-9d90-81d676dd8a2c\")) {\n",
       "                    Plotly.newPlot(\n",
       "                        '9f044eca-da1e-44f8-9d90-81d676dd8a2c',\n",
       "                        [{\"type\": \"heatmap\", \"uid\": \"2c5a6dd1-5d3b-48d0-bf76-66f67629f4f9\", \"y\": [\"Flair\", \"BERT uncased\", \"BERT cased\"], \"z\": [[0.9467, 0.8128, 0.8305, 0.8148, 0.7401, 0.6664, 0.8544, 0.7716, 0.867, 0.9114], [0.9844, 0.94, 0.9473, 0.9104, 0.9121, 0.8877, 0.9191, 0.8679, 0.9145, 0.9082], [0.9802, 0.9103, 0.9325, 0.9068, 0.8709, 0.9016, 0.812, 0.8535, 0.932, 0.9242]]}],\n",
       "                        {},\n",
       "                        {\"showLink\": false, \"linkText\": \"Export to plot.ly\", \"plotlyServerURL\": \"https://plot.ly\", \"responsive\": true}\n",
       "                    ).then(function(){\n",
       "                            \n",
       "var gd = document.getElementById('9f044eca-da1e-44f8-9d90-81d676dd8a2c');\n",
       "var x = new MutationObserver(function (mutations, observer) {{\n",
       "        var display = window.getComputedStyle(gd).display;\n",
       "        if (!display || display === 'none') {{\n",
       "            console.log([gd, 'removed!']);\n",
       "            Plotly.purge(gd);\n",
       "            observer.disconnect();\n",
       "        }}\n",
       "}});\n",
       "\n",
       "// Listen for the removal of the full notebook cells\n",
       "var notebookContainer = gd.closest('#notebook-container');\n",
       "if (notebookContainer) {{\n",
       "    x.observe(notebookContainer, {childList: true});\n",
       "}}\n",
       "\n",
       "// Listen for the clearing of the current output cell\n",
       "var outputEl = gd.closest('.output');\n",
       "if (outputEl) {{\n",
       "    x.observe(outputEl, {childList: true});\n",
       "}}\n",
       "\n",
       "                        })\n",
       "                };\n",
       "                });\n",
       "            </script>\n",
       "        </div>"
      ]
     },
     "metadata": {},
     "output_type": "display_data"
    },
    {
     "name": "stdout",
     "output_type": "stream",
     "text": [
      "Zoriontasuna ez da norberak gustoko duena egitea, egiten duzuna gustokoa izatea baizik\n",
      "\n",
      "Egiten duzuna gustokoa izateak egiten zaitu zoriontsu, ez zuk nahi duzuna egiteak\n",
      "Izan ditzazu gustoko egindako gauzak eta izango zara zoriontsu\n",
      "Zoriontasunaren iturria da egiten duzuna maitatzea\n",
      "Zoriontasuna da, egindakoa gustoko izatea\n",
      "Gustuz egiten dena da zoriontasuna\n",
      "Gustoko duzuna egiteak ez zaitu zoriontsu egingo\n",
      "Egiten duzuna, ez gustoko duzuna, da zoriontasuna\n",
      "Egin nahi duzuna zoriontsu izateko\n",
      "Egin ditzazu gustoko dituzun gauzak eta izango zara zoriontsu\n",
      "Beti ezin da norberak gustoko duena egin\n"
     ]
    },
    {
     "data": {
      "application/vnd.plotly.v1+json": {
       "config": {
        "linkText": "Export to plot.ly",
        "plotlyServerURL": "https://plot.ly",
        "showLink": false
       },
       "data": [
        {
         "type": "heatmap",
         "uid": "1b1902e9-8c92-4fbf-a292-fdb1e163e71e",
         "y": [
          "Flair",
          "BERT uncased",
          "BERT cased"
         ],
         "z": [
          [
           0.8814,
           0.715,
           0.8354,
           0.8133,
           0.7251,
           0.79,
           0.8318,
           0.7327,
           0.707,
           0.8214
          ],
          [
           0.9344,
           0.8987,
           0.9382,
           0.9385,
           0.9118,
           0.9245,
           0.917,
           0.905,
           0.8973,
           0.9305
          ],
          [
           0.9365,
           0.9047,
           0.9092,
           0.9232,
           0.8934,
           0.9071,
           0.9097,
           0.8792,
           0.8972,
           0.8866
          ]
         ]
        }
       ],
       "layout": {}
      },
      "text/html": [
       "<div>\n",
       "        \n",
       "        \n",
       "            <div id=\"323b11ec-c5ab-4a4a-a28c-50abb8633c9f\" class=\"plotly-graph-div\" style=\"height:525px; width:100%;\"></div>\n",
       "            <script type=\"text/javascript\">\n",
       "                require([\"plotly\"], function(Plotly) {\n",
       "                    window.PLOTLYENV=window.PLOTLYENV || {};\n",
       "                    window.PLOTLYENV.BASE_URL='https://plot.ly';\n",
       "                    \n",
       "                if (document.getElementById(\"323b11ec-c5ab-4a4a-a28c-50abb8633c9f\")) {\n",
       "                    Plotly.newPlot(\n",
       "                        '323b11ec-c5ab-4a4a-a28c-50abb8633c9f',\n",
       "                        [{\"type\": \"heatmap\", \"uid\": \"1b1902e9-8c92-4fbf-a292-fdb1e163e71e\", \"y\": [\"Flair\", \"BERT uncased\", \"BERT cased\"], \"z\": [[0.8814, 0.715, 0.8354, 0.8133, 0.7251, 0.79, 0.8318, 0.7327, 0.707, 0.8214], [0.9344, 0.8987, 0.9382, 0.9385, 0.9118, 0.9245, 0.917, 0.905, 0.8973, 0.9305], [0.9365, 0.9047, 0.9092, 0.9232, 0.8934, 0.9071, 0.9097, 0.8792, 0.8972, 0.8866]]}],\n",
       "                        {},\n",
       "                        {\"showLink\": false, \"linkText\": \"Export to plot.ly\", \"plotlyServerURL\": \"https://plot.ly\", \"responsive\": true}\n",
       "                    ).then(function(){\n",
       "                            \n",
       "var gd = document.getElementById('323b11ec-c5ab-4a4a-a28c-50abb8633c9f');\n",
       "var x = new MutationObserver(function (mutations, observer) {{\n",
       "        var display = window.getComputedStyle(gd).display;\n",
       "        if (!display || display === 'none') {{\n",
       "            console.log([gd, 'removed!']);\n",
       "            Plotly.purge(gd);\n",
       "            observer.disconnect();\n",
       "        }}\n",
       "}});\n",
       "\n",
       "// Listen for the removal of the full notebook cells\n",
       "var notebookContainer = gd.closest('#notebook-container');\n",
       "if (notebookContainer) {{\n",
       "    x.observe(notebookContainer, {childList: true});\n",
       "}}\n",
       "\n",
       "// Listen for the clearing of the current output cell\n",
       "var outputEl = gd.closest('.output');\n",
       "if (outputEl) {{\n",
       "    x.observe(outputEl, {childList: true});\n",
       "}}\n",
       "\n",
       "                        })\n",
       "                };\n",
       "                });\n",
       "            </script>\n",
       "        </div>"
      ]
     },
     "metadata": {},
     "output_type": "display_data"
    },
    {
     "name": "stdout",
     "output_type": "stream",
     "text": [
      "Kolorea eman mundu grisari\n",
      "\n",
      "Eman kolorea mundu grisari\n",
      "Mundu grisari emaiozu kolorea\n",
      "Mundua grisa dela eta eman diezaiogun kolorea\n",
      "Kolorea eman mundu ilunari\n",
      "Planetaren gristasuna ezabatzeko kolorea behar du\n",
      "Mundua grisa denez, kolorea emango diogu\n",
      "Eman kolorea munduari\n",
      "Grisa eman mundu koloretsuari\n",
      "Eman grisa munduari\n",
      "Mundua eman kolore grisari\n"
     ]
    },
    {
     "data": {
      "application/vnd.plotly.v1+json": {
       "config": {
        "linkText": "Export to plot.ly",
        "plotlyServerURL": "https://plot.ly",
        "showLink": false
       },
       "data": [
        {
         "type": "heatmap",
         "uid": "78c12b1a-1804-4ade-bcb5-febe93685d04",
         "y": [
          "Flair",
          "BERT uncased",
          "BERT cased"
         ],
         "z": [
          [
           0.9065,
           0.8054,
           0.6631,
           0.9484,
           0.5591,
           0.6347,
           0.7939,
           0.8853,
           0.7781,
           0.9074
          ],
          [
           0.9836,
           0.9379,
           0.905,
           0.9551,
           0.8928,
           0.9358,
           0.9502,
           0.9706,
           0.9484,
           0.9718
          ],
          [
           0.9064,
           0.8941,
           0.8847,
           0.9601,
           0.831,
           0.8586,
           0.8891,
           0.9437,
           0.9003,
           0.9292
          ]
         ]
        }
       ],
       "layout": {}
      },
      "text/html": [
       "<div>\n",
       "        \n",
       "        \n",
       "            <div id=\"95de46e5-9aaf-4d15-b6ea-b7daa5ab9d6f\" class=\"plotly-graph-div\" style=\"height:525px; width:100%;\"></div>\n",
       "            <script type=\"text/javascript\">\n",
       "                require([\"plotly\"], function(Plotly) {\n",
       "                    window.PLOTLYENV=window.PLOTLYENV || {};\n",
       "                    window.PLOTLYENV.BASE_URL='https://plot.ly';\n",
       "                    \n",
       "                if (document.getElementById(\"95de46e5-9aaf-4d15-b6ea-b7daa5ab9d6f\")) {\n",
       "                    Plotly.newPlot(\n",
       "                        '95de46e5-9aaf-4d15-b6ea-b7daa5ab9d6f',\n",
       "                        [{\"type\": \"heatmap\", \"uid\": \"78c12b1a-1804-4ade-bcb5-febe93685d04\", \"y\": [\"Flair\", \"BERT uncased\", \"BERT cased\"], \"z\": [[0.9065, 0.8054, 0.6631, 0.9484, 0.5591, 0.6347, 0.7939, 0.8853, 0.7781, 0.9074], [0.9836, 0.9379, 0.905, 0.9551, 0.8928, 0.9358, 0.9502, 0.9706, 0.9484, 0.9718], [0.9064, 0.8941, 0.8847, 0.9601, 0.831, 0.8586, 0.8891, 0.9437, 0.9003, 0.9292]]}],\n",
       "                        {},\n",
       "                        {\"showLink\": false, \"linkText\": \"Export to plot.ly\", \"plotlyServerURL\": \"https://plot.ly\", \"responsive\": true}\n",
       "                    ).then(function(){\n",
       "                            \n",
       "var gd = document.getElementById('95de46e5-9aaf-4d15-b6ea-b7daa5ab9d6f');\n",
       "var x = new MutationObserver(function (mutations, observer) {{\n",
       "        var display = window.getComputedStyle(gd).display;\n",
       "        if (!display || display === 'none') {{\n",
       "            console.log([gd, 'removed!']);\n",
       "            Plotly.purge(gd);\n",
       "            observer.disconnect();\n",
       "        }}\n",
       "}});\n",
       "\n",
       "// Listen for the removal of the full notebook cells\n",
       "var notebookContainer = gd.closest('#notebook-container');\n",
       "if (notebookContainer) {{\n",
       "    x.observe(notebookContainer, {childList: true});\n",
       "}}\n",
       "\n",
       "// Listen for the clearing of the current output cell\n",
       "var outputEl = gd.closest('.output');\n",
       "if (outputEl) {{\n",
       "    x.observe(outputEl, {childList: true});\n",
       "}}\n",
       "\n",
       "                        })\n",
       "                };\n",
       "                });\n",
       "            </script>\n",
       "        </div>"
      ]
     },
     "metadata": {},
     "output_type": "display_data"
    },
    {
     "name": "stdout",
     "output_type": "stream",
     "text": [
      "Maite dudalako sortzen dut\n",
      "\n",
      "Sortzen dut maite dudalako\n",
      "Maitasunaren ondorioz sortzen dut\n",
      "Maite dut: ondorioz, sortzen dut\n",
      "Sortzearen arrazoia maitasuna da\n",
      "Nire sorkuntzaren iturria maitasuna da\n",
      "Maite nuelako sortu nuen\n",
      "Sortu ondoren maitatu nuen\n",
      "Maite duzulako sortzen duzu\n",
      "Ez dut maite, beraz ez dut sortzen\n",
      "Sortzen dudalako maite dut\n"
     ]
    },
    {
     "data": {
      "application/vnd.plotly.v1+json": {
       "config": {
        "linkText": "Export to plot.ly",
        "plotlyServerURL": "https://plot.ly",
        "showLink": false
       },
       "data": [
        {
         "type": "heatmap",
         "uid": "0b01271d-3a73-42eb-b0a5-60e52518f244",
         "y": [
          "Flair",
          "BERT uncased",
          "BERT cased"
         ],
         "z": [
          [
           0.9097,
           0.7084,
           0.8645,
           0.456,
           0.475,
           0.8459,
           0.6666,
           0.9465,
           0.6214,
           0.9437
          ],
          [
           0.9557,
           0.9115,
           0.9032,
           0.8541,
           0.8694,
           0.8563,
           0.8906,
           0.882,
           0.835,
           0.9745
          ],
          [
           0.9155,
           0.9378,
           0.9194,
           0.8521,
           0.8726,
           0.8679,
           0.8761,
           0.9271,
           0.9003,
           0.9301
          ]
         ]
        }
       ],
       "layout": {}
      },
      "text/html": [
       "<div>\n",
       "        \n",
       "        \n",
       "            <div id=\"8c554e1c-b35a-4fae-9fba-a42d6eb78348\" class=\"plotly-graph-div\" style=\"height:525px; width:100%;\"></div>\n",
       "            <script type=\"text/javascript\">\n",
       "                require([\"plotly\"], function(Plotly) {\n",
       "                    window.PLOTLYENV=window.PLOTLYENV || {};\n",
       "                    window.PLOTLYENV.BASE_URL='https://plot.ly';\n",
       "                    \n",
       "                if (document.getElementById(\"8c554e1c-b35a-4fae-9fba-a42d6eb78348\")) {\n",
       "                    Plotly.newPlot(\n",
       "                        '8c554e1c-b35a-4fae-9fba-a42d6eb78348',\n",
       "                        [{\"type\": \"heatmap\", \"uid\": \"0b01271d-3a73-42eb-b0a5-60e52518f244\", \"y\": [\"Flair\", \"BERT uncased\", \"BERT cased\"], \"z\": [[0.9097, 0.7084, 0.8645, 0.456, 0.475, 0.8459, 0.6666, 0.9465, 0.6214, 0.9437], [0.9557, 0.9115, 0.9032, 0.8541, 0.8694, 0.8563, 0.8906, 0.882, 0.835, 0.9745], [0.9155, 0.9378, 0.9194, 0.8521, 0.8726, 0.8679, 0.8761, 0.9271, 0.9003, 0.9301]]}],\n",
       "                        {},\n",
       "                        {\"showLink\": false, \"linkText\": \"Export to plot.ly\", \"plotlyServerURL\": \"https://plot.ly\", \"responsive\": true}\n",
       "                    ).then(function(){\n",
       "                            \n",
       "var gd = document.getElementById('8c554e1c-b35a-4fae-9fba-a42d6eb78348');\n",
       "var x = new MutationObserver(function (mutations, observer) {{\n",
       "        var display = window.getComputedStyle(gd).display;\n",
       "        if (!display || display === 'none') {{\n",
       "            console.log([gd, 'removed!']);\n",
       "            Plotly.purge(gd);\n",
       "            observer.disconnect();\n",
       "        }}\n",
       "}});\n",
       "\n",
       "// Listen for the removal of the full notebook cells\n",
       "var notebookContainer = gd.closest('#notebook-container');\n",
       "if (notebookContainer) {{\n",
       "    x.observe(notebookContainer, {childList: true});\n",
       "}}\n",
       "\n",
       "// Listen for the clearing of the current output cell\n",
       "var outputEl = gd.closest('.output');\n",
       "if (outputEl) {{\n",
       "    x.observe(outputEl, {childList: true});\n",
       "}}\n",
       "\n",
       "                        })\n",
       "                };\n",
       "                });\n",
       "            </script>\n",
       "        </div>"
      ]
     },
     "metadata": {},
     "output_type": "display_data"
    },
    {
     "name": "stdout",
     "output_type": "stream",
     "text": [
      "Jakingo bazenu zein polita den zu euskaraz entzutea\n",
      "\n",
      "Oso polita da zu euskaraz entzutea\n",
      "Zu euskaraz entzuteak asko pozten nau\n",
      "Ez dakizu zein polita den zure euskara entzutea\n",
      "Ezin azalgarria da nolako zoragarria den zuk euskaraz hitz egiten duzunean\n",
      "Ezin duzu jakin nolako polita den zu entzutea\n",
      "Zu euskaraz hitz egitea zein polita den jakitea ezinezkoa da\n",
      "Zu entzutea zoragarria da\n",
      "Zu euskaraz entzutea zein polita den jakitea nahiko nuke\n",
      "Jakingo bazenu zein itsusia den zu euskaraz entzutea\n",
      "Jakingo balute zein polita den nik euskeraz hitz egitea\n"
     ]
    },
    {
     "data": {
      "application/vnd.plotly.v1+json": {
       "config": {
        "linkText": "Export to plot.ly",
        "plotlyServerURL": "https://plot.ly",
        "showLink": false
       },
       "data": [
        {
         "type": "heatmap",
         "uid": "5757c281-8738-48a2-936c-1cc626690fdc",
         "y": [
          "Flair",
          "BERT uncased",
          "BERT cased"
         ],
         "z": [
          [
           0.8348,
           0.7458,
           0.8984,
           0.7947,
           0.8759,
           0.7776,
           0.7597,
           0.8561,
           0.9744,
           0.8918
          ],
          [
           0.9505,
           0.9293,
           0.9476,
           0.9265,
           0.9451,
           0.9349,
           0.8975,
           0.9729,
           0.9819,
           0.9543
          ],
          [
           0.9186,
           0.9104,
           0.9685,
           0.9121,
           0.9442,
           0.942,
           0.8879,
           0.9594,
           0.9835,
           0.9661
          ]
         ]
        }
       ],
       "layout": {}
      },
      "text/html": [
       "<div>\n",
       "        \n",
       "        \n",
       "            <div id=\"af6c560f-4de9-4153-a117-11844776fed1\" class=\"plotly-graph-div\" style=\"height:525px; width:100%;\"></div>\n",
       "            <script type=\"text/javascript\">\n",
       "                require([\"plotly\"], function(Plotly) {\n",
       "                    window.PLOTLYENV=window.PLOTLYENV || {};\n",
       "                    window.PLOTLYENV.BASE_URL='https://plot.ly';\n",
       "                    \n",
       "                if (document.getElementById(\"af6c560f-4de9-4153-a117-11844776fed1\")) {\n",
       "                    Plotly.newPlot(\n",
       "                        'af6c560f-4de9-4153-a117-11844776fed1',\n",
       "                        [{\"type\": \"heatmap\", \"uid\": \"5757c281-8738-48a2-936c-1cc626690fdc\", \"y\": [\"Flair\", \"BERT uncased\", \"BERT cased\"], \"z\": [[0.8348, 0.7458, 0.8984, 0.7947, 0.8759, 0.7776, 0.7597, 0.8561, 0.9744, 0.8918], [0.9505, 0.9293, 0.9476, 0.9265, 0.9451, 0.9349, 0.8975, 0.9729, 0.9819, 0.9543], [0.9186, 0.9104, 0.9685, 0.9121, 0.9442, 0.942, 0.8879, 0.9594, 0.9835, 0.9661]]}],\n",
       "                        {},\n",
       "                        {\"showLink\": false, \"linkText\": \"Export to plot.ly\", \"plotlyServerURL\": \"https://plot.ly\", \"responsive\": true}\n",
       "                    ).then(function(){\n",
       "                            \n",
       "var gd = document.getElementById('af6c560f-4de9-4153-a117-11844776fed1');\n",
       "var x = new MutationObserver(function (mutations, observer) {{\n",
       "        var display = window.getComputedStyle(gd).display;\n",
       "        if (!display || display === 'none') {{\n",
       "            console.log([gd, 'removed!']);\n",
       "            Plotly.purge(gd);\n",
       "            observer.disconnect();\n",
       "        }}\n",
       "}});\n",
       "\n",
       "// Listen for the removal of the full notebook cells\n",
       "var notebookContainer = gd.closest('#notebook-container');\n",
       "if (notebookContainer) {{\n",
       "    x.observe(notebookContainer, {childList: true});\n",
       "}}\n",
       "\n",
       "// Listen for the clearing of the current output cell\n",
       "var outputEl = gd.closest('.output');\n",
       "if (outputEl) {{\n",
       "    x.observe(outputEl, {childList: true});\n",
       "}}\n",
       "\n",
       "                        })\n",
       "                };\n",
       "                });\n",
       "            </script>\n",
       "        </div>"
      ]
     },
     "metadata": {},
     "output_type": "display_data"
    },
    {
     "ename": "IndexError",
     "evalue": "list index out of range",
     "output_type": "error",
     "traceback": [
      "\u001b[1;31m---------------------------------------------------------------------------\u001b[0m",
      "\u001b[1;31mIndexError\u001b[0m                                Traceback (most recent call last)",
      "\u001b[1;32m<ipython-input-26-663df87c16dc>\u001b[0m in \u001b[0;36m<module>\u001b[1;34m\u001b[0m\n\u001b[0;32m      2\u001b[0m \u001b[1;33m\u001b[0m\u001b[0m\n\u001b[0;32m      3\u001b[0m \u001b[1;32mfor\u001b[0m \u001b[0mi\u001b[0m \u001b[1;32min\u001b[0m \u001b[0mrange\u001b[0m\u001b[1;33m(\u001b[0m\u001b[1;36m10\u001b[0m\u001b[1;33m)\u001b[0m\u001b[1;33m:\u001b[0m\u001b[1;33m\u001b[0m\u001b[1;33m\u001b[0m\u001b[0m\n\u001b[1;32m----> 4\u001b[1;33m     \u001b[0mprint\u001b[0m\u001b[1;33m(\u001b[0m\u001b[0mlist\u001b[0m\u001b[1;33m(\u001b[0m\u001b[0mgold_sentences\u001b[0m\u001b[1;33m.\u001b[0m\u001b[0mkeys\u001b[0m\u001b[1;33m(\u001b[0m\u001b[1;33m)\u001b[0m\u001b[1;33m)\u001b[0m\u001b[1;33m[\u001b[0m\u001b[0mi\u001b[0m\u001b[1;33m]\u001b[0m \u001b[1;33m+\u001b[0m \u001b[1;34m'\\n'\u001b[0m\u001b[1;33m)\u001b[0m\u001b[1;33m\u001b[0m\u001b[1;33m\u001b[0m\u001b[0m\n\u001b[0m\u001b[0;32m      5\u001b[0m     \u001b[0mprint\u001b[0m\u001b[1;33m(\u001b[0m\u001b[1;34m\"\\n\"\u001b[0m\u001b[1;33m.\u001b[0m\u001b[0mjoin\u001b[0m\u001b[1;33m(\u001b[0m\u001b[0mgold_sentences\u001b[0m\u001b[1;33m[\u001b[0m\u001b[0mlist\u001b[0m\u001b[1;33m(\u001b[0m\u001b[0mgold_sentences\u001b[0m\u001b[1;33m.\u001b[0m\u001b[0mkeys\u001b[0m\u001b[1;33m(\u001b[0m\u001b[1;33m)\u001b[0m\u001b[1;33m)\u001b[0m\u001b[1;33m[\u001b[0m\u001b[0mi\u001b[0m\u001b[1;33m]\u001b[0m\u001b[1;33m]\u001b[0m\u001b[1;33m)\u001b[0m\u001b[1;33m)\u001b[0m\u001b[1;33m\u001b[0m\u001b[1;33m\u001b[0m\u001b[0m\n\u001b[0;32m      6\u001b[0m     \u001b[0mtrace\u001b[0m \u001b[1;33m=\u001b[0m \u001b[0mgo\u001b[0m\u001b[1;33m.\u001b[0m\u001b[0mHeatmap\u001b[0m\u001b[1;33m(\u001b[0m\u001b[0mz\u001b[0m\u001b[1;33m=\u001b[0m\u001b[0msimilarities_all\u001b[0m\u001b[1;33m[\u001b[0m\u001b[0mi\u001b[0m\u001b[1;33m]\u001b[0m\u001b[1;33m,\u001b[0m \u001b[0my\u001b[0m\u001b[1;33m=\u001b[0m\u001b[1;33m[\u001b[0m\u001b[1;34m'Flair'\u001b[0m\u001b[1;33m,\u001b[0m \u001b[1;34m'BERT uncased'\u001b[0m\u001b[1;33m,\u001b[0m \u001b[1;34m'BERT cased'\u001b[0m\u001b[1;33m]\u001b[0m\u001b[1;33m)\u001b[0m\u001b[1;33m\u001b[0m\u001b[1;33m\u001b[0m\u001b[0m\n",
      "\u001b[1;31mIndexError\u001b[0m: list index out of range"
     ]
    }
   ],
   "source": [
    "fig = tools.make_subplots(rows=1, cols=10)\n",
    "\n",
    "for i in range(10):\n",
    "    print(list(gold_sentences.keys())[i] + '\\n')\n",
    "    print(\"\\n\".join(gold_sentences[list(gold_sentences.keys())[i]]))\n",
    "    trace = go.Heatmap(z=similarities_all[i], y=['Flair', 'BERT uncased', 'BERT cased'])\n",
    "    data=[trace]\n",
    "    fig.append_trace(trace, 1, i+1)\n",
    "    iplot(data, filename='basic-heatmap' + str(i))"
   ]
  },
  {
   "cell_type": "code",
   "execution_count": null,
   "metadata": {},
   "outputs": [],
   "source": []
  }
 ],
 "metadata": {
  "kernelspec": {
   "display_name": "Python 3",
   "language": "python",
   "name": "python3"
  },
  "language_info": {
   "codemirror_mode": {
    "name": "ipython",
    "version": 3
   },
   "file_extension": ".py",
   "mimetype": "text/x-python",
   "name": "python",
   "nbconvert_exporter": "python",
   "pygments_lexer": "ipython3",
   "version": "3.7.3"
  }
 },
 "nbformat": 4,
 "nbformat_minor": 2
}
