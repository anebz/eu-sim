{
 "cells": [
  {
   "cell_type": "code",
   "execution_count": 1,
   "metadata": {},
   "outputs": [
    {
     "data": {
      "text/html": [
       "        <script type=\"text/javascript\">\n",
       "        window.PlotlyConfig = {MathJaxConfig: 'local'};\n",
       "        if (window.MathJax) {MathJax.Hub.Config({SVG: {font: \"STIX-Web\"}});}\n",
       "        if (typeof require !== 'undefined') {\n",
       "        require.undef(\"plotly\");\n",
       "        requirejs.config({\n",
       "            paths: {\n",
       "                'plotly': ['https://cdn.plot.ly/plotly-latest.min']\n",
       "            }\n",
       "        });\n",
       "        require(['plotly'], function(Plotly) {\n",
       "            window._Plotly = Plotly;\n",
       "        });\n",
       "        }\n",
       "        </script>\n",
       "        "
      ]
     },
     "metadata": {},
     "output_type": "display_data"
    }
   ],
   "source": [
    "import torch\n",
    "\n",
    "from flair.data import Sentence\n",
    "from flair.embeddings import DocumentPoolEmbeddings, FlairEmbeddings, BertEmbeddings\n",
    "\n",
    "import plotly\n",
    "import plotly.graph_objs as go\n",
    "from plotly.offline import download_plotlyjs, init_notebook_mode, plot, iplot\n",
    "init_notebook_mode(connected=True)"
   ]
  },
  {
   "cell_type": "code",
   "execution_count": 2,
   "metadata": {},
   "outputs": [],
   "source": [
    "language = 'en'\n",
    "gold_filename = \"goldstandard_\"+language+\".tsv\"\n",
    "\n",
    "def get_gold_sentences(filename):\n",
    "    gold_sentences = {}\n",
    "    with open(filename, 'rt') as f_p:\n",
    "        for line in f_p:\n",
    "            if line.startswith('\"origin\"'): # header\n",
    "                continue\n",
    "            \n",
    "            if not line:\n",
    "                continue\n",
    "            \n",
    "            line = line.rstrip()\n",
    "            line = line.replace('\"', '')\n",
    "            splitted = line.split('\\t')\n",
    "            gold = splitted[0]\n",
    "            sim_sentences = splitted[1:11]\n",
    "            \n",
    "            if gold:\n",
    "                gold_sentences[gold] = sim_sentences\n",
    "            \n",
    "    return gold_sentences"
   ]
  },
  {
   "cell_type": "code",
   "execution_count": 3,
   "metadata": {},
   "outputs": [],
   "source": [
    "gold_sentences = get_gold_sentences(gold_filename)"
   ]
  },
  {
   "cell_type": "code",
   "execution_count": 4,
   "metadata": {},
   "outputs": [],
   "source": [
    "def calculate_similarities(gold, sim_sentences, embeddings):\n",
    "    \n",
    "    similarities = []\n",
    "    query = gold\n",
    "\n",
    "    q = Sentence(query)\n",
    "    embeddings.embed(q)\n",
    "    score = 0\n",
    "    i = 0\n",
    "    \n",
    "    for sentence in sim_sentences:\n",
    "        \n",
    "        s = Sentence(sentence)\n",
    "        embeddings.embed(s)\n",
    "\n",
    "        assert q.embedding.shape == s.embedding.shape\n",
    "        \n",
    "        cos = torch.nn.CosineSimilarity(dim=0, eps=1e-6)\n",
    "        prox = cos(q.embedding, s.embedding)\n",
    "    \n",
    "        similarities.append(round(prox.item(), 4))\n",
    "        if i > 0 and similarities[i] <= similarities[i-1]:\n",
    "            score += 1\n",
    "        i += 1\n",
    "        \n",
    "    return similarities, score\n",
    "\n",
    "def print_similarities(gold, sim_sentences, similarities, score):\n",
    "        \n",
    "    print(f\"Example: {gold}\")\n",
    "    for sentence, similarity in zip(sim_sentences, similarities):\n",
    "        print(f\"{sentence} - {similarity}\")\n",
    "    print(f\"Score: {score}\\n\")  \n",
    "    "
   ]
  },
  {
   "cell_type": "code",
   "execution_count": 5,
   "metadata": {},
   "outputs": [],
   "source": [
    "# load flair embeddings\n",
    "if language == 'eu':\n",
    "    flair_embeds = 'eu'\n",
    "elif language == 'en':\n",
    "    flair_embeds = 'mix'\n",
    "flair_embeddings = DocumentPoolEmbeddings([FlairEmbeddings(flair_embeds+'-forward'), FlairEmbeddings(flair_embeds+'-backward')])"
   ]
  },
  {
   "cell_type": "code",
   "execution_count": 6,
   "metadata": {},
   "outputs": [
    {
     "name": "stdout",
     "output_type": "stream",
     "text": [
      "2019-07-03 21:14:07,584 The pre-trained model you are loading is a cased model but you have not set `do_lower_case` to False. We are setting `do_lower_case=False` for you but you may want to check this behavior.\n"
     ]
    }
   ],
   "source": [
    "# load BERT embeddings\n",
    "# See BERT paper, section 5.3 and table 7\n",
    "bert_layers = '-1,-2,-3,-4'\n",
    "\n",
    "if language == 'en':\n",
    "    bert_embed = 'bert-base-'\n",
    "else:\n",
    "    bert_embed = 'bert-base-multilingual-'\n",
    "\n",
    "bert_cased_embeddings = DocumentPoolEmbeddings([BertEmbeddings(bert_embed + 'cased', layers=bert_layers)])\n",
    "bert_uncased_embeddings = DocumentPoolEmbeddings([BertEmbeddings(bert_embed + 'uncased', layers=bert_layers)])\n"
   ]
  },
  {
   "cell_type": "code",
   "execution_count": 7,
   "metadata": {},
   "outputs": [],
   "source": [
    "# load ELMo and ELMo multilingual embeddings"
   ]
  },
  {
   "cell_type": "code",
   "execution_count": 8,
   "metadata": {},
   "outputs": [],
   "source": [
    "def calculate_and_print(embeddings, similarities_all, scores_all):\n",
    "    i = 0\n",
    "    for gold, sim_sentences in gold_sentences.items():\n",
    "        similarities, score = calculate_similarities(gold, sim_sentences, embeddings)\n",
    "        scores_all[i].append(score)\n",
    "        print_similarities(gold, sim_sentences, similarities, score)\n",
    "        similarities_all[i].append(similarities)\n",
    "        i += 1\n",
    "    return similarities_all, scores_all"
   ]
  },
  {
   "cell_type": "code",
   "execution_count": 9,
   "metadata": {},
   "outputs": [],
   "source": [
    "similarities_all = []\n",
    "for i in range(len(gold_sentences)):\n",
    "    similarities_all.append([])"
   ]
  },
  {
   "cell_type": "code",
   "execution_count": 10,
   "metadata": {},
   "outputs": [],
   "source": [
    "scores_all = []\n",
    "for i in range(len(gold_sentences)):\n",
    "    scores_all.append([])"
   ]
  },
  {
   "cell_type": "code",
   "execution_count": 11,
   "metadata": {},
   "outputs": [
    {
     "name": "stdout",
     "output_type": "stream",
     "text": [
      "Example: Jokin invited Amaia for lunch\n",
      "Jokin offered an invitation to Amaia for lunch - 0.9032\n",
      "Amaia received the question from Jokin, if she would like to go for lunch - 0.7663\n",
      "Jokin offered an invitation to Amaia for a meal - 0.8483\n",
      "Jokin and Amaia met for lunch - 0.9063\n",
      "Amaia invited Jokin for lunch - 0.9816\n",
      "Amaia and Jokin are friends - 0.7295\n",
      "I went for lunch yesterday - 0.7229\n",
      "I invited my mom to a trip - 0.7025\n",
      "Jokin enjoys having lunch - 0.8233\n",
      "I saw some ducks at the park - 0.6765\n",
      "Score: 5\n",
      "\n",
      "Example: Mikel went to the mountain\n",
      "Up the mountain went Mikel - 0.7971\n",
      "Mikel was in the mountain - 0.8545\n",
      "Mikel made the plan to go to the mountain - 0.8723\n",
      "Mikel made the comment that maybe he'd go to the mountain - 0.8243\n",
      "Mikel didn't go to the mountain - 0.9017\n",
      "Mikel likes hiking - 0.6638\n",
      "The mountain looks beautiful today - 0.675\n",
      "The bird went to the park - 0.8453\n",
      "There are very good films in the cinema now - 0.5813\n",
      "Score: 3\n",
      "\n",
      "Example: Yesterday you came to our house for dinner\n",
      "You came for dinner to our house yesterday - 0.9202\n",
      "You were in our house having dinner yesterday - 0.8546\n",
      "We all had dinner together yesterday - 0.7742\n",
      "Yesterday you came for dinner - 0.9324\n",
      "Yesterday they will come to your house for dinner - 0.9537\n",
      "The dinner yesterday was very tasty - 0.7109\n",
      "You came to our town yesterday - 0.8497\n",
      "We renovated our house - 0.7372\n",
      "I don't like this weather - 0.6127\n",
      "Score: 5\n",
      "\n",
      "Example: Happines isn't doing what you like, but liking what you do\n",
      "Liking what you do makes you happy, not doing what you want - 0.9415\n",
      "The source of happines is liking what you do - 0.8695\n",
      "What is done gladly is happiness - 0.749\n",
      "What you do, not what you like, is happiness - 0.9031\n",
      "Happiness isn't liking what you do, but doing what you like - 0.9798\n",
      "Happines is shown in actions - 0.6348\n",
      "Doing what you like is very pretty - 0.8487\n",
      "Not everything you do can be good - 0.8045\n",
      "I turned on the computer today - 0.6363\n",
      "Score: 5\n",
      "\n",
      "Example: Because I love, I create\n",
      "I create because I love - 0.9474\n",
      "I love: therefore, I create - 0.947\n",
      "The origin of my creating is love - 0.6892\n",
      "Because I create I love - 0.9544\n",
      "Take care of what you love - 0.71\n",
      "I love you - 0.7532\n",
      "What I created has become very famous - 0.7042\n",
      "I tell my brother I love him every day - 0.7763\n",
      "My city is very pretty - 0.5873\n",
      "Score: 5\n",
      "\n"
     ]
    }
   ],
   "source": [
    "# calculate similarities based on flair embeddings\n",
    "similarities_all, scores_all = calculate_and_print(flair_embeddings, similarities_all, scores_all)"
   ]
  },
  {
   "cell_type": "code",
   "execution_count": 12,
   "metadata": {},
   "outputs": [
    {
     "name": "stdout",
     "output_type": "stream",
     "text": [
      "Example: Jokin invited Amaia for lunch\n",
      "Jokin offered an invitation to Amaia for lunch - 0.9196\n",
      "Amaia received the question from Jokin, if she would like to go for lunch - 0.805\n",
      "Jokin offered an invitation to Amaia for a meal - 0.8579\n",
      "Jokin and Amaia met for lunch - 0.8632\n",
      "Amaia invited Jokin for lunch - 0.9889\n",
      "Amaia and Jokin are friends - 0.7658\n",
      "I went for lunch yesterday - 0.6821\n",
      "I invited my mom to a trip - 0.6734\n",
      "Jokin enjoys having lunch - 0.7937\n",
      "I saw some ducks at the park - 0.6475\n",
      "Score: 5\n",
      "\n",
      "Example: Mikel went to the mountain\n",
      "Up the mountain went Mikel - 0.788\n",
      "Mikel was in the mountain - 0.8283\n",
      "Mikel made the plan to go to the mountain - 0.8574\n",
      "Mikel made the comment that maybe he'd go to the mountain - 0.7929\n",
      "Mikel didn't go to the mountain - 0.871\n",
      "Mikel likes hiking - 0.6668\n",
      "The mountain looks beautiful today - 0.6549\n",
      "The bird went to the park - 0.7609\n",
      "There are very good films in the cinema now - 0.5628\n",
      "Score: 4\n",
      "\n",
      "Example: Yesterday you came to our house for dinner\n",
      "You came for dinner to our house yesterday - 0.9591\n",
      "You were in our house having dinner yesterday - 0.9025\n",
      "We all had dinner together yesterday - 0.754\n",
      "Yesterday you came for dinner - 0.9292\n",
      "Yesterday they will come to your house for dinner - 0.8492\n",
      "The dinner yesterday was very tasty - 0.7166\n",
      "You came to our town yesterday - 0.8354\n",
      "We renovated our house - 0.6623\n",
      "I don't like this weather - 0.4546\n",
      "Score: 6\n",
      "\n",
      "Example: Happines isn't doing what you like, but liking what you do\n",
      "Liking what you do makes you happy, not doing what you want - 0.9093\n",
      "The source of happines is liking what you do - 0.8583\n",
      "What is done gladly is happiness - 0.7222\n",
      "What you do, not what you like, is happiness - 0.8676\n",
      "Happiness isn't liking what you do, but doing what you like - 0.9352\n",
      "Happines is shown in actions - 0.5194\n",
      "Doing what you like is very pretty - 0.8104\n",
      "Not everything you do can be good - 0.7431\n",
      "I turned on the computer today - 0.4856\n",
      "Score: 5\n",
      "\n",
      "Example: Because I love, I create\n",
      "I create because I love - 0.9107\n",
      "I love: therefore, I create - 0.8557\n",
      "The origin of my creating is love - 0.7564\n",
      "Because I create I love - 0.9309\n",
      "Take care of what you love - 0.624\n",
      "I love you - 0.6012\n",
      "What I created has become very famous - 0.6368\n",
      "I tell my brother I love him every day - 0.6616\n",
      "My city is very pretty - 0.6232\n",
      "Score: 5\n",
      "\n"
     ]
    }
   ],
   "source": [
    "# calculate similarities based on bert uncased embeddings\n",
    "similarities_all, scores_all = calculate_and_print(bert_uncased_embeddings, similarities_all, scores_all)"
   ]
  },
  {
   "cell_type": "code",
   "execution_count": 13,
   "metadata": {},
   "outputs": [
    {
     "name": "stdout",
     "output_type": "stream",
     "text": [
      "Example: Jokin invited Amaia for lunch\n",
      "Jokin offered an invitation to Amaia for lunch - 0.9666\n",
      "Amaia received the question from Jokin, if she would like to go for lunch - 0.9206\n",
      "Jokin offered an invitation to Amaia for a meal - 0.9576\n",
      "Jokin and Amaia met for lunch - 0.9646\n",
      "Amaia invited Jokin for lunch - 0.9947\n",
      "Amaia and Jokin are friends - 0.9214\n",
      "I went for lunch yesterday - 0.8847\n",
      "I invited my mom to a trip - 0.9068\n",
      "Jokin enjoys having lunch - 0.9354\n",
      "I saw some ducks at the park - 0.8632\n",
      "Score: 4\n",
      "\n",
      "Example: Mikel went to the mountain\n",
      "Up the mountain went Mikel - 0.9144\n",
      "Mikel was in the mountain - 0.9617\n",
      "Mikel made the plan to go to the mountain - 0.9644\n",
      "Mikel made the comment that maybe he'd go to the mountain - 0.9407\n",
      "Mikel didn't go to the mountain - 0.9594\n",
      "Mikel likes hiking - 0.8797\n",
      "The mountain looks beautiful today - 0.8884\n",
      "The bird went to the park - 0.9375\n",
      "There are very good films in the cinema now - 0.8628\n",
      "Score: 3\n",
      "\n",
      "Example: Yesterday you came to our house for dinner\n",
      "You came for dinner to our house yesterday - 0.9775\n",
      "You were in our house having dinner yesterday - 0.9608\n",
      "We all had dinner together yesterday - 0.908\n",
      "Yesterday you came for dinner - 0.9687\n",
      "Yesterday they will come to your house for dinner - 0.9666\n",
      "The dinner yesterday was very tasty - 0.9018\n",
      "You came to our town yesterday - 0.9531\n",
      "We renovated our house - 0.8929\n",
      "I don't like this weather - 0.8212\n",
      "Score: 6\n",
      "\n",
      "Example: Happines isn't doing what you like, but liking what you do\n",
      "Liking what you do makes you happy, not doing what you want - 0.9608\n",
      "The source of happines is liking what you do - 0.9425\n",
      "What is done gladly is happiness - 0.8866\n",
      "What you do, not what you like, is happiness - 0.9417\n",
      "Happiness isn't liking what you do, but doing what you like - 0.9815\n",
      "Happines is shown in actions - 0.8503\n",
      "Doing what you like is very pretty - 0.9377\n",
      "Not everything you do can be good - 0.9116\n",
      "I turned on the computer today - 0.8099\n",
      "Score: 5\n",
      "\n",
      "Example: Because I love, I create\n",
      "I create because I love - 0.9562\n",
      "I love: therefore, I create - 0.9627\n",
      "The origin of my creating is love - 0.9043\n",
      "Because I create I love - 0.9699\n",
      "Take care of what you love - 0.8333\n",
      "I love you - 0.8427\n",
      "What I created has become very famous - 0.8788\n",
      "I tell my brother I love him every day - 0.8671\n",
      "My city is very pretty - 0.8494\n",
      "Score: 4\n",
      "\n"
     ]
    }
   ],
   "source": [
    "# calculate similarities based on bert cased embeddings\n",
    "similarities_all, scores_all = calculate_and_print(bert_cased_embeddings, similarities_all, scores_all)"
   ]
  },
  {
   "cell_type": "code",
   "execution_count": 14,
   "metadata": {},
   "outputs": [
    {
     "name": "stdout",
     "output_type": "stream",
     "text": [
      "This is the format of your plot grid:\n",
      "[ (1,1) x1,y1 ]     [ (1,2) x2,y2 ]     [ (1,3) x3,y3 ]     [ (1,4) x4,y4 ]     [ (1,5) x5,y5 ]     [ (1,6) x6,y6 ]     [ (1,7) x7,y7 ]     [ (1,8) x8,y8 ]     [ (1,9) x9,y9 ]     [ (1,10) x10,y10 ]\n",
      "\n",
      "Jokin invited Amaia for lunch\n",
      "\n",
      "Jokin offered an invitation to Amaia for lunch\n",
      "Amaia received the question from Jokin, if she would like to go for lunch\n",
      "Jokin offered an invitation to Amaia for a meal\n",
      "Jokin and Amaia met for lunch\n",
      "Amaia invited Jokin for lunch\n",
      "Amaia and Jokin are friends\n",
      "I went for lunch yesterday\n",
      "I invited my mom to a trip\n",
      "Jokin enjoys having lunch\n",
      "I saw some ducks at the park\n",
      "Scores: Flair: 5, BERT uncased: 5, BERT cased: 4\n"
     ]
    },
    {
     "data": {
      "application/vnd.plotly.v1+json": {
       "config": {
        "linkText": "Export to plot.ly",
        "plotlyServerURL": "https://plot.ly",
        "showLink": false
       },
       "data": [
        {
         "type": "heatmap",
         "uid": "16b3b48a-471a-4398-997b-524be7557abd",
         "y": [
          "Flair",
          "BERT uncased",
          "BERT cased"
         ],
         "z": [
          [
           0.9032,
           0.7663,
           0.8483,
           0.9063,
           0.9816,
           0.7295,
           0.7229,
           0.7025,
           0.8233,
           0.6765
          ],
          [
           0.9196,
           0.805,
           0.8579,
           0.8632,
           0.9889,
           0.7658,
           0.6821,
           0.6734,
           0.7937,
           0.6475
          ],
          [
           0.9666,
           0.9206,
           0.9576,
           0.9646,
           0.9947,
           0.9214,
           0.8847,
           0.9068,
           0.9354,
           0.8632
          ]
         ]
        }
       ],
       "layout": {}
      },
      "text/html": [
       "<div>\n",
       "        \n",
       "        \n",
       "            <div id=\"210eb10c-a83b-49f6-9a9e-69a099b7176a\" class=\"plotly-graph-div\" style=\"height:525px; width:100%;\"></div>\n",
       "            <script type=\"text/javascript\">\n",
       "                require([\"plotly\"], function(Plotly) {\n",
       "                    window.PLOTLYENV=window.PLOTLYENV || {};\n",
       "                    window.PLOTLYENV.BASE_URL='https://plot.ly';\n",
       "                    \n",
       "                if (document.getElementById(\"210eb10c-a83b-49f6-9a9e-69a099b7176a\")) {\n",
       "                    Plotly.newPlot(\n",
       "                        '210eb10c-a83b-49f6-9a9e-69a099b7176a',\n",
       "                        [{\"type\": \"heatmap\", \"uid\": \"16b3b48a-471a-4398-997b-524be7557abd\", \"y\": [\"Flair\", \"BERT uncased\", \"BERT cased\"], \"z\": [[0.9032, 0.7663, 0.8483, 0.9063, 0.9816, 0.7295, 0.7229, 0.7025, 0.8233, 0.6765], [0.9196, 0.805, 0.8579, 0.8632, 0.9889, 0.7658, 0.6821, 0.6734, 0.7937, 0.6475], [0.9666, 0.9206, 0.9576, 0.9646, 0.9947, 0.9214, 0.8847, 0.9068, 0.9354, 0.8632]]}],\n",
       "                        {},\n",
       "                        {\"showLink\": false, \"linkText\": \"Export to plot.ly\", \"plotlyServerURL\": \"https://plot.ly\", \"responsive\": true}\n",
       "                    ).then(function(){\n",
       "                            \n",
       "var gd = document.getElementById('210eb10c-a83b-49f6-9a9e-69a099b7176a');\n",
       "var x = new MutationObserver(function (mutations, observer) {{\n",
       "        var display = window.getComputedStyle(gd).display;\n",
       "        if (!display || display === 'none') {{\n",
       "            console.log([gd, 'removed!']);\n",
       "            Plotly.purge(gd);\n",
       "            observer.disconnect();\n",
       "        }}\n",
       "}});\n",
       "\n",
       "// Listen for the removal of the full notebook cells\n",
       "var notebookContainer = gd.closest('#notebook-container');\n",
       "if (notebookContainer) {{\n",
       "    x.observe(notebookContainer, {childList: true});\n",
       "}}\n",
       "\n",
       "// Listen for the clearing of the current output cell\n",
       "var outputEl = gd.closest('.output');\n",
       "if (outputEl) {{\n",
       "    x.observe(outputEl, {childList: true});\n",
       "}}\n",
       "\n",
       "                        })\n",
       "                };\n",
       "                });\n",
       "            </script>\n",
       "        </div>"
      ]
     },
     "metadata": {},
     "output_type": "display_data"
    },
    {
     "name": "stdout",
     "output_type": "stream",
     "text": [
      "Mikel went to the mountain\n",
      "\n",
      "Up the mountain went Mikel\n",
      "Mikel was in the mountain\n",
      "Mikel made the plan to go to the mountain\n",
      "Mikel made the comment that maybe he'd go to the mountain\n",
      "Mikel didn't go to the mountain\n",
      "Mikel likes hiking\n",
      "The mountain looks beautiful today\n",
      "The bird went to the park\n",
      "There are very good films in the cinema now\n",
      "Scores: Flair: 3, BERT uncased: 4, BERT cased: 3\n"
     ]
    },
    {
     "data": {
      "application/vnd.plotly.v1+json": {
       "config": {
        "linkText": "Export to plot.ly",
        "plotlyServerURL": "https://plot.ly",
        "showLink": false
       },
       "data": [
        {
         "type": "heatmap",
         "uid": "4cef6c31-a8d4-4cf8-acb2-fd140bb7d522",
         "y": [
          "Flair",
          "BERT uncased",
          "BERT cased"
         ],
         "z": [
          [
           0.7971,
           0.8545,
           0.8723,
           0.8243,
           0.9017,
           0.6638,
           0.675,
           0.8453,
           0.5813
          ],
          [
           0.788,
           0.8283,
           0.8574,
           0.7929,
           0.871,
           0.6668,
           0.6549,
           0.7609,
           0.5628
          ],
          [
           0.9144,
           0.9617,
           0.9644,
           0.9407,
           0.9594,
           0.8797,
           0.8884,
           0.9375,
           0.8628
          ]
         ]
        }
       ],
       "layout": {}
      },
      "text/html": [
       "<div>\n",
       "        \n",
       "        \n",
       "            <div id=\"457f8875-e02f-4c54-a69b-13ea8665080e\" class=\"plotly-graph-div\" style=\"height:525px; width:100%;\"></div>\n",
       "            <script type=\"text/javascript\">\n",
       "                require([\"plotly\"], function(Plotly) {\n",
       "                    window.PLOTLYENV=window.PLOTLYENV || {};\n",
       "                    window.PLOTLYENV.BASE_URL='https://plot.ly';\n",
       "                    \n",
       "                if (document.getElementById(\"457f8875-e02f-4c54-a69b-13ea8665080e\")) {\n",
       "                    Plotly.newPlot(\n",
       "                        '457f8875-e02f-4c54-a69b-13ea8665080e',\n",
       "                        [{\"type\": \"heatmap\", \"uid\": \"4cef6c31-a8d4-4cf8-acb2-fd140bb7d522\", \"y\": [\"Flair\", \"BERT uncased\", \"BERT cased\"], \"z\": [[0.7971, 0.8545, 0.8723, 0.8243, 0.9017, 0.6638, 0.675, 0.8453, 0.5813], [0.788, 0.8283, 0.8574, 0.7929, 0.871, 0.6668, 0.6549, 0.7609, 0.5628], [0.9144, 0.9617, 0.9644, 0.9407, 0.9594, 0.8797, 0.8884, 0.9375, 0.8628]]}],\n",
       "                        {},\n",
       "                        {\"showLink\": false, \"linkText\": \"Export to plot.ly\", \"plotlyServerURL\": \"https://plot.ly\", \"responsive\": true}\n",
       "                    ).then(function(){\n",
       "                            \n",
       "var gd = document.getElementById('457f8875-e02f-4c54-a69b-13ea8665080e');\n",
       "var x = new MutationObserver(function (mutations, observer) {{\n",
       "        var display = window.getComputedStyle(gd).display;\n",
       "        if (!display || display === 'none') {{\n",
       "            console.log([gd, 'removed!']);\n",
       "            Plotly.purge(gd);\n",
       "            observer.disconnect();\n",
       "        }}\n",
       "}});\n",
       "\n",
       "// Listen for the removal of the full notebook cells\n",
       "var notebookContainer = gd.closest('#notebook-container');\n",
       "if (notebookContainer) {{\n",
       "    x.observe(notebookContainer, {childList: true});\n",
       "}}\n",
       "\n",
       "// Listen for the clearing of the current output cell\n",
       "var outputEl = gd.closest('.output');\n",
       "if (outputEl) {{\n",
       "    x.observe(outputEl, {childList: true});\n",
       "}}\n",
       "\n",
       "                        })\n",
       "                };\n",
       "                });\n",
       "            </script>\n",
       "        </div>"
      ]
     },
     "metadata": {},
     "output_type": "display_data"
    },
    {
     "name": "stdout",
     "output_type": "stream",
     "text": [
      "Yesterday you came to our house for dinner\n",
      "\n",
      "You came for dinner to our house yesterday\n",
      "You were in our house having dinner yesterday\n",
      "We all had dinner together yesterday\n",
      "Yesterday you came for dinner\n",
      "Yesterday they will come to your house for dinner\n",
      "The dinner yesterday was very tasty\n",
      "You came to our town yesterday\n",
      "We renovated our house\n",
      "I don't like this weather\n",
      "Scores: Flair: 5, BERT uncased: 6, BERT cased: 6\n"
     ]
    },
    {
     "data": {
      "application/vnd.plotly.v1+json": {
       "config": {
        "linkText": "Export to plot.ly",
        "plotlyServerURL": "https://plot.ly",
        "showLink": false
       },
       "data": [
        {
         "type": "heatmap",
         "uid": "ec15825b-b631-40e7-8987-7660d7979c56",
         "y": [
          "Flair",
          "BERT uncased",
          "BERT cased"
         ],
         "z": [
          [
           0.9202,
           0.8546,
           0.7742,
           0.9324,
           0.9537,
           0.7109,
           0.8497,
           0.7372,
           0.6127
          ],
          [
           0.9591,
           0.9025,
           0.754,
           0.9292,
           0.8492,
           0.7166,
           0.8354,
           0.6623,
           0.4546
          ],
          [
           0.9775,
           0.9608,
           0.908,
           0.9687,
           0.9666,
           0.9018,
           0.9531,
           0.8929,
           0.8212
          ]
         ]
        }
       ],
       "layout": {}
      },
      "text/html": [
       "<div>\n",
       "        \n",
       "        \n",
       "            <div id=\"ba864774-5045-4037-aafe-2e9310961f0f\" class=\"plotly-graph-div\" style=\"height:525px; width:100%;\"></div>\n",
       "            <script type=\"text/javascript\">\n",
       "                require([\"plotly\"], function(Plotly) {\n",
       "                    window.PLOTLYENV=window.PLOTLYENV || {};\n",
       "                    window.PLOTLYENV.BASE_URL='https://plot.ly';\n",
       "                    \n",
       "                if (document.getElementById(\"ba864774-5045-4037-aafe-2e9310961f0f\")) {\n",
       "                    Plotly.newPlot(\n",
       "                        'ba864774-5045-4037-aafe-2e9310961f0f',\n",
       "                        [{\"type\": \"heatmap\", \"uid\": \"ec15825b-b631-40e7-8987-7660d7979c56\", \"y\": [\"Flair\", \"BERT uncased\", \"BERT cased\"], \"z\": [[0.9202, 0.8546, 0.7742, 0.9324, 0.9537, 0.7109, 0.8497, 0.7372, 0.6127], [0.9591, 0.9025, 0.754, 0.9292, 0.8492, 0.7166, 0.8354, 0.6623, 0.4546], [0.9775, 0.9608, 0.908, 0.9687, 0.9666, 0.9018, 0.9531, 0.8929, 0.8212]]}],\n",
       "                        {},\n",
       "                        {\"showLink\": false, \"linkText\": \"Export to plot.ly\", \"plotlyServerURL\": \"https://plot.ly\", \"responsive\": true}\n",
       "                    ).then(function(){\n",
       "                            \n",
       "var gd = document.getElementById('ba864774-5045-4037-aafe-2e9310961f0f');\n",
       "var x = new MutationObserver(function (mutations, observer) {{\n",
       "        var display = window.getComputedStyle(gd).display;\n",
       "        if (!display || display === 'none') {{\n",
       "            console.log([gd, 'removed!']);\n",
       "            Plotly.purge(gd);\n",
       "            observer.disconnect();\n",
       "        }}\n",
       "}});\n",
       "\n",
       "// Listen for the removal of the full notebook cells\n",
       "var notebookContainer = gd.closest('#notebook-container');\n",
       "if (notebookContainer) {{\n",
       "    x.observe(notebookContainer, {childList: true});\n",
       "}}\n",
       "\n",
       "// Listen for the clearing of the current output cell\n",
       "var outputEl = gd.closest('.output');\n",
       "if (outputEl) {{\n",
       "    x.observe(outputEl, {childList: true});\n",
       "}}\n",
       "\n",
       "                        })\n",
       "                };\n",
       "                });\n",
       "            </script>\n",
       "        </div>"
      ]
     },
     "metadata": {},
     "output_type": "display_data"
    },
    {
     "name": "stdout",
     "output_type": "stream",
     "text": [
      "Happines isn't doing what you like, but liking what you do\n",
      "\n",
      "Liking what you do makes you happy, not doing what you want\n",
      "The source of happines is liking what you do\n",
      "What is done gladly is happiness\n",
      "What you do, not what you like, is happiness\n",
      "Happiness isn't liking what you do, but doing what you like\n",
      "Happines is shown in actions\n",
      "Doing what you like is very pretty\n",
      "Not everything you do can be good\n",
      "I turned on the computer today\n",
      "Scores: Flair: 5, BERT uncased: 5, BERT cased: 5\n"
     ]
    },
    {
     "data": {
      "application/vnd.plotly.v1+json": {
       "config": {
        "linkText": "Export to plot.ly",
        "plotlyServerURL": "https://plot.ly",
        "showLink": false
       },
       "data": [
        {
         "type": "heatmap",
         "uid": "0e882cfe-a2d6-4460-a04d-36c45b5fd416",
         "y": [
          "Flair",
          "BERT uncased",
          "BERT cased"
         ],
         "z": [
          [
           0.9415,
           0.8695,
           0.749,
           0.9031,
           0.9798,
           0.6348,
           0.8487,
           0.8045,
           0.6363
          ],
          [
           0.9093,
           0.8583,
           0.7222,
           0.8676,
           0.9352,
           0.5194,
           0.8104,
           0.7431,
           0.4856
          ],
          [
           0.9608,
           0.9425,
           0.8866,
           0.9417,
           0.9815,
           0.8503,
           0.9377,
           0.9116,
           0.8099
          ]
         ]
        }
       ],
       "layout": {}
      },
      "text/html": [
       "<div>\n",
       "        \n",
       "        \n",
       "            <div id=\"6c9809cd-5915-42a6-86d9-13ca3a87cd54\" class=\"plotly-graph-div\" style=\"height:525px; width:100%;\"></div>\n",
       "            <script type=\"text/javascript\">\n",
       "                require([\"plotly\"], function(Plotly) {\n",
       "                    window.PLOTLYENV=window.PLOTLYENV || {};\n",
       "                    window.PLOTLYENV.BASE_URL='https://plot.ly';\n",
       "                    \n",
       "                if (document.getElementById(\"6c9809cd-5915-42a6-86d9-13ca3a87cd54\")) {\n",
       "                    Plotly.newPlot(\n",
       "                        '6c9809cd-5915-42a6-86d9-13ca3a87cd54',\n",
       "                        [{\"type\": \"heatmap\", \"uid\": \"0e882cfe-a2d6-4460-a04d-36c45b5fd416\", \"y\": [\"Flair\", \"BERT uncased\", \"BERT cased\"], \"z\": [[0.9415, 0.8695, 0.749, 0.9031, 0.9798, 0.6348, 0.8487, 0.8045, 0.6363], [0.9093, 0.8583, 0.7222, 0.8676, 0.9352, 0.5194, 0.8104, 0.7431, 0.4856], [0.9608, 0.9425, 0.8866, 0.9417, 0.9815, 0.8503, 0.9377, 0.9116, 0.8099]]}],\n",
       "                        {},\n",
       "                        {\"showLink\": false, \"linkText\": \"Export to plot.ly\", \"plotlyServerURL\": \"https://plot.ly\", \"responsive\": true}\n",
       "                    ).then(function(){\n",
       "                            \n",
       "var gd = document.getElementById('6c9809cd-5915-42a6-86d9-13ca3a87cd54');\n",
       "var x = new MutationObserver(function (mutations, observer) {{\n",
       "        var display = window.getComputedStyle(gd).display;\n",
       "        if (!display || display === 'none') {{\n",
       "            console.log([gd, 'removed!']);\n",
       "            Plotly.purge(gd);\n",
       "            observer.disconnect();\n",
       "        }}\n",
       "}});\n",
       "\n",
       "// Listen for the removal of the full notebook cells\n",
       "var notebookContainer = gd.closest('#notebook-container');\n",
       "if (notebookContainer) {{\n",
       "    x.observe(notebookContainer, {childList: true});\n",
       "}}\n",
       "\n",
       "// Listen for the clearing of the current output cell\n",
       "var outputEl = gd.closest('.output');\n",
       "if (outputEl) {{\n",
       "    x.observe(outputEl, {childList: true});\n",
       "}}\n",
       "\n",
       "                        })\n",
       "                };\n",
       "                });\n",
       "            </script>\n",
       "        </div>"
      ]
     },
     "metadata": {},
     "output_type": "display_data"
    },
    {
     "name": "stdout",
     "output_type": "stream",
     "text": [
      "Because I love, I create\n",
      "\n",
      "I create because I love\n",
      "I love: therefore, I create\n",
      "The origin of my creating is love\n",
      "Because I create I love\n",
      "Take care of what you love\n",
      "I love you\n",
      "What I created has become very famous\n",
      "I tell my brother I love him every day\n",
      "My city is very pretty\n",
      "Scores: Flair: 5, BERT uncased: 5, BERT cased: 4\n"
     ]
    },
    {
     "data": {
      "application/vnd.plotly.v1+json": {
       "config": {
        "linkText": "Export to plot.ly",
        "plotlyServerURL": "https://plot.ly",
        "showLink": false
       },
       "data": [
        {
         "type": "heatmap",
         "uid": "a96d71fd-307f-4d96-9ce1-3c40feee3071",
         "y": [
          "Flair",
          "BERT uncased",
          "BERT cased"
         ],
         "z": [
          [
           0.9474,
           0.947,
           0.6892,
           0.9544,
           0.71,
           0.7532,
           0.7042,
           0.7763,
           0.5873
          ],
          [
           0.9107,
           0.8557,
           0.7564,
           0.9309,
           0.624,
           0.6012,
           0.6368,
           0.6616,
           0.6232
          ],
          [
           0.9562,
           0.9627,
           0.9043,
           0.9699,
           0.8333,
           0.8427,
           0.8788,
           0.8671,
           0.8494
          ]
         ]
        }
       ],
       "layout": {}
      },
      "text/html": [
       "<div>\n",
       "        \n",
       "        \n",
       "            <div id=\"7010ca53-41a0-4529-b7a0-f16ce7a2a725\" class=\"plotly-graph-div\" style=\"height:525px; width:100%;\"></div>\n",
       "            <script type=\"text/javascript\">\n",
       "                require([\"plotly\"], function(Plotly) {\n",
       "                    window.PLOTLYENV=window.PLOTLYENV || {};\n",
       "                    window.PLOTLYENV.BASE_URL='https://plot.ly';\n",
       "                    \n",
       "                if (document.getElementById(\"7010ca53-41a0-4529-b7a0-f16ce7a2a725\")) {\n",
       "                    Plotly.newPlot(\n",
       "                        '7010ca53-41a0-4529-b7a0-f16ce7a2a725',\n",
       "                        [{\"type\": \"heatmap\", \"uid\": \"a96d71fd-307f-4d96-9ce1-3c40feee3071\", \"y\": [\"Flair\", \"BERT uncased\", \"BERT cased\"], \"z\": [[0.9474, 0.947, 0.6892, 0.9544, 0.71, 0.7532, 0.7042, 0.7763, 0.5873], [0.9107, 0.8557, 0.7564, 0.9309, 0.624, 0.6012, 0.6368, 0.6616, 0.6232], [0.9562, 0.9627, 0.9043, 0.9699, 0.8333, 0.8427, 0.8788, 0.8671, 0.8494]]}],\n",
       "                        {},\n",
       "                        {\"showLink\": false, \"linkText\": \"Export to plot.ly\", \"plotlyServerURL\": \"https://plot.ly\", \"responsive\": true}\n",
       "                    ).then(function(){\n",
       "                            \n",
       "var gd = document.getElementById('7010ca53-41a0-4529-b7a0-f16ce7a2a725');\n",
       "var x = new MutationObserver(function (mutations, observer) {{\n",
       "        var display = window.getComputedStyle(gd).display;\n",
       "        if (!display || display === 'none') {{\n",
       "            console.log([gd, 'removed!']);\n",
       "            Plotly.purge(gd);\n",
       "            observer.disconnect();\n",
       "        }}\n",
       "}});\n",
       "\n",
       "// Listen for the removal of the full notebook cells\n",
       "var notebookContainer = gd.closest('#notebook-container');\n",
       "if (notebookContainer) {{\n",
       "    x.observe(notebookContainer, {childList: true});\n",
       "}}\n",
       "\n",
       "// Listen for the clearing of the current output cell\n",
       "var outputEl = gd.closest('.output');\n",
       "if (outputEl) {{\n",
       "    x.observe(outputEl, {childList: true});\n",
       "}}\n",
       "\n",
       "                        })\n",
       "                };\n",
       "                });\n",
       "            </script>\n",
       "        </div>"
      ]
     },
     "metadata": {},
     "output_type": "display_data"
    }
   ],
   "source": [
    "fig = plotly.tools.make_subplots(rows=1, cols=10)\n",
    "\n",
    "for i in range(len(gold_sentences)):\n",
    "    print(list(gold_sentences.keys())[i] + '\\n')\n",
    "    print(\"\\n\".join(gold_sentences[list(gold_sentences.keys())[i]]))\n",
    "    print(\"Scores: Flair: \" + str(scores_all[i][0]) + \", BERT uncased: \" + str(scores_all[i][1]) + \", BERT cased: \" + str(scores_all[i][2]))\n",
    "    \n",
    "    trace = go.Heatmap(z=similarities_all[i], y=['Flair', 'BERT uncased', 'BERT cased'])\n",
    "    data=[trace]\n",
    "    fig.append_trace(trace, 1, i+1)\n",
    "    iplot(data, filename='basic-heatmap' + str(i))"
   ]
  },
  {
   "cell_type": "code",
   "execution_count": 15,
   "metadata": {},
   "outputs": [
    {
     "name": "stdout",
     "output_type": "stream",
     "text": [
      "Total scores: Flair: 23, BERT uncased: 25, BERT cased: 22\n"
     ]
    }
   ],
   "source": [
    "total_scores = [0] * len(scores_all)\n",
    "for i in range(len(scores_all)):\n",
    "    total_scores[0] += scores_all[i][0]\n",
    "    total_scores[1] += scores_all[i][1]\n",
    "    total_scores[2] += scores_all[i][2]\n",
    "print(\"Total scores: Flair: \" + str(total_scores[0]) + \", BERT uncased: \" + str(total_scores[1]) + \", BERT cased: \" + str(total_scores[2]))\n"
   ]
  },
  {
   "cell_type": "code",
   "execution_count": null,
   "metadata": {},
   "outputs": [],
   "source": []
  }
 ],
 "metadata": {
  "kernelspec": {
   "display_name": "Python 3",
   "language": "python",
   "name": "python3"
  },
  "language_info": {
   "codemirror_mode": {
    "name": "ipython",
    "version": 3
   },
   "file_extension": ".py",
   "mimetype": "text/x-python",
   "name": "python",
   "nbconvert_exporter": "python",
   "pygments_lexer": "ipython3",
   "version": "3.7.3"
  }
 },
 "nbformat": 4,
 "nbformat_minor": 2
}
